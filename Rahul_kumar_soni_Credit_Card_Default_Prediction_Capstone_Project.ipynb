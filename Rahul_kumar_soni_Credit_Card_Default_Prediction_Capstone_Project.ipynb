{
  "nbformat": 4,
  "nbformat_minor": 0,
  "metadata": {
    "kernelspec": {
      "display_name": "Python 3",
      "language": "python",
      "name": "python3"
    },
    "language_info": {
      "codemirror_mode": {
        "name": "ipython",
        "version": 3
      },
      "file_extension": ".py",
      "mimetype": "text/x-python",
      "name": "python",
      "nbconvert_exporter": "python",
      "pygments_lexer": "ipython3",
      "version": "3.6.6"
    },
    "colab": {
      "name": "Rahul_kumar_soni_Credit Card Default Prediction - Capstone Project.ipynb",
      "provenance": [],
      "collapsed_sections": [
        "AlLxAtlziMbP",
        "ADj00dh4tGd6",
        "pz6sB5Wbfjgv"
      ],
      "include_colab_link": true
    }
  },
  "cells": [
    {
      "cell_type": "markdown",
      "metadata": {
        "id": "view-in-github",
        "colab_type": "text"
      },
      "source": [
        "<a href=\"https://colab.research.google.com/github/Aaryant31/Credit-Card-Default-Prediction/blob/main/Rahul_kumar_soni_Credit_Card_Default_Prediction_Capstone_Project.ipynb\" target=\"_parent\"><img src=\"https://colab.research.google.com/assets/colab-badge.svg\" alt=\"Open In Colab\"/></a>"
      ]
    },
    {
      "cell_type": "markdown",
      "metadata": {
        "id": "tOGC-qoyhJeX"
      },
      "source": [
        "# <b><u> Project Title : Predicting whether a customer will default on his/her credit card </u></b>"
      ]
    },
    {
      "cell_type": "markdown",
      "metadata": {
        "id": "Y06xIdG26kRF"
      },
      "source": [
        "## <b> Problem Description </b>\n",
        "\n",
        "### This project is aimed at predicting the case of customers default payments in Taiwan. From the perspective of risk management, the result of predictive accuracy of the estimated probability of default will be more valuable than the binary result of classification - credible or not credible clients. We can use the [K-S chart](https://www.listendata.com/2019/07/KS-Statistics-Python.html) to evaluate which customers will default on their credit card payments\n"
      ]
    },
    {
      "cell_type": "markdown",
      "metadata": {
        "id": "AlLxAtlziMbP"
      },
      "source": [
        "## <b> Data Description </b>\n",
        "\n",
        "### <b>Attribute Information: </b>\n",
        "\n",
        "### This research employed a binary variable, default payment (Yes = 1, No = 0), as the response variable. This study reviewed the literature and used the following 23 variables as explanatory variables:\n",
        "* ### X1: Amount of the given credit (NT dollar): it includes both the individual consumer credit and his/her family (supplementary) credit.\n",
        "* ### X2: Gender (1 = male; 2 = female).\n",
        "* ### X3: Education (1 = graduate school; 2 = university; 3 = high school; 4 = others).\n",
        "* ### X4: Marital status (1 = married; 2 = single; 3 = others).\n",
        "* ### X5: Age (year).\n",
        "* ### X6 - X11: History of past payment. We tracked the past monthly payment records (from April to September, 2005) as follows: X6 = the repayment status in September, 2005; X7 = the repayment status in August, 2005; . . .;X11 = the repayment status in April, 2005. The measurement scale for the repayment status is: -1 = pay duly; 1 = payment delay for one month; 2 = payment delay for two months; . . .; 8 = payment delay for eight months; 9 = payment delay for nine months and above.\n",
        "* ### X12-X17: Amount of bill statement (NT dollar). X12 = amount of bill statement in September, 2005; X13 = amount of bill statement in August, 2005; . . .; X17 = amount of bill statement in April, 2005.\n",
        "* ### X18-X23: Amount of previous payment (NT dollar). X18 = amount paid in September, 2005; X19 = amount paid in August, 2005; . . .;X23 = amount paid in April, 2005."
      ]
    },
    {
      "cell_type": "code",
      "metadata": {
        "id": "dByMsuzT8Tnw"
      },
      "source": [
        "#Importing lbrary \n",
        "import pandas as pd\n",
        "import numpy as np\n",
        "import matplotlib.pyplot as plt\n",
        "import seaborn as sns\n",
        "import math\n",
        "import time\n",
        "from sklearn.metrics import accuracy_score, confusion_matrix, classification_report, roc_auc_score, plot_precision_recall_curve\n",
        "from sklearn.metrics import precision_score,recall_score,f1_score\n",
        "from sklearn.linear_model import LogisticRegression\n",
        "from sklearn.model_selection import train_test_split\n",
        "from sklearn.model_selection import GridSearchCV\n",
        "from sklearn.preprocessing import MinMaxScaler\n",
        "import warnings\n",
        "warnings.filterwarnings(\"ignore\")"
      ],
      "execution_count": 1,
      "outputs": []
    },
    {
      "cell_type": "code",
      "metadata": {
        "id": "oCSt-baBnX-1"
      },
      "source": [
        "data='https://github.com/Aaryant31/Credit-Card-Default-Prediction/blob/main/default%20of%20credit%20card%20clients.xls?raw=true'\n"
      ],
      "execution_count": 2,
      "outputs": []
    },
    {
      "cell_type": "code",
      "metadata": {
        "colab": {
          "base_uri": "https://localhost:8080/",
          "height": 0
        },
        "id": "BkAFkMiXqnpP",
        "outputId": "36dffd77-5a44-4fbb-cc9b-10cf1a214ddb"
      },
      "source": [
        "pd.read_excel(data)"
      ],
      "execution_count": 3,
      "outputs": [
        {
          "output_type": "execute_result",
          "data": {
            "text/html": [
              "<div>\n",
              "<style scoped>\n",
              "    .dataframe tbody tr th:only-of-type {\n",
              "        vertical-align: middle;\n",
              "    }\n",
              "\n",
              "    .dataframe tbody tr th {\n",
              "        vertical-align: top;\n",
              "    }\n",
              "\n",
              "    .dataframe thead th {\n",
              "        text-align: right;\n",
              "    }\n",
              "</style>\n",
              "<table border=\"1\" class=\"dataframe\">\n",
              "  <thead>\n",
              "    <tr style=\"text-align: right;\">\n",
              "      <th></th>\n",
              "      <th>Unnamed: 0</th>\n",
              "      <th>X1</th>\n",
              "      <th>X2</th>\n",
              "      <th>X3</th>\n",
              "      <th>X4</th>\n",
              "      <th>X5</th>\n",
              "      <th>X6</th>\n",
              "      <th>X7</th>\n",
              "      <th>X8</th>\n",
              "      <th>X9</th>\n",
              "      <th>X10</th>\n",
              "      <th>X11</th>\n",
              "      <th>X12</th>\n",
              "      <th>X13</th>\n",
              "      <th>X14</th>\n",
              "      <th>X15</th>\n",
              "      <th>X16</th>\n",
              "      <th>X17</th>\n",
              "      <th>X18</th>\n",
              "      <th>X19</th>\n",
              "      <th>X20</th>\n",
              "      <th>X21</th>\n",
              "      <th>X22</th>\n",
              "      <th>X23</th>\n",
              "      <th>Y</th>\n",
              "    </tr>\n",
              "  </thead>\n",
              "  <tbody>\n",
              "    <tr>\n",
              "      <th>0</th>\n",
              "      <td>ID</td>\n",
              "      <td>LIMIT_BAL</td>\n",
              "      <td>SEX</td>\n",
              "      <td>EDUCATION</td>\n",
              "      <td>MARRIAGE</td>\n",
              "      <td>AGE</td>\n",
              "      <td>PAY_0</td>\n",
              "      <td>PAY_2</td>\n",
              "      <td>PAY_3</td>\n",
              "      <td>PAY_4</td>\n",
              "      <td>PAY_5</td>\n",
              "      <td>PAY_6</td>\n",
              "      <td>BILL_AMT1</td>\n",
              "      <td>BILL_AMT2</td>\n",
              "      <td>BILL_AMT3</td>\n",
              "      <td>BILL_AMT4</td>\n",
              "      <td>BILL_AMT5</td>\n",
              "      <td>BILL_AMT6</td>\n",
              "      <td>PAY_AMT1</td>\n",
              "      <td>PAY_AMT2</td>\n",
              "      <td>PAY_AMT3</td>\n",
              "      <td>PAY_AMT4</td>\n",
              "      <td>PAY_AMT5</td>\n",
              "      <td>PAY_AMT6</td>\n",
              "      <td>default payment next month</td>\n",
              "    </tr>\n",
              "    <tr>\n",
              "      <th>1</th>\n",
              "      <td>1</td>\n",
              "      <td>20000</td>\n",
              "      <td>2</td>\n",
              "      <td>2</td>\n",
              "      <td>1</td>\n",
              "      <td>24</td>\n",
              "      <td>2</td>\n",
              "      <td>2</td>\n",
              "      <td>-1</td>\n",
              "      <td>-1</td>\n",
              "      <td>-2</td>\n",
              "      <td>-2</td>\n",
              "      <td>3913</td>\n",
              "      <td>3102</td>\n",
              "      <td>689</td>\n",
              "      <td>0</td>\n",
              "      <td>0</td>\n",
              "      <td>0</td>\n",
              "      <td>0</td>\n",
              "      <td>689</td>\n",
              "      <td>0</td>\n",
              "      <td>0</td>\n",
              "      <td>0</td>\n",
              "      <td>0</td>\n",
              "      <td>1</td>\n",
              "    </tr>\n",
              "    <tr>\n",
              "      <th>2</th>\n",
              "      <td>2</td>\n",
              "      <td>120000</td>\n",
              "      <td>2</td>\n",
              "      <td>2</td>\n",
              "      <td>2</td>\n",
              "      <td>26</td>\n",
              "      <td>-1</td>\n",
              "      <td>2</td>\n",
              "      <td>0</td>\n",
              "      <td>0</td>\n",
              "      <td>0</td>\n",
              "      <td>2</td>\n",
              "      <td>2682</td>\n",
              "      <td>1725</td>\n",
              "      <td>2682</td>\n",
              "      <td>3272</td>\n",
              "      <td>3455</td>\n",
              "      <td>3261</td>\n",
              "      <td>0</td>\n",
              "      <td>1000</td>\n",
              "      <td>1000</td>\n",
              "      <td>1000</td>\n",
              "      <td>0</td>\n",
              "      <td>2000</td>\n",
              "      <td>1</td>\n",
              "    </tr>\n",
              "    <tr>\n",
              "      <th>3</th>\n",
              "      <td>3</td>\n",
              "      <td>90000</td>\n",
              "      <td>2</td>\n",
              "      <td>2</td>\n",
              "      <td>2</td>\n",
              "      <td>34</td>\n",
              "      <td>0</td>\n",
              "      <td>0</td>\n",
              "      <td>0</td>\n",
              "      <td>0</td>\n",
              "      <td>0</td>\n",
              "      <td>0</td>\n",
              "      <td>29239</td>\n",
              "      <td>14027</td>\n",
              "      <td>13559</td>\n",
              "      <td>14331</td>\n",
              "      <td>14948</td>\n",
              "      <td>15549</td>\n",
              "      <td>1518</td>\n",
              "      <td>1500</td>\n",
              "      <td>1000</td>\n",
              "      <td>1000</td>\n",
              "      <td>1000</td>\n",
              "      <td>5000</td>\n",
              "      <td>0</td>\n",
              "    </tr>\n",
              "    <tr>\n",
              "      <th>4</th>\n",
              "      <td>4</td>\n",
              "      <td>50000</td>\n",
              "      <td>2</td>\n",
              "      <td>2</td>\n",
              "      <td>1</td>\n",
              "      <td>37</td>\n",
              "      <td>0</td>\n",
              "      <td>0</td>\n",
              "      <td>0</td>\n",
              "      <td>0</td>\n",
              "      <td>0</td>\n",
              "      <td>0</td>\n",
              "      <td>46990</td>\n",
              "      <td>48233</td>\n",
              "      <td>49291</td>\n",
              "      <td>28314</td>\n",
              "      <td>28959</td>\n",
              "      <td>29547</td>\n",
              "      <td>2000</td>\n",
              "      <td>2019</td>\n",
              "      <td>1200</td>\n",
              "      <td>1100</td>\n",
              "      <td>1069</td>\n",
              "      <td>1000</td>\n",
              "      <td>0</td>\n",
              "    </tr>\n",
              "    <tr>\n",
              "      <th>...</th>\n",
              "      <td>...</td>\n",
              "      <td>...</td>\n",
              "      <td>...</td>\n",
              "      <td>...</td>\n",
              "      <td>...</td>\n",
              "      <td>...</td>\n",
              "      <td>...</td>\n",
              "      <td>...</td>\n",
              "      <td>...</td>\n",
              "      <td>...</td>\n",
              "      <td>...</td>\n",
              "      <td>...</td>\n",
              "      <td>...</td>\n",
              "      <td>...</td>\n",
              "      <td>...</td>\n",
              "      <td>...</td>\n",
              "      <td>...</td>\n",
              "      <td>...</td>\n",
              "      <td>...</td>\n",
              "      <td>...</td>\n",
              "      <td>...</td>\n",
              "      <td>...</td>\n",
              "      <td>...</td>\n",
              "      <td>...</td>\n",
              "      <td>...</td>\n",
              "    </tr>\n",
              "    <tr>\n",
              "      <th>29996</th>\n",
              "      <td>29996</td>\n",
              "      <td>220000</td>\n",
              "      <td>1</td>\n",
              "      <td>3</td>\n",
              "      <td>1</td>\n",
              "      <td>39</td>\n",
              "      <td>0</td>\n",
              "      <td>0</td>\n",
              "      <td>0</td>\n",
              "      <td>0</td>\n",
              "      <td>0</td>\n",
              "      <td>0</td>\n",
              "      <td>188948</td>\n",
              "      <td>192815</td>\n",
              "      <td>208365</td>\n",
              "      <td>88004</td>\n",
              "      <td>31237</td>\n",
              "      <td>15980</td>\n",
              "      <td>8500</td>\n",
              "      <td>20000</td>\n",
              "      <td>5003</td>\n",
              "      <td>3047</td>\n",
              "      <td>5000</td>\n",
              "      <td>1000</td>\n",
              "      <td>0</td>\n",
              "    </tr>\n",
              "    <tr>\n",
              "      <th>29997</th>\n",
              "      <td>29997</td>\n",
              "      <td>150000</td>\n",
              "      <td>1</td>\n",
              "      <td>3</td>\n",
              "      <td>2</td>\n",
              "      <td>43</td>\n",
              "      <td>-1</td>\n",
              "      <td>-1</td>\n",
              "      <td>-1</td>\n",
              "      <td>-1</td>\n",
              "      <td>0</td>\n",
              "      <td>0</td>\n",
              "      <td>1683</td>\n",
              "      <td>1828</td>\n",
              "      <td>3502</td>\n",
              "      <td>8979</td>\n",
              "      <td>5190</td>\n",
              "      <td>0</td>\n",
              "      <td>1837</td>\n",
              "      <td>3526</td>\n",
              "      <td>8998</td>\n",
              "      <td>129</td>\n",
              "      <td>0</td>\n",
              "      <td>0</td>\n",
              "      <td>0</td>\n",
              "    </tr>\n",
              "    <tr>\n",
              "      <th>29998</th>\n",
              "      <td>29998</td>\n",
              "      <td>30000</td>\n",
              "      <td>1</td>\n",
              "      <td>2</td>\n",
              "      <td>2</td>\n",
              "      <td>37</td>\n",
              "      <td>4</td>\n",
              "      <td>3</td>\n",
              "      <td>2</td>\n",
              "      <td>-1</td>\n",
              "      <td>0</td>\n",
              "      <td>0</td>\n",
              "      <td>3565</td>\n",
              "      <td>3356</td>\n",
              "      <td>2758</td>\n",
              "      <td>20878</td>\n",
              "      <td>20582</td>\n",
              "      <td>19357</td>\n",
              "      <td>0</td>\n",
              "      <td>0</td>\n",
              "      <td>22000</td>\n",
              "      <td>4200</td>\n",
              "      <td>2000</td>\n",
              "      <td>3100</td>\n",
              "      <td>1</td>\n",
              "    </tr>\n",
              "    <tr>\n",
              "      <th>29999</th>\n",
              "      <td>29999</td>\n",
              "      <td>80000</td>\n",
              "      <td>1</td>\n",
              "      <td>3</td>\n",
              "      <td>1</td>\n",
              "      <td>41</td>\n",
              "      <td>1</td>\n",
              "      <td>-1</td>\n",
              "      <td>0</td>\n",
              "      <td>0</td>\n",
              "      <td>0</td>\n",
              "      <td>-1</td>\n",
              "      <td>-1645</td>\n",
              "      <td>78379</td>\n",
              "      <td>76304</td>\n",
              "      <td>52774</td>\n",
              "      <td>11855</td>\n",
              "      <td>48944</td>\n",
              "      <td>85900</td>\n",
              "      <td>3409</td>\n",
              "      <td>1178</td>\n",
              "      <td>1926</td>\n",
              "      <td>52964</td>\n",
              "      <td>1804</td>\n",
              "      <td>1</td>\n",
              "    </tr>\n",
              "    <tr>\n",
              "      <th>30000</th>\n",
              "      <td>30000</td>\n",
              "      <td>50000</td>\n",
              "      <td>1</td>\n",
              "      <td>2</td>\n",
              "      <td>1</td>\n",
              "      <td>46</td>\n",
              "      <td>0</td>\n",
              "      <td>0</td>\n",
              "      <td>0</td>\n",
              "      <td>0</td>\n",
              "      <td>0</td>\n",
              "      <td>0</td>\n",
              "      <td>47929</td>\n",
              "      <td>48905</td>\n",
              "      <td>49764</td>\n",
              "      <td>36535</td>\n",
              "      <td>32428</td>\n",
              "      <td>15313</td>\n",
              "      <td>2078</td>\n",
              "      <td>1800</td>\n",
              "      <td>1430</td>\n",
              "      <td>1000</td>\n",
              "      <td>1000</td>\n",
              "      <td>1000</td>\n",
              "      <td>1</td>\n",
              "    </tr>\n",
              "  </tbody>\n",
              "</table>\n",
              "<p>30001 rows × 25 columns</p>\n",
              "</div>"
            ],
            "text/plain": [
              "      Unnamed: 0         X1  ...       X23                           Y\n",
              "0             ID  LIMIT_BAL  ...  PAY_AMT6  default payment next month\n",
              "1              1      20000  ...         0                           1\n",
              "2              2     120000  ...      2000                           1\n",
              "3              3      90000  ...      5000                           0\n",
              "4              4      50000  ...      1000                           0\n",
              "...          ...        ...  ...       ...                         ...\n",
              "29996      29996     220000  ...      1000                           0\n",
              "29997      29997     150000  ...         0                           0\n",
              "29998      29998      30000  ...      3100                           1\n",
              "29999      29999      80000  ...      1804                           1\n",
              "30000      30000      50000  ...      1000                           1\n",
              "\n",
              "[30001 rows x 25 columns]"
            ]
          },
          "metadata": {},
          "execution_count": 3
        }
      ]
    },
    {
      "cell_type": "code",
      "metadata": {
        "id": "hrfgrbDqoBti"
      },
      "source": [
        "#reading data\n",
        "df=pd.read_excel(data,header=1)"
      ],
      "execution_count": 4,
      "outputs": []
    },
    {
      "cell_type": "markdown",
      "metadata": {
        "id": "ADj00dh4tGd6"
      },
      "source": [
        "# Data inspection"
      ]
    },
    {
      "cell_type": "code",
      "metadata": {
        "colab": {
          "base_uri": "https://localhost:8080/",
          "height": 0
        },
        "id": "1pI9hOxHouUl",
        "outputId": "c18e7b23-d000-4b2c-cf88-12a643fb2433"
      },
      "source": [
        "df.head()"
      ],
      "execution_count": 5,
      "outputs": [
        {
          "output_type": "execute_result",
          "data": {
            "text/html": [
              "<div>\n",
              "<style scoped>\n",
              "    .dataframe tbody tr th:only-of-type {\n",
              "        vertical-align: middle;\n",
              "    }\n",
              "\n",
              "    .dataframe tbody tr th {\n",
              "        vertical-align: top;\n",
              "    }\n",
              "\n",
              "    .dataframe thead th {\n",
              "        text-align: right;\n",
              "    }\n",
              "</style>\n",
              "<table border=\"1\" class=\"dataframe\">\n",
              "  <thead>\n",
              "    <tr style=\"text-align: right;\">\n",
              "      <th></th>\n",
              "      <th>ID</th>\n",
              "      <th>LIMIT_BAL</th>\n",
              "      <th>SEX</th>\n",
              "      <th>EDUCATION</th>\n",
              "      <th>MARRIAGE</th>\n",
              "      <th>AGE</th>\n",
              "      <th>PAY_0</th>\n",
              "      <th>PAY_2</th>\n",
              "      <th>PAY_3</th>\n",
              "      <th>PAY_4</th>\n",
              "      <th>PAY_5</th>\n",
              "      <th>PAY_6</th>\n",
              "      <th>BILL_AMT1</th>\n",
              "      <th>BILL_AMT2</th>\n",
              "      <th>BILL_AMT3</th>\n",
              "      <th>BILL_AMT4</th>\n",
              "      <th>BILL_AMT5</th>\n",
              "      <th>BILL_AMT6</th>\n",
              "      <th>PAY_AMT1</th>\n",
              "      <th>PAY_AMT2</th>\n",
              "      <th>PAY_AMT3</th>\n",
              "      <th>PAY_AMT4</th>\n",
              "      <th>PAY_AMT5</th>\n",
              "      <th>PAY_AMT6</th>\n",
              "      <th>default payment next month</th>\n",
              "    </tr>\n",
              "  </thead>\n",
              "  <tbody>\n",
              "    <tr>\n",
              "      <th>0</th>\n",
              "      <td>1</td>\n",
              "      <td>20000</td>\n",
              "      <td>2</td>\n",
              "      <td>2</td>\n",
              "      <td>1</td>\n",
              "      <td>24</td>\n",
              "      <td>2</td>\n",
              "      <td>2</td>\n",
              "      <td>-1</td>\n",
              "      <td>-1</td>\n",
              "      <td>-2</td>\n",
              "      <td>-2</td>\n",
              "      <td>3913</td>\n",
              "      <td>3102</td>\n",
              "      <td>689</td>\n",
              "      <td>0</td>\n",
              "      <td>0</td>\n",
              "      <td>0</td>\n",
              "      <td>0</td>\n",
              "      <td>689</td>\n",
              "      <td>0</td>\n",
              "      <td>0</td>\n",
              "      <td>0</td>\n",
              "      <td>0</td>\n",
              "      <td>1</td>\n",
              "    </tr>\n",
              "    <tr>\n",
              "      <th>1</th>\n",
              "      <td>2</td>\n",
              "      <td>120000</td>\n",
              "      <td>2</td>\n",
              "      <td>2</td>\n",
              "      <td>2</td>\n",
              "      <td>26</td>\n",
              "      <td>-1</td>\n",
              "      <td>2</td>\n",
              "      <td>0</td>\n",
              "      <td>0</td>\n",
              "      <td>0</td>\n",
              "      <td>2</td>\n",
              "      <td>2682</td>\n",
              "      <td>1725</td>\n",
              "      <td>2682</td>\n",
              "      <td>3272</td>\n",
              "      <td>3455</td>\n",
              "      <td>3261</td>\n",
              "      <td>0</td>\n",
              "      <td>1000</td>\n",
              "      <td>1000</td>\n",
              "      <td>1000</td>\n",
              "      <td>0</td>\n",
              "      <td>2000</td>\n",
              "      <td>1</td>\n",
              "    </tr>\n",
              "    <tr>\n",
              "      <th>2</th>\n",
              "      <td>3</td>\n",
              "      <td>90000</td>\n",
              "      <td>2</td>\n",
              "      <td>2</td>\n",
              "      <td>2</td>\n",
              "      <td>34</td>\n",
              "      <td>0</td>\n",
              "      <td>0</td>\n",
              "      <td>0</td>\n",
              "      <td>0</td>\n",
              "      <td>0</td>\n",
              "      <td>0</td>\n",
              "      <td>29239</td>\n",
              "      <td>14027</td>\n",
              "      <td>13559</td>\n",
              "      <td>14331</td>\n",
              "      <td>14948</td>\n",
              "      <td>15549</td>\n",
              "      <td>1518</td>\n",
              "      <td>1500</td>\n",
              "      <td>1000</td>\n",
              "      <td>1000</td>\n",
              "      <td>1000</td>\n",
              "      <td>5000</td>\n",
              "      <td>0</td>\n",
              "    </tr>\n",
              "    <tr>\n",
              "      <th>3</th>\n",
              "      <td>4</td>\n",
              "      <td>50000</td>\n",
              "      <td>2</td>\n",
              "      <td>2</td>\n",
              "      <td>1</td>\n",
              "      <td>37</td>\n",
              "      <td>0</td>\n",
              "      <td>0</td>\n",
              "      <td>0</td>\n",
              "      <td>0</td>\n",
              "      <td>0</td>\n",
              "      <td>0</td>\n",
              "      <td>46990</td>\n",
              "      <td>48233</td>\n",
              "      <td>49291</td>\n",
              "      <td>28314</td>\n",
              "      <td>28959</td>\n",
              "      <td>29547</td>\n",
              "      <td>2000</td>\n",
              "      <td>2019</td>\n",
              "      <td>1200</td>\n",
              "      <td>1100</td>\n",
              "      <td>1069</td>\n",
              "      <td>1000</td>\n",
              "      <td>0</td>\n",
              "    </tr>\n",
              "    <tr>\n",
              "      <th>4</th>\n",
              "      <td>5</td>\n",
              "      <td>50000</td>\n",
              "      <td>1</td>\n",
              "      <td>2</td>\n",
              "      <td>1</td>\n",
              "      <td>57</td>\n",
              "      <td>-1</td>\n",
              "      <td>0</td>\n",
              "      <td>-1</td>\n",
              "      <td>0</td>\n",
              "      <td>0</td>\n",
              "      <td>0</td>\n",
              "      <td>8617</td>\n",
              "      <td>5670</td>\n",
              "      <td>35835</td>\n",
              "      <td>20940</td>\n",
              "      <td>19146</td>\n",
              "      <td>19131</td>\n",
              "      <td>2000</td>\n",
              "      <td>36681</td>\n",
              "      <td>10000</td>\n",
              "      <td>9000</td>\n",
              "      <td>689</td>\n",
              "      <td>679</td>\n",
              "      <td>0</td>\n",
              "    </tr>\n",
              "  </tbody>\n",
              "</table>\n",
              "</div>"
            ],
            "text/plain": [
              "   ID  LIMIT_BAL  SEX  ...  PAY_AMT5  PAY_AMT6  default payment next month\n",
              "0   1      20000    2  ...         0         0                           1\n",
              "1   2     120000    2  ...         0      2000                           1\n",
              "2   3      90000    2  ...      1000      5000                           0\n",
              "3   4      50000    2  ...      1069      1000                           0\n",
              "4   5      50000    1  ...       689       679                           0\n",
              "\n",
              "[5 rows x 25 columns]"
            ]
          },
          "metadata": {},
          "execution_count": 5
        }
      ]
    },
    {
      "cell_type": "code",
      "metadata": {
        "colab": {
          "base_uri": "https://localhost:8080/"
        },
        "id": "aNViNws5pp8K",
        "outputId": "ef41f34c-0801-4a69-b34a-15a892a076d8"
      },
      "source": [
        "#checking information of data\n",
        "df.info()"
      ],
      "execution_count": 6,
      "outputs": [
        {
          "output_type": "stream",
          "name": "stdout",
          "text": [
            "<class 'pandas.core.frame.DataFrame'>\n",
            "RangeIndex: 30000 entries, 0 to 29999\n",
            "Data columns (total 25 columns):\n",
            " #   Column                      Non-Null Count  Dtype\n",
            "---  ------                      --------------  -----\n",
            " 0   ID                          30000 non-null  int64\n",
            " 1   LIMIT_BAL                   30000 non-null  int64\n",
            " 2   SEX                         30000 non-null  int64\n",
            " 3   EDUCATION                   30000 non-null  int64\n",
            " 4   MARRIAGE                    30000 non-null  int64\n",
            " 5   AGE                         30000 non-null  int64\n",
            " 6   PAY_0                       30000 non-null  int64\n",
            " 7   PAY_2                       30000 non-null  int64\n",
            " 8   PAY_3                       30000 non-null  int64\n",
            " 9   PAY_4                       30000 non-null  int64\n",
            " 10  PAY_5                       30000 non-null  int64\n",
            " 11  PAY_6                       30000 non-null  int64\n",
            " 12  BILL_AMT1                   30000 non-null  int64\n",
            " 13  BILL_AMT2                   30000 non-null  int64\n",
            " 14  BILL_AMT3                   30000 non-null  int64\n",
            " 15  BILL_AMT4                   30000 non-null  int64\n",
            " 16  BILL_AMT5                   30000 non-null  int64\n",
            " 17  BILL_AMT6                   30000 non-null  int64\n",
            " 18  PAY_AMT1                    30000 non-null  int64\n",
            " 19  PAY_AMT2                    30000 non-null  int64\n",
            " 20  PAY_AMT3                    30000 non-null  int64\n",
            " 21  PAY_AMT4                    30000 non-null  int64\n",
            " 22  PAY_AMT5                    30000 non-null  int64\n",
            " 23  PAY_AMT6                    30000 non-null  int64\n",
            " 24  default payment next month  30000 non-null  int64\n",
            "dtypes: int64(25)\n",
            "memory usage: 5.7 MB\n"
          ]
        }
      ]
    },
    {
      "cell_type": "code",
      "metadata": {
        "colab": {
          "base_uri": "https://localhost:8080/"
        },
        "id": "drYrrAsyowWL",
        "outputId": "64df6ad7-754b-4d0a-8e6d-d55e97244955"
      },
      "source": [
        "#checking null values\n",
        "df.isnull().sum()"
      ],
      "execution_count": 7,
      "outputs": [
        {
          "output_type": "execute_result",
          "data": {
            "text/plain": [
              "ID                            0\n",
              "LIMIT_BAL                     0\n",
              "SEX                           0\n",
              "EDUCATION                     0\n",
              "MARRIAGE                      0\n",
              "AGE                           0\n",
              "PAY_0                         0\n",
              "PAY_2                         0\n",
              "PAY_3                         0\n",
              "PAY_4                         0\n",
              "PAY_5                         0\n",
              "PAY_6                         0\n",
              "BILL_AMT1                     0\n",
              "BILL_AMT2                     0\n",
              "BILL_AMT3                     0\n",
              "BILL_AMT4                     0\n",
              "BILL_AMT5                     0\n",
              "BILL_AMT6                     0\n",
              "PAY_AMT1                      0\n",
              "PAY_AMT2                      0\n",
              "PAY_AMT3                      0\n",
              "PAY_AMT4                      0\n",
              "PAY_AMT5                      0\n",
              "PAY_AMT6                      0\n",
              "default payment next month    0\n",
              "dtype: int64"
            ]
          },
          "metadata": {},
          "execution_count": 7
        }
      ]
    },
    {
      "cell_type": "markdown",
      "metadata": {
        "id": "xkguhlALp0fS"
      },
      "source": [
        "**No null value found**"
      ]
    },
    {
      "cell_type": "code",
      "metadata": {
        "colab": {
          "base_uri": "https://localhost:8080/",
          "height": 0
        },
        "id": "5ruhOQNsphGs",
        "outputId": "986827a9-8a95-49f3-bbf1-77e7f714072b"
      },
      "source": [
        "#describing data\n",
        "df.describe().transpose()"
      ],
      "execution_count": 8,
      "outputs": [
        {
          "output_type": "execute_result",
          "data": {
            "text/html": [
              "<div>\n",
              "<style scoped>\n",
              "    .dataframe tbody tr th:only-of-type {\n",
              "        vertical-align: middle;\n",
              "    }\n",
              "\n",
              "    .dataframe tbody tr th {\n",
              "        vertical-align: top;\n",
              "    }\n",
              "\n",
              "    .dataframe thead th {\n",
              "        text-align: right;\n",
              "    }\n",
              "</style>\n",
              "<table border=\"1\" class=\"dataframe\">\n",
              "  <thead>\n",
              "    <tr style=\"text-align: right;\">\n",
              "      <th></th>\n",
              "      <th>count</th>\n",
              "      <th>mean</th>\n",
              "      <th>std</th>\n",
              "      <th>min</th>\n",
              "      <th>25%</th>\n",
              "      <th>50%</th>\n",
              "      <th>75%</th>\n",
              "      <th>max</th>\n",
              "    </tr>\n",
              "  </thead>\n",
              "  <tbody>\n",
              "    <tr>\n",
              "      <th>ID</th>\n",
              "      <td>30000.0</td>\n",
              "      <td>15000.500000</td>\n",
              "      <td>8660.398374</td>\n",
              "      <td>1.0</td>\n",
              "      <td>7500.75</td>\n",
              "      <td>15000.5</td>\n",
              "      <td>22500.25</td>\n",
              "      <td>30000.0</td>\n",
              "    </tr>\n",
              "    <tr>\n",
              "      <th>LIMIT_BAL</th>\n",
              "      <td>30000.0</td>\n",
              "      <td>167484.322667</td>\n",
              "      <td>129747.661567</td>\n",
              "      <td>10000.0</td>\n",
              "      <td>50000.00</td>\n",
              "      <td>140000.0</td>\n",
              "      <td>240000.00</td>\n",
              "      <td>1000000.0</td>\n",
              "    </tr>\n",
              "    <tr>\n",
              "      <th>SEX</th>\n",
              "      <td>30000.0</td>\n",
              "      <td>1.603733</td>\n",
              "      <td>0.489129</td>\n",
              "      <td>1.0</td>\n",
              "      <td>1.00</td>\n",
              "      <td>2.0</td>\n",
              "      <td>2.00</td>\n",
              "      <td>2.0</td>\n",
              "    </tr>\n",
              "    <tr>\n",
              "      <th>EDUCATION</th>\n",
              "      <td>30000.0</td>\n",
              "      <td>1.853133</td>\n",
              "      <td>0.790349</td>\n",
              "      <td>0.0</td>\n",
              "      <td>1.00</td>\n",
              "      <td>2.0</td>\n",
              "      <td>2.00</td>\n",
              "      <td>6.0</td>\n",
              "    </tr>\n",
              "    <tr>\n",
              "      <th>MARRIAGE</th>\n",
              "      <td>30000.0</td>\n",
              "      <td>1.551867</td>\n",
              "      <td>0.521970</td>\n",
              "      <td>0.0</td>\n",
              "      <td>1.00</td>\n",
              "      <td>2.0</td>\n",
              "      <td>2.00</td>\n",
              "      <td>3.0</td>\n",
              "    </tr>\n",
              "    <tr>\n",
              "      <th>AGE</th>\n",
              "      <td>30000.0</td>\n",
              "      <td>35.485500</td>\n",
              "      <td>9.217904</td>\n",
              "      <td>21.0</td>\n",
              "      <td>28.00</td>\n",
              "      <td>34.0</td>\n",
              "      <td>41.00</td>\n",
              "      <td>79.0</td>\n",
              "    </tr>\n",
              "    <tr>\n",
              "      <th>PAY_0</th>\n",
              "      <td>30000.0</td>\n",
              "      <td>-0.016700</td>\n",
              "      <td>1.123802</td>\n",
              "      <td>-2.0</td>\n",
              "      <td>-1.00</td>\n",
              "      <td>0.0</td>\n",
              "      <td>0.00</td>\n",
              "      <td>8.0</td>\n",
              "    </tr>\n",
              "    <tr>\n",
              "      <th>PAY_2</th>\n",
              "      <td>30000.0</td>\n",
              "      <td>-0.133767</td>\n",
              "      <td>1.197186</td>\n",
              "      <td>-2.0</td>\n",
              "      <td>-1.00</td>\n",
              "      <td>0.0</td>\n",
              "      <td>0.00</td>\n",
              "      <td>8.0</td>\n",
              "    </tr>\n",
              "    <tr>\n",
              "      <th>PAY_3</th>\n",
              "      <td>30000.0</td>\n",
              "      <td>-0.166200</td>\n",
              "      <td>1.196868</td>\n",
              "      <td>-2.0</td>\n",
              "      <td>-1.00</td>\n",
              "      <td>0.0</td>\n",
              "      <td>0.00</td>\n",
              "      <td>8.0</td>\n",
              "    </tr>\n",
              "    <tr>\n",
              "      <th>PAY_4</th>\n",
              "      <td>30000.0</td>\n",
              "      <td>-0.220667</td>\n",
              "      <td>1.169139</td>\n",
              "      <td>-2.0</td>\n",
              "      <td>-1.00</td>\n",
              "      <td>0.0</td>\n",
              "      <td>0.00</td>\n",
              "      <td>8.0</td>\n",
              "    </tr>\n",
              "    <tr>\n",
              "      <th>PAY_5</th>\n",
              "      <td>30000.0</td>\n",
              "      <td>-0.266200</td>\n",
              "      <td>1.133187</td>\n",
              "      <td>-2.0</td>\n",
              "      <td>-1.00</td>\n",
              "      <td>0.0</td>\n",
              "      <td>0.00</td>\n",
              "      <td>8.0</td>\n",
              "    </tr>\n",
              "    <tr>\n",
              "      <th>PAY_6</th>\n",
              "      <td>30000.0</td>\n",
              "      <td>-0.291100</td>\n",
              "      <td>1.149988</td>\n",
              "      <td>-2.0</td>\n",
              "      <td>-1.00</td>\n",
              "      <td>0.0</td>\n",
              "      <td>0.00</td>\n",
              "      <td>8.0</td>\n",
              "    </tr>\n",
              "    <tr>\n",
              "      <th>BILL_AMT1</th>\n",
              "      <td>30000.0</td>\n",
              "      <td>51223.330900</td>\n",
              "      <td>73635.860576</td>\n",
              "      <td>-165580.0</td>\n",
              "      <td>3558.75</td>\n",
              "      <td>22381.5</td>\n",
              "      <td>67091.00</td>\n",
              "      <td>964511.0</td>\n",
              "    </tr>\n",
              "    <tr>\n",
              "      <th>BILL_AMT2</th>\n",
              "      <td>30000.0</td>\n",
              "      <td>49179.075167</td>\n",
              "      <td>71173.768783</td>\n",
              "      <td>-69777.0</td>\n",
              "      <td>2984.75</td>\n",
              "      <td>21200.0</td>\n",
              "      <td>64006.25</td>\n",
              "      <td>983931.0</td>\n",
              "    </tr>\n",
              "    <tr>\n",
              "      <th>BILL_AMT3</th>\n",
              "      <td>30000.0</td>\n",
              "      <td>47013.154800</td>\n",
              "      <td>69349.387427</td>\n",
              "      <td>-157264.0</td>\n",
              "      <td>2666.25</td>\n",
              "      <td>20088.5</td>\n",
              "      <td>60164.75</td>\n",
              "      <td>1664089.0</td>\n",
              "    </tr>\n",
              "    <tr>\n",
              "      <th>BILL_AMT4</th>\n",
              "      <td>30000.0</td>\n",
              "      <td>43262.948967</td>\n",
              "      <td>64332.856134</td>\n",
              "      <td>-170000.0</td>\n",
              "      <td>2326.75</td>\n",
              "      <td>19052.0</td>\n",
              "      <td>54506.00</td>\n",
              "      <td>891586.0</td>\n",
              "    </tr>\n",
              "    <tr>\n",
              "      <th>BILL_AMT5</th>\n",
              "      <td>30000.0</td>\n",
              "      <td>40311.400967</td>\n",
              "      <td>60797.155770</td>\n",
              "      <td>-81334.0</td>\n",
              "      <td>1763.00</td>\n",
              "      <td>18104.5</td>\n",
              "      <td>50190.50</td>\n",
              "      <td>927171.0</td>\n",
              "    </tr>\n",
              "    <tr>\n",
              "      <th>BILL_AMT6</th>\n",
              "      <td>30000.0</td>\n",
              "      <td>38871.760400</td>\n",
              "      <td>59554.107537</td>\n",
              "      <td>-339603.0</td>\n",
              "      <td>1256.00</td>\n",
              "      <td>17071.0</td>\n",
              "      <td>49198.25</td>\n",
              "      <td>961664.0</td>\n",
              "    </tr>\n",
              "    <tr>\n",
              "      <th>PAY_AMT1</th>\n",
              "      <td>30000.0</td>\n",
              "      <td>5663.580500</td>\n",
              "      <td>16563.280354</td>\n",
              "      <td>0.0</td>\n",
              "      <td>1000.00</td>\n",
              "      <td>2100.0</td>\n",
              "      <td>5006.00</td>\n",
              "      <td>873552.0</td>\n",
              "    </tr>\n",
              "    <tr>\n",
              "      <th>PAY_AMT2</th>\n",
              "      <td>30000.0</td>\n",
              "      <td>5921.163500</td>\n",
              "      <td>23040.870402</td>\n",
              "      <td>0.0</td>\n",
              "      <td>833.00</td>\n",
              "      <td>2009.0</td>\n",
              "      <td>5000.00</td>\n",
              "      <td>1684259.0</td>\n",
              "    </tr>\n",
              "    <tr>\n",
              "      <th>PAY_AMT3</th>\n",
              "      <td>30000.0</td>\n",
              "      <td>5225.681500</td>\n",
              "      <td>17606.961470</td>\n",
              "      <td>0.0</td>\n",
              "      <td>390.00</td>\n",
              "      <td>1800.0</td>\n",
              "      <td>4505.00</td>\n",
              "      <td>896040.0</td>\n",
              "    </tr>\n",
              "    <tr>\n",
              "      <th>PAY_AMT4</th>\n",
              "      <td>30000.0</td>\n",
              "      <td>4826.076867</td>\n",
              "      <td>15666.159744</td>\n",
              "      <td>0.0</td>\n",
              "      <td>296.00</td>\n",
              "      <td>1500.0</td>\n",
              "      <td>4013.25</td>\n",
              "      <td>621000.0</td>\n",
              "    </tr>\n",
              "    <tr>\n",
              "      <th>PAY_AMT5</th>\n",
              "      <td>30000.0</td>\n",
              "      <td>4799.387633</td>\n",
              "      <td>15278.305679</td>\n",
              "      <td>0.0</td>\n",
              "      <td>252.50</td>\n",
              "      <td>1500.0</td>\n",
              "      <td>4031.50</td>\n",
              "      <td>426529.0</td>\n",
              "    </tr>\n",
              "    <tr>\n",
              "      <th>PAY_AMT6</th>\n",
              "      <td>30000.0</td>\n",
              "      <td>5215.502567</td>\n",
              "      <td>17777.465775</td>\n",
              "      <td>0.0</td>\n",
              "      <td>117.75</td>\n",
              "      <td>1500.0</td>\n",
              "      <td>4000.00</td>\n",
              "      <td>528666.0</td>\n",
              "    </tr>\n",
              "    <tr>\n",
              "      <th>default payment next month</th>\n",
              "      <td>30000.0</td>\n",
              "      <td>0.221200</td>\n",
              "      <td>0.415062</td>\n",
              "      <td>0.0</td>\n",
              "      <td>0.00</td>\n",
              "      <td>0.0</td>\n",
              "      <td>0.00</td>\n",
              "      <td>1.0</td>\n",
              "    </tr>\n",
              "  </tbody>\n",
              "</table>\n",
              "</div>"
            ],
            "text/plain": [
              "                              count           mean  ...        75%        max\n",
              "ID                          30000.0   15000.500000  ...   22500.25    30000.0\n",
              "LIMIT_BAL                   30000.0  167484.322667  ...  240000.00  1000000.0\n",
              "SEX                         30000.0       1.603733  ...       2.00        2.0\n",
              "EDUCATION                   30000.0       1.853133  ...       2.00        6.0\n",
              "MARRIAGE                    30000.0       1.551867  ...       2.00        3.0\n",
              "AGE                         30000.0      35.485500  ...      41.00       79.0\n",
              "PAY_0                       30000.0      -0.016700  ...       0.00        8.0\n",
              "PAY_2                       30000.0      -0.133767  ...       0.00        8.0\n",
              "PAY_3                       30000.0      -0.166200  ...       0.00        8.0\n",
              "PAY_4                       30000.0      -0.220667  ...       0.00        8.0\n",
              "PAY_5                       30000.0      -0.266200  ...       0.00        8.0\n",
              "PAY_6                       30000.0      -0.291100  ...       0.00        8.0\n",
              "BILL_AMT1                   30000.0   51223.330900  ...   67091.00   964511.0\n",
              "BILL_AMT2                   30000.0   49179.075167  ...   64006.25   983931.0\n",
              "BILL_AMT3                   30000.0   47013.154800  ...   60164.75  1664089.0\n",
              "BILL_AMT4                   30000.0   43262.948967  ...   54506.00   891586.0\n",
              "BILL_AMT5                   30000.0   40311.400967  ...   50190.50   927171.0\n",
              "BILL_AMT6                   30000.0   38871.760400  ...   49198.25   961664.0\n",
              "PAY_AMT1                    30000.0    5663.580500  ...    5006.00   873552.0\n",
              "PAY_AMT2                    30000.0    5921.163500  ...    5000.00  1684259.0\n",
              "PAY_AMT3                    30000.0    5225.681500  ...    4505.00   896040.0\n",
              "PAY_AMT4                    30000.0    4826.076867  ...    4013.25   621000.0\n",
              "PAY_AMT5                    30000.0    4799.387633  ...    4031.50   426529.0\n",
              "PAY_AMT6                    30000.0    5215.502567  ...    4000.00   528666.0\n",
              "default payment next month  30000.0       0.221200  ...       0.00        1.0\n",
              "\n",
              "[25 rows x 8 columns]"
            ]
          },
          "metadata": {},
          "execution_count": 8
        }
      ]
    },
    {
      "cell_type": "code",
      "metadata": {
        "colab": {
          "base_uri": "https://localhost:8080/"
        },
        "id": "KzK42ZJEqAbi",
        "outputId": "828fca8a-99ee-4125-8de4-99c0e61c710a"
      },
      "source": [
        "#checking 1st Row\n",
        "df.iloc[0,:]"
      ],
      "execution_count": 9,
      "outputs": [
        {
          "output_type": "execute_result",
          "data": {
            "text/plain": [
              "ID                                1\n",
              "LIMIT_BAL                     20000\n",
              "SEX                               2\n",
              "EDUCATION                         2\n",
              "MARRIAGE                          1\n",
              "AGE                              24\n",
              "PAY_0                             2\n",
              "PAY_2                             2\n",
              "PAY_3                            -1\n",
              "PAY_4                            -1\n",
              "PAY_5                            -2\n",
              "PAY_6                            -2\n",
              "BILL_AMT1                      3913\n",
              "BILL_AMT2                      3102\n",
              "BILL_AMT3                       689\n",
              "BILL_AMT4                         0\n",
              "BILL_AMT5                         0\n",
              "BILL_AMT6                         0\n",
              "PAY_AMT1                          0\n",
              "PAY_AMT2                        689\n",
              "PAY_AMT3                          0\n",
              "PAY_AMT4                          0\n",
              "PAY_AMT5                          0\n",
              "PAY_AMT6                          0\n",
              "default payment next month        1\n",
              "Name: 0, dtype: int64"
            ]
          },
          "metadata": {},
          "execution_count": 9
        }
      ]
    },
    {
      "cell_type": "code",
      "metadata": {
        "id": "5D5e3ZfLqX-h"
      },
      "source": [
        "#droping Id Column since its is unique for every row\n",
        "df=df.drop('ID',axis=1)"
      ],
      "execution_count": 10,
      "outputs": []
    },
    {
      "cell_type": "code",
      "metadata": {
        "colab": {
          "base_uri": "https://localhost:8080/",
          "height": 0
        },
        "id": "mWlL3NoZq7bq",
        "outputId": "397cfd3c-fce4-4807-ef54-7075d4681ce4"
      },
      "source": [
        "#viewing Data\n",
        "\n",
        "df.head()"
      ],
      "execution_count": 11,
      "outputs": [
        {
          "output_type": "execute_result",
          "data": {
            "text/html": [
              "<div>\n",
              "<style scoped>\n",
              "    .dataframe tbody tr th:only-of-type {\n",
              "        vertical-align: middle;\n",
              "    }\n",
              "\n",
              "    .dataframe tbody tr th {\n",
              "        vertical-align: top;\n",
              "    }\n",
              "\n",
              "    .dataframe thead th {\n",
              "        text-align: right;\n",
              "    }\n",
              "</style>\n",
              "<table border=\"1\" class=\"dataframe\">\n",
              "  <thead>\n",
              "    <tr style=\"text-align: right;\">\n",
              "      <th></th>\n",
              "      <th>LIMIT_BAL</th>\n",
              "      <th>SEX</th>\n",
              "      <th>EDUCATION</th>\n",
              "      <th>MARRIAGE</th>\n",
              "      <th>AGE</th>\n",
              "      <th>PAY_0</th>\n",
              "      <th>PAY_2</th>\n",
              "      <th>PAY_3</th>\n",
              "      <th>PAY_4</th>\n",
              "      <th>PAY_5</th>\n",
              "      <th>PAY_6</th>\n",
              "      <th>BILL_AMT1</th>\n",
              "      <th>BILL_AMT2</th>\n",
              "      <th>BILL_AMT3</th>\n",
              "      <th>BILL_AMT4</th>\n",
              "      <th>BILL_AMT5</th>\n",
              "      <th>BILL_AMT6</th>\n",
              "      <th>PAY_AMT1</th>\n",
              "      <th>PAY_AMT2</th>\n",
              "      <th>PAY_AMT3</th>\n",
              "      <th>PAY_AMT4</th>\n",
              "      <th>PAY_AMT5</th>\n",
              "      <th>PAY_AMT6</th>\n",
              "      <th>default payment next month</th>\n",
              "    </tr>\n",
              "  </thead>\n",
              "  <tbody>\n",
              "    <tr>\n",
              "      <th>0</th>\n",
              "      <td>20000</td>\n",
              "      <td>2</td>\n",
              "      <td>2</td>\n",
              "      <td>1</td>\n",
              "      <td>24</td>\n",
              "      <td>2</td>\n",
              "      <td>2</td>\n",
              "      <td>-1</td>\n",
              "      <td>-1</td>\n",
              "      <td>-2</td>\n",
              "      <td>-2</td>\n",
              "      <td>3913</td>\n",
              "      <td>3102</td>\n",
              "      <td>689</td>\n",
              "      <td>0</td>\n",
              "      <td>0</td>\n",
              "      <td>0</td>\n",
              "      <td>0</td>\n",
              "      <td>689</td>\n",
              "      <td>0</td>\n",
              "      <td>0</td>\n",
              "      <td>0</td>\n",
              "      <td>0</td>\n",
              "      <td>1</td>\n",
              "    </tr>\n",
              "    <tr>\n",
              "      <th>1</th>\n",
              "      <td>120000</td>\n",
              "      <td>2</td>\n",
              "      <td>2</td>\n",
              "      <td>2</td>\n",
              "      <td>26</td>\n",
              "      <td>-1</td>\n",
              "      <td>2</td>\n",
              "      <td>0</td>\n",
              "      <td>0</td>\n",
              "      <td>0</td>\n",
              "      <td>2</td>\n",
              "      <td>2682</td>\n",
              "      <td>1725</td>\n",
              "      <td>2682</td>\n",
              "      <td>3272</td>\n",
              "      <td>3455</td>\n",
              "      <td>3261</td>\n",
              "      <td>0</td>\n",
              "      <td>1000</td>\n",
              "      <td>1000</td>\n",
              "      <td>1000</td>\n",
              "      <td>0</td>\n",
              "      <td>2000</td>\n",
              "      <td>1</td>\n",
              "    </tr>\n",
              "    <tr>\n",
              "      <th>2</th>\n",
              "      <td>90000</td>\n",
              "      <td>2</td>\n",
              "      <td>2</td>\n",
              "      <td>2</td>\n",
              "      <td>34</td>\n",
              "      <td>0</td>\n",
              "      <td>0</td>\n",
              "      <td>0</td>\n",
              "      <td>0</td>\n",
              "      <td>0</td>\n",
              "      <td>0</td>\n",
              "      <td>29239</td>\n",
              "      <td>14027</td>\n",
              "      <td>13559</td>\n",
              "      <td>14331</td>\n",
              "      <td>14948</td>\n",
              "      <td>15549</td>\n",
              "      <td>1518</td>\n",
              "      <td>1500</td>\n",
              "      <td>1000</td>\n",
              "      <td>1000</td>\n",
              "      <td>1000</td>\n",
              "      <td>5000</td>\n",
              "      <td>0</td>\n",
              "    </tr>\n",
              "    <tr>\n",
              "      <th>3</th>\n",
              "      <td>50000</td>\n",
              "      <td>2</td>\n",
              "      <td>2</td>\n",
              "      <td>1</td>\n",
              "      <td>37</td>\n",
              "      <td>0</td>\n",
              "      <td>0</td>\n",
              "      <td>0</td>\n",
              "      <td>0</td>\n",
              "      <td>0</td>\n",
              "      <td>0</td>\n",
              "      <td>46990</td>\n",
              "      <td>48233</td>\n",
              "      <td>49291</td>\n",
              "      <td>28314</td>\n",
              "      <td>28959</td>\n",
              "      <td>29547</td>\n",
              "      <td>2000</td>\n",
              "      <td>2019</td>\n",
              "      <td>1200</td>\n",
              "      <td>1100</td>\n",
              "      <td>1069</td>\n",
              "      <td>1000</td>\n",
              "      <td>0</td>\n",
              "    </tr>\n",
              "    <tr>\n",
              "      <th>4</th>\n",
              "      <td>50000</td>\n",
              "      <td>1</td>\n",
              "      <td>2</td>\n",
              "      <td>1</td>\n",
              "      <td>57</td>\n",
              "      <td>-1</td>\n",
              "      <td>0</td>\n",
              "      <td>-1</td>\n",
              "      <td>0</td>\n",
              "      <td>0</td>\n",
              "      <td>0</td>\n",
              "      <td>8617</td>\n",
              "      <td>5670</td>\n",
              "      <td>35835</td>\n",
              "      <td>20940</td>\n",
              "      <td>19146</td>\n",
              "      <td>19131</td>\n",
              "      <td>2000</td>\n",
              "      <td>36681</td>\n",
              "      <td>10000</td>\n",
              "      <td>9000</td>\n",
              "      <td>689</td>\n",
              "      <td>679</td>\n",
              "      <td>0</td>\n",
              "    </tr>\n",
              "  </tbody>\n",
              "</table>\n",
              "</div>"
            ],
            "text/plain": [
              "   LIMIT_BAL  SEX  EDUCATION  ...  PAY_AMT5  PAY_AMT6  default payment next month\n",
              "0      20000    2          2  ...         0         0                           1\n",
              "1     120000    2          2  ...         0      2000                           1\n",
              "2      90000    2          2  ...      1000      5000                           0\n",
              "3      50000    2          2  ...      1069      1000                           0\n",
              "4      50000    1          2  ...       689       679                           0\n",
              "\n",
              "[5 rows x 24 columns]"
            ]
          },
          "metadata": {},
          "execution_count": 11
        }
      ]
    },
    {
      "cell_type": "markdown",
      "metadata": {
        "id": "9mTOfv6kv7dk"
      },
      "source": [
        "# Data cleaning"
      ]
    },
    {
      "cell_type": "code",
      "metadata": {
        "colab": {
          "base_uri": "https://localhost:8080/"
        },
        "id": "BnqNI7wntNit",
        "outputId": "96cdbdea-c176-4748-812c-f7c0398f20bd"
      },
      "source": [
        "df['LIMIT_BAL'].max()"
      ],
      "execution_count": 12,
      "outputs": [
        {
          "output_type": "execute_result",
          "data": {
            "text/plain": [
              "1000000"
            ]
          },
          "metadata": {},
          "execution_count": 12
        }
      ]
    },
    {
      "cell_type": "code",
      "metadata": {
        "colab": {
          "base_uri": "https://localhost:8080/"
        },
        "id": "TC2aJcmXwAJU",
        "outputId": "9184c823-fcf9-46c8-fc1d-e0eb1cae0c8d"
      },
      "source": [
        "df['LIMIT_BAL'].min()"
      ],
      "execution_count": 13,
      "outputs": [
        {
          "output_type": "execute_result",
          "data": {
            "text/plain": [
              "10000"
            ]
          },
          "metadata": {},
          "execution_count": 13
        }
      ]
    },
    {
      "cell_type": "code",
      "metadata": {
        "id": "FxY73eROwEl8"
      },
      "source": [
        "#renaming dependendent Variable\n",
        "df.rename(columns={'default payment next month' : 'Defaulters'}, inplace=True)"
      ],
      "execution_count": 14,
      "outputs": []
    },
    {
      "cell_type": "code",
      "metadata": {
        "id": "Kudq6VtuwMa8"
      },
      "source": [
        "# renaming some feature name for better understanding of feature\n",
        "df.rename(columns={'PAY_0':'PAY_SEPT','PAY_2':'PAY_AUG','PAY_3':'PAY_JUL','PAY_4':'PAY_JUN','PAY_5':'PAY_MAY','PAY_6':'PAY_APR'},inplace=True)\n",
        "\n",
        "df.rename(columns={'BILL_AMT1':'BILL_AMT_SEPT','BILL_AMT2':'BILL_AMT_AUG','BILL_AMT3':'BILL_AMT_JUL','BILL_AMT4':'BILL_AMT_JUN','BILL_AMT5':'BILL_AMT_MAY','BILL_AMT6':'BILL_AMT_APR'}, inplace = True)\n",
        "\n",
        "df.rename(columns={'PAY_AMT1':'PAY_AMT_SEPT','PAY_AMT2':'PAY_AMT_AUG','PAY_AMT3':'PAY_AMT_JUL','PAY_AMT4':'PAY_AMT_JUN','PAY_AMT5':'PAY_AMT_MAY','PAY_AMT6':'PAY_AMT_APR'},inplace=True)"
      ],
      "execution_count": 15,
      "outputs": []
    },
    {
      "cell_type": "code",
      "metadata": {
        "colab": {
          "base_uri": "https://localhost:8080/",
          "height": 0
        },
        "id": "LHlz5aKbwV10",
        "outputId": "7d3fcc78-6042-4d5f-a014-3b52e0547085"
      },
      "source": [
        "df.head()"
      ],
      "execution_count": 16,
      "outputs": [
        {
          "output_type": "execute_result",
          "data": {
            "text/html": [
              "<div>\n",
              "<style scoped>\n",
              "    .dataframe tbody tr th:only-of-type {\n",
              "        vertical-align: middle;\n",
              "    }\n",
              "\n",
              "    .dataframe tbody tr th {\n",
              "        vertical-align: top;\n",
              "    }\n",
              "\n",
              "    .dataframe thead th {\n",
              "        text-align: right;\n",
              "    }\n",
              "</style>\n",
              "<table border=\"1\" class=\"dataframe\">\n",
              "  <thead>\n",
              "    <tr style=\"text-align: right;\">\n",
              "      <th></th>\n",
              "      <th>LIMIT_BAL</th>\n",
              "      <th>SEX</th>\n",
              "      <th>EDUCATION</th>\n",
              "      <th>MARRIAGE</th>\n",
              "      <th>AGE</th>\n",
              "      <th>PAY_SEPT</th>\n",
              "      <th>PAY_AUG</th>\n",
              "      <th>PAY_JUL</th>\n",
              "      <th>PAY_JUN</th>\n",
              "      <th>PAY_MAY</th>\n",
              "      <th>PAY_APR</th>\n",
              "      <th>BILL_AMT_SEPT</th>\n",
              "      <th>BILL_AMT_AUG</th>\n",
              "      <th>BILL_AMT_JUL</th>\n",
              "      <th>BILL_AMT_JUN</th>\n",
              "      <th>BILL_AMT_MAY</th>\n",
              "      <th>BILL_AMT_APR</th>\n",
              "      <th>PAY_AMT_SEPT</th>\n",
              "      <th>PAY_AMT_AUG</th>\n",
              "      <th>PAY_AMT_JUL</th>\n",
              "      <th>PAY_AMT_JUN</th>\n",
              "      <th>PAY_AMT_MAY</th>\n",
              "      <th>PAY_AMT_APR</th>\n",
              "      <th>Defaulters</th>\n",
              "    </tr>\n",
              "  </thead>\n",
              "  <tbody>\n",
              "    <tr>\n",
              "      <th>0</th>\n",
              "      <td>20000</td>\n",
              "      <td>2</td>\n",
              "      <td>2</td>\n",
              "      <td>1</td>\n",
              "      <td>24</td>\n",
              "      <td>2</td>\n",
              "      <td>2</td>\n",
              "      <td>-1</td>\n",
              "      <td>-1</td>\n",
              "      <td>-2</td>\n",
              "      <td>-2</td>\n",
              "      <td>3913</td>\n",
              "      <td>3102</td>\n",
              "      <td>689</td>\n",
              "      <td>0</td>\n",
              "      <td>0</td>\n",
              "      <td>0</td>\n",
              "      <td>0</td>\n",
              "      <td>689</td>\n",
              "      <td>0</td>\n",
              "      <td>0</td>\n",
              "      <td>0</td>\n",
              "      <td>0</td>\n",
              "      <td>1</td>\n",
              "    </tr>\n",
              "    <tr>\n",
              "      <th>1</th>\n",
              "      <td>120000</td>\n",
              "      <td>2</td>\n",
              "      <td>2</td>\n",
              "      <td>2</td>\n",
              "      <td>26</td>\n",
              "      <td>-1</td>\n",
              "      <td>2</td>\n",
              "      <td>0</td>\n",
              "      <td>0</td>\n",
              "      <td>0</td>\n",
              "      <td>2</td>\n",
              "      <td>2682</td>\n",
              "      <td>1725</td>\n",
              "      <td>2682</td>\n",
              "      <td>3272</td>\n",
              "      <td>3455</td>\n",
              "      <td>3261</td>\n",
              "      <td>0</td>\n",
              "      <td>1000</td>\n",
              "      <td>1000</td>\n",
              "      <td>1000</td>\n",
              "      <td>0</td>\n",
              "      <td>2000</td>\n",
              "      <td>1</td>\n",
              "    </tr>\n",
              "    <tr>\n",
              "      <th>2</th>\n",
              "      <td>90000</td>\n",
              "      <td>2</td>\n",
              "      <td>2</td>\n",
              "      <td>2</td>\n",
              "      <td>34</td>\n",
              "      <td>0</td>\n",
              "      <td>0</td>\n",
              "      <td>0</td>\n",
              "      <td>0</td>\n",
              "      <td>0</td>\n",
              "      <td>0</td>\n",
              "      <td>29239</td>\n",
              "      <td>14027</td>\n",
              "      <td>13559</td>\n",
              "      <td>14331</td>\n",
              "      <td>14948</td>\n",
              "      <td>15549</td>\n",
              "      <td>1518</td>\n",
              "      <td>1500</td>\n",
              "      <td>1000</td>\n",
              "      <td>1000</td>\n",
              "      <td>1000</td>\n",
              "      <td>5000</td>\n",
              "      <td>0</td>\n",
              "    </tr>\n",
              "    <tr>\n",
              "      <th>3</th>\n",
              "      <td>50000</td>\n",
              "      <td>2</td>\n",
              "      <td>2</td>\n",
              "      <td>1</td>\n",
              "      <td>37</td>\n",
              "      <td>0</td>\n",
              "      <td>0</td>\n",
              "      <td>0</td>\n",
              "      <td>0</td>\n",
              "      <td>0</td>\n",
              "      <td>0</td>\n",
              "      <td>46990</td>\n",
              "      <td>48233</td>\n",
              "      <td>49291</td>\n",
              "      <td>28314</td>\n",
              "      <td>28959</td>\n",
              "      <td>29547</td>\n",
              "      <td>2000</td>\n",
              "      <td>2019</td>\n",
              "      <td>1200</td>\n",
              "      <td>1100</td>\n",
              "      <td>1069</td>\n",
              "      <td>1000</td>\n",
              "      <td>0</td>\n",
              "    </tr>\n",
              "    <tr>\n",
              "      <th>4</th>\n",
              "      <td>50000</td>\n",
              "      <td>1</td>\n",
              "      <td>2</td>\n",
              "      <td>1</td>\n",
              "      <td>57</td>\n",
              "      <td>-1</td>\n",
              "      <td>0</td>\n",
              "      <td>-1</td>\n",
              "      <td>0</td>\n",
              "      <td>0</td>\n",
              "      <td>0</td>\n",
              "      <td>8617</td>\n",
              "      <td>5670</td>\n",
              "      <td>35835</td>\n",
              "      <td>20940</td>\n",
              "      <td>19146</td>\n",
              "      <td>19131</td>\n",
              "      <td>2000</td>\n",
              "      <td>36681</td>\n",
              "      <td>10000</td>\n",
              "      <td>9000</td>\n",
              "      <td>689</td>\n",
              "      <td>679</td>\n",
              "      <td>0</td>\n",
              "    </tr>\n",
              "  </tbody>\n",
              "</table>\n",
              "</div>"
            ],
            "text/plain": [
              "   LIMIT_BAL  SEX  EDUCATION  ...  PAY_AMT_MAY  PAY_AMT_APR  Defaulters\n",
              "0      20000    2          2  ...            0            0           1\n",
              "1     120000    2          2  ...            0         2000           1\n",
              "2      90000    2          2  ...         1000         5000           0\n",
              "3      50000    2          2  ...         1069         1000           0\n",
              "4      50000    1          2  ...          689          679           0\n",
              "\n",
              "[5 rows x 24 columns]"
            ]
          },
          "metadata": {},
          "execution_count": 16
        }
      ]
    },
    {
      "cell_type": "markdown",
      "metadata": {
        "id": "v-3tNXYjtNUS"
      },
      "source": [
        "### Looking for Outlier Using Isolation Forest"
      ]
    },
    {
      "cell_type": "code",
      "metadata": {
        "id": "vEZlLXA3qlu9"
      },
      "source": [
        "# importing minmax scaler\n",
        "from sklearn.preprocessing import MinMaxScaler\n",
        "#creating instance of minmaxscaler\n",
        "minmax = MinMaxScaler(feature_range=(0, 1))\n",
        "scale_df = minmax.fit_transform(df.drop('Defaulters',axis=1))"
      ],
      "execution_count": 17,
      "outputs": []
    },
    {
      "cell_type": "code",
      "metadata": {
        "id": "Y5BWSMWDqlVK"
      },
      "source": [
        "#imprting IsolationForeest for outlier detection\n",
        "from sklearn.ensemble import IsolationForest"
      ],
      "execution_count": 18,
      "outputs": []
    },
    {
      "cell_type": "code",
      "metadata": {
        "id": "OOD29lCZsLsS"
      },
      "source": [
        "#creating instance of isolation forest\n",
        "clf = IsolationForest(n_estimators=100, contamination=0.01, random_state=0)\n",
        "clf.fit(scale_df)\n",
        "\n",
        "# predict raw anomaly score\n",
        "df['multivariate_anomaly_score'] = clf.decision_function(scale_df)\n",
        "        \n",
        "# prediction of a datapoint category outlier or inlier\n",
        "df['multivariate_outlier'] = clf.predict(scale_df)"
      ],
      "execution_count": 19,
      "outputs": []
    },
    {
      "cell_type": "code",
      "metadata": {
        "colab": {
          "base_uri": "https://localhost:8080/",
          "height": 0
        },
        "id": "cn4_a3_xskNa",
        "outputId": "cfaa415b-bd1b-46c1-ba87-fe53b298f8d4"
      },
      "source": [
        "df.head()"
      ],
      "execution_count": 20,
      "outputs": [
        {
          "output_type": "execute_result",
          "data": {
            "text/html": [
              "<div>\n",
              "<style scoped>\n",
              "    .dataframe tbody tr th:only-of-type {\n",
              "        vertical-align: middle;\n",
              "    }\n",
              "\n",
              "    .dataframe tbody tr th {\n",
              "        vertical-align: top;\n",
              "    }\n",
              "\n",
              "    .dataframe thead th {\n",
              "        text-align: right;\n",
              "    }\n",
              "</style>\n",
              "<table border=\"1\" class=\"dataframe\">\n",
              "  <thead>\n",
              "    <tr style=\"text-align: right;\">\n",
              "      <th></th>\n",
              "      <th>LIMIT_BAL</th>\n",
              "      <th>SEX</th>\n",
              "      <th>EDUCATION</th>\n",
              "      <th>MARRIAGE</th>\n",
              "      <th>AGE</th>\n",
              "      <th>PAY_SEPT</th>\n",
              "      <th>PAY_AUG</th>\n",
              "      <th>PAY_JUL</th>\n",
              "      <th>PAY_JUN</th>\n",
              "      <th>PAY_MAY</th>\n",
              "      <th>PAY_APR</th>\n",
              "      <th>BILL_AMT_SEPT</th>\n",
              "      <th>BILL_AMT_AUG</th>\n",
              "      <th>BILL_AMT_JUL</th>\n",
              "      <th>BILL_AMT_JUN</th>\n",
              "      <th>BILL_AMT_MAY</th>\n",
              "      <th>BILL_AMT_APR</th>\n",
              "      <th>PAY_AMT_SEPT</th>\n",
              "      <th>PAY_AMT_AUG</th>\n",
              "      <th>PAY_AMT_JUL</th>\n",
              "      <th>PAY_AMT_JUN</th>\n",
              "      <th>PAY_AMT_MAY</th>\n",
              "      <th>PAY_AMT_APR</th>\n",
              "      <th>Defaulters</th>\n",
              "      <th>multivariate_anomaly_score</th>\n",
              "      <th>multivariate_outlier</th>\n",
              "    </tr>\n",
              "  </thead>\n",
              "  <tbody>\n",
              "    <tr>\n",
              "      <th>0</th>\n",
              "      <td>20000</td>\n",
              "      <td>2</td>\n",
              "      <td>2</td>\n",
              "      <td>1</td>\n",
              "      <td>24</td>\n",
              "      <td>2</td>\n",
              "      <td>2</td>\n",
              "      <td>-1</td>\n",
              "      <td>-1</td>\n",
              "      <td>-2</td>\n",
              "      <td>-2</td>\n",
              "      <td>3913</td>\n",
              "      <td>3102</td>\n",
              "      <td>689</td>\n",
              "      <td>0</td>\n",
              "      <td>0</td>\n",
              "      <td>0</td>\n",
              "      <td>0</td>\n",
              "      <td>689</td>\n",
              "      <td>0</td>\n",
              "      <td>0</td>\n",
              "      <td>0</td>\n",
              "      <td>0</td>\n",
              "      <td>1</td>\n",
              "      <td>0.193236</td>\n",
              "      <td>1</td>\n",
              "    </tr>\n",
              "    <tr>\n",
              "      <th>1</th>\n",
              "      <td>120000</td>\n",
              "      <td>2</td>\n",
              "      <td>2</td>\n",
              "      <td>2</td>\n",
              "      <td>26</td>\n",
              "      <td>-1</td>\n",
              "      <td>2</td>\n",
              "      <td>0</td>\n",
              "      <td>0</td>\n",
              "      <td>0</td>\n",
              "      <td>2</td>\n",
              "      <td>2682</td>\n",
              "      <td>1725</td>\n",
              "      <td>2682</td>\n",
              "      <td>3272</td>\n",
              "      <td>3455</td>\n",
              "      <td>3261</td>\n",
              "      <td>0</td>\n",
              "      <td>1000</td>\n",
              "      <td>1000</td>\n",
              "      <td>1000</td>\n",
              "      <td>0</td>\n",
              "      <td>2000</td>\n",
              "      <td>1</td>\n",
              "      <td>0.214444</td>\n",
              "      <td>1</td>\n",
              "    </tr>\n",
              "    <tr>\n",
              "      <th>2</th>\n",
              "      <td>90000</td>\n",
              "      <td>2</td>\n",
              "      <td>2</td>\n",
              "      <td>2</td>\n",
              "      <td>34</td>\n",
              "      <td>0</td>\n",
              "      <td>0</td>\n",
              "      <td>0</td>\n",
              "      <td>0</td>\n",
              "      <td>0</td>\n",
              "      <td>0</td>\n",
              "      <td>29239</td>\n",
              "      <td>14027</td>\n",
              "      <td>13559</td>\n",
              "      <td>14331</td>\n",
              "      <td>14948</td>\n",
              "      <td>15549</td>\n",
              "      <td>1518</td>\n",
              "      <td>1500</td>\n",
              "      <td>1000</td>\n",
              "      <td>1000</td>\n",
              "      <td>1000</td>\n",
              "      <td>5000</td>\n",
              "      <td>0</td>\n",
              "      <td>0.272661</td>\n",
              "      <td>1</td>\n",
              "    </tr>\n",
              "    <tr>\n",
              "      <th>3</th>\n",
              "      <td>50000</td>\n",
              "      <td>2</td>\n",
              "      <td>2</td>\n",
              "      <td>1</td>\n",
              "      <td>37</td>\n",
              "      <td>0</td>\n",
              "      <td>0</td>\n",
              "      <td>0</td>\n",
              "      <td>0</td>\n",
              "      <td>0</td>\n",
              "      <td>0</td>\n",
              "      <td>46990</td>\n",
              "      <td>48233</td>\n",
              "      <td>49291</td>\n",
              "      <td>28314</td>\n",
              "      <td>28959</td>\n",
              "      <td>29547</td>\n",
              "      <td>2000</td>\n",
              "      <td>2019</td>\n",
              "      <td>1200</td>\n",
              "      <td>1100</td>\n",
              "      <td>1069</td>\n",
              "      <td>1000</td>\n",
              "      <td>0</td>\n",
              "      <td>0.265480</td>\n",
              "      <td>1</td>\n",
              "    </tr>\n",
              "    <tr>\n",
              "      <th>4</th>\n",
              "      <td>50000</td>\n",
              "      <td>1</td>\n",
              "      <td>2</td>\n",
              "      <td>1</td>\n",
              "      <td>57</td>\n",
              "      <td>-1</td>\n",
              "      <td>0</td>\n",
              "      <td>-1</td>\n",
              "      <td>0</td>\n",
              "      <td>0</td>\n",
              "      <td>0</td>\n",
              "      <td>8617</td>\n",
              "      <td>5670</td>\n",
              "      <td>35835</td>\n",
              "      <td>20940</td>\n",
              "      <td>19146</td>\n",
              "      <td>19131</td>\n",
              "      <td>2000</td>\n",
              "      <td>36681</td>\n",
              "      <td>10000</td>\n",
              "      <td>9000</td>\n",
              "      <td>689</td>\n",
              "      <td>679</td>\n",
              "      <td>0</td>\n",
              "      <td>0.175220</td>\n",
              "      <td>1</td>\n",
              "    </tr>\n",
              "  </tbody>\n",
              "</table>\n",
              "</div>"
            ],
            "text/plain": [
              "   LIMIT_BAL  SEX  ...  multivariate_anomaly_score  multivariate_outlier\n",
              "0      20000    2  ...                    0.193236                     1\n",
              "1     120000    2  ...                    0.214444                     1\n",
              "2      90000    2  ...                    0.272661                     1\n",
              "3      50000    2  ...                    0.265480                     1\n",
              "4      50000    1  ...                    0.175220                     1\n",
              "\n",
              "[5 rows x 26 columns]"
            ]
          },
          "metadata": {},
          "execution_count": 20
        }
      ]
    },
    {
      "cell_type": "code",
      "metadata": {
        "colab": {
          "base_uri": "https://localhost:8080/",
          "height": 0
        },
        "id": "4Cgb9dj9s3L7",
        "outputId": "a5c5cc07-bbd5-481e-91a0-5cbda08d1d1b"
      },
      "source": [
        "#looking the outlier\n",
        "df[(df['multivariate_outlier'] == -1)]"
      ],
      "execution_count": 21,
      "outputs": [
        {
          "output_type": "execute_result",
          "data": {
            "text/html": [
              "<div>\n",
              "<style scoped>\n",
              "    .dataframe tbody tr th:only-of-type {\n",
              "        vertical-align: middle;\n",
              "    }\n",
              "\n",
              "    .dataframe tbody tr th {\n",
              "        vertical-align: top;\n",
              "    }\n",
              "\n",
              "    .dataframe thead th {\n",
              "        text-align: right;\n",
              "    }\n",
              "</style>\n",
              "<table border=\"1\" class=\"dataframe\">\n",
              "  <thead>\n",
              "    <tr style=\"text-align: right;\">\n",
              "      <th></th>\n",
              "      <th>LIMIT_BAL</th>\n",
              "      <th>SEX</th>\n",
              "      <th>EDUCATION</th>\n",
              "      <th>MARRIAGE</th>\n",
              "      <th>AGE</th>\n",
              "      <th>PAY_SEPT</th>\n",
              "      <th>PAY_AUG</th>\n",
              "      <th>PAY_JUL</th>\n",
              "      <th>PAY_JUN</th>\n",
              "      <th>PAY_MAY</th>\n",
              "      <th>PAY_APR</th>\n",
              "      <th>BILL_AMT_SEPT</th>\n",
              "      <th>BILL_AMT_AUG</th>\n",
              "      <th>BILL_AMT_JUL</th>\n",
              "      <th>BILL_AMT_JUN</th>\n",
              "      <th>BILL_AMT_MAY</th>\n",
              "      <th>BILL_AMT_APR</th>\n",
              "      <th>PAY_AMT_SEPT</th>\n",
              "      <th>PAY_AMT_AUG</th>\n",
              "      <th>PAY_AMT_JUL</th>\n",
              "      <th>PAY_AMT_JUN</th>\n",
              "      <th>PAY_AMT_MAY</th>\n",
              "      <th>PAY_AMT_APR</th>\n",
              "      <th>Defaulters</th>\n",
              "      <th>multivariate_anomaly_score</th>\n",
              "      <th>multivariate_outlier</th>\n",
              "    </tr>\n",
              "  </thead>\n",
              "  <tbody>\n",
              "    <tr>\n",
              "      <th>6</th>\n",
              "      <td>500000</td>\n",
              "      <td>1</td>\n",
              "      <td>1</td>\n",
              "      <td>2</td>\n",
              "      <td>29</td>\n",
              "      <td>0</td>\n",
              "      <td>0</td>\n",
              "      <td>0</td>\n",
              "      <td>0</td>\n",
              "      <td>0</td>\n",
              "      <td>0</td>\n",
              "      <td>367965</td>\n",
              "      <td>412023</td>\n",
              "      <td>445007</td>\n",
              "      <td>542653</td>\n",
              "      <td>483003</td>\n",
              "      <td>473944</td>\n",
              "      <td>55000</td>\n",
              "      <td>40000</td>\n",
              "      <td>38000</td>\n",
              "      <td>20239</td>\n",
              "      <td>13750</td>\n",
              "      <td>13770</td>\n",
              "      <td>0</td>\n",
              "      <td>-0.047298</td>\n",
              "      <td>-1</td>\n",
              "    </tr>\n",
              "    <tr>\n",
              "      <th>59</th>\n",
              "      <td>400000</td>\n",
              "      <td>2</td>\n",
              "      <td>2</td>\n",
              "      <td>1</td>\n",
              "      <td>29</td>\n",
              "      <td>0</td>\n",
              "      <td>0</td>\n",
              "      <td>0</td>\n",
              "      <td>0</td>\n",
              "      <td>0</td>\n",
              "      <td>0</td>\n",
              "      <td>400134</td>\n",
              "      <td>398857</td>\n",
              "      <td>404205</td>\n",
              "      <td>360199</td>\n",
              "      <td>356656</td>\n",
              "      <td>364089</td>\n",
              "      <td>17000</td>\n",
              "      <td>15029</td>\n",
              "      <td>30000</td>\n",
              "      <td>12000</td>\n",
              "      <td>12000</td>\n",
              "      <td>23000</td>\n",
              "      <td>0</td>\n",
              "      <td>-0.018764</td>\n",
              "      <td>-1</td>\n",
              "    </tr>\n",
              "    <tr>\n",
              "      <th>102</th>\n",
              "      <td>480000</td>\n",
              "      <td>1</td>\n",
              "      <td>1</td>\n",
              "      <td>1</td>\n",
              "      <td>63</td>\n",
              "      <td>0</td>\n",
              "      <td>0</td>\n",
              "      <td>0</td>\n",
              "      <td>2</td>\n",
              "      <td>2</td>\n",
              "      <td>0</td>\n",
              "      <td>422069</td>\n",
              "      <td>431342</td>\n",
              "      <td>479432</td>\n",
              "      <td>487066</td>\n",
              "      <td>471145</td>\n",
              "      <td>469961</td>\n",
              "      <td>16078</td>\n",
              "      <td>55693</td>\n",
              "      <td>17000</td>\n",
              "      <td>0</td>\n",
              "      <td>18000</td>\n",
              "      <td>24200</td>\n",
              "      <td>0</td>\n",
              "      <td>-0.075574</td>\n",
              "      <td>-1</td>\n",
              "    </tr>\n",
              "    <tr>\n",
              "      <th>214</th>\n",
              "      <td>470000</td>\n",
              "      <td>1</td>\n",
              "      <td>2</td>\n",
              "      <td>2</td>\n",
              "      <td>27</td>\n",
              "      <td>2</td>\n",
              "      <td>2</td>\n",
              "      <td>2</td>\n",
              "      <td>2</td>\n",
              "      <td>0</td>\n",
              "      <td>0</td>\n",
              "      <td>296573</td>\n",
              "      <td>303320</td>\n",
              "      <td>307843</td>\n",
              "      <td>479978</td>\n",
              "      <td>305145</td>\n",
              "      <td>309959</td>\n",
              "      <td>13000</td>\n",
              "      <td>11001</td>\n",
              "      <td>0</td>\n",
              "      <td>10484</td>\n",
              "      <td>10838</td>\n",
              "      <td>10367</td>\n",
              "      <td>0</td>\n",
              "      <td>-0.025251</td>\n",
              "      <td>-1</td>\n",
              "    </tr>\n",
              "    <tr>\n",
              "      <th>360</th>\n",
              "      <td>500000</td>\n",
              "      <td>2</td>\n",
              "      <td>2</td>\n",
              "      <td>2</td>\n",
              "      <td>23</td>\n",
              "      <td>4</td>\n",
              "      <td>3</td>\n",
              "      <td>2</td>\n",
              "      <td>0</td>\n",
              "      <td>0</td>\n",
              "      <td>0</td>\n",
              "      <td>507726</td>\n",
              "      <td>509229</td>\n",
              "      <td>499936</td>\n",
              "      <td>505507</td>\n",
              "      <td>484612</td>\n",
              "      <td>419643</td>\n",
              "      <td>10000</td>\n",
              "      <td>0</td>\n",
              "      <td>14000</td>\n",
              "      <td>16500</td>\n",
              "      <td>16000</td>\n",
              "      <td>19000</td>\n",
              "      <td>1</td>\n",
              "      <td>-0.073183</td>\n",
              "      <td>-1</td>\n",
              "    </tr>\n",
              "    <tr>\n",
              "      <th>...</th>\n",
              "      <td>...</td>\n",
              "      <td>...</td>\n",
              "      <td>...</td>\n",
              "      <td>...</td>\n",
              "      <td>...</td>\n",
              "      <td>...</td>\n",
              "      <td>...</td>\n",
              "      <td>...</td>\n",
              "      <td>...</td>\n",
              "      <td>...</td>\n",
              "      <td>...</td>\n",
              "      <td>...</td>\n",
              "      <td>...</td>\n",
              "      <td>...</td>\n",
              "      <td>...</td>\n",
              "      <td>...</td>\n",
              "      <td>...</td>\n",
              "      <td>...</td>\n",
              "      <td>...</td>\n",
              "      <td>...</td>\n",
              "      <td>...</td>\n",
              "      <td>...</td>\n",
              "      <td>...</td>\n",
              "      <td>...</td>\n",
              "      <td>...</td>\n",
              "      <td>...</td>\n",
              "    </tr>\n",
              "    <tr>\n",
              "      <th>29605</th>\n",
              "      <td>500000</td>\n",
              "      <td>1</td>\n",
              "      <td>1</td>\n",
              "      <td>1</td>\n",
              "      <td>37</td>\n",
              "      <td>0</td>\n",
              "      <td>0</td>\n",
              "      <td>2</td>\n",
              "      <td>0</td>\n",
              "      <td>0</td>\n",
              "      <td>0</td>\n",
              "      <td>474934</td>\n",
              "      <td>507062</td>\n",
              "      <td>491956</td>\n",
              "      <td>430637</td>\n",
              "      <td>376657</td>\n",
              "      <td>356636</td>\n",
              "      <td>40024</td>\n",
              "      <td>325</td>\n",
              "      <td>15296</td>\n",
              "      <td>12137</td>\n",
              "      <td>12312</td>\n",
              "      <td>14113</td>\n",
              "      <td>0</td>\n",
              "      <td>-0.042915</td>\n",
              "      <td>-1</td>\n",
              "    </tr>\n",
              "    <tr>\n",
              "      <th>29820</th>\n",
              "      <td>400000</td>\n",
              "      <td>1</td>\n",
              "      <td>2</td>\n",
              "      <td>2</td>\n",
              "      <td>37</td>\n",
              "      <td>1</td>\n",
              "      <td>-1</td>\n",
              "      <td>0</td>\n",
              "      <td>0</td>\n",
              "      <td>0</td>\n",
              "      <td>0</td>\n",
              "      <td>396343</td>\n",
              "      <td>394858</td>\n",
              "      <td>395716</td>\n",
              "      <td>385947</td>\n",
              "      <td>305542</td>\n",
              "      <td>271385</td>\n",
              "      <td>423903</td>\n",
              "      <td>15100</td>\n",
              "      <td>14600</td>\n",
              "      <td>13000</td>\n",
              "      <td>9500</td>\n",
              "      <td>9500</td>\n",
              "      <td>0</td>\n",
              "      <td>-0.053828</td>\n",
              "      <td>-1</td>\n",
              "    </tr>\n",
              "    <tr>\n",
              "      <th>29837</th>\n",
              "      <td>500000</td>\n",
              "      <td>1</td>\n",
              "      <td>1</td>\n",
              "      <td>2</td>\n",
              "      <td>34</td>\n",
              "      <td>0</td>\n",
              "      <td>0</td>\n",
              "      <td>0</td>\n",
              "      <td>0</td>\n",
              "      <td>0</td>\n",
              "      <td>0</td>\n",
              "      <td>494356</td>\n",
              "      <td>488578</td>\n",
              "      <td>488166</td>\n",
              "      <td>485249</td>\n",
              "      <td>441981</td>\n",
              "      <td>424592</td>\n",
              "      <td>17438</td>\n",
              "      <td>18852</td>\n",
              "      <td>16673</td>\n",
              "      <td>15244</td>\n",
              "      <td>15216</td>\n",
              "      <td>16037</td>\n",
              "      <td>0</td>\n",
              "      <td>-0.029139</td>\n",
              "      <td>-1</td>\n",
              "    </tr>\n",
              "    <tr>\n",
              "      <th>29883</th>\n",
              "      <td>420000</td>\n",
              "      <td>1</td>\n",
              "      <td>1</td>\n",
              "      <td>1</td>\n",
              "      <td>34</td>\n",
              "      <td>0</td>\n",
              "      <td>0</td>\n",
              "      <td>0</td>\n",
              "      <td>0</td>\n",
              "      <td>0</td>\n",
              "      <td>0</td>\n",
              "      <td>454391</td>\n",
              "      <td>466810</td>\n",
              "      <td>483277</td>\n",
              "      <td>479800</td>\n",
              "      <td>489200</td>\n",
              "      <td>489200</td>\n",
              "      <td>20000</td>\n",
              "      <td>24000</td>\n",
              "      <td>11000</td>\n",
              "      <td>10000</td>\n",
              "      <td>0</td>\n",
              "      <td>11000</td>\n",
              "      <td>0</td>\n",
              "      <td>-0.026219</td>\n",
              "      <td>-1</td>\n",
              "    </tr>\n",
              "    <tr>\n",
              "      <th>29963</th>\n",
              "      <td>610000</td>\n",
              "      <td>1</td>\n",
              "      <td>1</td>\n",
              "      <td>2</td>\n",
              "      <td>31</td>\n",
              "      <td>0</td>\n",
              "      <td>-1</td>\n",
              "      <td>2</td>\n",
              "      <td>-1</td>\n",
              "      <td>-1</td>\n",
              "      <td>-1</td>\n",
              "      <td>348392</td>\n",
              "      <td>322228</td>\n",
              "      <td>319014</td>\n",
              "      <td>347303</td>\n",
              "      <td>248893</td>\n",
              "      <td>269528</td>\n",
              "      <td>323014</td>\n",
              "      <td>1605</td>\n",
              "      <td>349395</td>\n",
              "      <td>250144</td>\n",
              "      <td>271099</td>\n",
              "      <td>220076</td>\n",
              "      <td>0</td>\n",
              "      <td>-0.134108</td>\n",
              "      <td>-1</td>\n",
              "    </tr>\n",
              "  </tbody>\n",
              "</table>\n",
              "<p>300 rows × 26 columns</p>\n",
              "</div>"
            ],
            "text/plain": [
              "       LIMIT_BAL  SEX  ...  multivariate_anomaly_score  multivariate_outlier\n",
              "6         500000    1  ...                   -0.047298                    -1\n",
              "59        400000    2  ...                   -0.018764                    -1\n",
              "102       480000    1  ...                   -0.075574                    -1\n",
              "214       470000    1  ...                   -0.025251                    -1\n",
              "360       500000    2  ...                   -0.073183                    -1\n",
              "...          ...  ...  ...                         ...                   ...\n",
              "29605     500000    1  ...                   -0.042915                    -1\n",
              "29820     400000    1  ...                   -0.053828                    -1\n",
              "29837     500000    1  ...                   -0.029139                    -1\n",
              "29883     420000    1  ...                   -0.026219                    -1\n",
              "29963     610000    1  ...                   -0.134108                    -1\n",
              "\n",
              "[300 rows x 26 columns]"
            ]
          },
          "metadata": {},
          "execution_count": 21
        }
      ]
    },
    {
      "cell_type": "code",
      "metadata": {
        "id": "6WgJd4F2t-XZ"
      },
      "source": [
        "#removing Outliers\n",
        "df=df.drop( df[ df['multivariate_outlier'] == -1 ].index)"
      ],
      "execution_count": 22,
      "outputs": []
    },
    {
      "cell_type": "code",
      "metadata": {
        "colab": {
          "base_uri": "https://localhost:8080/"
        },
        "id": "JGrr-WLAu9oa",
        "outputId": "ea4d43a0-0a70-4516-b97b-ec2168cd0e57"
      },
      "source": [
        "#checking the shape of df after removing outlier\n",
        "df.shape"
      ],
      "execution_count": 23,
      "outputs": [
        {
          "output_type": "execute_result",
          "data": {
            "text/plain": [
              "(29700, 26)"
            ]
          },
          "metadata": {},
          "execution_count": 23
        }
      ]
    },
    {
      "cell_type": "markdown",
      "metadata": {
        "id": "adA1Gu6TtLVJ"
      },
      "source": [
        "# Exploratory Data Analysis and feature Engineering"
      ]
    },
    {
      "cell_type": "code",
      "metadata": {
        "colab": {
          "base_uri": "https://localhost:8080/"
        },
        "id": "veXSD6V3sQ5a",
        "outputId": "6c90ca36-45a1-443c-f7d3-d5f025dd0d0f"
      },
      "source": [
        "#checking dependent valriable\n",
        "df['Defaulters'].value_counts()"
      ],
      "execution_count": 24,
      "outputs": [
        {
          "output_type": "execute_result",
          "data": {
            "text/plain": [
              "0    23152\n",
              "1     6548\n",
              "Name: Defaulters, dtype: int64"
            ]
          },
          "metadata": {},
          "execution_count": 24
        }
      ]
    },
    {
      "cell_type": "code",
      "metadata": {
        "colab": {
          "base_uri": "https://localhost:8080/",
          "height": 565
        },
        "id": "LI3rWRq_tAFk",
        "outputId": "914fc186-aa48-470d-abeb-3484690c5af8"
      },
      "source": [
        "#visualizing dependent variable\n",
        "plt.figure(figsize=(10,8),dpi=80)\n",
        "sns.countplot(x='Defaulters',data=df,palette='Set1')"
      ],
      "execution_count": 25,
      "outputs": [
        {
          "output_type": "execute_result",
          "data": {
            "text/plain": [
              "<matplotlib.axes._subplots.AxesSubplot at 0x7f443ca5cf10>"
            ]
          },
          "metadata": {},
          "execution_count": 25
        },
        {
          "output_type": "display_data",
          "data": {
            "image/png": "[encoded data removed]",
            "text/plain": [
              "<Figure size 800x640 with 1 Axes>"
            ]
          },
          "metadata": {
            "needs_background": "light"
          }
        }
      ]
    },
    {
      "cell_type": "markdown",
      "metadata": {
        "id": "UXb92OYguDt6"
      },
      "source": [
        "**We can see that we have quite imbalance dataset**"
      ]
    },
    {
      "cell_type": "markdown",
      "metadata": {
        "id": "-oew2dQYjCTr"
      },
      "source": [
        "## Bivariate Analysis"
      ]
    },
    {
      "cell_type": "code",
      "metadata": {
        "id": "C5sRfBGwqjN6"
      },
      "source": [
        "#analysing categorical variable\n",
        "categorical_features = ['SEX', 'EDUCATION', 'MARRIAGE']"
      ],
      "execution_count": 26,
      "outputs": []
    },
    {
      "cell_type": "code",
      "metadata": {
        "id": "5bGxXDivwrIJ"
      },
      "source": [
        "#creating different df for categorical variable\n",
        "df_cat = df[categorical_features]\n"
      ],
      "execution_count": 27,
      "outputs": []
    },
    {
      "cell_type": "code",
      "metadata": {
        "colab": {
          "base_uri": "https://localhost:8080/"
        },
        "id": "i2ZgwXP6MvOi",
        "outputId": "130703c0-73d5-4a0c-9c46-d7ec53050833"
      },
      "source": [
        "#checking shape of categorical variable\n",
        "df_cat.shape"
      ],
      "execution_count": 28,
      "outputs": [
        {
          "output_type": "execute_result",
          "data": {
            "text/plain": [
              "(29700, 3)"
            ]
          },
          "metadata": {},
          "execution_count": 28
        }
      ]
    },
    {
      "cell_type": "code",
      "metadata": {
        "colab": {
          "base_uri": "https://localhost:8080/",
          "height": 0
        },
        "id": "TvY5bPQmwzWC",
        "outputId": "2c261673-ff60-4986-a402-f47b84c43808"
      },
      "source": [
        "#looking into categorical df\n",
        "df_cat.head()"
      ],
      "execution_count": 29,
      "outputs": [
        {
          "output_type": "execute_result",
          "data": {
            "text/html": [
              "<div>\n",
              "<style scoped>\n",
              "    .dataframe tbody tr th:only-of-type {\n",
              "        vertical-align: middle;\n",
              "    }\n",
              "\n",
              "    .dataframe tbody tr th {\n",
              "        vertical-align: top;\n",
              "    }\n",
              "\n",
              "    .dataframe thead th {\n",
              "        text-align: right;\n",
              "    }\n",
              "</style>\n",
              "<table border=\"1\" class=\"dataframe\">\n",
              "  <thead>\n",
              "    <tr style=\"text-align: right;\">\n",
              "      <th></th>\n",
              "      <th>SEX</th>\n",
              "      <th>EDUCATION</th>\n",
              "      <th>MARRIAGE</th>\n",
              "    </tr>\n",
              "  </thead>\n",
              "  <tbody>\n",
              "    <tr>\n",
              "      <th>0</th>\n",
              "      <td>2</td>\n",
              "      <td>2</td>\n",
              "      <td>1</td>\n",
              "    </tr>\n",
              "    <tr>\n",
              "      <th>1</th>\n",
              "      <td>2</td>\n",
              "      <td>2</td>\n",
              "      <td>2</td>\n",
              "    </tr>\n",
              "    <tr>\n",
              "      <th>2</th>\n",
              "      <td>2</td>\n",
              "      <td>2</td>\n",
              "      <td>2</td>\n",
              "    </tr>\n",
              "    <tr>\n",
              "      <th>3</th>\n",
              "      <td>2</td>\n",
              "      <td>2</td>\n",
              "      <td>1</td>\n",
              "    </tr>\n",
              "    <tr>\n",
              "      <th>4</th>\n",
              "      <td>1</td>\n",
              "      <td>2</td>\n",
              "      <td>1</td>\n",
              "    </tr>\n",
              "  </tbody>\n",
              "</table>\n",
              "</div>"
            ],
            "text/plain": [
              "   SEX  EDUCATION  MARRIAGE\n",
              "0    2          2         1\n",
              "1    2          2         2\n",
              "2    2          2         2\n",
              "3    2          2         1\n",
              "4    1          2         1"
            ]
          },
          "metadata": {},
          "execution_count": 29
        }
      ]
    },
    {
      "cell_type": "code",
      "metadata": {
        "colab": {
          "base_uri": "https://localhost:8080/"
        },
        "id": "PAe6mE65MlNR",
        "outputId": "1ac59da2-3cae-498d-dbfd-b0115b520527"
      },
      "source": [
        "#checking value counts of categorical_features\n",
        "for column_name in df_cat.columns:\n",
        "  print(f'count of {column_name} features')\n",
        "  print(f'\\n{df_cat[column_name].value_counts()}\\n')"
      ],
      "execution_count": 30,
      "outputs": [
        {
          "output_type": "stream",
          "name": "stdout",
          "text": [
            "count of SEX features\n",
            "\n",
            "2    17960\n",
            "1    11740\n",
            "Name: SEX, dtype: int64\n",
            "\n",
            "count of EDUCATION features\n",
            "\n",
            "2    13921\n",
            "1    10437\n",
            "3     4886\n",
            "5      271\n",
            "4      123\n",
            "6       48\n",
            "0       14\n",
            "Name: EDUCATION, dtype: int64\n",
            "\n",
            "count of MARRIAGE features\n",
            "\n",
            "2    15837\n",
            "1    13487\n",
            "3      322\n",
            "0       54\n",
            "Name: MARRIAGE, dtype: int64\n",
            "\n"
          ]
        }
      ]
    },
    {
      "cell_type": "code",
      "metadata": {
        "id": "5Sz7klBOwzS4"
      },
      "source": [
        "#maping numerical value to categorical for easy understanding\n",
        "df_cat['SEX']=df_cat['SEX'].map({1:'Male',2:'Female'})\n",
        "df_cat['EDUCATION']=df_cat['EDUCATION'].map({1 : 'graduate school', 2 : 'university', 3 : 'high school', 4 : 'other',5:'other',6:'other',0:'other'})\n",
        "df_cat['MARRIAGE']=df_cat['MARRIAGE'].map({1 : 'married', 2 : 'single', 3 : 'others',0 : 'others'})"
      ],
      "execution_count": 31,
      "outputs": []
    },
    {
      "cell_type": "code",
      "metadata": {
        "colab": {
          "base_uri": "https://localhost:8080/",
          "height": 0
        },
        "id": "2QDJhb7zwzQX",
        "outputId": "3dce5462-44e1-4b5e-a613-6120321c2cff"
      },
      "source": [
        "df_cat.head()"
      ],
      "execution_count": 32,
      "outputs": [
        {
          "output_type": "execute_result",
          "data": {
            "text/html": [
              "<div>\n",
              "<style scoped>\n",
              "    .dataframe tbody tr th:only-of-type {\n",
              "        vertical-align: middle;\n",
              "    }\n",
              "\n",
              "    .dataframe tbody tr th {\n",
              "        vertical-align: top;\n",
              "    }\n",
              "\n",
              "    .dataframe thead th {\n",
              "        text-align: right;\n",
              "    }\n",
              "</style>\n",
              "<table border=\"1\" class=\"dataframe\">\n",
              "  <thead>\n",
              "    <tr style=\"text-align: right;\">\n",
              "      <th></th>\n",
              "      <th>SEX</th>\n",
              "      <th>EDUCATION</th>\n",
              "      <th>MARRIAGE</th>\n",
              "    </tr>\n",
              "  </thead>\n",
              "  <tbody>\n",
              "    <tr>\n",
              "      <th>0</th>\n",
              "      <td>Female</td>\n",
              "      <td>university</td>\n",
              "      <td>married</td>\n",
              "    </tr>\n",
              "    <tr>\n",
              "      <th>1</th>\n",
              "      <td>Female</td>\n",
              "      <td>university</td>\n",
              "      <td>single</td>\n",
              "    </tr>\n",
              "    <tr>\n",
              "      <th>2</th>\n",
              "      <td>Female</td>\n",
              "      <td>university</td>\n",
              "      <td>single</td>\n",
              "    </tr>\n",
              "    <tr>\n",
              "      <th>3</th>\n",
              "      <td>Female</td>\n",
              "      <td>university</td>\n",
              "      <td>married</td>\n",
              "    </tr>\n",
              "    <tr>\n",
              "      <th>4</th>\n",
              "      <td>Male</td>\n",
              "      <td>university</td>\n",
              "      <td>married</td>\n",
              "    </tr>\n",
              "  </tbody>\n",
              "</table>\n",
              "</div>"
            ],
            "text/plain": [
              "      SEX   EDUCATION MARRIAGE\n",
              "0  Female  university  married\n",
              "1  Female  university   single\n",
              "2  Female  university   single\n",
              "3  Female  university  married\n",
              "4    Male  university  married"
            ]
          },
          "metadata": {},
          "execution_count": 32
        }
      ]
    },
    {
      "cell_type": "code",
      "metadata": {
        "colab": {
          "base_uri": "https://localhost:8080/",
          "height": 0
        },
        "id": "QwGNkNo7vXjJ",
        "outputId": "7a68e4b6-6cd8-4626-ffc4-48f57624c782"
      },
      "source": [
        "#ploting count plot of  categorical df\n",
        "for column_name in df_cat.columns:\n",
        "  plt.figure(figsize=(10,8),dpi=60)\n",
        "  sns.countplot(x=column_name,data=df_cat,hue=df['Defaulters'],palette=[\"green\",'orange'])\n",
        "  plt.show()"
      ],
      "execution_count": 33,
      "outputs": [
        {
          "output_type": "display_data",
          "data": {
            "image/png": "[encoded data removed]",
            "text/plain": [
              "<Figure size 600x480 with 1 Axes>"
            ]
          },
          "metadata": {
            "needs_background": "light"
          }
        },
        {
          "output_type": "display_data",
          "data": {
            "image/png": "[encoded data removed]",
            "text/plain": [
              "<Figure size 600x480 with 1 Axes>"
            ]
          },
          "metadata": {
            "needs_background": "light"
          }
        },
        {
          "output_type": "display_data",
          "data": {
            "image/png": "[encoded data removed]",
            "text/plain": [
              "<Figure size 600x480 with 1 Axes>"
            ]
          },
          "metadata": {
            "needs_background": "light"
          }
        }
      ]
    },
    {
      "cell_type": "code",
      "metadata": {
        "colab": {
          "base_uri": "https://localhost:8080/"
        },
        "id": "99LED1Jkxqbr",
        "outputId": "644a8570-9f05-4e94-df0c-c77027d29fbe"
      },
      "source": [
        "#checking value counts of categorical_features\n",
        "for column_name in df_cat.columns:\n",
        "  print(f'count of {column_name} features')\n",
        "  print(f'\\n{df_cat[column_name].value_counts()}\\n')"
      ],
      "execution_count": 34,
      "outputs": [
        {
          "output_type": "stream",
          "name": "stdout",
          "text": [
            "count of SEX features\n",
            "\n",
            "Female    17960\n",
            "Male      11740\n",
            "Name: SEX, dtype: int64\n",
            "\n",
            "count of EDUCATION features\n",
            "\n",
            "university         13921\n",
            "graduate school    10437\n",
            "high school         4886\n",
            "other                456\n",
            "Name: EDUCATION, dtype: int64\n",
            "\n",
            "count of MARRIAGE features\n",
            "\n",
            "single     15837\n",
            "married    13487\n",
            "others       376\n",
            "Name: MARRIAGE, dtype: int64\n",
            "\n"
          ]
        }
      ]
    },
    {
      "cell_type": "code",
      "metadata": {
        "id": "H8mRCUDq0nUs"
      },
      "source": [
        "#creating defaulter variable on df_cat\n",
        "df_cat['Defaulter'] = df['Defaulters']"
      ],
      "execution_count": 35,
      "outputs": []
    },
    {
      "cell_type": "code",
      "metadata": {
        "colab": {
          "base_uri": "https://localhost:8080/",
          "height": 0
        },
        "id": "ihBtVbeP1Aeb",
        "outputId": "a6ca687d-989f-4903-ba0f-136c9929a53d"
      },
      "source": [
        "df_cat.head()"
      ],
      "execution_count": 36,
      "outputs": [
        {
          "output_type": "execute_result",
          "data": {
            "text/html": [
              "<div>\n",
              "<style scoped>\n",
              "    .dataframe tbody tr th:only-of-type {\n",
              "        vertical-align: middle;\n",
              "    }\n",
              "\n",
              "    .dataframe tbody tr th {\n",
              "        vertical-align: top;\n",
              "    }\n",
              "\n",
              "    .dataframe thead th {\n",
              "        text-align: right;\n",
              "    }\n",
              "</style>\n",
              "<table border=\"1\" class=\"dataframe\">\n",
              "  <thead>\n",
              "    <tr style=\"text-align: right;\">\n",
              "      <th></th>\n",
              "      <th>SEX</th>\n",
              "      <th>EDUCATION</th>\n",
              "      <th>MARRIAGE</th>\n",
              "      <th>Defaulter</th>\n",
              "    </tr>\n",
              "  </thead>\n",
              "  <tbody>\n",
              "    <tr>\n",
              "      <th>0</th>\n",
              "      <td>Female</td>\n",
              "      <td>university</td>\n",
              "      <td>married</td>\n",
              "      <td>1</td>\n",
              "    </tr>\n",
              "    <tr>\n",
              "      <th>1</th>\n",
              "      <td>Female</td>\n",
              "      <td>university</td>\n",
              "      <td>single</td>\n",
              "      <td>1</td>\n",
              "    </tr>\n",
              "    <tr>\n",
              "      <th>2</th>\n",
              "      <td>Female</td>\n",
              "      <td>university</td>\n",
              "      <td>single</td>\n",
              "      <td>0</td>\n",
              "    </tr>\n",
              "    <tr>\n",
              "      <th>3</th>\n",
              "      <td>Female</td>\n",
              "      <td>university</td>\n",
              "      <td>married</td>\n",
              "      <td>0</td>\n",
              "    </tr>\n",
              "    <tr>\n",
              "      <th>4</th>\n",
              "      <td>Male</td>\n",
              "      <td>university</td>\n",
              "      <td>married</td>\n",
              "      <td>0</td>\n",
              "    </tr>\n",
              "  </tbody>\n",
              "</table>\n",
              "</div>"
            ],
            "text/plain": [
              "      SEX   EDUCATION MARRIAGE  Defaulter\n",
              "0  Female  university  married          1\n",
              "1  Female  university   single          1\n",
              "2  Female  university   single          0\n",
              "3  Female  university  married          0\n",
              "4    Male  university  married          0"
            ]
          },
          "metadata": {},
          "execution_count": 36
        }
      ]
    },
    {
      "cell_type": "code",
      "metadata": {
        "colab": {
          "base_uri": "https://localhost:8080/"
        },
        "id": "NS5kqUhO8SLt",
        "outputId": "127009ef-3c19-4d7a-839a-065834501d98"
      },
      "source": [
        "#checking the defaulter ratio of categories\n",
        "for column_name in df_cat.columns[:-1]:\n",
        "  print(df_cat[['Defaulter',column_name]].groupby(column_name).mean().reset_index())"
      ],
      "execution_count": 37,
      "outputs": [
        {
          "output_type": "stream",
          "name": "stdout",
          "text": [
            "      SEX  Defaulter\n",
            "0  Female   0.207071\n",
            "1    Male   0.240971\n",
            "         EDUCATION  Defaulter\n",
            "0  graduate school   0.191722\n",
            "1      high school   0.251535\n",
            "2            other   0.070175\n",
            "3       university   0.236046\n",
            "  MARRIAGE  Defaulter\n",
            "0  married   0.233929\n",
            "1   others   0.236702\n",
            "2   single   0.208625\n"
          ]
        }
      ]
    },
    {
      "cell_type": "markdown",
      "metadata": {
        "id": "cnIzuYgd4k7e"
      },
      "source": [
        "### observation\n",
        "for Sex feature:\n",
        "  - we can see that  number of females are more than the males\n",
        "  - but the default ratio of male is quite higher than female\n",
        "\n",
        "for Education feature:\n",
        "  - university and High School pesons are more likely to be defaulter in comparison with  the graduate school persons.\n",
        "\n",
        "for Marriage feature:\n",
        "  - people who are not married nor single are more likely to make default of bills in comparison with single and married person"
      ]
    },
    {
      "cell_type": "code",
      "metadata": {
        "colab": {
          "base_uri": "https://localhost:8080/"
        },
        "id": "BV7lj4-JAIvb",
        "outputId": "cc80fd9c-e39c-4462-807d-c2f52f57a1ea"
      },
      "source": [
        "#desribing age variable\n",
        "df['AGE'].describe()"
      ],
      "execution_count": 38,
      "outputs": [
        {
          "output_type": "execute_result",
          "data": {
            "text/plain": [
              "count    29700.000000\n",
              "mean        35.435892\n",
              "std          9.199220\n",
              "min         21.000000\n",
              "25%         28.000000\n",
              "50%         34.000000\n",
              "75%         41.000000\n",
              "max         75.000000\n",
              "Name: AGE, dtype: float64"
            ]
          },
          "metadata": {},
          "execution_count": 38
        }
      ]
    },
    {
      "cell_type": "markdown",
      "metadata": {
        "id": "_rBDqiHHAPeU"
      },
      "source": [
        "### observation\n",
        "- we can see here min age is 21 and maximum age is 79 in our dataset"
      ]
    },
    {
      "cell_type": "code",
      "metadata": {
        "id": "5XxRI8_u69-2"
      },
      "source": [
        "# creating function to create the cohort for age group\n",
        "def age_cohort(age):\n",
        "  if age in range(21,31) : # starting from 21 because minimum age is 21 in our dataset\n",
        "    return '21-30'\n",
        "  elif age in range(31,41) :\n",
        "    return '31-40'\n",
        "  elif age in range(41,51) :\n",
        "    return '41-50'\n",
        "  elif age in range(51,61) :\n",
        "    return '51-60'\n",
        "  else:\n",
        "    return '60 & above'"
      ],
      "execution_count": 39,
      "outputs": []
    },
    {
      "cell_type": "code",
      "metadata": {
        "id": "S-7-AClGA1n7"
      },
      "source": [
        "#creating age_group column in our data set\n",
        "df['age_group']=df['AGE'].apply(lambda x: age_cohort(x))"
      ],
      "execution_count": 40,
      "outputs": []
    },
    {
      "cell_type": "code",
      "metadata": {
        "colab": {
          "base_uri": "https://localhost:8080/",
          "height": 0
        },
        "id": "s7eG7FL0Gy4U",
        "outputId": "a5395c54-5020-4422-b93a-e88c9d0f8fb8"
      },
      "source": [
        "df.head()"
      ],
      "execution_count": 41,
      "outputs": [
        {
          "output_type": "execute_result",
          "data": {
            "text/html": [
              "<div>\n",
              "<style scoped>\n",
              "    .dataframe tbody tr th:only-of-type {\n",
              "        vertical-align: middle;\n",
              "    }\n",
              "\n",
              "    .dataframe tbody tr th {\n",
              "        vertical-align: top;\n",
              "    }\n",
              "\n",
              "    .dataframe thead th {\n",
              "        text-align: right;\n",
              "    }\n",
              "</style>\n",
              "<table border=\"1\" class=\"dataframe\">\n",
              "  <thead>\n",
              "    <tr style=\"text-align: right;\">\n",
              "      <th></th>\n",
              "      <th>LIMIT_BAL</th>\n",
              "      <th>SEX</th>\n",
              "      <th>EDUCATION</th>\n",
              "      <th>MARRIAGE</th>\n",
              "      <th>AGE</th>\n",
              "      <th>PAY_SEPT</th>\n",
              "      <th>PAY_AUG</th>\n",
              "      <th>PAY_JUL</th>\n",
              "      <th>PAY_JUN</th>\n",
              "      <th>PAY_MAY</th>\n",
              "      <th>PAY_APR</th>\n",
              "      <th>BILL_AMT_SEPT</th>\n",
              "      <th>BILL_AMT_AUG</th>\n",
              "      <th>BILL_AMT_JUL</th>\n",
              "      <th>BILL_AMT_JUN</th>\n",
              "      <th>BILL_AMT_MAY</th>\n",
              "      <th>BILL_AMT_APR</th>\n",
              "      <th>PAY_AMT_SEPT</th>\n",
              "      <th>PAY_AMT_AUG</th>\n",
              "      <th>PAY_AMT_JUL</th>\n",
              "      <th>PAY_AMT_JUN</th>\n",
              "      <th>PAY_AMT_MAY</th>\n",
              "      <th>PAY_AMT_APR</th>\n",
              "      <th>Defaulters</th>\n",
              "      <th>multivariate_anomaly_score</th>\n",
              "      <th>multivariate_outlier</th>\n",
              "      <th>age_group</th>\n",
              "    </tr>\n",
              "  </thead>\n",
              "  <tbody>\n",
              "    <tr>\n",
              "      <th>0</th>\n",
              "      <td>20000</td>\n",
              "      <td>2</td>\n",
              "      <td>2</td>\n",
              "      <td>1</td>\n",
              "      <td>24</td>\n",
              "      <td>2</td>\n",
              "      <td>2</td>\n",
              "      <td>-1</td>\n",
              "      <td>-1</td>\n",
              "      <td>-2</td>\n",
              "      <td>-2</td>\n",
              "      <td>3913</td>\n",
              "      <td>3102</td>\n",
              "      <td>689</td>\n",
              "      <td>0</td>\n",
              "      <td>0</td>\n",
              "      <td>0</td>\n",
              "      <td>0</td>\n",
              "      <td>689</td>\n",
              "      <td>0</td>\n",
              "      <td>0</td>\n",
              "      <td>0</td>\n",
              "      <td>0</td>\n",
              "      <td>1</td>\n",
              "      <td>0.193236</td>\n",
              "      <td>1</td>\n",
              "      <td>21-30</td>\n",
              "    </tr>\n",
              "    <tr>\n",
              "      <th>1</th>\n",
              "      <td>120000</td>\n",
              "      <td>2</td>\n",
              "      <td>2</td>\n",
              "      <td>2</td>\n",
              "      <td>26</td>\n",
              "      <td>-1</td>\n",
              "      <td>2</td>\n",
              "      <td>0</td>\n",
              "      <td>0</td>\n",
              "      <td>0</td>\n",
              "      <td>2</td>\n",
              "      <td>2682</td>\n",
              "      <td>1725</td>\n",
              "      <td>2682</td>\n",
              "      <td>3272</td>\n",
              "      <td>3455</td>\n",
              "      <td>3261</td>\n",
              "      <td>0</td>\n",
              "      <td>1000</td>\n",
              "      <td>1000</td>\n",
              "      <td>1000</td>\n",
              "      <td>0</td>\n",
              "      <td>2000</td>\n",
              "      <td>1</td>\n",
              "      <td>0.214444</td>\n",
              "      <td>1</td>\n",
              "      <td>21-30</td>\n",
              "    </tr>\n",
              "    <tr>\n",
              "      <th>2</th>\n",
              "      <td>90000</td>\n",
              "      <td>2</td>\n",
              "      <td>2</td>\n",
              "      <td>2</td>\n",
              "      <td>34</td>\n",
              "      <td>0</td>\n",
              "      <td>0</td>\n",
              "      <td>0</td>\n",
              "      <td>0</td>\n",
              "      <td>0</td>\n",
              "      <td>0</td>\n",
              "      <td>29239</td>\n",
              "      <td>14027</td>\n",
              "      <td>13559</td>\n",
              "      <td>14331</td>\n",
              "      <td>14948</td>\n",
              "      <td>15549</td>\n",
              "      <td>1518</td>\n",
              "      <td>1500</td>\n",
              "      <td>1000</td>\n",
              "      <td>1000</td>\n",
              "      <td>1000</td>\n",
              "      <td>5000</td>\n",
              "      <td>0</td>\n",
              "      <td>0.272661</td>\n",
              "      <td>1</td>\n",
              "      <td>31-40</td>\n",
              "    </tr>\n",
              "    <tr>\n",
              "      <th>3</th>\n",
              "      <td>50000</td>\n",
              "      <td>2</td>\n",
              "      <td>2</td>\n",
              "      <td>1</td>\n",
              "      <td>37</td>\n",
              "      <td>0</td>\n",
              "      <td>0</td>\n",
              "      <td>0</td>\n",
              "      <td>0</td>\n",
              "      <td>0</td>\n",
              "      <td>0</td>\n",
              "      <td>46990</td>\n",
              "      <td>48233</td>\n",
              "      <td>49291</td>\n",
              "      <td>28314</td>\n",
              "      <td>28959</td>\n",
              "      <td>29547</td>\n",
              "      <td>2000</td>\n",
              "      <td>2019</td>\n",
              "      <td>1200</td>\n",
              "      <td>1100</td>\n",
              "      <td>1069</td>\n",
              "      <td>1000</td>\n",
              "      <td>0</td>\n",
              "      <td>0.265480</td>\n",
              "      <td>1</td>\n",
              "      <td>31-40</td>\n",
              "    </tr>\n",
              "    <tr>\n",
              "      <th>4</th>\n",
              "      <td>50000</td>\n",
              "      <td>1</td>\n",
              "      <td>2</td>\n",
              "      <td>1</td>\n",
              "      <td>57</td>\n",
              "      <td>-1</td>\n",
              "      <td>0</td>\n",
              "      <td>-1</td>\n",
              "      <td>0</td>\n",
              "      <td>0</td>\n",
              "      <td>0</td>\n",
              "      <td>8617</td>\n",
              "      <td>5670</td>\n",
              "      <td>35835</td>\n",
              "      <td>20940</td>\n",
              "      <td>19146</td>\n",
              "      <td>19131</td>\n",
              "      <td>2000</td>\n",
              "      <td>36681</td>\n",
              "      <td>10000</td>\n",
              "      <td>9000</td>\n",
              "      <td>689</td>\n",
              "      <td>679</td>\n",
              "      <td>0</td>\n",
              "      <td>0.175220</td>\n",
              "      <td>1</td>\n",
              "      <td>51-60</td>\n",
              "    </tr>\n",
              "  </tbody>\n",
              "</table>\n",
              "</div>"
            ],
            "text/plain": [
              "   LIMIT_BAL  SEX  ...  multivariate_outlier  age_group\n",
              "0      20000    2  ...                     1      21-30\n",
              "1     120000    2  ...                     1      21-30\n",
              "2      90000    2  ...                     1      31-40\n",
              "3      50000    2  ...                     1      31-40\n",
              "4      50000    1  ...                     1      51-60\n",
              "\n",
              "[5 rows x 27 columns]"
            ]
          },
          "metadata": {},
          "execution_count": 41
        }
      ]
    },
    {
      "cell_type": "code",
      "metadata": {
        "colab": {
          "base_uri": "https://localhost:8080/"
        },
        "id": "UziXW9RfBMgD",
        "outputId": "ff4ef79c-5066-4b7f-b173-f3af30bf6554"
      },
      "source": [
        "#cheacking the count of age_group\n",
        "df['age_group'].value_counts().sort_values(ascending=False)"
      ],
      "execution_count": 42,
      "outputs": [
        {
          "output_type": "execute_result",
          "data": {
            "text/plain": [
              "21-30         10963\n",
              "31-40         10604\n",
              "41-50          5909\n",
              "51-60          1966\n",
              "60 & above      258\n",
              "Name: age_group, dtype: int64"
            ]
          },
          "metadata": {},
          "execution_count": 42
        }
      ]
    },
    {
      "cell_type": "code",
      "metadata": {
        "colab": {
          "base_uri": "https://localhost:8080/",
          "height": 0
        },
        "id": "2nExov8lBtTL",
        "outputId": "a350af8c-0646-43ba-ef71-95bd02fe7af2"
      },
      "source": [
        "#visualizing age group\n",
        "plt.figure(figsize=(10,8),dpi=60)\n",
        "sns.countplot(x=df['age_group'].sort_values(),data=df,hue='Defaulters')"
      ],
      "execution_count": 43,
      "outputs": [
        {
          "output_type": "execute_result",
          "data": {
            "text/plain": [
              "<matplotlib.axes._subplots.AxesSubplot at 0x7f443bd24290>"
            ]
          },
          "metadata": {},
          "execution_count": 43
        },
        {
          "output_type": "display_data",
          "data": {
            "image/png": "[encoded data removed]",
            "text/plain": [
              "<Figure size 600x480 with 1 Axes>"
            ]
          },
          "metadata": {
            "needs_background": "light"
          }
        }
      ]
    },
    {
      "cell_type": "markdown",
      "metadata": {
        "id": "1AKfNZs_FVJr"
      },
      "source": [
        "### obsevation:\n",
        "- In aur dataset we can clearly see that most of the credit card holder are of age between 21 to 40 , so we can say that company's target customer are mostly youngster.\n"
      ]
    },
    {
      "cell_type": "code",
      "metadata": {
        "colab": {
          "base_uri": "https://localhost:8080/",
          "height": 0
        },
        "id": "LHk4YbDgEjEb",
        "outputId": "b3072a03-9fee-4fca-c0a7-9f1a981eda89"
      },
      "source": [
        "#checking the dedfault ratio of age_group\n",
        "df[['Defaulters','age_group']].groupby('age_group').mean().reset_index()"
      ],
      "execution_count": 44,
      "outputs": [
        {
          "output_type": "execute_result",
          "data": {
            "text/html": [
              "<div>\n",
              "<style scoped>\n",
              "    .dataframe tbody tr th:only-of-type {\n",
              "        vertical-align: middle;\n",
              "    }\n",
              "\n",
              "    .dataframe tbody tr th {\n",
              "        vertical-align: top;\n",
              "    }\n",
              "\n",
              "    .dataframe thead th {\n",
              "        text-align: right;\n",
              "    }\n",
              "</style>\n",
              "<table border=\"1\" class=\"dataframe\">\n",
              "  <thead>\n",
              "    <tr style=\"text-align: right;\">\n",
              "      <th></th>\n",
              "      <th>age_group</th>\n",
              "      <th>Defaulters</th>\n",
              "    </tr>\n",
              "  </thead>\n",
              "  <tbody>\n",
              "    <tr>\n",
              "      <th>0</th>\n",
              "      <td>21-30</td>\n",
              "      <td>0.224209</td>\n",
              "    </tr>\n",
              "    <tr>\n",
              "      <th>1</th>\n",
              "      <td>31-40</td>\n",
              "      <td>0.203697</td>\n",
              "    </tr>\n",
              "    <tr>\n",
              "      <th>2</th>\n",
              "      <td>41-50</td>\n",
              "      <td>0.230496</td>\n",
              "    </tr>\n",
              "    <tr>\n",
              "      <th>3</th>\n",
              "      <td>51-60</td>\n",
              "      <td>0.252798</td>\n",
              "    </tr>\n",
              "    <tr>\n",
              "      <th>4</th>\n",
              "      <td>60 &amp; above</td>\n",
              "      <td>0.275194</td>\n",
              "    </tr>\n",
              "  </tbody>\n",
              "</table>\n",
              "</div>"
            ],
            "text/plain": [
              "    age_group  Defaulters\n",
              "0       21-30    0.224209\n",
              "1       31-40    0.203697\n",
              "2       41-50    0.230496\n",
              "3       51-60    0.252798\n",
              "4  60 & above    0.275194"
            ]
          },
          "metadata": {},
          "execution_count": 44
        }
      ]
    },
    {
      "cell_type": "markdown",
      "metadata": {
        "id": "tvHAY0CrI2EM"
      },
      "source": [
        "### observation\n",
        "- we can clearly see that as the age incearse , chances of the default increase as higher age persons has more default ratio."
      ]
    },
    {
      "cell_type": "code",
      "metadata": {
        "id": "U3tLyrq3C9UL"
      },
      "source": [
        "# drop age column because now we have age_group in our dataset\n",
        "df=df.drop('AGE',axis=1)"
      ],
      "execution_count": 45,
      "outputs": []
    },
    {
      "cell_type": "code",
      "metadata": {
        "colab": {
          "base_uri": "https://localhost:8080/",
          "height": 0
        },
        "id": "vplQSXQPJ-9g",
        "outputId": "0d9ecb34-6ef0-4cb4-bf8f-d079832b8149"
      },
      "source": [
        "df.head()"
      ],
      "execution_count": 46,
      "outputs": [
        {
          "output_type": "execute_result",
          "data": {
            "text/html": [
              "<div>\n",
              "<style scoped>\n",
              "    .dataframe tbody tr th:only-of-type {\n",
              "        vertical-align: middle;\n",
              "    }\n",
              "\n",
              "    .dataframe tbody tr th {\n",
              "        vertical-align: top;\n",
              "    }\n",
              "\n",
              "    .dataframe thead th {\n",
              "        text-align: right;\n",
              "    }\n",
              "</style>\n",
              "<table border=\"1\" class=\"dataframe\">\n",
              "  <thead>\n",
              "    <tr style=\"text-align: right;\">\n",
              "      <th></th>\n",
              "      <th>LIMIT_BAL</th>\n",
              "      <th>SEX</th>\n",
              "      <th>EDUCATION</th>\n",
              "      <th>MARRIAGE</th>\n",
              "      <th>PAY_SEPT</th>\n",
              "      <th>PAY_AUG</th>\n",
              "      <th>PAY_JUL</th>\n",
              "      <th>PAY_JUN</th>\n",
              "      <th>PAY_MAY</th>\n",
              "      <th>PAY_APR</th>\n",
              "      <th>BILL_AMT_SEPT</th>\n",
              "      <th>BILL_AMT_AUG</th>\n",
              "      <th>BILL_AMT_JUL</th>\n",
              "      <th>BILL_AMT_JUN</th>\n",
              "      <th>BILL_AMT_MAY</th>\n",
              "      <th>BILL_AMT_APR</th>\n",
              "      <th>PAY_AMT_SEPT</th>\n",
              "      <th>PAY_AMT_AUG</th>\n",
              "      <th>PAY_AMT_JUL</th>\n",
              "      <th>PAY_AMT_JUN</th>\n",
              "      <th>PAY_AMT_MAY</th>\n",
              "      <th>PAY_AMT_APR</th>\n",
              "      <th>Defaulters</th>\n",
              "      <th>multivariate_anomaly_score</th>\n",
              "      <th>multivariate_outlier</th>\n",
              "      <th>age_group</th>\n",
              "    </tr>\n",
              "  </thead>\n",
              "  <tbody>\n",
              "    <tr>\n",
              "      <th>0</th>\n",
              "      <td>20000</td>\n",
              "      <td>2</td>\n",
              "      <td>2</td>\n",
              "      <td>1</td>\n",
              "      <td>2</td>\n",
              "      <td>2</td>\n",
              "      <td>-1</td>\n",
              "      <td>-1</td>\n",
              "      <td>-2</td>\n",
              "      <td>-2</td>\n",
              "      <td>3913</td>\n",
              "      <td>3102</td>\n",
              "      <td>689</td>\n",
              "      <td>0</td>\n",
              "      <td>0</td>\n",
              "      <td>0</td>\n",
              "      <td>0</td>\n",
              "      <td>689</td>\n",
              "      <td>0</td>\n",
              "      <td>0</td>\n",
              "      <td>0</td>\n",
              "      <td>0</td>\n",
              "      <td>1</td>\n",
              "      <td>0.193236</td>\n",
              "      <td>1</td>\n",
              "      <td>21-30</td>\n",
              "    </tr>\n",
              "    <tr>\n",
              "      <th>1</th>\n",
              "      <td>120000</td>\n",
              "      <td>2</td>\n",
              "      <td>2</td>\n",
              "      <td>2</td>\n",
              "      <td>-1</td>\n",
              "      <td>2</td>\n",
              "      <td>0</td>\n",
              "      <td>0</td>\n",
              "      <td>0</td>\n",
              "      <td>2</td>\n",
              "      <td>2682</td>\n",
              "      <td>1725</td>\n",
              "      <td>2682</td>\n",
              "      <td>3272</td>\n",
              "      <td>3455</td>\n",
              "      <td>3261</td>\n",
              "      <td>0</td>\n",
              "      <td>1000</td>\n",
              "      <td>1000</td>\n",
              "      <td>1000</td>\n",
              "      <td>0</td>\n",
              "      <td>2000</td>\n",
              "      <td>1</td>\n",
              "      <td>0.214444</td>\n",
              "      <td>1</td>\n",
              "      <td>21-30</td>\n",
              "    </tr>\n",
              "    <tr>\n",
              "      <th>2</th>\n",
              "      <td>90000</td>\n",
              "      <td>2</td>\n",
              "      <td>2</td>\n",
              "      <td>2</td>\n",
              "      <td>0</td>\n",
              "      <td>0</td>\n",
              "      <td>0</td>\n",
              "      <td>0</td>\n",
              "      <td>0</td>\n",
              "      <td>0</td>\n",
              "      <td>29239</td>\n",
              "      <td>14027</td>\n",
              "      <td>13559</td>\n",
              "      <td>14331</td>\n",
              "      <td>14948</td>\n",
              "      <td>15549</td>\n",
              "      <td>1518</td>\n",
              "      <td>1500</td>\n",
              "      <td>1000</td>\n",
              "      <td>1000</td>\n",
              "      <td>1000</td>\n",
              "      <td>5000</td>\n",
              "      <td>0</td>\n",
              "      <td>0.272661</td>\n",
              "      <td>1</td>\n",
              "      <td>31-40</td>\n",
              "    </tr>\n",
              "    <tr>\n",
              "      <th>3</th>\n",
              "      <td>50000</td>\n",
              "      <td>2</td>\n",
              "      <td>2</td>\n",
              "      <td>1</td>\n",
              "      <td>0</td>\n",
              "      <td>0</td>\n",
              "      <td>0</td>\n",
              "      <td>0</td>\n",
              "      <td>0</td>\n",
              "      <td>0</td>\n",
              "      <td>46990</td>\n",
              "      <td>48233</td>\n",
              "      <td>49291</td>\n",
              "      <td>28314</td>\n",
              "      <td>28959</td>\n",
              "      <td>29547</td>\n",
              "      <td>2000</td>\n",
              "      <td>2019</td>\n",
              "      <td>1200</td>\n",
              "      <td>1100</td>\n",
              "      <td>1069</td>\n",
              "      <td>1000</td>\n",
              "      <td>0</td>\n",
              "      <td>0.265480</td>\n",
              "      <td>1</td>\n",
              "      <td>31-40</td>\n",
              "    </tr>\n",
              "    <tr>\n",
              "      <th>4</th>\n",
              "      <td>50000</td>\n",
              "      <td>1</td>\n",
              "      <td>2</td>\n",
              "      <td>1</td>\n",
              "      <td>-1</td>\n",
              "      <td>0</td>\n",
              "      <td>-1</td>\n",
              "      <td>0</td>\n",
              "      <td>0</td>\n",
              "      <td>0</td>\n",
              "      <td>8617</td>\n",
              "      <td>5670</td>\n",
              "      <td>35835</td>\n",
              "      <td>20940</td>\n",
              "      <td>19146</td>\n",
              "      <td>19131</td>\n",
              "      <td>2000</td>\n",
              "      <td>36681</td>\n",
              "      <td>10000</td>\n",
              "      <td>9000</td>\n",
              "      <td>689</td>\n",
              "      <td>679</td>\n",
              "      <td>0</td>\n",
              "      <td>0.175220</td>\n",
              "      <td>1</td>\n",
              "      <td>51-60</td>\n",
              "    </tr>\n",
              "  </tbody>\n",
              "</table>\n",
              "</div>"
            ],
            "text/plain": [
              "   LIMIT_BAL  SEX  ...  multivariate_outlier  age_group\n",
              "0      20000    2  ...                     1      21-30\n",
              "1     120000    2  ...                     1      21-30\n",
              "2      90000    2  ...                     1      31-40\n",
              "3      50000    2  ...                     1      31-40\n",
              "4      50000    1  ...                     1      51-60\n",
              "\n",
              "[5 rows x 26 columns]"
            ]
          },
          "metadata": {},
          "execution_count": 46
        }
      ]
    },
    {
      "cell_type": "code",
      "metadata": {
        "colab": {
          "base_uri": "https://localhost:8080/",
          "height": 0
        },
        "id": "9sxlZV7xoguV",
        "outputId": "481d302c-7ffb-4c7c-94da-4ac6ee479939"
      },
      "source": [
        "# Payment delay description\n",
        "df[['PAY_SEPT','PAY_AUG','PAY_JUL','PAY_JUN','PAY_MAY','PAY_APR']].describe()"
      ],
      "execution_count": 47,
      "outputs": [
        {
          "output_type": "execute_result",
          "data": {
            "text/html": [
              "<div>\n",
              "<style scoped>\n",
              "    .dataframe tbody tr th:only-of-type {\n",
              "        vertical-align: middle;\n",
              "    }\n",
              "\n",
              "    .dataframe tbody tr th {\n",
              "        vertical-align: top;\n",
              "    }\n",
              "\n",
              "    .dataframe thead th {\n",
              "        text-align: right;\n",
              "    }\n",
              "</style>\n",
              "<table border=\"1\" class=\"dataframe\">\n",
              "  <thead>\n",
              "    <tr style=\"text-align: right;\">\n",
              "      <th></th>\n",
              "      <th>PAY_SEPT</th>\n",
              "      <th>PAY_AUG</th>\n",
              "      <th>PAY_JUL</th>\n",
              "      <th>PAY_JUN</th>\n",
              "      <th>PAY_MAY</th>\n",
              "      <th>PAY_APR</th>\n",
              "    </tr>\n",
              "  </thead>\n",
              "  <tbody>\n",
              "    <tr>\n",
              "      <th>count</th>\n",
              "      <td>29700.000000</td>\n",
              "      <td>29700.000000</td>\n",
              "      <td>29700.000000</td>\n",
              "      <td>29700.000000</td>\n",
              "      <td>29700.000000</td>\n",
              "      <td>29700.000000</td>\n",
              "    </tr>\n",
              "    <tr>\n",
              "      <th>mean</th>\n",
              "      <td>-0.023030</td>\n",
              "      <td>-0.140337</td>\n",
              "      <td>-0.172290</td>\n",
              "      <td>-0.226162</td>\n",
              "      <td>-0.271414</td>\n",
              "      <td>-0.296397</td>\n",
              "    </tr>\n",
              "    <tr>\n",
              "      <th>std</th>\n",
              "      <td>1.113999</td>\n",
              "      <td>1.189467</td>\n",
              "      <td>1.192355</td>\n",
              "      <td>1.166583</td>\n",
              "      <td>1.132032</td>\n",
              "      <td>1.149251</td>\n",
              "    </tr>\n",
              "    <tr>\n",
              "      <th>min</th>\n",
              "      <td>-2.000000</td>\n",
              "      <td>-2.000000</td>\n",
              "      <td>-2.000000</td>\n",
              "      <td>-2.000000</td>\n",
              "      <td>-2.000000</td>\n",
              "      <td>-2.000000</td>\n",
              "    </tr>\n",
              "    <tr>\n",
              "      <th>25%</th>\n",
              "      <td>-1.000000</td>\n",
              "      <td>-1.000000</td>\n",
              "      <td>-1.000000</td>\n",
              "      <td>-1.000000</td>\n",
              "      <td>-1.000000</td>\n",
              "      <td>-1.000000</td>\n",
              "    </tr>\n",
              "    <tr>\n",
              "      <th>50%</th>\n",
              "      <td>0.000000</td>\n",
              "      <td>0.000000</td>\n",
              "      <td>0.000000</td>\n",
              "      <td>0.000000</td>\n",
              "      <td>0.000000</td>\n",
              "      <td>0.000000</td>\n",
              "    </tr>\n",
              "    <tr>\n",
              "      <th>75%</th>\n",
              "      <td>0.000000</td>\n",
              "      <td>0.000000</td>\n",
              "      <td>0.000000</td>\n",
              "      <td>0.000000</td>\n",
              "      <td>0.000000</td>\n",
              "      <td>0.000000</td>\n",
              "    </tr>\n",
              "    <tr>\n",
              "      <th>max</th>\n",
              "      <td>8.000000</td>\n",
              "      <td>8.000000</td>\n",
              "      <td>8.000000</td>\n",
              "      <td>8.000000</td>\n",
              "      <td>8.000000</td>\n",
              "      <td>8.000000</td>\n",
              "    </tr>\n",
              "  </tbody>\n",
              "</table>\n",
              "</div>"
            ],
            "text/plain": [
              "           PAY_SEPT       PAY_AUG  ...       PAY_MAY       PAY_APR\n",
              "count  29700.000000  29700.000000  ...  29700.000000  29700.000000\n",
              "mean      -0.023030     -0.140337  ...     -0.271414     -0.296397\n",
              "std        1.113999      1.189467  ...      1.132032      1.149251\n",
              "min       -2.000000     -2.000000  ...     -2.000000     -2.000000\n",
              "25%       -1.000000     -1.000000  ...     -1.000000     -1.000000\n",
              "50%        0.000000      0.000000  ...      0.000000      0.000000\n",
              "75%        0.000000      0.000000  ...      0.000000      0.000000\n",
              "max        8.000000      8.000000  ...      8.000000      8.000000\n",
              "\n",
              "[8 rows x 6 columns]"
            ]
          },
          "metadata": {},
          "execution_count": 47
        }
      ]
    },
    {
      "cell_type": "code",
      "metadata": {
        "id": "Qdx0rUh1KAmh",
        "colab": {
          "base_uri": "https://localhost:8080/",
          "height": 0
        },
        "outputId": "655b78cf-8fc4-4298-d493-78dd1dcde620"
      },
      "source": [
        "#Previous Payment Description\n",
        "df[['PAY_AMT_SEPT','PAY_AMT_AUG','PAY_AMT_JUL','PAY_AMT_JUN','PAY_AMT_MAY','PAY_AMT_APR']].describe()"
      ],
      "execution_count": 48,
      "outputs": [
        {
          "output_type": "execute_result",
          "data": {
            "text/html": [
              "<div>\n",
              "<style scoped>\n",
              "    .dataframe tbody tr th:only-of-type {\n",
              "        vertical-align: middle;\n",
              "    }\n",
              "\n",
              "    .dataframe tbody tr th {\n",
              "        vertical-align: top;\n",
              "    }\n",
              "\n",
              "    .dataframe thead th {\n",
              "        text-align: right;\n",
              "    }\n",
              "</style>\n",
              "<table border=\"1\" class=\"dataframe\">\n",
              "  <thead>\n",
              "    <tr style=\"text-align: right;\">\n",
              "      <th></th>\n",
              "      <th>PAY_AMT_SEPT</th>\n",
              "      <th>PAY_AMT_AUG</th>\n",
              "      <th>PAY_AMT_JUL</th>\n",
              "      <th>PAY_AMT_JUN</th>\n",
              "      <th>PAY_AMT_MAY</th>\n",
              "      <th>PAY_AMT_APR</th>\n",
              "    </tr>\n",
              "  </thead>\n",
              "  <tbody>\n",
              "    <tr>\n",
              "      <th>count</th>\n",
              "      <td>29700.000000</td>\n",
              "      <td>2.970000e+04</td>\n",
              "      <td>29700.000000</td>\n",
              "      <td>29700.000000</td>\n",
              "      <td>29700.000000</td>\n",
              "      <td>29700.000000</td>\n",
              "    </tr>\n",
              "    <tr>\n",
              "      <th>mean</th>\n",
              "      <td>5359.661818</td>\n",
              "      <td>5.408550e+03</td>\n",
              "      <td>4903.847407</td>\n",
              "      <td>4598.541246</td>\n",
              "      <td>4553.933872</td>\n",
              "      <td>4823.623670</td>\n",
              "    </tr>\n",
              "    <tr>\n",
              "      <th>std</th>\n",
              "      <td>14282.084238</td>\n",
              "      <td>1.620293e+04</td>\n",
              "      <td>14757.256529</td>\n",
              "      <td>14558.191350</td>\n",
              "      <td>14114.856319</td>\n",
              "      <td>15656.614427</td>\n",
              "    </tr>\n",
              "    <tr>\n",
              "      <th>min</th>\n",
              "      <td>0.000000</td>\n",
              "      <td>0.000000e+00</td>\n",
              "      <td>0.000000</td>\n",
              "      <td>0.000000</td>\n",
              "      <td>0.000000</td>\n",
              "      <td>0.000000</td>\n",
              "    </tr>\n",
              "    <tr>\n",
              "      <th>25%</th>\n",
              "      <td>990.000000</td>\n",
              "      <td>8.150000e+02</td>\n",
              "      <td>390.000000</td>\n",
              "      <td>283.750000</td>\n",
              "      <td>237.750000</td>\n",
              "      <td>100.000000</td>\n",
              "    </tr>\n",
              "    <tr>\n",
              "      <th>50%</th>\n",
              "      <td>2100.000000</td>\n",
              "      <td>2.000000e+03</td>\n",
              "      <td>1791.000000</td>\n",
              "      <td>1500.000000</td>\n",
              "      <td>1500.000000</td>\n",
              "      <td>1500.000000</td>\n",
              "    </tr>\n",
              "    <tr>\n",
              "      <th>75%</th>\n",
              "      <td>5000.000000</td>\n",
              "      <td>5.000000e+03</td>\n",
              "      <td>4360.000000</td>\n",
              "      <td>4000.000000</td>\n",
              "      <td>4000.000000</td>\n",
              "      <td>4000.000000</td>\n",
              "    </tr>\n",
              "    <tr>\n",
              "      <th>max</th>\n",
              "      <td>505000.000000</td>\n",
              "      <td>1.024516e+06</td>\n",
              "      <td>417588.000000</td>\n",
              "      <td>528897.000000</td>\n",
              "      <td>426529.000000</td>\n",
              "      <td>528666.000000</td>\n",
              "    </tr>\n",
              "  </tbody>\n",
              "</table>\n",
              "</div>"
            ],
            "text/plain": [
              "        PAY_AMT_SEPT   PAY_AMT_AUG  ...    PAY_AMT_MAY    PAY_AMT_APR\n",
              "count   29700.000000  2.970000e+04  ...   29700.000000   29700.000000\n",
              "mean     5359.661818  5.408550e+03  ...    4553.933872    4823.623670\n",
              "std     14282.084238  1.620293e+04  ...   14114.856319   15656.614427\n",
              "min         0.000000  0.000000e+00  ...       0.000000       0.000000\n",
              "25%       990.000000  8.150000e+02  ...     237.750000     100.000000\n",
              "50%      2100.000000  2.000000e+03  ...    1500.000000    1500.000000\n",
              "75%      5000.000000  5.000000e+03  ...    4000.000000    4000.000000\n",
              "max    505000.000000  1.024516e+06  ...  426529.000000  528666.000000\n",
              "\n",
              "[8 rows x 6 columns]"
            ]
          },
          "metadata": {},
          "execution_count": 48
        }
      ]
    },
    {
      "cell_type": "code",
      "metadata": {
        "colab": {
          "base_uri": "https://localhost:8080/",
          "height": 0
        },
        "id": "KulPQ6k7sHpm",
        "outputId": "561deb68-ef11-4e2f-8593-b197172fa476"
      },
      "source": [
        "# Bill Statement description\n",
        "df[['BILL_AMT_SEPT','BILL_AMT_AUG','BILL_AMT_JUL','BILL_AMT_JUN','BILL_AMT_MAY','BILL_AMT_APR']].describe()"
      ],
      "execution_count": 49,
      "outputs": [
        {
          "output_type": "execute_result",
          "data": {
            "text/html": [
              "<div>\n",
              "<style scoped>\n",
              "    .dataframe tbody tr th:only-of-type {\n",
              "        vertical-align: middle;\n",
              "    }\n",
              "\n",
              "    .dataframe tbody tr th {\n",
              "        vertical-align: top;\n",
              "    }\n",
              "\n",
              "    .dataframe thead th {\n",
              "        text-align: right;\n",
              "    }\n",
              "</style>\n",
              "<table border=\"1\" class=\"dataframe\">\n",
              "  <thead>\n",
              "    <tr style=\"text-align: right;\">\n",
              "      <th></th>\n",
              "      <th>BILL_AMT_SEPT</th>\n",
              "      <th>BILL_AMT_AUG</th>\n",
              "      <th>BILL_AMT_JUL</th>\n",
              "      <th>BILL_AMT_JUN</th>\n",
              "      <th>BILL_AMT_MAY</th>\n",
              "      <th>BILL_AMT_APR</th>\n",
              "    </tr>\n",
              "  </thead>\n",
              "  <tbody>\n",
              "    <tr>\n",
              "      <th>count</th>\n",
              "      <td>29700.000000</td>\n",
              "      <td>29700.000000</td>\n",
              "      <td>29700.000000</td>\n",
              "      <td>29700.000000</td>\n",
              "      <td>29700.000000</td>\n",
              "      <td>29700.000000</td>\n",
              "    </tr>\n",
              "    <tr>\n",
              "      <th>mean</th>\n",
              "      <td>48175.440943</td>\n",
              "      <td>46158.394949</td>\n",
              "      <td>43866.258485</td>\n",
              "      <td>40254.475791</td>\n",
              "      <td>37495.571347</td>\n",
              "      <td>36253.206431</td>\n",
              "    </tr>\n",
              "    <tr>\n",
              "      <th>std</th>\n",
              "      <td>65622.377293</td>\n",
              "      <td>62924.272430</td>\n",
              "      <td>60393.851965</td>\n",
              "      <td>55940.313243</td>\n",
              "      <td>52710.101639</td>\n",
              "      <td>52060.625452</td>\n",
              "    </tr>\n",
              "    <tr>\n",
              "      <th>min</th>\n",
              "      <td>-165580.000000</td>\n",
              "      <td>-69777.000000</td>\n",
              "      <td>-157264.000000</td>\n",
              "      <td>-170000.000000</td>\n",
              "      <td>-81334.000000</td>\n",
              "      <td>-339603.000000</td>\n",
              "    </tr>\n",
              "    <tr>\n",
              "      <th>25%</th>\n",
              "      <td>3458.750000</td>\n",
              "      <td>2899.000000</td>\n",
              "      <td>2551.000000</td>\n",
              "      <td>2250.000000</td>\n",
              "      <td>1699.750000</td>\n",
              "      <td>1200.000000</td>\n",
              "    </tr>\n",
              "    <tr>\n",
              "      <th>50%</th>\n",
              "      <td>21708.500000</td>\n",
              "      <td>20650.000000</td>\n",
              "      <td>19779.500000</td>\n",
              "      <td>18783.000000</td>\n",
              "      <td>17860.000000</td>\n",
              "      <td>16699.000000</td>\n",
              "    </tr>\n",
              "    <tr>\n",
              "      <th>75%</th>\n",
              "      <td>64829.000000</td>\n",
              "      <td>61729.750000</td>\n",
              "      <td>58425.500000</td>\n",
              "      <td>52032.000000</td>\n",
              "      <td>49123.750000</td>\n",
              "      <td>48276.500000</td>\n",
              "    </tr>\n",
              "    <tr>\n",
              "      <th>max</th>\n",
              "      <td>746814.000000</td>\n",
              "      <td>512650.000000</td>\n",
              "      <td>855086.000000</td>\n",
              "      <td>628699.000000</td>\n",
              "      <td>514114.000000</td>\n",
              "      <td>499100.000000</td>\n",
              "    </tr>\n",
              "  </tbody>\n",
              "</table>\n",
              "</div>"
            ],
            "text/plain": [
              "       BILL_AMT_SEPT   BILL_AMT_AUG  ...   BILL_AMT_MAY   BILL_AMT_APR\n",
              "count   29700.000000   29700.000000  ...   29700.000000   29700.000000\n",
              "mean    48175.440943   46158.394949  ...   37495.571347   36253.206431\n",
              "std     65622.377293   62924.272430  ...   52710.101639   52060.625452\n",
              "min   -165580.000000  -69777.000000  ...  -81334.000000 -339603.000000\n",
              "25%      3458.750000    2899.000000  ...    1699.750000    1200.000000\n",
              "50%     21708.500000   20650.000000  ...   17860.000000   16699.000000\n",
              "75%     64829.000000   61729.750000  ...   49123.750000   48276.500000\n",
              "max    746814.000000  512650.000000  ...  514114.000000  499100.000000\n",
              "\n",
              "[8 rows x 6 columns]"
            ]
          },
          "metadata": {},
          "execution_count": 49
        }
      ]
    },
    {
      "cell_type": "code",
      "metadata": {
        "colab": {
          "base_uri": "https://localhost:8080/",
          "height": 0
        },
        "id": "s_tYwlml33Uk",
        "outputId": "b9deadc6-2f50-4b70-91e7-3e8d58dc74af"
      },
      "source": [
        "plt.figure(figsize=(10,10))\n",
        "sns.boxplot(x=\"Defaulters\", y=\"LIMIT_BAL\", data=df)"
      ],
      "execution_count": 50,
      "outputs": [
        {
          "output_type": "execute_result",
          "data": {
            "text/plain": [
              "<matplotlib.axes._subplots.AxesSubplot at 0x7f443bc43090>"
            ]
          },
          "metadata": {},
          "execution_count": 50
        },
        {
          "output_type": "display_data",
          "data": {
            "image/png": "[encoded data removed]",
            "text/plain": [
              "<Figure size 720x720 with 1 Axes>"
            ]
          },
          "metadata": {
            "needs_background": "light"
          }
        }
      ]
    },
    {
      "cell_type": "code",
      "metadata": {
        "colab": {
          "base_uri": "https://localhost:8080/",
          "height": 0
        },
        "id": "Odfg6WRY6M4D",
        "outputId": "69591316-371d-4eb0-a5d7-0a3888074b95"
      },
      "source": [
        "pay_col = ['PAY_SEPT','PAY_AUG','PAY_JUL','PAY_JUN','PAY_MAY','PAY_APR']\n",
        "for col in pay_col:\n",
        "  plt.figure(figsize=(10,5))\n",
        "  sns.countplot(x = col, hue = 'Defaulters', data = df)"
      ],
      "execution_count": 51,
      "outputs": [
        {
          "output_type": "display_data",
          "data": {
            "image/png": "[encoded data removed]",
            "text/plain": [
              "<Figure size 720x360 with 1 Axes>"
            ]
          },
          "metadata": {
            "needs_background": "light"
          }
        },
        {
          "output_type": "display_data",
          "data": {
            "image/png": "[encoded data removed]",
            "text/plain": [
              "<Figure size 720x360 with 1 Axes>"
            ]
          },
          "metadata": {
            "needs_background": "light"
          }
        },
        {
          "output_type": "display_data",
          "data": {
            "image/png": "[encoded data removed]",
            "text/plain": [
              "<Figure size 720x360 with 1 Axes>"
            ]
          },
          "metadata": {
            "needs_background": "light"
          }
        },
        {
          "output_type": "display_data",
          "data": {
            "image/png": "[encoded data removed]",
            "text/plain": [
              "<Figure size 720x360 with 1 Axes>"
            ]
          },
          "metadata": {
            "needs_background": "light"
          }
        },
        {
          "output_type": "display_data",
          "data": {
            "image/png": "[encoded data removed]",
            "text/plain": [
              "<Figure size 720x360 with 1 Axes>"
            ]
          },
          "metadata": {
            "needs_background": "light"
          }
        },
        {
          "output_type": "display_data",
          "data": {
            "image/png": "[encoded data removed]",
            "text/plain": [
              "<Figure size 720x360 with 1 Axes>"
            ]
          },
          "metadata": {
            "needs_background": "light"
          }
        }
      ]
    },
    {
      "cell_type": "markdown",
      "metadata": {
        "id": "nSn2bpw57OIT"
      },
      "source": [
        "# "
      ]
    },
    {
      "cell_type": "code",
      "metadata": {
        "colab": {
          "base_uri": "https://localhost:8080/"
        },
        "id": "tAYJhSZf64yu",
        "outputId": "d4b1f248-182b-4b77-fb9a-80d97dcb363b"
      },
      "source": [
        "# checking info of our data\n",
        "df.info()"
      ],
      "execution_count": 52,
      "outputs": [
        {
          "output_type": "stream",
          "name": "stdout",
          "text": [
            "<class 'pandas.core.frame.DataFrame'>\n",
            "Int64Index: 29700 entries, 0 to 29999\n",
            "Data columns (total 26 columns):\n",
            " #   Column                      Non-Null Count  Dtype  \n",
            "---  ------                      --------------  -----  \n",
            " 0   LIMIT_BAL                   29700 non-null  int64  \n",
            " 1   SEX                         29700 non-null  int64  \n",
            " 2   EDUCATION                   29700 non-null  int64  \n",
            " 3   MARRIAGE                    29700 non-null  int64  \n",
            " 4   PAY_SEPT                    29700 non-null  int64  \n",
            " 5   PAY_AUG                     29700 non-null  int64  \n",
            " 6   PAY_JUL                     29700 non-null  int64  \n",
            " 7   PAY_JUN                     29700 non-null  int64  \n",
            " 8   PAY_MAY                     29700 non-null  int64  \n",
            " 9   PAY_APR                     29700 non-null  int64  \n",
            " 10  BILL_AMT_SEPT               29700 non-null  int64  \n",
            " 11  BILL_AMT_AUG                29700 non-null  int64  \n",
            " 12  BILL_AMT_JUL                29700 non-null  int64  \n",
            " 13  BILL_AMT_JUN                29700 non-null  int64  \n",
            " 14  BILL_AMT_MAY                29700 non-null  int64  \n",
            " 15  BILL_AMT_APR                29700 non-null  int64  \n",
            " 16  PAY_AMT_SEPT                29700 non-null  int64  \n",
            " 17  PAY_AMT_AUG                 29700 non-null  int64  \n",
            " 18  PAY_AMT_JUL                 29700 non-null  int64  \n",
            " 19  PAY_AMT_JUN                 29700 non-null  int64  \n",
            " 20  PAY_AMT_MAY                 29700 non-null  int64  \n",
            " 21  PAY_AMT_APR                 29700 non-null  int64  \n",
            " 22  Defaulters                  29700 non-null  int64  \n",
            " 23  multivariate_anomaly_score  29700 non-null  float64\n",
            " 24  multivariate_outlier        29700 non-null  int64  \n",
            " 25  age_group                   29700 non-null  object \n",
            "dtypes: float64(1), int64(24), object(1)\n",
            "memory usage: 7.4+ MB\n"
          ]
        }
      ]
    },
    {
      "cell_type": "markdown",
      "metadata": {
        "id": "oUGS6LM57kyW"
      },
      "source": [
        "## Using SMOTE(Synthetic Minority Oversampling Technique) to remediate Imbalance in dependent column"
      ]
    },
    {
      "cell_type": "code",
      "metadata": {
        "id": "LDezGR-77kBN"
      },
      "source": [
        "#spliting independent Variable\n",
        "X=df.drop(['Defaulters','multivariate_anomaly_score','multivariate_outlier'],axis=1)"
      ],
      "execution_count": 53,
      "outputs": []
    },
    {
      "cell_type": "code",
      "metadata": {
        "colab": {
          "base_uri": "https://localhost:8080/",
          "height": 224
        },
        "id": "MjeI7Kgk7Uxz",
        "outputId": "f029fd01-b29d-4ba2-c11d-92af3bffb84c"
      },
      "source": [
        "#looking into independent variable\n",
        "X.head()"
      ],
      "execution_count": 54,
      "outputs": [
        {
          "output_type": "execute_result",
          "data": {
            "text/html": [
              "<div>\n",
              "<style scoped>\n",
              "    .dataframe tbody tr th:only-of-type {\n",
              "        vertical-align: middle;\n",
              "    }\n",
              "\n",
              "    .dataframe tbody tr th {\n",
              "        vertical-align: top;\n",
              "    }\n",
              "\n",
              "    .dataframe thead th {\n",
              "        text-align: right;\n",
              "    }\n",
              "</style>\n",
              "<table border=\"1\" class=\"dataframe\">\n",
              "  <thead>\n",
              "    <tr style=\"text-align: right;\">\n",
              "      <th></th>\n",
              "      <th>LIMIT_BAL</th>\n",
              "      <th>SEX</th>\n",
              "      <th>EDUCATION</th>\n",
              "      <th>MARRIAGE</th>\n",
              "      <th>PAY_SEPT</th>\n",
              "      <th>PAY_AUG</th>\n",
              "      <th>PAY_JUL</th>\n",
              "      <th>PAY_JUN</th>\n",
              "      <th>PAY_MAY</th>\n",
              "      <th>PAY_APR</th>\n",
              "      <th>BILL_AMT_SEPT</th>\n",
              "      <th>BILL_AMT_AUG</th>\n",
              "      <th>BILL_AMT_JUL</th>\n",
              "      <th>BILL_AMT_JUN</th>\n",
              "      <th>BILL_AMT_MAY</th>\n",
              "      <th>BILL_AMT_APR</th>\n",
              "      <th>PAY_AMT_SEPT</th>\n",
              "      <th>PAY_AMT_AUG</th>\n",
              "      <th>PAY_AMT_JUL</th>\n",
              "      <th>PAY_AMT_JUN</th>\n",
              "      <th>PAY_AMT_MAY</th>\n",
              "      <th>PAY_AMT_APR</th>\n",
              "      <th>age_group</th>\n",
              "    </tr>\n",
              "  </thead>\n",
              "  <tbody>\n",
              "    <tr>\n",
              "      <th>0</th>\n",
              "      <td>20000</td>\n",
              "      <td>2</td>\n",
              "      <td>2</td>\n",
              "      <td>1</td>\n",
              "      <td>2</td>\n",
              "      <td>2</td>\n",
              "      <td>-1</td>\n",
              "      <td>-1</td>\n",
              "      <td>-2</td>\n",
              "      <td>-2</td>\n",
              "      <td>3913</td>\n",
              "      <td>3102</td>\n",
              "      <td>689</td>\n",
              "      <td>0</td>\n",
              "      <td>0</td>\n",
              "      <td>0</td>\n",
              "      <td>0</td>\n",
              "      <td>689</td>\n",
              "      <td>0</td>\n",
              "      <td>0</td>\n",
              "      <td>0</td>\n",
              "      <td>0</td>\n",
              "      <td>21-30</td>\n",
              "    </tr>\n",
              "    <tr>\n",
              "      <th>1</th>\n",
              "      <td>120000</td>\n",
              "      <td>2</td>\n",
              "      <td>2</td>\n",
              "      <td>2</td>\n",
              "      <td>-1</td>\n",
              "      <td>2</td>\n",
              "      <td>0</td>\n",
              "      <td>0</td>\n",
              "      <td>0</td>\n",
              "      <td>2</td>\n",
              "      <td>2682</td>\n",
              "      <td>1725</td>\n",
              "      <td>2682</td>\n",
              "      <td>3272</td>\n",
              "      <td>3455</td>\n",
              "      <td>3261</td>\n",
              "      <td>0</td>\n",
              "      <td>1000</td>\n",
              "      <td>1000</td>\n",
              "      <td>1000</td>\n",
              "      <td>0</td>\n",
              "      <td>2000</td>\n",
              "      <td>21-30</td>\n",
              "    </tr>\n",
              "    <tr>\n",
              "      <th>2</th>\n",
              "      <td>90000</td>\n",
              "      <td>2</td>\n",
              "      <td>2</td>\n",
              "      <td>2</td>\n",
              "      <td>0</td>\n",
              "      <td>0</td>\n",
              "      <td>0</td>\n",
              "      <td>0</td>\n",
              "      <td>0</td>\n",
              "      <td>0</td>\n",
              "      <td>29239</td>\n",
              "      <td>14027</td>\n",
              "      <td>13559</td>\n",
              "      <td>14331</td>\n",
              "      <td>14948</td>\n",
              "      <td>15549</td>\n",
              "      <td>1518</td>\n",
              "      <td>1500</td>\n",
              "      <td>1000</td>\n",
              "      <td>1000</td>\n",
              "      <td>1000</td>\n",
              "      <td>5000</td>\n",
              "      <td>31-40</td>\n",
              "    </tr>\n",
              "    <tr>\n",
              "      <th>3</th>\n",
              "      <td>50000</td>\n",
              "      <td>2</td>\n",
              "      <td>2</td>\n",
              "      <td>1</td>\n",
              "      <td>0</td>\n",
              "      <td>0</td>\n",
              "      <td>0</td>\n",
              "      <td>0</td>\n",
              "      <td>0</td>\n",
              "      <td>0</td>\n",
              "      <td>46990</td>\n",
              "      <td>48233</td>\n",
              "      <td>49291</td>\n",
              "      <td>28314</td>\n",
              "      <td>28959</td>\n",
              "      <td>29547</td>\n",
              "      <td>2000</td>\n",
              "      <td>2019</td>\n",
              "      <td>1200</td>\n",
              "      <td>1100</td>\n",
              "      <td>1069</td>\n",
              "      <td>1000</td>\n",
              "      <td>31-40</td>\n",
              "    </tr>\n",
              "    <tr>\n",
              "      <th>4</th>\n",
              "      <td>50000</td>\n",
              "      <td>1</td>\n",
              "      <td>2</td>\n",
              "      <td>1</td>\n",
              "      <td>-1</td>\n",
              "      <td>0</td>\n",
              "      <td>-1</td>\n",
              "      <td>0</td>\n",
              "      <td>0</td>\n",
              "      <td>0</td>\n",
              "      <td>8617</td>\n",
              "      <td>5670</td>\n",
              "      <td>35835</td>\n",
              "      <td>20940</td>\n",
              "      <td>19146</td>\n",
              "      <td>19131</td>\n",
              "      <td>2000</td>\n",
              "      <td>36681</td>\n",
              "      <td>10000</td>\n",
              "      <td>9000</td>\n",
              "      <td>689</td>\n",
              "      <td>679</td>\n",
              "      <td>51-60</td>\n",
              "    </tr>\n",
              "  </tbody>\n",
              "</table>\n",
              "</div>"
            ],
            "text/plain": [
              "   LIMIT_BAL  SEX  EDUCATION  ...  PAY_AMT_MAY  PAY_AMT_APR  age_group\n",
              "0      20000    2          2  ...            0            0      21-30\n",
              "1     120000    2          2  ...            0         2000      21-30\n",
              "2      90000    2          2  ...         1000         5000      31-40\n",
              "3      50000    2          2  ...         1069         1000      31-40\n",
              "4      50000    1          2  ...          689          679      51-60\n",
              "\n",
              "[5 rows x 23 columns]"
            ]
          },
          "metadata": {},
          "execution_count": 54
        }
      ]
    },
    {
      "cell_type": "code",
      "metadata": {
        "id": "YolOCmo2shxq"
      },
      "source": [
        "#maping numerical value to categorical for easy understanding\n",
        "X['SEX']=X['SEX'].map({1:'Male',2:'Female'})\n",
        "X['EDUCATION']=X['EDUCATION'].map({1 : 'graduate school', 2 : 'university', 3 : 'high school', 4 : 'other',5:'other',6:'other',0:'other'})\n",
        "X['MARRIAGE']=X['MARRIAGE'].map({1 : 'married', 2 : 'single', 3 : 'others',0 : 'others'})"
      ],
      "execution_count": 55,
      "outputs": []
    },
    {
      "cell_type": "code",
      "metadata": {
        "colab": {
          "base_uri": "https://localhost:8080/",
          "height": 224
        },
        "id": "dJCj3ll3sy6d",
        "outputId": "a2d95dcf-72ef-4701-e6e7-2f061f51dd8b"
      },
      "source": [
        "X.head()"
      ],
      "execution_count": 56,
      "outputs": [
        {
          "output_type": "execute_result",
          "data": {
            "text/html": [
              "<div>\n",
              "<style scoped>\n",
              "    .dataframe tbody tr th:only-of-type {\n",
              "        vertical-align: middle;\n",
              "    }\n",
              "\n",
              "    .dataframe tbody tr th {\n",
              "        vertical-align: top;\n",
              "    }\n",
              "\n",
              "    .dataframe thead th {\n",
              "        text-align: right;\n",
              "    }\n",
              "</style>\n",
              "<table border=\"1\" class=\"dataframe\">\n",
              "  <thead>\n",
              "    <tr style=\"text-align: right;\">\n",
              "      <th></th>\n",
              "      <th>LIMIT_BAL</th>\n",
              "      <th>SEX</th>\n",
              "      <th>EDUCATION</th>\n",
              "      <th>MARRIAGE</th>\n",
              "      <th>PAY_SEPT</th>\n",
              "      <th>PAY_AUG</th>\n",
              "      <th>PAY_JUL</th>\n",
              "      <th>PAY_JUN</th>\n",
              "      <th>PAY_MAY</th>\n",
              "      <th>PAY_APR</th>\n",
              "      <th>BILL_AMT_SEPT</th>\n",
              "      <th>BILL_AMT_AUG</th>\n",
              "      <th>BILL_AMT_JUL</th>\n",
              "      <th>BILL_AMT_JUN</th>\n",
              "      <th>BILL_AMT_MAY</th>\n",
              "      <th>BILL_AMT_APR</th>\n",
              "      <th>PAY_AMT_SEPT</th>\n",
              "      <th>PAY_AMT_AUG</th>\n",
              "      <th>PAY_AMT_JUL</th>\n",
              "      <th>PAY_AMT_JUN</th>\n",
              "      <th>PAY_AMT_MAY</th>\n",
              "      <th>PAY_AMT_APR</th>\n",
              "      <th>age_group</th>\n",
              "    </tr>\n",
              "  </thead>\n",
              "  <tbody>\n",
              "    <tr>\n",
              "      <th>0</th>\n",
              "      <td>20000</td>\n",
              "      <td>Female</td>\n",
              "      <td>university</td>\n",
              "      <td>married</td>\n",
              "      <td>2</td>\n",
              "      <td>2</td>\n",
              "      <td>-1</td>\n",
              "      <td>-1</td>\n",
              "      <td>-2</td>\n",
              "      <td>-2</td>\n",
              "      <td>3913</td>\n",
              "      <td>3102</td>\n",
              "      <td>689</td>\n",
              "      <td>0</td>\n",
              "      <td>0</td>\n",
              "      <td>0</td>\n",
              "      <td>0</td>\n",
              "      <td>689</td>\n",
              "      <td>0</td>\n",
              "      <td>0</td>\n",
              "      <td>0</td>\n",
              "      <td>0</td>\n",
              "      <td>21-30</td>\n",
              "    </tr>\n",
              "    <tr>\n",
              "      <th>1</th>\n",
              "      <td>120000</td>\n",
              "      <td>Female</td>\n",
              "      <td>university</td>\n",
              "      <td>single</td>\n",
              "      <td>-1</td>\n",
              "      <td>2</td>\n",
              "      <td>0</td>\n",
              "      <td>0</td>\n",
              "      <td>0</td>\n",
              "      <td>2</td>\n",
              "      <td>2682</td>\n",
              "      <td>1725</td>\n",
              "      <td>2682</td>\n",
              "      <td>3272</td>\n",
              "      <td>3455</td>\n",
              "      <td>3261</td>\n",
              "      <td>0</td>\n",
              "      <td>1000</td>\n",
              "      <td>1000</td>\n",
              "      <td>1000</td>\n",
              "      <td>0</td>\n",
              "      <td>2000</td>\n",
              "      <td>21-30</td>\n",
              "    </tr>\n",
              "    <tr>\n",
              "      <th>2</th>\n",
              "      <td>90000</td>\n",
              "      <td>Female</td>\n",
              "      <td>university</td>\n",
              "      <td>single</td>\n",
              "      <td>0</td>\n",
              "      <td>0</td>\n",
              "      <td>0</td>\n",
              "      <td>0</td>\n",
              "      <td>0</td>\n",
              "      <td>0</td>\n",
              "      <td>29239</td>\n",
              "      <td>14027</td>\n",
              "      <td>13559</td>\n",
              "      <td>14331</td>\n",
              "      <td>14948</td>\n",
              "      <td>15549</td>\n",
              "      <td>1518</td>\n",
              "      <td>1500</td>\n",
              "      <td>1000</td>\n",
              "      <td>1000</td>\n",
              "      <td>1000</td>\n",
              "      <td>5000</td>\n",
              "      <td>31-40</td>\n",
              "    </tr>\n",
              "    <tr>\n",
              "      <th>3</th>\n",
              "      <td>50000</td>\n",
              "      <td>Female</td>\n",
              "      <td>university</td>\n",
              "      <td>married</td>\n",
              "      <td>0</td>\n",
              "      <td>0</td>\n",
              "      <td>0</td>\n",
              "      <td>0</td>\n",
              "      <td>0</td>\n",
              "      <td>0</td>\n",
              "      <td>46990</td>\n",
              "      <td>48233</td>\n",
              "      <td>49291</td>\n",
              "      <td>28314</td>\n",
              "      <td>28959</td>\n",
              "      <td>29547</td>\n",
              "      <td>2000</td>\n",
              "      <td>2019</td>\n",
              "      <td>1200</td>\n",
              "      <td>1100</td>\n",
              "      <td>1069</td>\n",
              "      <td>1000</td>\n",
              "      <td>31-40</td>\n",
              "    </tr>\n",
              "    <tr>\n",
              "      <th>4</th>\n",
              "      <td>50000</td>\n",
              "      <td>Male</td>\n",
              "      <td>university</td>\n",
              "      <td>married</td>\n",
              "      <td>-1</td>\n",
              "      <td>0</td>\n",
              "      <td>-1</td>\n",
              "      <td>0</td>\n",
              "      <td>0</td>\n",
              "      <td>0</td>\n",
              "      <td>8617</td>\n",
              "      <td>5670</td>\n",
              "      <td>35835</td>\n",
              "      <td>20940</td>\n",
              "      <td>19146</td>\n",
              "      <td>19131</td>\n",
              "      <td>2000</td>\n",
              "      <td>36681</td>\n",
              "      <td>10000</td>\n",
              "      <td>9000</td>\n",
              "      <td>689</td>\n",
              "      <td>679</td>\n",
              "      <td>51-60</td>\n",
              "    </tr>\n",
              "  </tbody>\n",
              "</table>\n",
              "</div>"
            ],
            "text/plain": [
              "   LIMIT_BAL     SEX   EDUCATION  ... PAY_AMT_MAY  PAY_AMT_APR  age_group\n",
              "0      20000  Female  university  ...           0            0      21-30\n",
              "1     120000  Female  university  ...           0         2000      21-30\n",
              "2      90000  Female  university  ...        1000         5000      31-40\n",
              "3      50000  Female  university  ...        1069         1000      31-40\n",
              "4      50000    Male  university  ...         689          679      51-60\n",
              "\n",
              "[5 rows x 23 columns]"
            ]
          },
          "metadata": {},
          "execution_count": 56
        }
      ]
    },
    {
      "cell_type": "code",
      "metadata": {
        "id": "ISbrkHTr9vGC"
      },
      "source": [
        "# one hot encoding for age group\n",
        "X=pd.get_dummies(X)"
      ],
      "execution_count": 57,
      "outputs": []
    },
    {
      "cell_type": "code",
      "metadata": {
        "colab": {
          "base_uri": "https://localhost:8080/",
          "height": 241
        },
        "id": "tWLVSicls6Gt",
        "outputId": "5c20991c-a6fa-4e8c-80e0-847b92960b41"
      },
      "source": [
        "X.head()"
      ],
      "execution_count": 58,
      "outputs": [
        {
          "output_type": "execute_result",
          "data": {
            "text/html": [
              "<div>\n",
              "<style scoped>\n",
              "    .dataframe tbody tr th:only-of-type {\n",
              "        vertical-align: middle;\n",
              "    }\n",
              "\n",
              "    .dataframe tbody tr th {\n",
              "        vertical-align: top;\n",
              "    }\n",
              "\n",
              "    .dataframe thead th {\n",
              "        text-align: right;\n",
              "    }\n",
              "</style>\n",
              "<table border=\"1\" class=\"dataframe\">\n",
              "  <thead>\n",
              "    <tr style=\"text-align: right;\">\n",
              "      <th></th>\n",
              "      <th>LIMIT_BAL</th>\n",
              "      <th>PAY_SEPT</th>\n",
              "      <th>PAY_AUG</th>\n",
              "      <th>PAY_JUL</th>\n",
              "      <th>PAY_JUN</th>\n",
              "      <th>PAY_MAY</th>\n",
              "      <th>PAY_APR</th>\n",
              "      <th>BILL_AMT_SEPT</th>\n",
              "      <th>BILL_AMT_AUG</th>\n",
              "      <th>BILL_AMT_JUL</th>\n",
              "      <th>BILL_AMT_JUN</th>\n",
              "      <th>BILL_AMT_MAY</th>\n",
              "      <th>BILL_AMT_APR</th>\n",
              "      <th>PAY_AMT_SEPT</th>\n",
              "      <th>PAY_AMT_AUG</th>\n",
              "      <th>PAY_AMT_JUL</th>\n",
              "      <th>PAY_AMT_JUN</th>\n",
              "      <th>PAY_AMT_MAY</th>\n",
              "      <th>PAY_AMT_APR</th>\n",
              "      <th>SEX_Female</th>\n",
              "      <th>SEX_Male</th>\n",
              "      <th>EDUCATION_graduate school</th>\n",
              "      <th>EDUCATION_high school</th>\n",
              "      <th>EDUCATION_other</th>\n",
              "      <th>EDUCATION_university</th>\n",
              "      <th>MARRIAGE_married</th>\n",
              "      <th>MARRIAGE_others</th>\n",
              "      <th>MARRIAGE_single</th>\n",
              "      <th>age_group_21-30</th>\n",
              "      <th>age_group_31-40</th>\n",
              "      <th>age_group_41-50</th>\n",
              "      <th>age_group_51-60</th>\n",
              "      <th>age_group_60 &amp; above</th>\n",
              "    </tr>\n",
              "  </thead>\n",
              "  <tbody>\n",
              "    <tr>\n",
              "      <th>0</th>\n",
              "      <td>20000</td>\n",
              "      <td>2</td>\n",
              "      <td>2</td>\n",
              "      <td>-1</td>\n",
              "      <td>-1</td>\n",
              "      <td>-2</td>\n",
              "      <td>-2</td>\n",
              "      <td>3913</td>\n",
              "      <td>3102</td>\n",
              "      <td>689</td>\n",
              "      <td>0</td>\n",
              "      <td>0</td>\n",
              "      <td>0</td>\n",
              "      <td>0</td>\n",
              "      <td>689</td>\n",
              "      <td>0</td>\n",
              "      <td>0</td>\n",
              "      <td>0</td>\n",
              "      <td>0</td>\n",
              "      <td>1</td>\n",
              "      <td>0</td>\n",
              "      <td>0</td>\n",
              "      <td>0</td>\n",
              "      <td>0</td>\n",
              "      <td>1</td>\n",
              "      <td>1</td>\n",
              "      <td>0</td>\n",
              "      <td>0</td>\n",
              "      <td>1</td>\n",
              "      <td>0</td>\n",
              "      <td>0</td>\n",
              "      <td>0</td>\n",
              "      <td>0</td>\n",
              "    </tr>\n",
              "    <tr>\n",
              "      <th>1</th>\n",
              "      <td>120000</td>\n",
              "      <td>-1</td>\n",
              "      <td>2</td>\n",
              "      <td>0</td>\n",
              "      <td>0</td>\n",
              "      <td>0</td>\n",
              "      <td>2</td>\n",
              "      <td>2682</td>\n",
              "      <td>1725</td>\n",
              "      <td>2682</td>\n",
              "      <td>3272</td>\n",
              "      <td>3455</td>\n",
              "      <td>3261</td>\n",
              "      <td>0</td>\n",
              "      <td>1000</td>\n",
              "      <td>1000</td>\n",
              "      <td>1000</td>\n",
              "      <td>0</td>\n",
              "      <td>2000</td>\n",
              "      <td>1</td>\n",
              "      <td>0</td>\n",
              "      <td>0</td>\n",
              "      <td>0</td>\n",
              "      <td>0</td>\n",
              "      <td>1</td>\n",
              "      <td>0</td>\n",
              "      <td>0</td>\n",
              "      <td>1</td>\n",
              "      <td>1</td>\n",
              "      <td>0</td>\n",
              "      <td>0</td>\n",
              "      <td>0</td>\n",
              "      <td>0</td>\n",
              "    </tr>\n",
              "    <tr>\n",
              "      <th>2</th>\n",
              "      <td>90000</td>\n",
              "      <td>0</td>\n",
              "      <td>0</td>\n",
              "      <td>0</td>\n",
              "      <td>0</td>\n",
              "      <td>0</td>\n",
              "      <td>0</td>\n",
              "      <td>29239</td>\n",
              "      <td>14027</td>\n",
              "      <td>13559</td>\n",
              "      <td>14331</td>\n",
              "      <td>14948</td>\n",
              "      <td>15549</td>\n",
              "      <td>1518</td>\n",
              "      <td>1500</td>\n",
              "      <td>1000</td>\n",
              "      <td>1000</td>\n",
              "      <td>1000</td>\n",
              "      <td>5000</td>\n",
              "      <td>1</td>\n",
              "      <td>0</td>\n",
              "      <td>0</td>\n",
              "      <td>0</td>\n",
              "      <td>0</td>\n",
              "      <td>1</td>\n",
              "      <td>0</td>\n",
              "      <td>0</td>\n",
              "      <td>1</td>\n",
              "      <td>0</td>\n",
              "      <td>1</td>\n",
              "      <td>0</td>\n",
              "      <td>0</td>\n",
              "      <td>0</td>\n",
              "    </tr>\n",
              "    <tr>\n",
              "      <th>3</th>\n",
              "      <td>50000</td>\n",
              "      <td>0</td>\n",
              "      <td>0</td>\n",
              "      <td>0</td>\n",
              "      <td>0</td>\n",
              "      <td>0</td>\n",
              "      <td>0</td>\n",
              "      <td>46990</td>\n",
              "      <td>48233</td>\n",
              "      <td>49291</td>\n",
              "      <td>28314</td>\n",
              "      <td>28959</td>\n",
              "      <td>29547</td>\n",
              "      <td>2000</td>\n",
              "      <td>2019</td>\n",
              "      <td>1200</td>\n",
              "      <td>1100</td>\n",
              "      <td>1069</td>\n",
              "      <td>1000</td>\n",
              "      <td>1</td>\n",
              "      <td>0</td>\n",
              "      <td>0</td>\n",
              "      <td>0</td>\n",
              "      <td>0</td>\n",
              "      <td>1</td>\n",
              "      <td>1</td>\n",
              "      <td>0</td>\n",
              "      <td>0</td>\n",
              "      <td>0</td>\n",
              "      <td>1</td>\n",
              "      <td>0</td>\n",
              "      <td>0</td>\n",
              "      <td>0</td>\n",
              "    </tr>\n",
              "    <tr>\n",
              "      <th>4</th>\n",
              "      <td>50000</td>\n",
              "      <td>-1</td>\n",
              "      <td>0</td>\n",
              "      <td>-1</td>\n",
              "      <td>0</td>\n",
              "      <td>0</td>\n",
              "      <td>0</td>\n",
              "      <td>8617</td>\n",
              "      <td>5670</td>\n",
              "      <td>35835</td>\n",
              "      <td>20940</td>\n",
              "      <td>19146</td>\n",
              "      <td>19131</td>\n",
              "      <td>2000</td>\n",
              "      <td>36681</td>\n",
              "      <td>10000</td>\n",
              "      <td>9000</td>\n",
              "      <td>689</td>\n",
              "      <td>679</td>\n",
              "      <td>0</td>\n",
              "      <td>1</td>\n",
              "      <td>0</td>\n",
              "      <td>0</td>\n",
              "      <td>0</td>\n",
              "      <td>1</td>\n",
              "      <td>1</td>\n",
              "      <td>0</td>\n",
              "      <td>0</td>\n",
              "      <td>0</td>\n",
              "      <td>0</td>\n",
              "      <td>0</td>\n",
              "      <td>1</td>\n",
              "      <td>0</td>\n",
              "    </tr>\n",
              "  </tbody>\n",
              "</table>\n",
              "</div>"
            ],
            "text/plain": [
              "   LIMIT_BAL  PAY_SEPT  ...  age_group_51-60  age_group_60 & above\n",
              "0      20000         2  ...                0                     0\n",
              "1     120000        -1  ...                0                     0\n",
              "2      90000         0  ...                0                     0\n",
              "3      50000         0  ...                0                     0\n",
              "4      50000        -1  ...                1                     0\n",
              "\n",
              "[5 rows x 33 columns]"
            ]
          },
          "metadata": {},
          "execution_count": 58
        }
      ]
    },
    {
      "cell_type": "code",
      "metadata": {
        "id": "g_PlatDa8ugT"
      },
      "source": [
        "#spliting Dependent variable\n",
        "y=df['Defaulters']"
      ],
      "execution_count": 59,
      "outputs": []
    },
    {
      "cell_type": "code",
      "metadata": {
        "colab": {
          "base_uri": "https://localhost:8080/"
        },
        "id": "enYC4xm88fhU",
        "outputId": "cfc9c2e7-888d-4dd3-cca8-75aeaab41215"
      },
      "source": [
        "#importing SMote to make our dataset balanced\n",
        "from imblearn.over_sampling import SMOTE\n",
        "\n",
        "smote = SMOTE()\n",
        "\n",
        "# fit predictor and target variable\n",
        "X_smote, y_smote = smote.fit_resample(X,y)\n",
        "\n",
        "print('Original dataset shape', len(df))\n",
        "print('Resampled dataset shape', len(y_smote))"
      ],
      "execution_count": 60,
      "outputs": [
        {
          "output_type": "stream",
          "name": "stdout",
          "text": [
            "Original dataset shape 29700\n",
            "Resampled dataset shape 46304\n"
          ]
        }
      ]
    },
    {
      "cell_type": "code",
      "metadata": {
        "colab": {
          "base_uri": "https://localhost:8080/"
        },
        "id": "uREl-VTB8feY",
        "outputId": "1fb93969-3b20-489e-9a10-e37ec3542bbf"
      },
      "source": [
        "#now checking the count of dependent variaable after balancing\n",
        "(unique, counts) = np.unique(y_smote, return_counts=True)\n",
        "np.asarray((unique, counts)).T"
      ],
      "execution_count": 61,
      "outputs": [
        {
          "output_type": "execute_result",
          "data": {
            "text/plain": [
              "array([[    0, 23152],\n",
              "       [    1, 23152]])"
            ]
          },
          "metadata": {},
          "execution_count": 61
        }
      ]
    },
    {
      "cell_type": "code",
      "metadata": {
        "colab": {
          "base_uri": "https://localhost:8080/",
          "height": 282
        },
        "id": "VRSTupYbtEhm",
        "outputId": "a5ae6e5e-d800-4271-a3d7-d6a95cdb222f"
      },
      "source": [
        "sns.countplot(y_smote)"
      ],
      "execution_count": 62,
      "outputs": [
        {
          "output_type": "execute_result",
          "data": {
            "text/plain": [
              "<matplotlib.axes._subplots.AxesSubplot at 0x7f443af2ce90>"
            ]
          },
          "metadata": {},
          "execution_count": 62
        },
        {
          "output_type": "display_data",
          "data": {
            "image/png": "[encoded data removed]",
            "text/plain": [
              "<Figure size 432x288 with 1 Axes>"
            ]
          },
          "metadata": {
            "needs_background": "light"
          }
        }
      ]
    },
    {
      "cell_type": "markdown",
      "metadata": {
        "id": "yMNszD5E-aye"
      },
      "source": [
        "## Train | Test Split"
      ]
    },
    {
      "cell_type": "code",
      "metadata": {
        "id": "nSBz-SiQ-ajy"
      },
      "source": [
        "#spliting data set into train and test dataset\n",
        "X_train,X_test,y_train,y_test = train_test_split(X_smote,y_smote,test_size=0.25,random_state=101)"
      ],
      "execution_count": 63,
      "outputs": []
    },
    {
      "cell_type": "code",
      "metadata": {
        "colab": {
          "base_uri": "https://localhost:8080/"
        },
        "id": "kklK62vmjjSN",
        "outputId": "39e47309-b718-4087-d870-ad76321c743d"
      },
      "source": [
        "#looking into independent variable of train dataset\n",
        "X_train"
      ],
      "execution_count": 64,
      "outputs": [
        {
          "output_type": "execute_result",
          "data": {
            "text/plain": [
              "array([[ 50000,      0,     -1, ...,      0,      1,      0],\n",
              "       [177960,      0,      0, ...,      0,      0,      0],\n",
              "       [ 10000,      0,      0, ...,      0,      0,      0],\n",
              "       ...,\n",
              "       [190000,      0,      0, ...,      0,      0,      0],\n",
              "       [ 20000,      1,     -1, ...,      0,      0,      0],\n",
              "       [ 30000,      0,      0, ...,      0,      0,      0]])"
            ]
          },
          "metadata": {},
          "execution_count": 64
        }
      ]
    },
    {
      "cell_type": "code",
      "metadata": {
        "id": "oPt5idQFARQK"
      },
      "source": [
        "#Scaling Feature\n",
        "from sklearn.preprocessing import StandardScaler\n",
        "scaler = StandardScaler()\n",
        "scaled_X_train = scaler.fit_transform(X_train)\n",
        "scaled_X_test=scaler.transform(X_test)"
      ],
      "execution_count": 65,
      "outputs": []
    },
    {
      "cell_type": "markdown",
      "metadata": {
        "id": "V_zAI17h_l8b"
      },
      "source": [
        "# Creating Function"
      ]
    },
    {
      "cell_type": "code",
      "metadata": {
        "id": "JseTYgR7_jui"
      },
      "source": [
        "model_accuracy=[]\n",
        "model_precision=[]\n",
        "model_recall=[]\n",
        "model_f1_score=[]\n",
        "model_roc_auc_score=[]\n"
      ],
      "execution_count": 66,
      "outputs": []
    },
    {
      "cell_type": "code",
      "metadata": {
        "id": "50QxH2AU8fbL"
      },
      "source": [
        "# Creating Function to run diferent models\n",
        "def run_and_evaluate_model(model,X_train,X_test,y_train,y_test, best_parameter=True, best_score=True):\n",
        "  '''\n",
        "  train the model and gives mse,rmse,r2,adj r2 score of the model\n",
        "  can be used for any model where y is not transformed \n",
        "  '''\n",
        "\n",
        "  start=time.time()\n",
        "  #training the model\n",
        "  model.fit(X_train,y_train)\n",
        "  stop = time.time()\n",
        "\n",
        "  time_min=round((stop - start)/60,4)\n",
        "  print(f\"Training time: {time_min}min\",'\\n')\n",
        "  \n",
        "\n",
        "\n",
        "  #predicting the values of y from x via model\n",
        "  y_pred_test = model.predict(X_test)\n",
        "  y_pred_train = model.predict(X_train)\n",
        "\n",
        "  \n",
        "  # Get the confusion matrix for both train and test\n",
        "  from sklearn.metrics import confusion_matrix,classification_report\n",
        "\n",
        "  def score (model,X,actual,predicted,append=True):\n",
        "    accuracy = accuracy_score(actual,predicted)\n",
        "    precision = precision_score(actual,predicted)\n",
        "    recall = recall_score(actual,predicted)\n",
        "    f1 = f1_score(actual,predicted)\n",
        "    roc= roc_auc_score(actual,predicted)\n",
        "    confusion_mat=confusion_matrix(actual,predicted)\n",
        "    print(\"The accuracy is \", accuracy)\n",
        "    print(\"The precision is \", precision)\n",
        "    print(\"The recall is \", recall)\n",
        "    print(\"The f1 is \", f1)\n",
        "    print('the auc  is ',roc)\n",
        "    print('\\nconfusion_matrix \\n ',confusion_mat)\n",
        "    \n",
        "\n",
        "    if append==True:\n",
        "      model_accuracy.append(accuracy)\n",
        "      model_precision.append(precision)\n",
        "      model_recall.append(recall)\n",
        "      model_f1_score.append(f1)\n",
        "      model_roc_auc_score.append(roc)\n",
        "    else:\n",
        "      pass\n",
        "\n",
        "  print('score matrix for train')\n",
        "  print('*'*80)\n",
        "  score(model=model,X=X_train,actual=y_train,predicted=y_pred_train,append=False)\n",
        "  print('\\nClassification Report\\n')\n",
        "  print(classification_report(y_train, y_pred_train))\n",
        "  print('\\n')\n",
        "  print('score matrix for test')\n",
        "  print('*'*80)\n",
        "  score(model=model,X=X_test,actual=y_test,predicted=y_pred_test)\n",
        "  print('\\nClassification Report\\n')\n",
        "  print(classification_report(y_test, y_pred_test))\n"
      ],
      "execution_count": 67,
      "outputs": []
    },
    {
      "cell_type": "code",
      "metadata": {
        "id": "wqv0z0pjWGM-"
      },
      "source": [
        ""
      ],
      "execution_count": 67,
      "outputs": []
    },
    {
      "cell_type": "markdown",
      "metadata": {
        "id": "oVBQB1xmhuYK"
      },
      "source": [
        "# creating function to get feature importance "
      ]
    },
    {
      "cell_type": "code",
      "metadata": {
        "id": "_ZCgBXTNd6l-"
      },
      "source": [
        "#creating function to get features importance of all the tree based model\n",
        "def get_features_importance(optimal_model,X_train):\n",
        "  imp_feat=pd.DataFrame(index=X.columns,data=optimal_model.feature_importances_,columns=['importance'])\n",
        "  imp_feat=imp_feat[imp_feat['importance']>0]\n",
        "  imp_feat=imp_feat.sort_values('importance')\n",
        "  plt.figure(figsize=(15,5))\n",
        "  print(f'==========================Features Importance============================\\n\\n {optimal_model}\\\n",
        "  \\n=========================================================================\\n') \n",
        "  sns.barplot(data=imp_feat,x=imp_feat.index,y='importance')\n",
        "  plt.xticks(rotation=90);\n",
        "   "
      ],
      "execution_count": 68,
      "outputs": []
    },
    {
      "cell_type": "markdown",
      "metadata": {
        "id": "vKtVpZwJ_2sm"
      },
      "source": [
        "# Logistic Regression"
      ]
    },
    {
      "cell_type": "code",
      "metadata": {
        "id": "9wTWMBzj8N2b"
      },
      "source": [
        "# import Loggistic Regression\n",
        "from sklearn.linear_model import LogisticRegression"
      ],
      "execution_count": 69,
      "outputs": []
    },
    {
      "cell_type": "code",
      "metadata": {
        "id": "LY73n7xe_uKy"
      },
      "source": [
        "#creating Instance of Logistic Regression\n",
        "\n",
        "log_model= LogisticRegression()"
      ],
      "execution_count": 70,
      "outputs": []
    },
    {
      "cell_type": "code",
      "metadata": {
        "colab": {
          "base_uri": "https://localhost:8080/"
        },
        "id": "NBDqg31bf-cU",
        "outputId": "47e32f0f-1371-4ffb-f891-f1dfc0486034"
      },
      "source": [
        "#running and evaluating log_model using function ccreated\n",
        "run_and_evaluate_model(log_model,scaled_X_train,scaled_X_test,y_train,y_test)"
      ],
      "execution_count": 71,
      "outputs": [
        {
          "output_type": "stream",
          "name": "stdout",
          "text": [
            "Training time: 0.011min \n",
            "\n",
            "score matrix for train\n",
            "********************************************************************************\n",
            "The accuracy is  0.8665917991246257\n",
            "The precision is  0.9547180626209071\n",
            "The recall is  0.7690753780445573\n",
            "The f1 is  0.8519003931847969\n",
            "the auc  is  0.8663788567041544\n",
            "\n",
            "confusion_matrix \n",
            "  [[16770   632]\n",
            " [ 4001 13325]]\n",
            "\n",
            "Classification Report\n",
            "\n",
            "              precision    recall  f1-score   support\n",
            "\n",
            "           0       0.81      0.96      0.88     17402\n",
            "           1       0.95      0.77      0.85     17326\n",
            "\n",
            "    accuracy                           0.87     34728\n",
            "   macro avg       0.88      0.87      0.87     34728\n",
            "weighted avg       0.88      0.87      0.87     34728\n",
            "\n",
            "\n",
            "\n",
            "score matrix for test\n",
            "********************************************************************************\n",
            "The accuracy is  0.8645473393227368\n",
            "The precision is  0.9537510656436488\n",
            "The recall is  0.7681084792310333\n",
            "The f1 is  0.8509222285605629\n",
            "the auc  is  0.8651846743981253\n",
            "\n",
            "confusion_matrix \n",
            "  [[5533  217]\n",
            " [1351 4475]]\n",
            "\n",
            "Classification Report\n",
            "\n",
            "              precision    recall  f1-score   support\n",
            "\n",
            "           0       0.80      0.96      0.88      5750\n",
            "           1       0.95      0.77      0.85      5826\n",
            "\n",
            "    accuracy                           0.86     11576\n",
            "   macro avg       0.88      0.87      0.86     11576\n",
            "weighted avg       0.88      0.86      0.86     11576\n",
            "\n"
          ]
        }
      ]
    },
    {
      "cell_type": "markdown",
      "metadata": {
        "id": "px-MIUt4gP1F"
      },
      "source": [
        "### implementing GridSearch for Hyperparameter Tuning"
      ]
    },
    {
      "cell_type": "code",
      "metadata": {
        "id": "8dVsiQe-AiPx"
      },
      "source": [
        "# creating param dict for hyperparameter tuning\n",
        "param_dict= {'C': [0.001,0.01,0.1,1,10,100],'penalty': ['l1', 'l2'],'max_iter':[1000]} "
      ],
      "execution_count": 72,
      "outputs": []
    },
    {
      "cell_type": "code",
      "metadata": {
        "id": "NW_736HQBJFK"
      },
      "source": [
        "#creating Grid model to perform grid search\n",
        "\n",
        "grid_log_model = GridSearchCV(log_model, param_dict,n_jobs=-1, cv=5, verbose = 5,scoring='recall') "
      ],
      "execution_count": 73,
      "outputs": []
    },
    {
      "cell_type": "code",
      "metadata": {
        "colab": {
          "base_uri": "https://localhost:8080/"
        },
        "id": "LgKZLsMNBXr5",
        "outputId": "2f108105-5fd8-421f-ee8f-7597be486fba"
      },
      "source": [
        "#running and evaluating grid_log_model using function ccreated\n",
        "run_and_evaluate_model(grid_log_model,scaled_X_train,scaled_X_test,y_train,y_test)"
      ],
      "execution_count": 74,
      "outputs": [
        {
          "output_type": "stream",
          "name": "stdout",
          "text": [
            "Fitting 5 folds for each of 12 candidates, totalling 60 fits\n"
          ]
        },
        {
          "output_type": "stream",
          "name": "stderr",
          "text": [
            "[Parallel(n_jobs=-1)]: Using backend LokyBackend with 2 concurrent workers.\n",
            "[Parallel(n_jobs=-1)]: Done  14 tasks      | elapsed:    1.3s\n",
            "[Parallel(n_jobs=-1)]: Done  57 out of  60 | elapsed:    7.3s remaining:    0.4s\n",
            "[Parallel(n_jobs=-1)]: Done  60 out of  60 | elapsed:    7.8s finished\n"
          ]
        },
        {
          "output_type": "stream",
          "name": "stdout",
          "text": [
            "Training time: 0.1366min \n",
            "\n",
            "score matrix for train\n",
            "********************************************************************************\n",
            "The accuracy is  0.866994932043308\n",
            "The precision is  0.9508906394152296\n",
            "The recall is  0.7733464157912964\n",
            "The f1 is  0.8529776872393926\n",
            "the auc  is  0.8667904358004868\n",
            "\n",
            "confusion_matrix \n",
            "  [[16710   692]\n",
            " [ 3927 13399]]\n",
            "\n",
            "Classification Report\n",
            "\n",
            "              precision    recall  f1-score   support\n",
            "\n",
            "           0       0.81      0.96      0.88     17402\n",
            "           1       0.95      0.77      0.85     17326\n",
            "\n",
            "    accuracy                           0.87     34728\n",
            "   macro avg       0.88      0.87      0.87     34728\n",
            "weighted avg       0.88      0.87      0.87     34728\n",
            "\n",
            "\n",
            "\n",
            "score matrix for test\n",
            "********************************************************************************\n",
            "The accuracy is  0.8648928818244644\n",
            "The precision is  0.9493884436946436\n",
            "The recall is  0.7727428767593546\n",
            "The f1 is  0.852006056018168\n",
            "the auc  is  0.865501873162286\n",
            "\n",
            "confusion_matrix \n",
            "  [[5510  240]\n",
            " [1324 4502]]\n",
            "\n",
            "Classification Report\n",
            "\n",
            "              precision    recall  f1-score   support\n",
            "\n",
            "           0       0.81      0.96      0.88      5750\n",
            "           1       0.95      0.77      0.85      5826\n",
            "\n",
            "    accuracy                           0.86     11576\n",
            "   macro avg       0.88      0.87      0.86     11576\n",
            "weighted avg       0.88      0.86      0.86     11576\n",
            "\n"
          ]
        }
      ]
    },
    {
      "cell_type": "code",
      "metadata": {
        "colab": {
          "base_uri": "https://localhost:8080/"
        },
        "id": "EomEQffqhGww",
        "outputId": "d6808997-2189-4196-cfdc-08a72fe3a7c7"
      },
      "source": [
        "#getting the coeficient of best estimator\n",
        "grid_log_model.best_estimator_.coef_"
      ],
      "execution_count": 75,
      "outputs": [
        {
          "output_type": "execute_result",
          "data": {
            "text/plain": [
              "array([[-0.05702864,  0.57765691,  0.1130403 ,  0.04382395,  0.05025776,\n",
              "         0.04524003,  0.01961687, -0.25435985,  0.03128967,  0.05472507,\n",
              "         0.03888137, -0.03740646,  0.02356228, -0.13685974, -0.1919008 ,\n",
              "        -0.06885819, -0.03992534, -0.06174278, -0.05246144, -1.25176676,\n",
              "        -1.13175866, -1.13589706, -0.89814526, -0.37438399, -1.28710407,\n",
              "        -1.07792277, -0.22544127, -1.18868029, -1.28834713, -1.26064868,\n",
              "        -0.98281041, -0.58615526, -0.20954934]])"
            ]
          },
          "metadata": {},
          "execution_count": 75
        }
      ]
    },
    {
      "cell_type": "code",
      "metadata": {
        "id": "cBW_1w6xbxMV"
      },
      "source": [
        "optimal_log_model=grid_log_model.best_estimator_.coef_"
      ],
      "execution_count": 76,
      "outputs": []
    },
    {
      "cell_type": "code",
      "metadata": {
        "id": "LdGiuWA-cUpt"
      },
      "source": [
        "#ccreating dataframe for feature imp\n",
        "feature_importance = pd.DataFrame({'Features':X.columns, 'Importance':np.abs(optimal_log_model).ravel() })"
      ],
      "execution_count": 77,
      "outputs": []
    },
    {
      "cell_type": "code",
      "metadata": {
        "id": "BqVjOJYhdWNV"
      },
      "source": [
        "#sorting the feat impt df by importance\n",
        "imp_feat = feature_importance.sort_values(by = 'Importance', ascending=False)[:10]"
      ],
      "execution_count": 78,
      "outputs": []
    },
    {
      "cell_type": "code",
      "metadata": {
        "colab": {
          "base_uri": "https://localhost:8080/",
          "height": 0
        },
        "id": "4UeFw9GtemqN",
        "outputId": "6a78f869-e3d4-4ed6-d742-d46f50f27f58"
      },
      "source": [
        "imp_feat"
      ],
      "execution_count": 79,
      "outputs": [
        {
          "output_type": "execute_result",
          "data": {
            "text/html": [
              "<div>\n",
              "<style scoped>\n",
              "    .dataframe tbody tr th:only-of-type {\n",
              "        vertical-align: middle;\n",
              "    }\n",
              "\n",
              "    .dataframe tbody tr th {\n",
              "        vertical-align: top;\n",
              "    }\n",
              "\n",
              "    .dataframe thead th {\n",
              "        text-align: right;\n",
              "    }\n",
              "</style>\n",
              "<table border=\"1\" class=\"dataframe\">\n",
              "  <thead>\n",
              "    <tr style=\"text-align: right;\">\n",
              "      <th></th>\n",
              "      <th>Features</th>\n",
              "      <th>Importance</th>\n",
              "    </tr>\n",
              "  </thead>\n",
              "  <tbody>\n",
              "    <tr>\n",
              "      <th>28</th>\n",
              "      <td>age_group_21-30</td>\n",
              "      <td>1.288347</td>\n",
              "    </tr>\n",
              "    <tr>\n",
              "      <th>24</th>\n",
              "      <td>EDUCATION_university</td>\n",
              "      <td>1.287104</td>\n",
              "    </tr>\n",
              "    <tr>\n",
              "      <th>29</th>\n",
              "      <td>age_group_31-40</td>\n",
              "      <td>1.260649</td>\n",
              "    </tr>\n",
              "    <tr>\n",
              "      <th>19</th>\n",
              "      <td>SEX_Female</td>\n",
              "      <td>1.251767</td>\n",
              "    </tr>\n",
              "    <tr>\n",
              "      <th>27</th>\n",
              "      <td>MARRIAGE_single</td>\n",
              "      <td>1.188680</td>\n",
              "    </tr>\n",
              "    <tr>\n",
              "      <th>21</th>\n",
              "      <td>EDUCATION_graduate school</td>\n",
              "      <td>1.135897</td>\n",
              "    </tr>\n",
              "    <tr>\n",
              "      <th>20</th>\n",
              "      <td>SEX_Male</td>\n",
              "      <td>1.131759</td>\n",
              "    </tr>\n",
              "    <tr>\n",
              "      <th>25</th>\n",
              "      <td>MARRIAGE_married</td>\n",
              "      <td>1.077923</td>\n",
              "    </tr>\n",
              "    <tr>\n",
              "      <th>30</th>\n",
              "      <td>age_group_41-50</td>\n",
              "      <td>0.982810</td>\n",
              "    </tr>\n",
              "    <tr>\n",
              "      <th>22</th>\n",
              "      <td>EDUCATION_high school</td>\n",
              "      <td>0.898145</td>\n",
              "    </tr>\n",
              "  </tbody>\n",
              "</table>\n",
              "</div>"
            ],
            "text/plain": [
              "                     Features  Importance\n",
              "28            age_group_21-30    1.288347\n",
              "24       EDUCATION_university    1.287104\n",
              "29            age_group_31-40    1.260649\n",
              "19                 SEX_Female    1.251767\n",
              "27            MARRIAGE_single    1.188680\n",
              "21  EDUCATION_graduate school    1.135897\n",
              "20                   SEX_Male    1.131759\n",
              "25           MARRIAGE_married    1.077923\n",
              "30            age_group_41-50    0.982810\n",
              "22      EDUCATION_high school    0.898145"
            ]
          },
          "metadata": {},
          "execution_count": 79
        }
      ]
    },
    {
      "cell_type": "code",
      "metadata": {
        "colab": {
          "base_uri": "https://localhost:8080/",
          "height": 0
        },
        "id": "aUp9-QdMcag9",
        "outputId": "ec2f32b8-6902-4339-8243-cc62d5844fb5"
      },
      "source": [
        "#visualizing the feature importance\n",
        "imp_feat=imp_feat[imp_feat['Importance']>0]\n",
        "imp_feat=imp_feat.sort_values('Importance')\n",
        "plt.figure(figsize=(15,5))\n",
        "print(f'==========================Features Importance============================\\n\\n {optimal_log_model}\\\n",
        "\\n=========================================================================\\n') \n",
        "sns.barplot(data=imp_feat,x=imp_feat.Features,y='Importance')\n",
        "plt.xticks(rotation=90);"
      ],
      "execution_count": 80,
      "outputs": [
        {
          "output_type": "stream",
          "name": "stdout",
          "text": [
            "==========================Features Importance============================\n",
            "\n",
            " [[-0.05702864  0.57765691  0.1130403   0.04382395  0.05025776  0.04524003\n",
            "   0.01961687 -0.25435985  0.03128967  0.05472507  0.03888137 -0.03740646\n",
            "   0.02356228 -0.13685974 -0.1919008  -0.06885819 -0.03992534 -0.06174278\n",
            "  -0.05246144 -1.25176676 -1.13175866 -1.13589706 -0.89814526 -0.37438399\n",
            "  -1.28710407 -1.07792277 -0.22544127 -1.18868029 -1.28834713 -1.26064868\n",
            "  -0.98281041 -0.58615526 -0.20954934]]\n",
            "=========================================================================\n",
            "\n"
          ]
        },
        {
          "output_type": "display_data",
          "data": {
            "image/png": "[encoded data removed]",
            "text/plain": [
              "<Figure size 1080x360 with 1 Axes>"
            ]
          },
          "metadata": {
            "needs_background": "light"
          }
        }
      ]
    },
    {
      "cell_type": "code",
      "metadata": {
        "colab": {
          "base_uri": "https://localhost:8080/"
        },
        "id": "yrfzUBxGjz2I",
        "outputId": "79474258-b100-4ca3-c51b-edc8be958ee5"
      },
      "source": [
        "#geting the best Paramater of model\n",
        "grid_log_model.best_params_"
      ],
      "execution_count": 81,
      "outputs": [
        {
          "output_type": "execute_result",
          "data": {
            "text/plain": [
              "{'C': 0.01, 'max_iter': 1000, 'penalty': 'l2'}"
            ]
          },
          "metadata": {},
          "execution_count": 81
        }
      ]
    },
    {
      "cell_type": "code",
      "metadata": {
        "id": "1tfMujfgbt1o"
      },
      "source": [
        ""
      ],
      "execution_count": 81,
      "outputs": []
    },
    {
      "cell_type": "markdown",
      "metadata": {
        "id": "pz6sB5Wbfjgv"
      },
      "source": [
        "# Decision Tree"
      ]
    },
    {
      "cell_type": "code",
      "metadata": {
        "colab": {
          "base_uri": "https://localhost:8080/"
        },
        "id": "LCIK497jg5XL",
        "outputId": "6d8a1ed2-4478-4254-f81a-44cd9888916a"
      },
      "source": [
        "#impoting decisionTreeClassifier\n",
        "from sklearn.tree import DecisionTreeClassifier\n",
        "# creating DecisionTree model\n",
        "DecisionTree = DecisionTreeClassifier(max_depth=10,max_leaf_nodes=45,criterion='entropy')\n",
        "\n",
        "# training and evaluating the DecisionTree\n",
        "run_and_evaluate_model(DecisionTree,X_train, X_test, y_train, y_test)"
      ],
      "execution_count": 82,
      "outputs": [
        {
          "output_type": "stream",
          "name": "stdout",
          "text": [
            "Training time: 0.0095min \n",
            "\n",
            "score matrix for train\n",
            "********************************************************************************\n",
            "The accuracy is  0.8262497120479152\n",
            "The precision is  0.8994057724957555\n",
            "The recall is  0.7338104582708069\n",
            "The f1 is  0.8082130824486683\n",
            "the auc  is  0.8260478564196237\n",
            "\n",
            "confusion_matrix \n",
            "  [[15980  1422]\n",
            " [ 4612 12714]]\n",
            "\n",
            "Classification Report\n",
            "\n",
            "              precision    recall  f1-score   support\n",
            "\n",
            "           0       0.78      0.92      0.84     17402\n",
            "           1       0.90      0.73      0.81     17326\n",
            "\n",
            "    accuracy                           0.83     34728\n",
            "   macro avg       0.84      0.83      0.82     34728\n",
            "weighted avg       0.84      0.83      0.82     34728\n",
            "\n",
            "\n",
            "\n",
            "score matrix for test\n",
            "********************************************************************************\n",
            "The accuracy is  0.8247235659986178\n",
            "The precision is  0.8974251622357128\n",
            "The recall is  0.7358393408856848\n",
            "The f1 is  0.8086390644157314\n",
            "the auc  is  0.8253109747906686\n",
            "\n",
            "confusion_matrix \n",
            "  [[5260  490]\n",
            " [1539 4287]]\n",
            "\n",
            "Classification Report\n",
            "\n",
            "              precision    recall  f1-score   support\n",
            "\n",
            "           0       0.77      0.91      0.84      5750\n",
            "           1       0.90      0.74      0.81      5826\n",
            "\n",
            "    accuracy                           0.82     11576\n",
            "   macro avg       0.84      0.83      0.82     11576\n",
            "weighted avg       0.84      0.82      0.82     11576\n",
            "\n"
          ]
        }
      ]
    },
    {
      "cell_type": "code",
      "metadata": {
        "colab": {
          "base_uri": "https://localhost:8080/"
        },
        "id": "tSGnxjA1gR_C",
        "outputId": "0aa3caa4-fc9d-42e2-e846-edb02ab832c3"
      },
      "source": [
        "DecisionTree.feature_importances_"
      ],
      "execution_count": 83,
      "outputs": [
        {
          "output_type": "execute_result",
          "data": {
            "text/plain": [
              "array([0.00522546, 0.23836098, 0.09440853, 0.        , 0.00225985,\n",
              "       0.        , 0.01808267, 0.00325708, 0.00692377, 0.        ,\n",
              "       0.        , 0.00685456, 0.        , 0.00284986, 0.02004173,\n",
              "       0.        , 0.        , 0.        , 0.        , 0.05424088,\n",
              "       0.27224458, 0.0140858 , 0.03597941, 0.0275026 , 0.01855854,\n",
              "       0.10609746, 0.03376429, 0.01953293, 0.00462405, 0.0029087 ,\n",
              "       0.00719646, 0.00499978, 0.        ])"
            ]
          },
          "metadata": {},
          "execution_count": 83
        }
      ]
    },
    {
      "cell_type": "code",
      "metadata": {
        "colab": {
          "base_uri": "https://localhost:8080/",
          "height": 624
        },
        "id": "uf5ajIRHgeu4",
        "outputId": "08cae72a-5a65-4f44-fbb5-e60c567f7ddc"
      },
      "source": [
        "get_features_importance(DecisionTree,X_train)"
      ],
      "execution_count": 84,
      "outputs": [
        {
          "output_type": "stream",
          "name": "stdout",
          "text": [
            "==========================Features Importance============================\n",
            "\n",
            " DecisionTreeClassifier(ccp_alpha=0.0, class_weight=None, criterion='entropy',\n",
            "                       max_depth=10, max_features=None, max_leaf_nodes=45,\n",
            "                       min_impurity_decrease=0.0, min_impurity_split=None,\n",
            "                       min_samples_leaf=1, min_samples_split=2,\n",
            "                       min_weight_fraction_leaf=0.0, presort='deprecated',\n",
            "                       random_state=None, splitter='best')  \n",
            "=========================================================================\n",
            "\n"
          ]
        },
        {
          "output_type": "display_data",
          "data": {
            "image/png": "[encoded data removed]",
            "text/plain": [
              "<Figure size 1080x360 with 1 Axes>"
            ]
          },
          "metadata": {
            "needs_background": "light"
          }
        }
      ]
    },
    {
      "cell_type": "markdown",
      "metadata": {
        "id": "AZ7T1FHqkDGr"
      },
      "source": [
        "# Random Forest"
      ]
    },
    {
      "cell_type": "code",
      "metadata": {
        "id": "E12ZKDWrkCQZ"
      },
      "source": [
        "#importing Random Forest\n",
        "from sklearn.ensemble import RandomForestClassifier\n",
        "rfc_model=RandomForestClassifier()"
      ],
      "execution_count": 85,
      "outputs": []
    },
    {
      "cell_type": "code",
      "metadata": {
        "colab": {
          "base_uri": "https://localhost:8080/"
        },
        "id": "zW5y70wigiNM",
        "outputId": "cc2e28d5-4e54-4d54-8cb5-8fe061f744e6"
      },
      "source": [
        "# training and evaluating the Random forest\n",
        "run_and_evaluate_model(rfc_model,X_train, X_test, y_train, y_test)"
      ],
      "execution_count": 86,
      "outputs": [
        {
          "output_type": "stream",
          "name": "stdout",
          "text": [
            "Training time: 0.1397min \n",
            "\n",
            "score matrix for train\n",
            "********************************************************************************\n",
            "The accuracy is  0.9982434922828841\n",
            "The precision is  0.998556165174704\n",
            "The recall is  0.9979221978529378\n",
            "The f1 is  0.9982390808579429\n",
            "the auc  is  0.9982427906860368\n",
            "\n",
            "confusion_matrix \n",
            "  [[17377    25]\n",
            " [   36 17290]]\n",
            "\n",
            "Classification Report\n",
            "\n",
            "              precision    recall  f1-score   support\n",
            "\n",
            "           0       1.00      1.00      1.00     17402\n",
            "           1       1.00      1.00      1.00     17326\n",
            "\n",
            "    accuracy                           1.00     34728\n",
            "   macro avg       1.00      1.00      1.00     34728\n",
            "weighted avg       1.00      1.00      1.00     34728\n",
            "\n",
            "\n",
            "\n",
            "score matrix for test\n",
            "********************************************************************************\n",
            "The accuracy is  0.8757774706288873\n",
            "The precision is  0.9043494286767416\n",
            "The recall is  0.8422588396841744\n",
            "The f1 is  0.8722004976892997\n",
            "the auc  is  0.8759989850594785\n",
            "\n",
            "confusion_matrix \n",
            "  [[5231  519]\n",
            " [ 919 4907]]\n",
            "\n",
            "Classification Report\n",
            "\n",
            "              precision    recall  f1-score   support\n",
            "\n",
            "           0       0.85      0.91      0.88      5750\n",
            "           1       0.90      0.84      0.87      5826\n",
            "\n",
            "    accuracy                           0.88     11576\n",
            "   macro avg       0.88      0.88      0.88     11576\n",
            "weighted avg       0.88      0.88      0.88     11576\n",
            "\n"
          ]
        }
      ]
    },
    {
      "cell_type": "markdown",
      "metadata": {
        "id": "u4E18dYIgn97"
      },
      "source": [
        "### implementing gridsearch for hyperparameter tuning in Random Forest"
      ]
    },
    {
      "cell_type": "code",
      "metadata": {
        "id": "Tb021r19go3C"
      },
      "source": [
        "# finding the best parameters for rfc_model by gridsearchcv\n",
        "grid_values = {'n_estimators': [150,200,250],'max_depth': [3,5,9],'criterion': ['entropy']}\n",
        "grid_rfc_model = GridSearchCV(estimator=rfc_model,param_grid = grid_values, scoring='balanced_accuracy',cv=5,verbose=5,n_jobs=-1)"
      ],
      "execution_count": 87,
      "outputs": []
    },
    {
      "cell_type": "code",
      "metadata": {
        "colab": {
          "base_uri": "https://localhost:8080/"
        },
        "id": "el_YGHN5jGQB",
        "outputId": "b7f34a55-b14e-4d8c-ffcd-bff7866444ff"
      },
      "source": [
        "# training and evaluating the Random forest with hyperparameter tuing\n",
        "run_and_evaluate_model(grid_rfc_model,X_train, X_test, y_train, y_test)"
      ],
      "execution_count": 88,
      "outputs": [
        {
          "output_type": "stream",
          "name": "stdout",
          "text": [
            "Fitting 5 folds for each of 9 candidates, totalling 45 fits\n"
          ]
        },
        {
          "output_type": "stream",
          "name": "stderr",
          "text": [
            "[Parallel(n_jobs=-1)]: Using backend LokyBackend with 2 concurrent workers.\n",
            "[Parallel(n_jobs=-1)]: Done  14 tasks      | elapsed:   54.6s\n",
            "[Parallel(n_jobs=-1)]: Done  45 out of  45 | elapsed:  4.8min finished\n"
          ]
        },
        {
          "output_type": "stream",
          "name": "stdout",
          "text": [
            "Training time: 5.0766min \n",
            "\n",
            "score matrix for train\n",
            "********************************************************************************\n",
            "The accuracy is  0.8684346924671734\n",
            "The precision is  0.911171275704248\n",
            "The recall is  0.8158259263534572\n",
            "The f1 is  0.8608666524559213\n",
            "the auc  is  0.8683198129641094\n",
            "\n",
            "confusion_matrix \n",
            "  [[16024  1378]\n",
            " [ 3191 14135]]\n",
            "\n",
            "Classification Report\n",
            "\n",
            "              precision    recall  f1-score   support\n",
            "\n",
            "           0       0.83      0.92      0.88     17402\n",
            "           1       0.91      0.82      0.86     17326\n",
            "\n",
            "    accuracy                           0.87     34728\n",
            "   macro avg       0.87      0.87      0.87     34728\n",
            "weighted avg       0.87      0.87      0.87     34728\n",
            "\n",
            "\n",
            "\n",
            "score matrix for test\n",
            "********************************************************************************\n",
            "The accuracy is  0.8532308223911541\n",
            "The precision is  0.8923749762312226\n",
            "The recall is  0.8055269481634054\n",
            "The f1 is  0.8467298150654036\n",
            "the auc  is  0.8535460827773549\n",
            "\n",
            "confusion_matrix \n",
            "  [[5184  566]\n",
            " [1133 4693]]\n",
            "\n",
            "Classification Report\n",
            "\n",
            "              precision    recall  f1-score   support\n",
            "\n",
            "           0       0.82      0.90      0.86      5750\n",
            "           1       0.89      0.81      0.85      5826\n",
            "\n",
            "    accuracy                           0.85     11576\n",
            "   macro avg       0.86      0.85      0.85     11576\n",
            "weighted avg       0.86      0.85      0.85     11576\n",
            "\n"
          ]
        }
      ]
    },
    {
      "cell_type": "code",
      "metadata": {
        "colab": {
          "base_uri": "https://localhost:8080/"
        },
        "id": "3hY3zzVckBIw",
        "outputId": "370c8d1c-98c5-4c84-a9f2-3ed7419a8b7b"
      },
      "source": [
        "#getting the best paramater of random forest\n",
        "grid_rfc_model.best_params_"
      ],
      "execution_count": 89,
      "outputs": [
        {
          "output_type": "execute_result",
          "data": {
            "text/plain": [
              "{'criterion': 'entropy', 'max_depth': 9, 'n_estimators': 250}"
            ]
          },
          "metadata": {},
          "execution_count": 89
        }
      ]
    },
    {
      "cell_type": "code",
      "metadata": {
        "colab": {
          "base_uri": "https://localhost:8080/"
        },
        "id": "nHFOXDofmyK8",
        "outputId": "0739f67e-068c-4ed4-ac28-3da5e0782598"
      },
      "source": [
        "#getting the best estimator for random forest\n",
        "grid_rfc_model.best_estimator_"
      ],
      "execution_count": 90,
      "outputs": [
        {
          "output_type": "execute_result",
          "data": {
            "text/plain": [
              "RandomForestClassifier(bootstrap=True, ccp_alpha=0.0, class_weight=None,\n",
              "                       criterion='entropy', max_depth=9, max_features='auto',\n",
              "                       max_leaf_nodes=None, max_samples=None,\n",
              "                       min_impurity_decrease=0.0, min_impurity_split=None,\n",
              "                       min_samples_leaf=1, min_samples_split=2,\n",
              "                       min_weight_fraction_leaf=0.0, n_estimators=250,\n",
              "                       n_jobs=None, oob_score=False, random_state=None,\n",
              "                       verbose=0, warm_start=False)"
            ]
          },
          "metadata": {},
          "execution_count": 90
        }
      ]
    },
    {
      "cell_type": "code",
      "metadata": {
        "id": "IZtJpZ2qm-fq"
      },
      "source": [
        "#storing best estimator in varibale\n",
        "optimal__rfc_model=grid_rfc_model.best_estimator_"
      ],
      "execution_count": 91,
      "outputs": []
    },
    {
      "cell_type": "code",
      "metadata": {
        "colab": {
          "base_uri": "https://localhost:8080/",
          "height": 0
        },
        "id": "xqkhQfMcx16_",
        "outputId": "b82e2858-4f45-4c53-f8a9-3a9e2d8bc957"
      },
      "source": [
        "#visualizing the feature importance of variable for random forest\n",
        "get_features_importance(optimal__rfc_model,X_train)"
      ],
      "execution_count": 92,
      "outputs": [
        {
          "output_type": "stream",
          "name": "stdout",
          "text": [
            "==========================Features Importance============================\n",
            "\n",
            " RandomForestClassifier(bootstrap=True, ccp_alpha=0.0, class_weight=None,\n",
            "                       criterion='entropy', max_depth=9, max_features='auto',\n",
            "                       max_leaf_nodes=None, max_samples=None,\n",
            "                       min_impurity_decrease=0.0, min_impurity_split=None,\n",
            "                       min_samples_leaf=1, min_samples_split=2,\n",
            "                       min_weight_fraction_leaf=0.0, n_estimators=250,\n",
            "                       n_jobs=None, oob_score=False, random_state=None,\n",
            "                       verbose=0, warm_start=False)  \n",
            "=========================================================================\n",
            "\n"
          ]
        },
        {
          "output_type": "display_data",
          "data": {
            "image/png": "[encoded data removed]",
            "text/plain": [
              "<Figure size 1080x360 with 1 Axes>"
            ]
          },
          "metadata": {
            "needs_background": "light"
          }
        }
      ]
    },
    {
      "cell_type": "markdown",
      "metadata": {
        "id": "-D9Mv9sF0gdO"
      },
      "source": [
        ""
      ]
    },
    {
      "cell_type": "markdown",
      "metadata": {
        "id": "iQVMb9qglsta"
      },
      "source": [
        "# Support Vector Machine"
      ]
    },
    {
      "cell_type": "code",
      "metadata": {
        "id": "W1eQ8EMFkxr6"
      },
      "source": [
        "#importing SVM\n",
        "from sklearn.svm import SVC\n",
        "svc_model=SVC()"
      ],
      "execution_count": 93,
      "outputs": []
    },
    {
      "cell_type": "code",
      "metadata": {
        "colab": {
          "base_uri": "https://localhost:8080/"
        },
        "id": "6A5z-bjwg9Td",
        "outputId": "e8124a37-3a90-4a5c-b9bf-77dfd81cbabf"
      },
      "source": [
        "# training and evaluating the SVC model \n",
        "run_and_evaluate_model(svc_model,scaled_X_train,scaled_X_test,y_train,y_test)"
      ],
      "execution_count": 94,
      "outputs": [
        {
          "output_type": "stream",
          "name": "stdout",
          "text": [
            "Training time: 1.0301min \n",
            "\n",
            "score matrix for train\n",
            "********************************************************************************\n",
            "The accuracy is  0.8759502418797512\n",
            "The precision is  0.9459440942724034\n",
            "The recall is  0.7968948401246682\n",
            "The f1 is  0.8650460497462565\n",
            "the auc  is  0.8757776119942958\n",
            "\n",
            "confusion_matrix \n",
            "  [[16613   789]\n",
            " [ 3519 13807]]\n",
            "\n",
            "Classification Report\n",
            "\n",
            "              precision    recall  f1-score   support\n",
            "\n",
            "           0       0.83      0.95      0.89     17402\n",
            "           1       0.95      0.80      0.87     17326\n",
            "\n",
            "    accuracy                           0.88     34728\n",
            "   macro avg       0.89      0.88      0.88     34728\n",
            "weighted avg       0.89      0.88      0.88     34728\n",
            "\n",
            "\n",
            "\n",
            "score matrix for test\n",
            "********************************************************************************\n",
            "The accuracy is  0.8694713199723566\n",
            "The precision is  0.9438387163135158\n",
            "The recall is  0.7875042911088225\n",
            "The f1 is  0.8586132684570038\n",
            "the auc  is  0.8700130151196287\n",
            "\n",
            "confusion_matrix \n",
            "  [[5477  273]\n",
            " [1238 4588]]\n",
            "\n",
            "Classification Report\n",
            "\n",
            "              precision    recall  f1-score   support\n",
            "\n",
            "           0       0.82      0.95      0.88      5750\n",
            "           1       0.94      0.79      0.86      5826\n",
            "\n",
            "    accuracy                           0.87     11576\n",
            "   macro avg       0.88      0.87      0.87     11576\n",
            "weighted avg       0.88      0.87      0.87     11576\n",
            "\n"
          ]
        }
      ]
    },
    {
      "cell_type": "markdown",
      "metadata": {
        "id": "3Oew0MrMg5Oc"
      },
      "source": [
        "### Hyperparameter tuning for SVM"
      ]
    },
    {
      "cell_type": "code",
      "metadata": {
        "id": "ZXHkap8qmT8Z"
      },
      "source": [
        "params={'C':[0.01,0.1,1],'kernel':['rbf']}\n",
        "svc_grid_model= GridSearchCV(svc_model,param_grid=params,scoring='recall')"
      ],
      "execution_count": 95,
      "outputs": []
    },
    {
      "cell_type": "code",
      "metadata": {
        "colab": {
          "base_uri": "https://localhost:8080/"
        },
        "id": "uahi_Fugmr7I",
        "outputId": "ea644351-4d56-4d28-e9b1-cbf550defd44"
      },
      "source": [
        "run_and_evaluate_model(svc_grid_model,scaled_X_train,scaled_X_test,y_train,y_test)"
      ],
      "execution_count": 96,
      "outputs": [
        {
          "output_type": "stream",
          "name": "stdout",
          "text": [
            "Training time: 13.465min \n",
            "\n",
            "score matrix for train\n",
            "********************************************************************************\n",
            "The accuracy is  0.8759502418797512\n",
            "The precision is  0.9459440942724034\n",
            "The recall is  0.7968948401246682\n",
            "The f1 is  0.8650460497462565\n",
            "the auc  is  0.8757776119942958\n",
            "\n",
            "confusion_matrix \n",
            "  [[16613   789]\n",
            " [ 3519 13807]]\n",
            "\n",
            "Classification Report\n",
            "\n",
            "              precision    recall  f1-score   support\n",
            "\n",
            "           0       0.83      0.95      0.89     17402\n",
            "           1       0.95      0.80      0.87     17326\n",
            "\n",
            "    accuracy                           0.88     34728\n",
            "   macro avg       0.89      0.88      0.88     34728\n",
            "weighted avg       0.89      0.88      0.88     34728\n",
            "\n",
            "\n",
            "\n",
            "score matrix for test\n",
            "********************************************************************************\n",
            "The accuracy is  0.8694713199723566\n",
            "The precision is  0.9438387163135158\n",
            "The recall is  0.7875042911088225\n",
            "The f1 is  0.8586132684570038\n",
            "the auc  is  0.8700130151196287\n",
            "\n",
            "confusion_matrix \n",
            "  [[5477  273]\n",
            " [1238 4588]]\n",
            "\n",
            "Classification Report\n",
            "\n",
            "              precision    recall  f1-score   support\n",
            "\n",
            "           0       0.82      0.95      0.88      5750\n",
            "           1       0.94      0.79      0.86      5826\n",
            "\n",
            "    accuracy                           0.87     11576\n",
            "   macro avg       0.88      0.87      0.87     11576\n",
            "weighted avg       0.88      0.87      0.87     11576\n",
            "\n"
          ]
        }
      ]
    },
    {
      "cell_type": "code",
      "metadata": {
        "colab": {
          "base_uri": "https://localhost:8080/"
        },
        "id": "V0ZEDVM3x-z2",
        "outputId": "b8de8a2d-2622-404d-b64b-4ff17e1ae557"
      },
      "source": [
        "#getting the best estimator\n",
        "svc_grid_model.best_estimator_"
      ],
      "execution_count": 97,
      "outputs": [
        {
          "output_type": "execute_result",
          "data": {
            "text/plain": [
              "SVC(C=1, break_ties=False, cache_size=200, class_weight=None, coef0=0.0,\n",
              "    decision_function_shape='ovr', degree=3, gamma='scale', kernel='rbf',\n",
              "    max_iter=-1, probability=False, random_state=None, shrinking=True,\n",
              "    tol=0.001, verbose=False)"
            ]
          },
          "metadata": {},
          "execution_count": 97
        }
      ]
    },
    {
      "cell_type": "code",
      "metadata": {
        "colab": {
          "base_uri": "https://localhost:8080/"
        },
        "id": "kCOW_XeVykuG",
        "outputId": "b56cb302-cdfb-459a-cb6a-f639d56d6327"
      },
      "source": [
        "#getting the best parameter\n",
        "svc_grid_model.best_params_"
      ],
      "execution_count": 98,
      "outputs": [
        {
          "output_type": "execute_result",
          "data": {
            "text/plain": [
              "{'C': 1, 'kernel': 'rbf'}"
            ]
          },
          "metadata": {},
          "execution_count": 98
        }
      ]
    },
    {
      "cell_type": "markdown",
      "metadata": {
        "id": "xgR8YnjLbcAD"
      },
      "source": [
        "---\n",
        "#XGboost\n",
        "---"
      ]
    },
    {
      "cell_type": "code",
      "metadata": {
        "id": "LOrYta-CcgwI"
      },
      "source": [
        "from xgboost import XGBClassifier"
      ],
      "execution_count": 99,
      "outputs": []
    },
    {
      "cell_type": "code",
      "metadata": {
        "id": "ZP2HDqMEcPWa"
      },
      "source": [
        "# creating XGBRegressor model\n",
        "xgboost_model=XGBClassifier()"
      ],
      "execution_count": 100,
      "outputs": []
    },
    {
      "cell_type": "code",
      "metadata": {
        "colab": {
          "base_uri": "https://localhost:8080/"
        },
        "id": "gqyHb7DihGlk",
        "outputId": "14418402-4d6a-47cc-a382-13c722526c6b"
      },
      "source": [
        "# training and evaluating the Xgboost model\n",
        "run_and_evaluate_model(xgboost_model,X_train,X_test,y_train,y_test)"
      ],
      "execution_count": 101,
      "outputs": [
        {
          "output_type": "stream",
          "name": "stdout",
          "text": [
            "Training time: 0.0781min \n",
            "\n",
            "score matrix for train\n",
            "********************************************************************************\n",
            "The accuracy is  0.873416263533748\n",
            "The precision is  0.9284862142099682\n",
            "The recall is  0.8085536188387394\n",
            "The f1 is  0.8643795890664528\n",
            "the auc  is  0.8732746257623187\n",
            "\n",
            "confusion_matrix \n",
            "  [[16323  1079]\n",
            " [ 3317 14009]]\n",
            "\n",
            "Classification Report\n",
            "\n",
            "              precision    recall  f1-score   support\n",
            "\n",
            "           0       0.83      0.94      0.88     17402\n",
            "           1       0.93      0.81      0.86     17326\n",
            "\n",
            "    accuracy                           0.87     34728\n",
            "   macro avg       0.88      0.87      0.87     34728\n",
            "weighted avg       0.88      0.87      0.87     34728\n",
            "\n",
            "\n",
            "\n",
            "score matrix for test\n",
            "********************************************************************************\n",
            "The accuracy is  0.8697304768486523\n",
            "The precision is  0.9234994115339349\n",
            "The recall is  0.8081016134569172\n",
            "The f1 is  0.8619553277187844\n",
            "the auc  is  0.8701377632501978\n",
            "\n",
            "confusion_matrix \n",
            "  [[5360  390]\n",
            " [1118 4708]]\n",
            "\n",
            "Classification Report\n",
            "\n",
            "              precision    recall  f1-score   support\n",
            "\n",
            "           0       0.83      0.93      0.88      5750\n",
            "           1       0.92      0.81      0.86      5826\n",
            "\n",
            "    accuracy                           0.87     11576\n",
            "   macro avg       0.88      0.87      0.87     11576\n",
            "weighted avg       0.88      0.87      0.87     11576\n",
            "\n"
          ]
        }
      ]
    },
    {
      "cell_type": "markdown",
      "metadata": {
        "id": "z58Fi08FhJyU"
      },
      "source": [
        "### Hyperparameter tuning for Xgboost"
      ]
    },
    {
      "cell_type": "code",
      "metadata": {
        "id": "3GbdBF9Md56J"
      },
      "source": [
        "# finding the best parameters for XGBRegressor by gridsearchcv\n",
        "params={'n_estimators': [50,100,150],'max_depth': [3,5,9]}\n",
        "grid_xgboost_model=GridSearchCV(estimator=xgboost_model,param_grid=params,cv=5,scoring='recall',verbose=5,n_jobs=-1)"
      ],
      "execution_count": 102,
      "outputs": []
    },
    {
      "cell_type": "code",
      "metadata": {
        "colab": {
          "base_uri": "https://localhost:8080/"
        },
        "id": "h3IEw41rlr_o",
        "outputId": "a80af871-09fe-44e2-abee-c36edb0bb622"
      },
      "source": [
        "# training and evaluating the xgb_grid\n",
        "run_and_evaluate_model(grid_xgboost_model,X_train,X_test,y_train,y_test)"
      ],
      "execution_count": 103,
      "outputs": [
        {
          "output_type": "stream",
          "name": "stdout",
          "text": [
            "Fitting 5 folds for each of 9 candidates, totalling 45 fits\n"
          ]
        },
        {
          "output_type": "stream",
          "name": "stderr",
          "text": [
            "[Parallel(n_jobs=-1)]: Using backend LokyBackend with 2 concurrent workers.\n",
            "[Parallel(n_jobs=-1)]: Done  14 tasks      | elapsed:   41.9s\n",
            "[Parallel(n_jobs=-1)]: Done  45 out of  45 | elapsed:  4.4min finished\n"
          ]
        },
        {
          "output_type": "stream",
          "name": "stdout",
          "text": [
            "Training time: 4.7438min \n",
            "\n",
            "score matrix for train\n",
            "********************************************************************************\n",
            "The accuracy is  0.9501554941257775\n",
            "The precision is  0.9893316598682146\n",
            "The recall is  0.9099041902343299\n",
            "The f1 is  0.947957066835032\n",
            "the auc  is  0.9500675990822265\n",
            "\n",
            "confusion_matrix \n",
            "  [[17232   170]\n",
            " [ 1561 15765]]\n",
            "\n",
            "Classification Report\n",
            "\n",
            "              precision    recall  f1-score   support\n",
            "\n",
            "           0       0.92      0.99      0.95     17402\n",
            "           1       0.99      0.91      0.95     17326\n",
            "\n",
            "    accuracy                           0.95     34728\n",
            "   macro avg       0.95      0.95      0.95     34728\n",
            "weighted avg       0.95      0.95      0.95     34728\n",
            "\n",
            "\n",
            "\n",
            "score matrix for test\n",
            "********************************************************************************\n",
            "The accuracy is  0.8777643400138218\n",
            "The precision is  0.9290021396615444\n",
            "The recall is  0.819773429454171\n",
            "The f1 is  0.8709765660618218\n",
            "the auc  is  0.8781475842923029\n",
            "\n",
            "confusion_matrix \n",
            "  [[5385  365]\n",
            " [1050 4776]]\n",
            "\n",
            "Classification Report\n",
            "\n",
            "              precision    recall  f1-score   support\n",
            "\n",
            "           0       0.84      0.94      0.88      5750\n",
            "           1       0.93      0.82      0.87      5826\n",
            "\n",
            "    accuracy                           0.88     11576\n",
            "   macro avg       0.88      0.88      0.88     11576\n",
            "weighted avg       0.88      0.88      0.88     11576\n",
            "\n"
          ]
        }
      ]
    },
    {
      "cell_type": "code",
      "metadata": {
        "colab": {
          "base_uri": "https://localhost:8080/"
        },
        "id": "1Ml8dUNnb5fJ",
        "outputId": "6bc294a4-72a5-4324-aa44-58034480f462"
      },
      "source": [
        "#getting the best estimator\n",
        "grid_xgboost_model.best_estimator_"
      ],
      "execution_count": 104,
      "outputs": [
        {
          "output_type": "execute_result",
          "data": {
            "text/plain": [
              "XGBClassifier(base_score=0.5, booster='gbtree', colsample_bylevel=1,\n",
              "              colsample_bynode=1, colsample_bytree=1, gamma=0,\n",
              "              learning_rate=0.1, max_delta_step=0, max_depth=9,\n",
              "              min_child_weight=1, missing=None, n_estimators=150, n_jobs=1,\n",
              "              nthread=None, objective='binary:logistic', random_state=0,\n",
              "              reg_alpha=0, reg_lambda=1, scale_pos_weight=1, seed=None,\n",
              "              silent=None, subsample=1, verbosity=1)"
            ]
          },
          "metadata": {},
          "execution_count": 104
        }
      ]
    },
    {
      "cell_type": "code",
      "metadata": {
        "id": "bIahtIQdiFb0"
      },
      "source": [
        "optimal_xgboost_model=grid_xgboost_model.best_estimator_"
      ],
      "execution_count": 105,
      "outputs": []
    },
    {
      "cell_type": "code",
      "metadata": {
        "colab": {
          "base_uri": "https://localhost:8080/",
          "height": 0
        },
        "id": "Cr6CRiJgiVf4",
        "outputId": "cd510994-9398-4974-90cc-2a2f9a82d54b"
      },
      "source": [
        "#visaulizing feature importance\n",
        "get_features_importance(optimal_xgboost_model,X_train)"
      ],
      "execution_count": 106,
      "outputs": [
        {
          "output_type": "stream",
          "name": "stdout",
          "text": [
            "==========================Features Importance============================\n",
            "\n",
            " XGBClassifier(base_score=0.5, booster='gbtree', colsample_bylevel=1,\n",
            "              colsample_bynode=1, colsample_bytree=1, gamma=0,\n",
            "              learning_rate=0.1, max_delta_step=0, max_depth=9,\n",
            "              min_child_weight=1, missing=None, n_estimators=150, n_jobs=1,\n",
            "              nthread=None, objective='binary:logistic', random_state=0,\n",
            "              reg_alpha=0, reg_lambda=1, scale_pos_weight=1, seed=None,\n",
            "              silent=None, subsample=1, verbosity=1)  \n",
            "=========================================================================\n",
            "\n"
          ]
        },
        {
          "output_type": "display_data",
          "data": {
            "image/png": "[encoded data removed]",
            "text/plain": [
              "<Figure size 1080x360 with 1 Axes>"
            ]
          },
          "metadata": {
            "needs_background": "light"
          }
        }
      ]
    },
    {
      "cell_type": "markdown",
      "metadata": {
        "id": "FKBMHBWPCxEj"
      },
      "source": [
        "---\n",
        "# CatBoost\n",
        "---"
      ]
    },
    {
      "cell_type": "code",
      "metadata": {
        "colab": {
          "base_uri": "https://localhost:8080/"
        },
        "id": "LD2KzpZtBP5u",
        "outputId": "684e3b86-d631-4f78-b57a-f736283a8f22"
      },
      "source": [
        "!pip install catboost"
      ],
      "execution_count": 107,
      "outputs": [
        {
          "output_type": "stream",
          "name": "stdout",
          "text": [
            "Collecting catboost\n",
            "  Downloading catboost-1.0.0-cp37-none-manylinux1_x86_64.whl (76.4 MB)\n",
            "\u001b[K     |████████████████████████████████| 76.4 MB 27 kB/s \n",
            "\u001b[?25hRequirement already satisfied: scipy in /usr/local/lib/python3.7/dist-packages (from catboost) (1.4.1)\n",
            "Requirement already satisfied: plotly in /usr/local/lib/python3.7/dist-packages (from catboost) (4.4.1)\n",
            "Requirement already satisfied: numpy>=1.16.0 in /usr/local/lib/python3.7/dist-packages (from catboost) (1.19.5)\n",
            "Requirement already satisfied: six in /usr/local/lib/python3.7/dist-packages (from catboost) (1.15.0)\n",
            "Requirement already satisfied: matplotlib in /usr/local/lib/python3.7/dist-packages (from catboost) (3.2.2)\n",
            "Requirement already satisfied: pandas>=0.24.0 in /usr/local/lib/python3.7/dist-packages (from catboost) (1.1.5)\n",
            "Requirement already satisfied: graphviz in /usr/local/lib/python3.7/dist-packages (from catboost) (0.10.1)\n",
            "Requirement already satisfied: pytz>=2017.2 in /usr/local/lib/python3.7/dist-packages (from pandas>=0.24.0->catboost) (2018.9)\n",
            "Requirement already satisfied: python-dateutil>=2.7.3 in /usr/local/lib/python3.7/dist-packages (from pandas>=0.24.0->catboost) (2.8.2)\n",
            "Requirement already satisfied: pyparsing!=2.0.4,!=2.1.2,!=2.1.6,>=2.0.1 in /usr/local/lib/python3.7/dist-packages (from matplotlib->catboost) (2.4.7)\n",
            "Requirement already satisfied: cycler>=0.10 in /usr/local/lib/python3.7/dist-packages (from matplotlib->catboost) (0.10.0)\n",
            "Requirement already satisfied: kiwisolver>=1.0.1 in /usr/local/lib/python3.7/dist-packages (from matplotlib->catboost) (1.3.2)\n",
            "Requirement already satisfied: retrying>=1.3.3 in /usr/local/lib/python3.7/dist-packages (from plotly->catboost) (1.3.3)\n",
            "Installing collected packages: catboost\n",
            "Successfully installed catboost-1.0.0\n"
          ]
        }
      ]
    },
    {
      "cell_type": "code",
      "metadata": {
        "id": "jM3gEkvre3MN"
      },
      "source": [
        "from catboost import CatBoostClassifier"
      ],
      "execution_count": 108,
      "outputs": []
    },
    {
      "cell_type": "code",
      "metadata": {
        "id": "DQOjsxlGBvZH"
      },
      "source": [
        "cb_model=CatBoostClassifier(verbose=0)"
      ],
      "execution_count": 109,
      "outputs": []
    },
    {
      "cell_type": "code",
      "metadata": {
        "id": "czik2FScCKDd"
      },
      "source": [
        "cb_model=CatBoostClassifier()"
      ],
      "execution_count": 110,
      "outputs": []
    },
    {
      "cell_type": "code",
      "metadata": {
        "colab": {
          "base_uri": "https://localhost:8080/"
        },
        "id": "MzkmYAX1hXP8",
        "outputId": "50e84797-85e3-48b0-d6a8-d6c6d9e73cd0"
      },
      "source": [
        "# training and evaluating the cb model\n",
        "run_and_evaluate_model(cb_model,X_train,X_test,y_train,y_test)"
      ],
      "execution_count": 111,
      "outputs": [
        {
          "output_type": "stream",
          "name": "stdout",
          "text": [
            "Learning rate set to 0.04686\n",
            "0:\tlearn: 0.6497786\ttotal: 63.3ms\tremaining: 1m 3s\n",
            "1:\tlearn: 0.6187235\ttotal: 76.5ms\tremaining: 38.2s\n",
            "2:\tlearn: 0.5995705\ttotal: 89.6ms\tremaining: 29.8s\n",
            "3:\tlearn: 0.5755504\ttotal: 102ms\tremaining: 25.4s\n",
            "4:\tlearn: 0.5541608\ttotal: 115ms\tremaining: 22.8s\n",
            "5:\tlearn: 0.5403043\ttotal: 128ms\tremaining: 21.2s\n",
            "6:\tlearn: 0.5225887\ttotal: 140ms\tremaining: 19.9s\n",
            "7:\tlearn: 0.5116689\ttotal: 154ms\tremaining: 19.1s\n",
            "8:\tlearn: 0.4915537\ttotal: 166ms\tremaining: 18.3s\n",
            "9:\tlearn: 0.4825958\ttotal: 179ms\tremaining: 17.8s\n",
            "10:\tlearn: 0.4744184\ttotal: 195ms\tremaining: 17.6s\n",
            "11:\tlearn: 0.4623154\ttotal: 209ms\tremaining: 17.2s\n",
            "12:\tlearn: 0.4520250\ttotal: 221ms\tremaining: 16.8s\n",
            "13:\tlearn: 0.4481420\ttotal: 234ms\tremaining: 16.4s\n",
            "14:\tlearn: 0.4425628\ttotal: 248ms\tremaining: 16.3s\n",
            "15:\tlearn: 0.4334162\ttotal: 261ms\tremaining: 16.1s\n",
            "16:\tlearn: 0.4300307\ttotal: 274ms\tremaining: 15.8s\n",
            "17:\tlearn: 0.4226780\ttotal: 287ms\tremaining: 15.7s\n",
            "18:\tlearn: 0.4157288\ttotal: 301ms\tremaining: 15.5s\n",
            "19:\tlearn: 0.4118934\ttotal: 314ms\tremaining: 15.4s\n",
            "20:\tlearn: 0.4093681\ttotal: 327ms\tremaining: 15.2s\n",
            "21:\tlearn: 0.4070379\ttotal: 340ms\tremaining: 15.1s\n",
            "22:\tlearn: 0.4027373\ttotal: 353ms\tremaining: 15s\n",
            "23:\tlearn: 0.4007678\ttotal: 366ms\tremaining: 14.9s\n",
            "24:\tlearn: 0.3958554\ttotal: 387ms\tremaining: 15.1s\n",
            "25:\tlearn: 0.3940404\ttotal: 403ms\tremaining: 15.1s\n",
            "26:\tlearn: 0.3927761\ttotal: 416ms\tremaining: 15s\n",
            "27:\tlearn: 0.3845856\ttotal: 429ms\tremaining: 14.9s\n",
            "28:\tlearn: 0.3792596\ttotal: 442ms\tremaining: 14.8s\n",
            "29:\tlearn: 0.3750355\ttotal: 456ms\tremaining: 14.7s\n",
            "30:\tlearn: 0.3731720\ttotal: 470ms\tremaining: 14.7s\n",
            "31:\tlearn: 0.3718316\ttotal: 483ms\tremaining: 14.6s\n",
            "32:\tlearn: 0.3676262\ttotal: 500ms\tremaining: 14.6s\n",
            "33:\tlearn: 0.3666047\ttotal: 514ms\tremaining: 14.6s\n",
            "34:\tlearn: 0.3649664\ttotal: 527ms\tremaining: 14.5s\n",
            "35:\tlearn: 0.3639242\ttotal: 540ms\tremaining: 14.5s\n",
            "36:\tlearn: 0.3630265\ttotal: 553ms\tremaining: 14.4s\n",
            "37:\tlearn: 0.3621865\ttotal: 566ms\tremaining: 14.3s\n",
            "38:\tlearn: 0.3613385\ttotal: 580ms\tremaining: 14.3s\n",
            "39:\tlearn: 0.3606008\ttotal: 592ms\tremaining: 14.2s\n",
            "40:\tlearn: 0.3578482\ttotal: 611ms\tremaining: 14.3s\n",
            "41:\tlearn: 0.3553521\ttotal: 625ms\tremaining: 14.2s\n",
            "42:\tlearn: 0.3546316\ttotal: 638ms\tremaining: 14.2s\n",
            "43:\tlearn: 0.3526936\ttotal: 651ms\tremaining: 14.1s\n",
            "44:\tlearn: 0.3521180\ttotal: 663ms\tremaining: 14.1s\n",
            "45:\tlearn: 0.3506037\ttotal: 676ms\tremaining: 14s\n",
            "46:\tlearn: 0.3479084\ttotal: 689ms\tremaining: 14s\n",
            "47:\tlearn: 0.3474237\ttotal: 701ms\tremaining: 13.9s\n",
            "48:\tlearn: 0.3468952\ttotal: 713ms\tremaining: 13.8s\n",
            "49:\tlearn: 0.3457408\ttotal: 726ms\tremaining: 13.8s\n",
            "50:\tlearn: 0.3451534\ttotal: 739ms\tremaining: 13.8s\n",
            "51:\tlearn: 0.3446988\ttotal: 752ms\tremaining: 13.7s\n",
            "52:\tlearn: 0.3436201\ttotal: 765ms\tremaining: 13.7s\n",
            "53:\tlearn: 0.3431873\ttotal: 777ms\tremaining: 13.6s\n",
            "54:\tlearn: 0.3427140\ttotal: 791ms\tremaining: 13.6s\n",
            "55:\tlearn: 0.3390013\ttotal: 804ms\tremaining: 13.6s\n",
            "56:\tlearn: 0.3386136\ttotal: 828ms\tremaining: 13.7s\n",
            "57:\tlearn: 0.3382876\ttotal: 841ms\tremaining: 13.7s\n",
            "58:\tlearn: 0.3379185\ttotal: 856ms\tremaining: 13.6s\n",
            "59:\tlearn: 0.3362171\ttotal: 870ms\tremaining: 13.6s\n",
            "60:\tlearn: 0.3358451\ttotal: 885ms\tremaining: 13.6s\n",
            "61:\tlearn: 0.3354653\ttotal: 899ms\tremaining: 13.6s\n",
            "62:\tlearn: 0.3346889\ttotal: 918ms\tremaining: 13.7s\n",
            "63:\tlearn: 0.3331608\ttotal: 933ms\tremaining: 13.6s\n",
            "64:\tlearn: 0.3328181\ttotal: 947ms\tremaining: 13.6s\n",
            "65:\tlearn: 0.3324688\ttotal: 960ms\tremaining: 13.6s\n",
            "66:\tlearn: 0.3320558\ttotal: 974ms\tremaining: 13.6s\n",
            "67:\tlearn: 0.3314286\ttotal: 987ms\tremaining: 13.5s\n",
            "68:\tlearn: 0.3310260\ttotal: 1s\tremaining: 13.5s\n",
            "69:\tlearn: 0.3307705\ttotal: 1.01s\tremaining: 13.5s\n",
            "70:\tlearn: 0.3305109\ttotal: 1.03s\tremaining: 13.5s\n",
            "71:\tlearn: 0.3301288\ttotal: 1.05s\tremaining: 13.5s\n",
            "72:\tlearn: 0.3296085\ttotal: 1.06s\tremaining: 13.5s\n",
            "73:\tlearn: 0.3294058\ttotal: 1.07s\tremaining: 13.5s\n",
            "74:\tlearn: 0.3290777\ttotal: 1.09s\tremaining: 13.4s\n",
            "75:\tlearn: 0.3250951\ttotal: 1.1s\tremaining: 13.4s\n",
            "76:\tlearn: 0.3248505\ttotal: 1.11s\tremaining: 13.4s\n",
            "77:\tlearn: 0.3245626\ttotal: 1.13s\tremaining: 13.3s\n",
            "78:\tlearn: 0.3242562\ttotal: 1.14s\tremaining: 13.3s\n",
            "79:\tlearn: 0.3240580\ttotal: 1.15s\tremaining: 13.3s\n",
            "80:\tlearn: 0.3229987\ttotal: 1.17s\tremaining: 13.2s\n",
            "81:\tlearn: 0.3227123\ttotal: 1.18s\tremaining: 13.2s\n",
            "82:\tlearn: 0.3220494\ttotal: 1.19s\tremaining: 13.2s\n",
            "83:\tlearn: 0.3218582\ttotal: 1.21s\tremaining: 13.2s\n",
            "84:\tlearn: 0.3215110\ttotal: 1.22s\tremaining: 13.1s\n",
            "85:\tlearn: 0.3213199\ttotal: 1.23s\tremaining: 13.1s\n",
            "86:\tlearn: 0.3211269\ttotal: 1.25s\tremaining: 13.2s\n",
            "87:\tlearn: 0.3208633\ttotal: 1.27s\tremaining: 13.1s\n",
            "88:\tlearn: 0.3200326\ttotal: 1.28s\tremaining: 13.1s\n",
            "89:\tlearn: 0.3187445\ttotal: 1.3s\tremaining: 13.2s\n",
            "90:\tlearn: 0.3185477\ttotal: 1.31s\tremaining: 13.1s\n",
            "91:\tlearn: 0.3183779\ttotal: 1.33s\tremaining: 13.1s\n",
            "92:\tlearn: 0.3178607\ttotal: 1.34s\tremaining: 13.1s\n",
            "93:\tlearn: 0.3177267\ttotal: 1.35s\tremaining: 13.1s\n",
            "94:\tlearn: 0.3175932\ttotal: 1.38s\tremaining: 13.1s\n",
            "95:\tlearn: 0.3173935\ttotal: 1.39s\tremaining: 13.1s\n",
            "96:\tlearn: 0.3172617\ttotal: 1.41s\tremaining: 13.1s\n",
            "97:\tlearn: 0.3171291\ttotal: 1.42s\tremaining: 13.1s\n",
            "98:\tlearn: 0.3169896\ttotal: 1.44s\tremaining: 13.1s\n",
            "99:\tlearn: 0.3168911\ttotal: 1.45s\tremaining: 13.1s\n",
            "100:\tlearn: 0.3163914\ttotal: 1.47s\tremaining: 13.1s\n",
            "101:\tlearn: 0.3156754\ttotal: 1.48s\tremaining: 13s\n",
            "102:\tlearn: 0.3155219\ttotal: 1.49s\tremaining: 13s\n",
            "103:\tlearn: 0.3153835\ttotal: 1.51s\tremaining: 13s\n",
            "104:\tlearn: 0.3152135\ttotal: 1.52s\tremaining: 12.9s\n",
            "105:\tlearn: 0.3150167\ttotal: 1.53s\tremaining: 12.9s\n",
            "106:\tlearn: 0.3149000\ttotal: 1.54s\tremaining: 12.9s\n",
            "107:\tlearn: 0.3147747\ttotal: 1.56s\tremaining: 12.9s\n",
            "108:\tlearn: 0.3145573\ttotal: 1.57s\tremaining: 12.8s\n",
            "109:\tlearn: 0.3144620\ttotal: 1.58s\tremaining: 12.8s\n",
            "110:\tlearn: 0.3126741\ttotal: 1.6s\tremaining: 12.8s\n",
            "111:\tlearn: 0.3124871\ttotal: 1.61s\tremaining: 12.8s\n",
            "112:\tlearn: 0.3122872\ttotal: 1.62s\tremaining: 12.8s\n",
            "113:\tlearn: 0.3119366\ttotal: 1.64s\tremaining: 12.7s\n",
            "114:\tlearn: 0.3117791\ttotal: 1.66s\tremaining: 12.7s\n",
            "115:\tlearn: 0.3115682\ttotal: 1.67s\tremaining: 12.7s\n",
            "116:\tlearn: 0.3114725\ttotal: 1.68s\tremaining: 12.7s\n",
            "117:\tlearn: 0.3113443\ttotal: 1.7s\tremaining: 12.7s\n",
            "118:\tlearn: 0.3110997\ttotal: 1.71s\tremaining: 12.6s\n",
            "119:\tlearn: 0.3109845\ttotal: 1.72s\tremaining: 12.6s\n",
            "120:\tlearn: 0.3108604\ttotal: 1.74s\tremaining: 12.6s\n",
            "121:\tlearn: 0.3107593\ttotal: 1.75s\tremaining: 12.6s\n",
            "122:\tlearn: 0.3106335\ttotal: 1.76s\tremaining: 12.6s\n",
            "123:\tlearn: 0.3098901\ttotal: 1.77s\tremaining: 12.5s\n",
            "124:\tlearn: 0.3097740\ttotal: 1.79s\tremaining: 12.5s\n",
            "125:\tlearn: 0.3095959\ttotal: 1.8s\tremaining: 12.5s\n",
            "126:\tlearn: 0.3094506\ttotal: 1.81s\tremaining: 12.5s\n",
            "127:\tlearn: 0.3093637\ttotal: 1.83s\tremaining: 12.4s\n",
            "128:\tlearn: 0.3092648\ttotal: 1.84s\tremaining: 12.4s\n",
            "129:\tlearn: 0.3090709\ttotal: 1.85s\tremaining: 12.4s\n",
            "130:\tlearn: 0.3089661\ttotal: 1.87s\tremaining: 12.4s\n",
            "131:\tlearn: 0.3089062\ttotal: 1.88s\tremaining: 12.3s\n",
            "132:\tlearn: 0.3087467\ttotal: 1.89s\tremaining: 12.3s\n",
            "133:\tlearn: 0.3086491\ttotal: 1.9s\tremaining: 12.3s\n",
            "134:\tlearn: 0.3084932\ttotal: 1.91s\tremaining: 12.3s\n",
            "135:\tlearn: 0.3083811\ttotal: 1.93s\tremaining: 12.2s\n",
            "136:\tlearn: 0.3082491\ttotal: 1.94s\tremaining: 12.2s\n",
            "137:\tlearn: 0.3081010\ttotal: 1.95s\tremaining: 12.2s\n",
            "138:\tlearn: 0.3079713\ttotal: 1.97s\tremaining: 12.2s\n",
            "139:\tlearn: 0.3078457\ttotal: 1.98s\tremaining: 12.1s\n",
            "140:\tlearn: 0.3077158\ttotal: 1.99s\tremaining: 12.1s\n",
            "141:\tlearn: 0.3075608\ttotal: 2s\tremaining: 12.1s\n",
            "142:\tlearn: 0.3074911\ttotal: 2.02s\tremaining: 12.1s\n",
            "143:\tlearn: 0.3074062\ttotal: 2.03s\tremaining: 12.1s\n",
            "144:\tlearn: 0.3073302\ttotal: 2.04s\tremaining: 12s\n",
            "145:\tlearn: 0.3071084\ttotal: 2.05s\tremaining: 12s\n",
            "146:\tlearn: 0.3069467\ttotal: 2.07s\tremaining: 12s\n",
            "147:\tlearn: 0.3068256\ttotal: 2.08s\tremaining: 12s\n",
            "148:\tlearn: 0.3067455\ttotal: 2.1s\tremaining: 12s\n",
            "149:\tlearn: 0.3066204\ttotal: 2.11s\tremaining: 12s\n",
            "150:\tlearn: 0.3065457\ttotal: 2.12s\tremaining: 11.9s\n",
            "151:\tlearn: 0.3064198\ttotal: 2.13s\tremaining: 11.9s\n",
            "152:\tlearn: 0.3063515\ttotal: 2.15s\tremaining: 11.9s\n",
            "153:\tlearn: 0.3062468\ttotal: 2.16s\tremaining: 11.9s\n",
            "154:\tlearn: 0.3061084\ttotal: 2.17s\tremaining: 11.9s\n",
            "155:\tlearn: 0.3060074\ttotal: 2.19s\tremaining: 11.8s\n",
            "156:\tlearn: 0.3059316\ttotal: 2.2s\tremaining: 11.8s\n",
            "157:\tlearn: 0.3058330\ttotal: 2.21s\tremaining: 11.8s\n",
            "158:\tlearn: 0.3056997\ttotal: 2.23s\tremaining: 11.8s\n",
            "159:\tlearn: 0.3054957\ttotal: 2.24s\tremaining: 11.8s\n",
            "160:\tlearn: 0.3053877\ttotal: 2.25s\tremaining: 11.7s\n",
            "161:\tlearn: 0.3052832\ttotal: 2.27s\tremaining: 11.7s\n",
            "162:\tlearn: 0.3051232\ttotal: 2.28s\tremaining: 11.7s\n",
            "163:\tlearn: 0.3050118\ttotal: 2.29s\tremaining: 11.7s\n",
            "164:\tlearn: 0.3049159\ttotal: 2.31s\tremaining: 11.7s\n",
            "165:\tlearn: 0.3048457\ttotal: 2.32s\tremaining: 11.7s\n",
            "166:\tlearn: 0.3047001\ttotal: 2.33s\tremaining: 11.6s\n",
            "167:\tlearn: 0.3043276\ttotal: 2.35s\tremaining: 11.6s\n",
            "168:\tlearn: 0.3042271\ttotal: 2.37s\tremaining: 11.7s\n",
            "169:\tlearn: 0.3041828\ttotal: 2.38s\tremaining: 11.6s\n",
            "170:\tlearn: 0.3040640\ttotal: 2.4s\tremaining: 11.6s\n",
            "171:\tlearn: 0.3039403\ttotal: 2.41s\tremaining: 11.6s\n",
            "172:\tlearn: 0.3037973\ttotal: 2.42s\tremaining: 11.6s\n",
            "173:\tlearn: 0.3037069\ttotal: 2.44s\tremaining: 11.6s\n",
            "174:\tlearn: 0.3035549\ttotal: 2.45s\tremaining: 11.6s\n",
            "175:\tlearn: 0.3034458\ttotal: 2.46s\tremaining: 11.5s\n",
            "176:\tlearn: 0.3033275\ttotal: 2.48s\tremaining: 11.5s\n",
            "177:\tlearn: 0.3032469\ttotal: 2.5s\tremaining: 11.5s\n",
            "178:\tlearn: 0.3031056\ttotal: 2.51s\tremaining: 11.5s\n",
            "179:\tlearn: 0.3029149\ttotal: 2.52s\tremaining: 11.5s\n",
            "180:\tlearn: 0.3028142\ttotal: 2.54s\tremaining: 11.5s\n",
            "181:\tlearn: 0.3027077\ttotal: 2.55s\tremaining: 11.5s\n",
            "182:\tlearn: 0.3025817\ttotal: 2.56s\tremaining: 11.4s\n",
            "183:\tlearn: 0.3024825\ttotal: 2.58s\tremaining: 11.4s\n",
            "184:\tlearn: 0.3021488\ttotal: 2.59s\tremaining: 11.4s\n",
            "185:\tlearn: 0.3020535\ttotal: 2.6s\tremaining: 11.4s\n",
            "186:\tlearn: 0.3019563\ttotal: 2.61s\tremaining: 11.4s\n",
            "187:\tlearn: 0.3018462\ttotal: 2.63s\tremaining: 11.3s\n",
            "188:\tlearn: 0.3015595\ttotal: 2.64s\tremaining: 11.3s\n",
            "189:\tlearn: 0.3010598\ttotal: 2.65s\tremaining: 11.3s\n",
            "190:\tlearn: 0.3009294\ttotal: 2.67s\tremaining: 11.3s\n",
            "191:\tlearn: 0.3008193\ttotal: 2.68s\tremaining: 11.3s\n",
            "192:\tlearn: 0.3007123\ttotal: 2.7s\tremaining: 11.3s\n",
            "193:\tlearn: 0.3006236\ttotal: 2.71s\tremaining: 11.3s\n",
            "194:\tlearn: 0.3005296\ttotal: 2.73s\tremaining: 11.3s\n",
            "195:\tlearn: 0.3004436\ttotal: 2.74s\tremaining: 11.2s\n",
            "196:\tlearn: 0.3002996\ttotal: 2.75s\tremaining: 11.2s\n",
            "197:\tlearn: 0.3002057\ttotal: 2.77s\tremaining: 11.2s\n",
            "198:\tlearn: 0.3000929\ttotal: 2.78s\tremaining: 11.2s\n",
            "199:\tlearn: 0.2999901\ttotal: 2.79s\tremaining: 11.2s\n",
            "200:\tlearn: 0.2999079\ttotal: 2.8s\tremaining: 11.1s\n",
            "201:\tlearn: 0.2997505\ttotal: 2.82s\tremaining: 11.1s\n",
            "202:\tlearn: 0.2996322\ttotal: 2.83s\tremaining: 11.1s\n",
            "203:\tlearn: 0.2995440\ttotal: 2.84s\tremaining: 11.1s\n",
            "204:\tlearn: 0.2994127\ttotal: 2.86s\tremaining: 11.1s\n",
            "205:\tlearn: 0.2992565\ttotal: 2.87s\tremaining: 11.1s\n",
            "206:\tlearn: 0.2991769\ttotal: 2.88s\tremaining: 11s\n",
            "207:\tlearn: 0.2990944\ttotal: 2.9s\tremaining: 11s\n",
            "208:\tlearn: 0.2989907\ttotal: 2.91s\tremaining: 11s\n",
            "209:\tlearn: 0.2989188\ttotal: 2.92s\tremaining: 11s\n",
            "210:\tlearn: 0.2973337\ttotal: 2.94s\tremaining: 11s\n",
            "211:\tlearn: 0.2972598\ttotal: 2.95s\tremaining: 11s\n",
            "212:\tlearn: 0.2971463\ttotal: 2.97s\tremaining: 11s\n",
            "213:\tlearn: 0.2970613\ttotal: 2.98s\tremaining: 10.9s\n",
            "214:\tlearn: 0.2969743\ttotal: 2.99s\tremaining: 10.9s\n",
            "215:\tlearn: 0.2968748\ttotal: 3.01s\tremaining: 10.9s\n",
            "216:\tlearn: 0.2967792\ttotal: 3.02s\tremaining: 10.9s\n",
            "217:\tlearn: 0.2967203\ttotal: 3.03s\tremaining: 10.9s\n",
            "218:\tlearn: 0.2966268\ttotal: 3.04s\tremaining: 10.9s\n",
            "219:\tlearn: 0.2964651\ttotal: 3.06s\tremaining: 10.8s\n",
            "220:\tlearn: 0.2962915\ttotal: 3.07s\tremaining: 10.8s\n",
            "221:\tlearn: 0.2962134\ttotal: 3.08s\tremaining: 10.8s\n",
            "222:\tlearn: 0.2961100\ttotal: 3.1s\tremaining: 10.8s\n",
            "223:\tlearn: 0.2959531\ttotal: 3.11s\tremaining: 10.8s\n",
            "224:\tlearn: 0.2958222\ttotal: 3.13s\tremaining: 10.8s\n",
            "225:\tlearn: 0.2956688\ttotal: 3.14s\tremaining: 10.8s\n",
            "226:\tlearn: 0.2955532\ttotal: 3.15s\tremaining: 10.7s\n",
            "227:\tlearn: 0.2954451\ttotal: 3.17s\tremaining: 10.7s\n",
            "228:\tlearn: 0.2953279\ttotal: 3.18s\tremaining: 10.7s\n",
            "229:\tlearn: 0.2951064\ttotal: 3.19s\tremaining: 10.7s\n",
            "230:\tlearn: 0.2949751\ttotal: 3.21s\tremaining: 10.7s\n",
            "231:\tlearn: 0.2948641\ttotal: 3.22s\tremaining: 10.7s\n",
            "232:\tlearn: 0.2947921\ttotal: 3.23s\tremaining: 10.6s\n",
            "233:\tlearn: 0.2946975\ttotal: 3.25s\tremaining: 10.6s\n",
            "234:\tlearn: 0.2946062\ttotal: 3.26s\tremaining: 10.6s\n",
            "235:\tlearn: 0.2944863\ttotal: 3.27s\tremaining: 10.6s\n",
            "236:\tlearn: 0.2943991\ttotal: 3.28s\tremaining: 10.6s\n",
            "237:\tlearn: 0.2940714\ttotal: 3.29s\tremaining: 10.5s\n",
            "238:\tlearn: 0.2939804\ttotal: 3.31s\tremaining: 10.5s\n",
            "239:\tlearn: 0.2938272\ttotal: 3.33s\tremaining: 10.5s\n",
            "240:\tlearn: 0.2937489\ttotal: 3.34s\tremaining: 10.5s\n",
            "241:\tlearn: 0.2936116\ttotal: 3.36s\tremaining: 10.5s\n",
            "242:\tlearn: 0.2934701\ttotal: 3.38s\tremaining: 10.5s\n",
            "243:\tlearn: 0.2933893\ttotal: 3.39s\tremaining: 10.5s\n",
            "244:\tlearn: 0.2932820\ttotal: 3.4s\tremaining: 10.5s\n",
            "245:\tlearn: 0.2931761\ttotal: 3.43s\tremaining: 10.5s\n",
            "246:\tlearn: 0.2930797\ttotal: 3.46s\tremaining: 10.5s\n",
            "247:\tlearn: 0.2929632\ttotal: 3.47s\tremaining: 10.5s\n",
            "248:\tlearn: 0.2924852\ttotal: 3.49s\tremaining: 10.5s\n",
            "249:\tlearn: 0.2923725\ttotal: 3.5s\tremaining: 10.5s\n",
            "250:\tlearn: 0.2923065\ttotal: 3.51s\tremaining: 10.5s\n",
            "251:\tlearn: 0.2921942\ttotal: 3.53s\tremaining: 10.5s\n",
            "252:\tlearn: 0.2917768\ttotal: 3.55s\tremaining: 10.5s\n",
            "253:\tlearn: 0.2916281\ttotal: 3.56s\tremaining: 10.5s\n",
            "254:\tlearn: 0.2915285\ttotal: 3.57s\tremaining: 10.4s\n",
            "255:\tlearn: 0.2914619\ttotal: 3.58s\tremaining: 10.4s\n",
            "256:\tlearn: 0.2913784\ttotal: 3.6s\tremaining: 10.4s\n",
            "257:\tlearn: 0.2911138\ttotal: 3.61s\tremaining: 10.4s\n",
            "258:\tlearn: 0.2908728\ttotal: 3.62s\tremaining: 10.4s\n",
            "259:\tlearn: 0.2907842\ttotal: 3.64s\tremaining: 10.4s\n",
            "260:\tlearn: 0.2906414\ttotal: 3.65s\tremaining: 10.3s\n",
            "261:\tlearn: 0.2905442\ttotal: 3.66s\tremaining: 10.3s\n",
            "262:\tlearn: 0.2904296\ttotal: 3.68s\tremaining: 10.3s\n",
            "263:\tlearn: 0.2903399\ttotal: 3.69s\tremaining: 10.3s\n",
            "264:\tlearn: 0.2902679\ttotal: 3.7s\tremaining: 10.3s\n",
            "265:\tlearn: 0.2893550\ttotal: 3.72s\tremaining: 10.3s\n",
            "266:\tlearn: 0.2892455\ttotal: 3.73s\tremaining: 10.3s\n",
            "267:\tlearn: 0.2891663\ttotal: 3.75s\tremaining: 10.2s\n",
            "268:\tlearn: 0.2890767\ttotal: 3.76s\tremaining: 10.2s\n",
            "269:\tlearn: 0.2889887\ttotal: 3.77s\tremaining: 10.2s\n",
            "270:\tlearn: 0.2888910\ttotal: 3.78s\tremaining: 10.2s\n",
            "271:\tlearn: 0.2887704\ttotal: 3.8s\tremaining: 10.2s\n",
            "272:\tlearn: 0.2886540\ttotal: 3.81s\tremaining: 10.2s\n",
            "273:\tlearn: 0.2885650\ttotal: 3.83s\tremaining: 10.1s\n",
            "274:\tlearn: 0.2884065\ttotal: 3.84s\tremaining: 10.1s\n",
            "275:\tlearn: 0.2883228\ttotal: 3.85s\tremaining: 10.1s\n",
            "276:\tlearn: 0.2882445\ttotal: 3.87s\tremaining: 10.1s\n",
            "277:\tlearn: 0.2881446\ttotal: 3.88s\tremaining: 10.1s\n",
            "278:\tlearn: 0.2880401\ttotal: 3.89s\tremaining: 10s\n",
            "279:\tlearn: 0.2879772\ttotal: 3.9s\tremaining: 10s\n",
            "280:\tlearn: 0.2878860\ttotal: 3.91s\tremaining: 10s\n",
            "281:\tlearn: 0.2877177\ttotal: 3.93s\tremaining: 10s\n",
            "282:\tlearn: 0.2876062\ttotal: 3.95s\tremaining: 10s\n",
            "283:\tlearn: 0.2875034\ttotal: 3.96s\tremaining: 9.98s\n",
            "284:\tlearn: 0.2873874\ttotal: 3.97s\tremaining: 9.97s\n",
            "285:\tlearn: 0.2873093\ttotal: 3.99s\tremaining: 9.96s\n",
            "286:\tlearn: 0.2872423\ttotal: 4s\tremaining: 9.94s\n",
            "287:\tlearn: 0.2871149\ttotal: 4.01s\tremaining: 9.92s\n",
            "288:\tlearn: 0.2870037\ttotal: 4.03s\tremaining: 9.91s\n",
            "289:\tlearn: 0.2869179\ttotal: 4.04s\tremaining: 9.9s\n",
            "290:\tlearn: 0.2868161\ttotal: 4.05s\tremaining: 9.88s\n",
            "291:\tlearn: 0.2867076\ttotal: 4.07s\tremaining: 9.86s\n",
            "292:\tlearn: 0.2866300\ttotal: 4.08s\tremaining: 9.85s\n",
            "293:\tlearn: 0.2865573\ttotal: 4.09s\tremaining: 9.83s\n",
            "294:\tlearn: 0.2864510\ttotal: 4.11s\tremaining: 9.81s\n",
            "295:\tlearn: 0.2863131\ttotal: 4.12s\tremaining: 9.79s\n",
            "296:\tlearn: 0.2862147\ttotal: 4.13s\tremaining: 9.78s\n",
            "297:\tlearn: 0.2860891\ttotal: 4.15s\tremaining: 9.78s\n",
            "298:\tlearn: 0.2860013\ttotal: 4.16s\tremaining: 9.76s\n",
            "299:\tlearn: 0.2859039\ttotal: 4.18s\tremaining: 9.74s\n",
            "300:\tlearn: 0.2857843\ttotal: 4.19s\tremaining: 9.73s\n",
            "301:\tlearn: 0.2856823\ttotal: 4.2s\tremaining: 9.71s\n",
            "302:\tlearn: 0.2855915\ttotal: 4.21s\tremaining: 9.69s\n",
            "303:\tlearn: 0.2854982\ttotal: 4.22s\tremaining: 9.67s\n",
            "304:\tlearn: 0.2854129\ttotal: 4.24s\tremaining: 9.66s\n",
            "305:\tlearn: 0.2852878\ttotal: 4.25s\tremaining: 9.64s\n",
            "306:\tlearn: 0.2851861\ttotal: 4.26s\tremaining: 9.63s\n",
            "307:\tlearn: 0.2850595\ttotal: 4.28s\tremaining: 9.61s\n",
            "308:\tlearn: 0.2849719\ttotal: 4.29s\tremaining: 9.6s\n",
            "309:\tlearn: 0.2848085\ttotal: 4.3s\tremaining: 9.58s\n",
            "310:\tlearn: 0.2847204\ttotal: 4.32s\tremaining: 9.57s\n",
            "311:\tlearn: 0.2846313\ttotal: 4.33s\tremaining: 9.55s\n",
            "312:\tlearn: 0.2845189\ttotal: 4.35s\tremaining: 9.55s\n",
            "313:\tlearn: 0.2843905\ttotal: 4.37s\tremaining: 9.55s\n",
            "314:\tlearn: 0.2842542\ttotal: 4.38s\tremaining: 9.53s\n",
            "315:\tlearn: 0.2841728\ttotal: 4.4s\tremaining: 9.52s\n",
            "316:\tlearn: 0.2840575\ttotal: 4.41s\tremaining: 9.5s\n",
            "317:\tlearn: 0.2839475\ttotal: 4.42s\tremaining: 9.48s\n",
            "318:\tlearn: 0.2838639\ttotal: 4.43s\tremaining: 9.47s\n",
            "319:\tlearn: 0.2837893\ttotal: 4.45s\tremaining: 9.45s\n",
            "320:\tlearn: 0.2837201\ttotal: 4.46s\tremaining: 9.44s\n",
            "321:\tlearn: 0.2835757\ttotal: 4.47s\tremaining: 9.42s\n",
            "322:\tlearn: 0.2834739\ttotal: 4.49s\tremaining: 9.41s\n",
            "323:\tlearn: 0.2833633\ttotal: 4.5s\tremaining: 9.39s\n",
            "324:\tlearn: 0.2832494\ttotal: 4.51s\tremaining: 9.38s\n",
            "325:\tlearn: 0.2831761\ttotal: 4.53s\tremaining: 9.37s\n",
            "326:\tlearn: 0.2830687\ttotal: 4.55s\tremaining: 9.36s\n",
            "327:\tlearn: 0.2829611\ttotal: 4.56s\tremaining: 9.35s\n",
            "328:\tlearn: 0.2828513\ttotal: 4.58s\tremaining: 9.34s\n",
            "329:\tlearn: 0.2827297\ttotal: 4.59s\tremaining: 9.32s\n",
            "330:\tlearn: 0.2825758\ttotal: 4.6s\tremaining: 9.3s\n",
            "331:\tlearn: 0.2824832\ttotal: 4.62s\tremaining: 9.29s\n",
            "332:\tlearn: 0.2823766\ttotal: 4.63s\tremaining: 9.28s\n",
            "333:\tlearn: 0.2823021\ttotal: 4.64s\tremaining: 9.26s\n",
            "334:\tlearn: 0.2822146\ttotal: 4.65s\tremaining: 9.24s\n",
            "335:\tlearn: 0.2821313\ttotal: 4.67s\tremaining: 9.22s\n",
            "336:\tlearn: 0.2820464\ttotal: 4.68s\tremaining: 9.21s\n",
            "337:\tlearn: 0.2819348\ttotal: 4.69s\tremaining: 9.19s\n",
            "338:\tlearn: 0.2818329\ttotal: 4.71s\tremaining: 9.18s\n",
            "339:\tlearn: 0.2817417\ttotal: 4.72s\tremaining: 9.16s\n",
            "340:\tlearn: 0.2816348\ttotal: 4.73s\tremaining: 9.14s\n",
            "341:\tlearn: 0.2815738\ttotal: 4.74s\tremaining: 9.13s\n",
            "342:\tlearn: 0.2814538\ttotal: 4.76s\tremaining: 9.11s\n",
            "343:\tlearn: 0.2813783\ttotal: 4.77s\tremaining: 9.11s\n",
            "344:\tlearn: 0.2812941\ttotal: 4.79s\tremaining: 9.09s\n",
            "345:\tlearn: 0.2812053\ttotal: 4.8s\tremaining: 9.08s\n",
            "346:\tlearn: 0.2810972\ttotal: 4.81s\tremaining: 9.06s\n",
            "347:\tlearn: 0.2809967\ttotal: 4.83s\tremaining: 9.04s\n",
            "348:\tlearn: 0.2809126\ttotal: 4.84s\tremaining: 9.03s\n",
            "349:\tlearn: 0.2807986\ttotal: 4.85s\tremaining: 9.01s\n",
            "350:\tlearn: 0.2807121\ttotal: 4.87s\tremaining: 9s\n",
            "351:\tlearn: 0.2806003\ttotal: 4.88s\tremaining: 8.99s\n",
            "352:\tlearn: 0.2804884\ttotal: 4.89s\tremaining: 8.97s\n",
            "353:\tlearn: 0.2803767\ttotal: 4.91s\tremaining: 8.96s\n",
            "354:\tlearn: 0.2802694\ttotal: 4.92s\tremaining: 8.94s\n",
            "355:\tlearn: 0.2802151\ttotal: 4.93s\tremaining: 8.92s\n",
            "356:\tlearn: 0.2801334\ttotal: 4.94s\tremaining: 8.9s\n",
            "357:\tlearn: 0.2800678\ttotal: 4.96s\tremaining: 8.89s\n",
            "358:\tlearn: 0.2799778\ttotal: 4.97s\tremaining: 8.87s\n",
            "359:\tlearn: 0.2798675\ttotal: 4.99s\tremaining: 8.86s\n",
            "360:\tlearn: 0.2796823\ttotal: 5s\tremaining: 8.85s\n",
            "361:\tlearn: 0.2795030\ttotal: 5.01s\tremaining: 8.83s\n",
            "362:\tlearn: 0.2794076\ttotal: 5.02s\tremaining: 8.81s\n",
            "363:\tlearn: 0.2793165\ttotal: 5.04s\tremaining: 8.8s\n",
            "364:\tlearn: 0.2792248\ttotal: 5.05s\tremaining: 8.78s\n",
            "365:\tlearn: 0.2791346\ttotal: 5.06s\tremaining: 8.77s\n",
            "366:\tlearn: 0.2790384\ttotal: 5.07s\tremaining: 8.75s\n",
            "367:\tlearn: 0.2789583\ttotal: 5.08s\tremaining: 8.73s\n",
            "368:\tlearn: 0.2788628\ttotal: 5.1s\tremaining: 8.71s\n",
            "369:\tlearn: 0.2787845\ttotal: 5.11s\tremaining: 8.7s\n",
            "370:\tlearn: 0.2786894\ttotal: 5.12s\tremaining: 8.68s\n",
            "371:\tlearn: 0.2786097\ttotal: 5.13s\tremaining: 8.66s\n",
            "372:\tlearn: 0.2784997\ttotal: 5.14s\tremaining: 8.65s\n",
            "373:\tlearn: 0.2784477\ttotal: 5.16s\tremaining: 8.63s\n",
            "374:\tlearn: 0.2783464\ttotal: 5.17s\tremaining: 8.62s\n",
            "375:\tlearn: 0.2782558\ttotal: 5.18s\tremaining: 8.6s\n",
            "376:\tlearn: 0.2781748\ttotal: 5.2s\tremaining: 8.59s\n",
            "377:\tlearn: 0.2781012\ttotal: 5.21s\tremaining: 8.57s\n",
            "378:\tlearn: 0.2780345\ttotal: 5.23s\tremaining: 8.57s\n",
            "379:\tlearn: 0.2779552\ttotal: 5.24s\tremaining: 8.55s\n",
            "380:\tlearn: 0.2778455\ttotal: 5.26s\tremaining: 8.54s\n",
            "381:\tlearn: 0.2777749\ttotal: 5.27s\tremaining: 8.53s\n",
            "382:\tlearn: 0.2776671\ttotal: 5.28s\tremaining: 8.51s\n",
            "383:\tlearn: 0.2775887\ttotal: 5.29s\tremaining: 8.49s\n",
            "384:\tlearn: 0.2775086\ttotal: 5.31s\tremaining: 8.48s\n",
            "385:\tlearn: 0.2774490\ttotal: 5.32s\tremaining: 8.46s\n",
            "386:\tlearn: 0.2773566\ttotal: 5.33s\tremaining: 8.45s\n",
            "387:\tlearn: 0.2772669\ttotal: 5.36s\tremaining: 8.45s\n",
            "388:\tlearn: 0.2771751\ttotal: 5.37s\tremaining: 8.44s\n",
            "389:\tlearn: 0.2770693\ttotal: 5.38s\tremaining: 8.42s\n",
            "390:\tlearn: 0.2769698\ttotal: 5.4s\tremaining: 8.42s\n",
            "391:\tlearn: 0.2767378\ttotal: 5.42s\tremaining: 8.4s\n",
            "392:\tlearn: 0.2766619\ttotal: 5.43s\tremaining: 8.39s\n",
            "393:\tlearn: 0.2765933\ttotal: 5.44s\tremaining: 8.37s\n",
            "394:\tlearn: 0.2765276\ttotal: 5.46s\tremaining: 8.36s\n",
            "395:\tlearn: 0.2764555\ttotal: 5.47s\tremaining: 8.34s\n",
            "396:\tlearn: 0.2763798\ttotal: 5.48s\tremaining: 8.33s\n",
            "397:\tlearn: 0.2762583\ttotal: 5.5s\tremaining: 8.31s\n",
            "398:\tlearn: 0.2761772\ttotal: 5.51s\tremaining: 8.3s\n",
            "399:\tlearn: 0.2761089\ttotal: 5.52s\tremaining: 8.28s\n",
            "400:\tlearn: 0.2759913\ttotal: 5.54s\tremaining: 8.27s\n",
            "401:\tlearn: 0.2759180\ttotal: 5.55s\tremaining: 8.25s\n",
            "402:\tlearn: 0.2758424\ttotal: 5.56s\tremaining: 8.24s\n",
            "403:\tlearn: 0.2757547\ttotal: 5.58s\tremaining: 8.23s\n",
            "404:\tlearn: 0.2756344\ttotal: 5.59s\tremaining: 8.21s\n",
            "405:\tlearn: 0.2755236\ttotal: 5.61s\tremaining: 8.21s\n",
            "406:\tlearn: 0.2754559\ttotal: 5.62s\tremaining: 8.19s\n",
            "407:\tlearn: 0.2753748\ttotal: 5.64s\tremaining: 8.18s\n",
            "408:\tlearn: 0.2753134\ttotal: 5.65s\tremaining: 8.16s\n",
            "409:\tlearn: 0.2752311\ttotal: 5.66s\tremaining: 8.14s\n",
            "410:\tlearn: 0.2751359\ttotal: 5.67s\tremaining: 8.13s\n",
            "411:\tlearn: 0.2750518\ttotal: 5.68s\tremaining: 8.11s\n",
            "412:\tlearn: 0.2749512\ttotal: 5.7s\tremaining: 8.1s\n",
            "413:\tlearn: 0.2748436\ttotal: 5.71s\tremaining: 8.08s\n",
            "414:\tlearn: 0.2746806\ttotal: 5.72s\tremaining: 8.07s\n",
            "415:\tlearn: 0.2746058\ttotal: 5.74s\tremaining: 8.05s\n",
            "416:\tlearn: 0.2744052\ttotal: 5.75s\tremaining: 8.04s\n",
            "417:\tlearn: 0.2742869\ttotal: 5.76s\tremaining: 8.02s\n",
            "418:\tlearn: 0.2742340\ttotal: 5.77s\tremaining: 8s\n",
            "419:\tlearn: 0.2741435\ttotal: 5.79s\tremaining: 7.99s\n",
            "420:\tlearn: 0.2740088\ttotal: 5.8s\tremaining: 7.98s\n",
            "421:\tlearn: 0.2738921\ttotal: 5.82s\tremaining: 7.97s\n",
            "422:\tlearn: 0.2738295\ttotal: 5.83s\tremaining: 7.96s\n",
            "423:\tlearn: 0.2737261\ttotal: 5.84s\tremaining: 7.94s\n",
            "424:\tlearn: 0.2736660\ttotal: 5.86s\tremaining: 7.93s\n",
            "425:\tlearn: 0.2735462\ttotal: 5.87s\tremaining: 7.91s\n",
            "426:\tlearn: 0.2734611\ttotal: 5.88s\tremaining: 7.9s\n",
            "427:\tlearn: 0.2733534\ttotal: 5.9s\tremaining: 7.88s\n",
            "428:\tlearn: 0.2732807\ttotal: 5.91s\tremaining: 7.86s\n",
            "429:\tlearn: 0.2731793\ttotal: 5.93s\tremaining: 7.86s\n",
            "430:\tlearn: 0.2731165\ttotal: 5.94s\tremaining: 7.84s\n",
            "431:\tlearn: 0.2730458\ttotal: 5.95s\tremaining: 7.83s\n",
            "432:\tlearn: 0.2729760\ttotal: 5.97s\tremaining: 7.81s\n",
            "433:\tlearn: 0.2728902\ttotal: 5.98s\tremaining: 7.8s\n",
            "434:\tlearn: 0.2728101\ttotal: 5.99s\tremaining: 7.78s\n",
            "435:\tlearn: 0.2726957\ttotal: 6s\tremaining: 7.77s\n",
            "436:\tlearn: 0.2726487\ttotal: 6.02s\tremaining: 7.76s\n",
            "437:\tlearn: 0.2725529\ttotal: 6.04s\tremaining: 7.75s\n",
            "438:\tlearn: 0.2724632\ttotal: 6.05s\tremaining: 7.73s\n",
            "439:\tlearn: 0.2723777\ttotal: 6.06s\tremaining: 7.71s\n",
            "440:\tlearn: 0.2722516\ttotal: 6.08s\tremaining: 7.7s\n",
            "441:\tlearn: 0.2720905\ttotal: 6.09s\tremaining: 7.68s\n",
            "442:\tlearn: 0.2719931\ttotal: 6.1s\tremaining: 7.67s\n",
            "443:\tlearn: 0.2718969\ttotal: 6.11s\tremaining: 7.66s\n",
            "444:\tlearn: 0.2718134\ttotal: 6.13s\tremaining: 7.64s\n",
            "445:\tlearn: 0.2717227\ttotal: 6.14s\tremaining: 7.63s\n",
            "446:\tlearn: 0.2716693\ttotal: 6.15s\tremaining: 7.61s\n",
            "447:\tlearn: 0.2715916\ttotal: 6.16s\tremaining: 7.59s\n",
            "448:\tlearn: 0.2714996\ttotal: 6.17s\tremaining: 7.58s\n",
            "449:\tlearn: 0.2714212\ttotal: 6.19s\tremaining: 7.56s\n",
            "450:\tlearn: 0.2713665\ttotal: 6.2s\tremaining: 7.55s\n",
            "451:\tlearn: 0.2713004\ttotal: 6.21s\tremaining: 7.53s\n",
            "452:\tlearn: 0.2712204\ttotal: 6.23s\tremaining: 7.52s\n",
            "453:\tlearn: 0.2711721\ttotal: 6.24s\tremaining: 7.5s\n",
            "454:\tlearn: 0.2710831\ttotal: 6.25s\tremaining: 7.49s\n",
            "455:\tlearn: 0.2708881\ttotal: 6.27s\tremaining: 7.48s\n",
            "456:\tlearn: 0.2708179\ttotal: 6.28s\tremaining: 7.46s\n",
            "457:\tlearn: 0.2707565\ttotal: 6.29s\tremaining: 7.45s\n",
            "458:\tlearn: 0.2706964\ttotal: 6.31s\tremaining: 7.43s\n",
            "459:\tlearn: 0.2706417\ttotal: 6.32s\tremaining: 7.42s\n",
            "460:\tlearn: 0.2705664\ttotal: 6.34s\tremaining: 7.41s\n",
            "461:\tlearn: 0.2705061\ttotal: 6.35s\tremaining: 7.4s\n",
            "462:\tlearn: 0.2704130\ttotal: 6.37s\tremaining: 7.38s\n",
            "463:\tlearn: 0.2703480\ttotal: 6.38s\tremaining: 7.37s\n",
            "464:\tlearn: 0.2702532\ttotal: 6.39s\tremaining: 7.35s\n",
            "465:\tlearn: 0.2701768\ttotal: 6.4s\tremaining: 7.34s\n",
            "466:\tlearn: 0.2701230\ttotal: 6.42s\tremaining: 7.32s\n",
            "467:\tlearn: 0.2699914\ttotal: 6.44s\tremaining: 7.32s\n",
            "468:\tlearn: 0.2699265\ttotal: 6.45s\tremaining: 7.3s\n",
            "469:\tlearn: 0.2698553\ttotal: 6.46s\tremaining: 7.29s\n",
            "470:\tlearn: 0.2697596\ttotal: 6.47s\tremaining: 7.27s\n",
            "471:\tlearn: 0.2697058\ttotal: 6.49s\tremaining: 7.26s\n",
            "472:\tlearn: 0.2696177\ttotal: 6.5s\tremaining: 7.24s\n",
            "473:\tlearn: 0.2695053\ttotal: 6.51s\tremaining: 7.23s\n",
            "474:\tlearn: 0.2694087\ttotal: 6.53s\tremaining: 7.21s\n",
            "475:\tlearn: 0.2693419\ttotal: 6.54s\tremaining: 7.2s\n",
            "476:\tlearn: 0.2692689\ttotal: 6.55s\tremaining: 7.19s\n",
            "477:\tlearn: 0.2692159\ttotal: 6.57s\tremaining: 7.17s\n",
            "478:\tlearn: 0.2691459\ttotal: 6.58s\tremaining: 7.16s\n",
            "479:\tlearn: 0.2690690\ttotal: 6.59s\tremaining: 7.14s\n",
            "480:\tlearn: 0.2690189\ttotal: 6.61s\tremaining: 7.13s\n",
            "481:\tlearn: 0.2689280\ttotal: 6.62s\tremaining: 7.12s\n",
            "482:\tlearn: 0.2688544\ttotal: 6.64s\tremaining: 7.11s\n",
            "483:\tlearn: 0.2688195\ttotal: 6.65s\tremaining: 7.09s\n",
            "484:\tlearn: 0.2687522\ttotal: 6.67s\tremaining: 7.08s\n",
            "485:\tlearn: 0.2686719\ttotal: 6.68s\tremaining: 7.06s\n",
            "486:\tlearn: 0.2685698\ttotal: 6.69s\tremaining: 7.05s\n",
            "487:\tlearn: 0.2684650\ttotal: 6.71s\tremaining: 7.03s\n",
            "488:\tlearn: 0.2683794\ttotal: 6.72s\tremaining: 7.02s\n",
            "489:\tlearn: 0.2683189\ttotal: 6.73s\tremaining: 7s\n",
            "490:\tlearn: 0.2682351\ttotal: 6.74s\tremaining: 6.99s\n",
            "491:\tlearn: 0.2681709\ttotal: 6.76s\tremaining: 6.98s\n",
            "492:\tlearn: 0.2680866\ttotal: 6.77s\tremaining: 6.96s\n",
            "493:\tlearn: 0.2680369\ttotal: 6.78s\tremaining: 6.95s\n",
            "494:\tlearn: 0.2679743\ttotal: 6.8s\tremaining: 6.93s\n",
            "495:\tlearn: 0.2678518\ttotal: 6.81s\tremaining: 6.92s\n",
            "496:\tlearn: 0.2677963\ttotal: 6.82s\tremaining: 6.91s\n",
            "497:\tlearn: 0.2677198\ttotal: 6.84s\tremaining: 6.89s\n",
            "498:\tlearn: 0.2676472\ttotal: 6.85s\tremaining: 6.88s\n",
            "499:\tlearn: 0.2675546\ttotal: 6.87s\tremaining: 6.87s\n",
            "500:\tlearn: 0.2674966\ttotal: 6.88s\tremaining: 6.85s\n",
            "501:\tlearn: 0.2674147\ttotal: 6.89s\tremaining: 6.84s\n",
            "502:\tlearn: 0.2673514\ttotal: 6.9s\tremaining: 6.82s\n",
            "503:\tlearn: 0.2672817\ttotal: 6.92s\tremaining: 6.81s\n",
            "504:\tlearn: 0.2672044\ttotal: 6.93s\tremaining: 6.79s\n",
            "505:\tlearn: 0.2671443\ttotal: 6.94s\tremaining: 6.78s\n",
            "506:\tlearn: 0.2670613\ttotal: 6.95s\tremaining: 6.76s\n",
            "507:\tlearn: 0.2669426\ttotal: 6.97s\tremaining: 6.75s\n",
            "508:\tlearn: 0.2668689\ttotal: 6.98s\tremaining: 6.74s\n",
            "509:\tlearn: 0.2667880\ttotal: 7s\tremaining: 6.72s\n",
            "510:\tlearn: 0.2667068\ttotal: 7.01s\tremaining: 6.71s\n",
            "511:\tlearn: 0.2666150\ttotal: 7.03s\tremaining: 6.7s\n",
            "512:\tlearn: 0.2665407\ttotal: 7.04s\tremaining: 6.68s\n",
            "513:\tlearn: 0.2664520\ttotal: 7.06s\tremaining: 6.67s\n",
            "514:\tlearn: 0.2663364\ttotal: 7.07s\tremaining: 6.66s\n",
            "515:\tlearn: 0.2662567\ttotal: 7.08s\tremaining: 6.64s\n",
            "516:\tlearn: 0.2660857\ttotal: 7.1s\tremaining: 6.63s\n",
            "517:\tlearn: 0.2660073\ttotal: 7.11s\tremaining: 6.62s\n",
            "518:\tlearn: 0.2659773\ttotal: 7.12s\tremaining: 6.6s\n",
            "519:\tlearn: 0.2659316\ttotal: 7.13s\tremaining: 6.58s\n",
            "520:\tlearn: 0.2659042\ttotal: 7.14s\tremaining: 6.57s\n",
            "521:\tlearn: 0.2658598\ttotal: 7.16s\tremaining: 6.55s\n",
            "522:\tlearn: 0.2658042\ttotal: 7.17s\tremaining: 6.54s\n",
            "523:\tlearn: 0.2656892\ttotal: 7.18s\tremaining: 6.52s\n",
            "524:\tlearn: 0.2656174\ttotal: 7.2s\tremaining: 6.51s\n",
            "525:\tlearn: 0.2655770\ttotal: 7.21s\tremaining: 6.49s\n",
            "526:\tlearn: 0.2654629\ttotal: 7.22s\tremaining: 6.48s\n",
            "527:\tlearn: 0.2653751\ttotal: 7.23s\tremaining: 6.46s\n",
            "528:\tlearn: 0.2653014\ttotal: 7.24s\tremaining: 6.45s\n",
            "529:\tlearn: 0.2652360\ttotal: 7.26s\tremaining: 6.44s\n",
            "530:\tlearn: 0.2651900\ttotal: 7.28s\tremaining: 6.43s\n",
            "531:\tlearn: 0.2651169\ttotal: 7.29s\tremaining: 6.41s\n",
            "532:\tlearn: 0.2650924\ttotal: 7.3s\tremaining: 6.4s\n",
            "533:\tlearn: 0.2650175\ttotal: 7.31s\tremaining: 6.38s\n",
            "534:\tlearn: 0.2649148\ttotal: 7.33s\tremaining: 6.38s\n",
            "535:\tlearn: 0.2648243\ttotal: 7.35s\tremaining: 6.36s\n",
            "536:\tlearn: 0.2647503\ttotal: 7.37s\tremaining: 6.35s\n",
            "537:\tlearn: 0.2646980\ttotal: 7.38s\tremaining: 6.34s\n",
            "538:\tlearn: 0.2645875\ttotal: 7.39s\tremaining: 6.32s\n",
            "539:\tlearn: 0.2645229\ttotal: 7.41s\tremaining: 6.31s\n",
            "540:\tlearn: 0.2644314\ttotal: 7.42s\tremaining: 6.29s\n",
            "541:\tlearn: 0.2643500\ttotal: 7.43s\tremaining: 6.28s\n",
            "542:\tlearn: 0.2642845\ttotal: 7.45s\tremaining: 6.27s\n",
            "543:\tlearn: 0.2642055\ttotal: 7.46s\tremaining: 6.25s\n",
            "544:\tlearn: 0.2641117\ttotal: 7.47s\tremaining: 6.24s\n",
            "545:\tlearn: 0.2640506\ttotal: 7.49s\tremaining: 6.23s\n",
            "546:\tlearn: 0.2639816\ttotal: 7.5s\tremaining: 6.21s\n",
            "547:\tlearn: 0.2639134\ttotal: 7.51s\tremaining: 6.2s\n",
            "548:\tlearn: 0.2638561\ttotal: 7.53s\tremaining: 6.18s\n",
            "549:\tlearn: 0.2637579\ttotal: 7.54s\tremaining: 6.17s\n",
            "550:\tlearn: 0.2636680\ttotal: 7.55s\tremaining: 6.16s\n",
            "551:\tlearn: 0.2635948\ttotal: 7.57s\tremaining: 6.15s\n",
            "552:\tlearn: 0.2635273\ttotal: 7.59s\tremaining: 6.13s\n",
            "553:\tlearn: 0.2634388\ttotal: 7.6s\tremaining: 6.12s\n",
            "554:\tlearn: 0.2633654\ttotal: 7.61s\tremaining: 6.1s\n",
            "555:\tlearn: 0.2633205\ttotal: 7.63s\tremaining: 6.09s\n",
            "556:\tlearn: 0.2632026\ttotal: 7.64s\tremaining: 6.08s\n",
            "557:\tlearn: 0.2631415\ttotal: 7.65s\tremaining: 6.06s\n",
            "558:\tlearn: 0.2630645\ttotal: 7.67s\tremaining: 6.05s\n",
            "559:\tlearn: 0.2629571\ttotal: 7.68s\tremaining: 6.04s\n",
            "560:\tlearn: 0.2628683\ttotal: 7.7s\tremaining: 6.02s\n",
            "561:\tlearn: 0.2627711\ttotal: 7.71s\tremaining: 6.01s\n",
            "562:\tlearn: 0.2627086\ttotal: 7.73s\tremaining: 6s\n",
            "563:\tlearn: 0.2626521\ttotal: 7.74s\tremaining: 5.98s\n",
            "564:\tlearn: 0.2625396\ttotal: 7.75s\tremaining: 5.97s\n",
            "565:\tlearn: 0.2624653\ttotal: 7.76s\tremaining: 5.95s\n",
            "566:\tlearn: 0.2623743\ttotal: 7.78s\tremaining: 5.94s\n",
            "567:\tlearn: 0.2623055\ttotal: 7.79s\tremaining: 5.93s\n",
            "568:\tlearn: 0.2622133\ttotal: 7.8s\tremaining: 5.91s\n",
            "569:\tlearn: 0.2620909\ttotal: 7.82s\tremaining: 5.9s\n",
            "570:\tlearn: 0.2620072\ttotal: 7.83s\tremaining: 5.88s\n",
            "571:\tlearn: 0.2618919\ttotal: 7.85s\tremaining: 5.87s\n",
            "572:\tlearn: 0.2618478\ttotal: 7.86s\tremaining: 5.86s\n",
            "573:\tlearn: 0.2617769\ttotal: 7.88s\tremaining: 5.85s\n",
            "574:\tlearn: 0.2617293\ttotal: 7.89s\tremaining: 5.83s\n",
            "575:\tlearn: 0.2616609\ttotal: 7.91s\tremaining: 5.82s\n",
            "576:\tlearn: 0.2615741\ttotal: 7.92s\tremaining: 5.81s\n",
            "577:\tlearn: 0.2615116\ttotal: 7.93s\tremaining: 5.79s\n",
            "578:\tlearn: 0.2613585\ttotal: 7.95s\tremaining: 5.78s\n",
            "579:\tlearn: 0.2612923\ttotal: 7.96s\tremaining: 5.76s\n",
            "580:\tlearn: 0.2612403\ttotal: 7.99s\tremaining: 5.76s\n",
            "581:\tlearn: 0.2612142\ttotal: 8.01s\tremaining: 5.75s\n",
            "582:\tlearn: 0.2611722\ttotal: 8.02s\tremaining: 5.74s\n",
            "583:\tlearn: 0.2611307\ttotal: 8.03s\tremaining: 5.72s\n",
            "584:\tlearn: 0.2610011\ttotal: 8.05s\tremaining: 5.71s\n",
            "585:\tlearn: 0.2609281\ttotal: 8.06s\tremaining: 5.69s\n",
            "586:\tlearn: 0.2608574\ttotal: 8.07s\tremaining: 5.68s\n",
            "587:\tlearn: 0.2607925\ttotal: 8.09s\tremaining: 5.67s\n",
            "588:\tlearn: 0.2607163\ttotal: 8.11s\tremaining: 5.66s\n",
            "589:\tlearn: 0.2606020\ttotal: 8.12s\tremaining: 5.64s\n",
            "590:\tlearn: 0.2605312\ttotal: 8.13s\tremaining: 5.63s\n",
            "591:\tlearn: 0.2604799\ttotal: 8.14s\tremaining: 5.61s\n",
            "592:\tlearn: 0.2604197\ttotal: 8.16s\tremaining: 5.6s\n",
            "593:\tlearn: 0.2603437\ttotal: 8.17s\tremaining: 5.58s\n",
            "594:\tlearn: 0.2602521\ttotal: 8.18s\tremaining: 5.57s\n",
            "595:\tlearn: 0.2601885\ttotal: 8.2s\tremaining: 5.56s\n",
            "596:\tlearn: 0.2601194\ttotal: 8.21s\tremaining: 5.54s\n",
            "597:\tlearn: 0.2600012\ttotal: 8.22s\tremaining: 5.53s\n",
            "598:\tlearn: 0.2598935\ttotal: 8.24s\tremaining: 5.51s\n",
            "599:\tlearn: 0.2598295\ttotal: 8.25s\tremaining: 5.5s\n",
            "600:\tlearn: 0.2597336\ttotal: 8.26s\tremaining: 5.49s\n",
            "601:\tlearn: 0.2596401\ttotal: 8.28s\tremaining: 5.47s\n",
            "602:\tlearn: 0.2595624\ttotal: 8.29s\tremaining: 5.46s\n",
            "603:\tlearn: 0.2594932\ttotal: 8.3s\tremaining: 5.45s\n",
            "604:\tlearn: 0.2594148\ttotal: 8.32s\tremaining: 5.43s\n",
            "605:\tlearn: 0.2593145\ttotal: 8.34s\tremaining: 5.42s\n",
            "606:\tlearn: 0.2592391\ttotal: 8.35s\tremaining: 5.41s\n",
            "607:\tlearn: 0.2591564\ttotal: 8.36s\tremaining: 5.39s\n",
            "608:\tlearn: 0.2591132\ttotal: 8.38s\tremaining: 5.38s\n",
            "609:\tlearn: 0.2590387\ttotal: 8.39s\tremaining: 5.36s\n",
            "610:\tlearn: 0.2589406\ttotal: 8.4s\tremaining: 5.35s\n",
            "611:\tlearn: 0.2588588\ttotal: 8.44s\tremaining: 5.35s\n",
            "612:\tlearn: 0.2587749\ttotal: 8.46s\tremaining: 5.34s\n",
            "613:\tlearn: 0.2586891\ttotal: 8.47s\tremaining: 5.33s\n",
            "614:\tlearn: 0.2586491\ttotal: 8.48s\tremaining: 5.31s\n",
            "615:\tlearn: 0.2585921\ttotal: 8.5s\tremaining: 5.3s\n",
            "616:\tlearn: 0.2585151\ttotal: 8.51s\tremaining: 5.28s\n",
            "617:\tlearn: 0.2584291\ttotal: 8.53s\tremaining: 5.27s\n",
            "618:\tlearn: 0.2583870\ttotal: 8.54s\tremaining: 5.25s\n",
            "619:\tlearn: 0.2583221\ttotal: 8.55s\tremaining: 5.24s\n",
            "620:\tlearn: 0.2582420\ttotal: 8.56s\tremaining: 5.23s\n",
            "621:\tlearn: 0.2581238\ttotal: 8.58s\tremaining: 5.21s\n",
            "622:\tlearn: 0.2580428\ttotal: 8.59s\tremaining: 5.2s\n",
            "623:\tlearn: 0.2579712\ttotal: 8.6s\tremaining: 5.18s\n",
            "624:\tlearn: 0.2578655\ttotal: 8.62s\tremaining: 5.17s\n",
            "625:\tlearn: 0.2577544\ttotal: 8.63s\tremaining: 5.16s\n",
            "626:\tlearn: 0.2577003\ttotal: 8.64s\tremaining: 5.14s\n",
            "627:\tlearn: 0.2576658\ttotal: 8.65s\tremaining: 5.13s\n",
            "628:\tlearn: 0.2575804\ttotal: 8.67s\tremaining: 5.11s\n",
            "629:\tlearn: 0.2575231\ttotal: 8.68s\tremaining: 5.1s\n",
            "630:\tlearn: 0.2574490\ttotal: 8.69s\tremaining: 5.08s\n",
            "631:\tlearn: 0.2573970\ttotal: 8.71s\tremaining: 5.07s\n",
            "632:\tlearn: 0.2573214\ttotal: 8.72s\tremaining: 5.06s\n",
            "633:\tlearn: 0.2572530\ttotal: 8.74s\tremaining: 5.04s\n",
            "634:\tlearn: 0.2571407\ttotal: 8.75s\tremaining: 5.03s\n",
            "635:\tlearn: 0.2570700\ttotal: 8.76s\tremaining: 5.02s\n",
            "636:\tlearn: 0.2570032\ttotal: 8.78s\tremaining: 5s\n",
            "637:\tlearn: 0.2569325\ttotal: 8.79s\tremaining: 4.99s\n",
            "638:\tlearn: 0.2568211\ttotal: 8.8s\tremaining: 4.97s\n",
            "639:\tlearn: 0.2567489\ttotal: 8.82s\tremaining: 4.96s\n",
            "640:\tlearn: 0.2566531\ttotal: 8.83s\tremaining: 4.95s\n",
            "641:\tlearn: 0.2565834\ttotal: 8.84s\tremaining: 4.93s\n",
            "642:\tlearn: 0.2565153\ttotal: 8.86s\tremaining: 4.92s\n",
            "643:\tlearn: 0.2562411\ttotal: 8.88s\tremaining: 4.91s\n",
            "644:\tlearn: 0.2561782\ttotal: 8.89s\tremaining: 4.89s\n",
            "645:\tlearn: 0.2560956\ttotal: 8.9s\tremaining: 4.88s\n",
            "646:\tlearn: 0.2560168\ttotal: 8.91s\tremaining: 4.86s\n",
            "647:\tlearn: 0.2559320\ttotal: 8.93s\tremaining: 4.85s\n",
            "648:\tlearn: 0.2558116\ttotal: 8.95s\tremaining: 4.84s\n",
            "649:\tlearn: 0.2557427\ttotal: 8.96s\tremaining: 4.82s\n",
            "650:\tlearn: 0.2556421\ttotal: 8.97s\tremaining: 4.81s\n",
            "651:\tlearn: 0.2555685\ttotal: 8.99s\tremaining: 4.8s\n",
            "652:\tlearn: 0.2554494\ttotal: 9s\tremaining: 4.78s\n",
            "653:\tlearn: 0.2553654\ttotal: 9.01s\tremaining: 4.77s\n",
            "654:\tlearn: 0.2553086\ttotal: 9.03s\tremaining: 4.75s\n",
            "655:\tlearn: 0.2552520\ttotal: 9.04s\tremaining: 4.74s\n",
            "656:\tlearn: 0.2551474\ttotal: 9.05s\tremaining: 4.73s\n",
            "657:\tlearn: 0.2550438\ttotal: 9.07s\tremaining: 4.71s\n",
            "658:\tlearn: 0.2549625\ttotal: 9.08s\tremaining: 4.7s\n",
            "659:\tlearn: 0.2548689\ttotal: 9.1s\tremaining: 4.68s\n",
            "660:\tlearn: 0.2547924\ttotal: 9.11s\tremaining: 4.67s\n",
            "661:\tlearn: 0.2547097\ttotal: 9.12s\tremaining: 4.66s\n",
            "662:\tlearn: 0.2546632\ttotal: 9.14s\tremaining: 4.64s\n",
            "663:\tlearn: 0.2546052\ttotal: 9.15s\tremaining: 4.63s\n",
            "664:\tlearn: 0.2545173\ttotal: 9.16s\tremaining: 4.62s\n",
            "665:\tlearn: 0.2544204\ttotal: 9.18s\tremaining: 4.6s\n",
            "666:\tlearn: 0.2543438\ttotal: 9.19s\tremaining: 4.59s\n",
            "667:\tlearn: 0.2542842\ttotal: 9.2s\tremaining: 4.57s\n",
            "668:\tlearn: 0.2542078\ttotal: 9.22s\tremaining: 4.56s\n",
            "669:\tlearn: 0.2541582\ttotal: 9.23s\tremaining: 4.55s\n",
            "670:\tlearn: 0.2540911\ttotal: 9.25s\tremaining: 4.54s\n",
            "671:\tlearn: 0.2540545\ttotal: 9.26s\tremaining: 4.52s\n",
            "672:\tlearn: 0.2539817\ttotal: 9.28s\tremaining: 4.51s\n",
            "673:\tlearn: 0.2539054\ttotal: 9.29s\tremaining: 4.49s\n",
            "674:\tlearn: 0.2538184\ttotal: 9.31s\tremaining: 4.48s\n",
            "675:\tlearn: 0.2537697\ttotal: 9.32s\tremaining: 4.47s\n",
            "676:\tlearn: 0.2537077\ttotal: 9.34s\tremaining: 4.46s\n",
            "677:\tlearn: 0.2536414\ttotal: 9.36s\tremaining: 4.44s\n",
            "678:\tlearn: 0.2535522\ttotal: 9.37s\tremaining: 4.43s\n",
            "679:\tlearn: 0.2535156\ttotal: 9.38s\tremaining: 4.41s\n",
            "680:\tlearn: 0.2534276\ttotal: 9.39s\tremaining: 4.4s\n",
            "681:\tlearn: 0.2533597\ttotal: 9.41s\tremaining: 4.39s\n",
            "682:\tlearn: 0.2532727\ttotal: 9.42s\tremaining: 4.37s\n",
            "683:\tlearn: 0.2532134\ttotal: 9.44s\tremaining: 4.36s\n",
            "684:\tlearn: 0.2531172\ttotal: 9.45s\tremaining: 4.34s\n",
            "685:\tlearn: 0.2530267\ttotal: 9.46s\tremaining: 4.33s\n",
            "686:\tlearn: 0.2529675\ttotal: 9.47s\tremaining: 4.32s\n",
            "687:\tlearn: 0.2528766\ttotal: 9.49s\tremaining: 4.3s\n",
            "688:\tlearn: 0.2528212\ttotal: 9.5s\tremaining: 4.29s\n",
            "689:\tlearn: 0.2527678\ttotal: 9.52s\tremaining: 4.28s\n",
            "690:\tlearn: 0.2527025\ttotal: 9.53s\tremaining: 4.26s\n",
            "691:\tlearn: 0.2526082\ttotal: 9.55s\tremaining: 4.25s\n",
            "692:\tlearn: 0.2525460\ttotal: 9.56s\tremaining: 4.24s\n",
            "693:\tlearn: 0.2524686\ttotal: 9.58s\tremaining: 4.22s\n",
            "694:\tlearn: 0.2523903\ttotal: 9.6s\tremaining: 4.21s\n",
            "695:\tlearn: 0.2523328\ttotal: 9.61s\tremaining: 4.2s\n",
            "696:\tlearn: 0.2522255\ttotal: 9.62s\tremaining: 4.18s\n",
            "697:\tlearn: 0.2521269\ttotal: 9.63s\tremaining: 4.17s\n",
            "698:\tlearn: 0.2520705\ttotal: 9.65s\tremaining: 4.15s\n",
            "699:\tlearn: 0.2520051\ttotal: 9.66s\tremaining: 4.14s\n",
            "700:\tlearn: 0.2519300\ttotal: 9.68s\tremaining: 4.13s\n",
            "701:\tlearn: 0.2518507\ttotal: 9.69s\tremaining: 4.11s\n",
            "702:\tlearn: 0.2517879\ttotal: 9.7s\tremaining: 4.1s\n",
            "703:\tlearn: 0.2516918\ttotal: 9.72s\tremaining: 4.08s\n",
            "704:\tlearn: 0.2516573\ttotal: 9.73s\tremaining: 4.07s\n",
            "705:\tlearn: 0.2515847\ttotal: 9.74s\tremaining: 4.06s\n",
            "706:\tlearn: 0.2515034\ttotal: 9.76s\tremaining: 4.04s\n",
            "707:\tlearn: 0.2514127\ttotal: 9.77s\tremaining: 4.03s\n",
            "708:\tlearn: 0.2513620\ttotal: 9.79s\tremaining: 4.02s\n",
            "709:\tlearn: 0.2513075\ttotal: 9.8s\tremaining: 4s\n",
            "710:\tlearn: 0.2512500\ttotal: 9.82s\tremaining: 3.99s\n",
            "711:\tlearn: 0.2511845\ttotal: 9.83s\tremaining: 3.98s\n",
            "712:\tlearn: 0.2511169\ttotal: 9.85s\tremaining: 3.96s\n",
            "713:\tlearn: 0.2510484\ttotal: 9.86s\tremaining: 3.95s\n",
            "714:\tlearn: 0.2509785\ttotal: 9.88s\tremaining: 3.94s\n",
            "715:\tlearn: 0.2508651\ttotal: 9.89s\tremaining: 3.92s\n",
            "716:\tlearn: 0.2507533\ttotal: 9.9s\tremaining: 3.91s\n",
            "717:\tlearn: 0.2507102\ttotal: 9.92s\tremaining: 3.9s\n",
            "718:\tlearn: 0.2506252\ttotal: 9.94s\tremaining: 3.88s\n",
            "719:\tlearn: 0.2505877\ttotal: 9.95s\tremaining: 3.87s\n",
            "720:\tlearn: 0.2504834\ttotal: 9.97s\tremaining: 3.86s\n",
            "721:\tlearn: 0.2504484\ttotal: 9.98s\tremaining: 3.84s\n",
            "722:\tlearn: 0.2503977\ttotal: 10s\tremaining: 3.83s\n",
            "723:\tlearn: 0.2503378\ttotal: 10s\tremaining: 3.81s\n",
            "724:\tlearn: 0.2502653\ttotal: 10s\tremaining: 3.8s\n",
            "725:\tlearn: 0.2502172\ttotal: 10s\tremaining: 3.79s\n",
            "726:\tlearn: 0.2501677\ttotal: 10s\tremaining: 3.77s\n",
            "727:\tlearn: 0.2501010\ttotal: 10.1s\tremaining: 3.76s\n",
            "728:\tlearn: 0.2500321\ttotal: 10.1s\tremaining: 3.75s\n",
            "729:\tlearn: 0.2499713\ttotal: 10.1s\tremaining: 3.73s\n",
            "730:\tlearn: 0.2499200\ttotal: 10.1s\tremaining: 3.72s\n",
            "731:\tlearn: 0.2498077\ttotal: 10.1s\tremaining: 3.7s\n",
            "732:\tlearn: 0.2497369\ttotal: 10.1s\tremaining: 3.69s\n",
            "733:\tlearn: 0.2496753\ttotal: 10.1s\tremaining: 3.67s\n",
            "734:\tlearn: 0.2495905\ttotal: 10.2s\tremaining: 3.66s\n",
            "735:\tlearn: 0.2495540\ttotal: 10.2s\tremaining: 3.65s\n",
            "736:\tlearn: 0.2495080\ttotal: 10.2s\tremaining: 3.63s\n",
            "737:\tlearn: 0.2494370\ttotal: 10.2s\tremaining: 3.62s\n",
            "738:\tlearn: 0.2493833\ttotal: 10.2s\tremaining: 3.61s\n",
            "739:\tlearn: 0.2493102\ttotal: 10.2s\tremaining: 3.59s\n",
            "740:\tlearn: 0.2492447\ttotal: 10.2s\tremaining: 3.58s\n",
            "741:\tlearn: 0.2491419\ttotal: 10.3s\tremaining: 3.56s\n",
            "742:\tlearn: 0.2490976\ttotal: 10.3s\tremaining: 3.55s\n",
            "743:\tlearn: 0.2490342\ttotal: 10.3s\tremaining: 3.54s\n",
            "744:\tlearn: 0.2489619\ttotal: 10.3s\tremaining: 3.53s\n",
            "745:\tlearn: 0.2489012\ttotal: 10.3s\tremaining: 3.51s\n",
            "746:\tlearn: 0.2488378\ttotal: 10.3s\tremaining: 3.5s\n",
            "747:\tlearn: 0.2487768\ttotal: 10.3s\tremaining: 3.48s\n",
            "748:\tlearn: 0.2487128\ttotal: 10.4s\tremaining: 3.47s\n",
            "749:\tlearn: 0.2486240\ttotal: 10.4s\tremaining: 3.46s\n",
            "750:\tlearn: 0.2486033\ttotal: 10.4s\tremaining: 3.44s\n",
            "751:\tlearn: 0.2485419\ttotal: 10.4s\tremaining: 3.43s\n",
            "752:\tlearn: 0.2484772\ttotal: 10.4s\tremaining: 3.42s\n",
            "753:\tlearn: 0.2484077\ttotal: 10.4s\tremaining: 3.4s\n",
            "754:\tlearn: 0.2483623\ttotal: 10.4s\tremaining: 3.39s\n",
            "755:\tlearn: 0.2482862\ttotal: 10.5s\tremaining: 3.37s\n",
            "756:\tlearn: 0.2482297\ttotal: 10.5s\tremaining: 3.36s\n",
            "757:\tlearn: 0.2481342\ttotal: 10.5s\tremaining: 3.35s\n",
            "758:\tlearn: 0.2480583\ttotal: 10.5s\tremaining: 3.33s\n",
            "759:\tlearn: 0.2479692\ttotal: 10.5s\tremaining: 3.32s\n",
            "760:\tlearn: 0.2479117\ttotal: 10.5s\tremaining: 3.3s\n",
            "761:\tlearn: 0.2478660\ttotal: 10.5s\tremaining: 3.29s\n",
            "762:\tlearn: 0.2477966\ttotal: 10.5s\tremaining: 3.28s\n",
            "763:\tlearn: 0.2477453\ttotal: 10.6s\tremaining: 3.26s\n",
            "764:\tlearn: 0.2476680\ttotal: 10.6s\tremaining: 3.25s\n",
            "765:\tlearn: 0.2476345\ttotal: 10.6s\tremaining: 3.23s\n",
            "766:\tlearn: 0.2475901\ttotal: 10.6s\tremaining: 3.22s\n",
            "767:\tlearn: 0.2475440\ttotal: 10.6s\tremaining: 3.21s\n",
            "768:\tlearn: 0.2474809\ttotal: 10.6s\tremaining: 3.19s\n",
            "769:\tlearn: 0.2474047\ttotal: 10.6s\tremaining: 3.18s\n",
            "770:\tlearn: 0.2473436\ttotal: 10.7s\tremaining: 3.17s\n",
            "771:\tlearn: 0.2472682\ttotal: 10.7s\tremaining: 3.15s\n",
            "772:\tlearn: 0.2472338\ttotal: 10.7s\tremaining: 3.14s\n",
            "773:\tlearn: 0.2471310\ttotal: 10.7s\tremaining: 3.12s\n",
            "774:\tlearn: 0.2470679\ttotal: 10.7s\tremaining: 3.11s\n",
            "775:\tlearn: 0.2469962\ttotal: 10.7s\tremaining: 3.1s\n",
            "776:\tlearn: 0.2469427\ttotal: 10.7s\tremaining: 3.08s\n",
            "777:\tlearn: 0.2468873\ttotal: 10.8s\tremaining: 3.07s\n",
            "778:\tlearn: 0.2468101\ttotal: 10.8s\tremaining: 3.05s\n",
            "779:\tlearn: 0.2467574\ttotal: 10.8s\tremaining: 3.04s\n",
            "780:\tlearn: 0.2467087\ttotal: 10.8s\tremaining: 3.03s\n",
            "781:\tlearn: 0.2466750\ttotal: 10.8s\tremaining: 3.01s\n",
            "782:\tlearn: 0.2465876\ttotal: 10.8s\tremaining: 3s\n",
            "783:\tlearn: 0.2465492\ttotal: 10.8s\tremaining: 2.98s\n",
            "784:\tlearn: 0.2464657\ttotal: 10.8s\tremaining: 2.97s\n",
            "785:\tlearn: 0.2464200\ttotal: 10.9s\tremaining: 2.96s\n",
            "786:\tlearn: 0.2463484\ttotal: 10.9s\tremaining: 2.94s\n",
            "787:\tlearn: 0.2462993\ttotal: 10.9s\tremaining: 2.93s\n",
            "788:\tlearn: 0.2462505\ttotal: 10.9s\tremaining: 2.91s\n",
            "789:\tlearn: 0.2461865\ttotal: 10.9s\tremaining: 2.9s\n",
            "790:\tlearn: 0.2460860\ttotal: 10.9s\tremaining: 2.89s\n",
            "791:\tlearn: 0.2460411\ttotal: 10.9s\tremaining: 2.87s\n",
            "792:\tlearn: 0.2459912\ttotal: 11s\tremaining: 2.86s\n",
            "793:\tlearn: 0.2459528\ttotal: 11s\tremaining: 2.84s\n",
            "794:\tlearn: 0.2458985\ttotal: 11s\tremaining: 2.83s\n",
            "795:\tlearn: 0.2458286\ttotal: 11s\tremaining: 2.82s\n",
            "796:\tlearn: 0.2457625\ttotal: 11s\tremaining: 2.8s\n",
            "797:\tlearn: 0.2457267\ttotal: 11s\tremaining: 2.79s\n",
            "798:\tlearn: 0.2456679\ttotal: 11s\tremaining: 2.78s\n",
            "799:\tlearn: 0.2455531\ttotal: 11s\tremaining: 2.76s\n",
            "800:\tlearn: 0.2454906\ttotal: 11.1s\tremaining: 2.75s\n",
            "801:\tlearn: 0.2454498\ttotal: 11.1s\tremaining: 2.73s\n",
            "802:\tlearn: 0.2453411\ttotal: 11.1s\tremaining: 2.72s\n",
            "803:\tlearn: 0.2452999\ttotal: 11.1s\tremaining: 2.71s\n",
            "804:\tlearn: 0.2452690\ttotal: 11.1s\tremaining: 2.69s\n",
            "805:\tlearn: 0.2452176\ttotal: 11.1s\tremaining: 2.68s\n",
            "806:\tlearn: 0.2451764\ttotal: 11.1s\tremaining: 2.66s\n",
            "807:\tlearn: 0.2451202\ttotal: 11.2s\tremaining: 2.65s\n",
            "808:\tlearn: 0.2450666\ttotal: 11.2s\tremaining: 2.64s\n",
            "809:\tlearn: 0.2450226\ttotal: 11.2s\tremaining: 2.62s\n",
            "810:\tlearn: 0.2449738\ttotal: 11.2s\tremaining: 2.61s\n",
            "811:\tlearn: 0.2448794\ttotal: 11.2s\tremaining: 2.6s\n",
            "812:\tlearn: 0.2448082\ttotal: 11.2s\tremaining: 2.58s\n",
            "813:\tlearn: 0.2447492\ttotal: 11.2s\tremaining: 2.57s\n",
            "814:\tlearn: 0.2446385\ttotal: 11.2s\tremaining: 2.55s\n",
            "815:\tlearn: 0.2445432\ttotal: 11.3s\tremaining: 2.54s\n",
            "816:\tlearn: 0.2444905\ttotal: 11.3s\tremaining: 2.53s\n",
            "817:\tlearn: 0.2444343\ttotal: 11.3s\tremaining: 2.52s\n",
            "818:\tlearn: 0.2443675\ttotal: 11.3s\tremaining: 2.5s\n",
            "819:\tlearn: 0.2443052\ttotal: 11.3s\tremaining: 2.49s\n",
            "820:\tlearn: 0.2442253\ttotal: 11.3s\tremaining: 2.47s\n",
            "821:\tlearn: 0.2441736\ttotal: 11.4s\tremaining: 2.46s\n",
            "822:\tlearn: 0.2441230\ttotal: 11.4s\tremaining: 2.45s\n",
            "823:\tlearn: 0.2440398\ttotal: 11.4s\tremaining: 2.43s\n",
            "824:\tlearn: 0.2440035\ttotal: 11.4s\tremaining: 2.42s\n",
            "825:\tlearn: 0.2439673\ttotal: 11.4s\tremaining: 2.41s\n",
            "826:\tlearn: 0.2438921\ttotal: 11.4s\tremaining: 2.39s\n",
            "827:\tlearn: 0.2438228\ttotal: 11.4s\tremaining: 2.38s\n",
            "828:\tlearn: 0.2437750\ttotal: 11.5s\tremaining: 2.36s\n",
            "829:\tlearn: 0.2437438\ttotal: 11.5s\tremaining: 2.35s\n",
            "830:\tlearn: 0.2437168\ttotal: 11.5s\tremaining: 2.33s\n",
            "831:\tlearn: 0.2436433\ttotal: 11.5s\tremaining: 2.32s\n",
            "832:\tlearn: 0.2435972\ttotal: 11.5s\tremaining: 2.31s\n",
            "833:\tlearn: 0.2435414\ttotal: 11.5s\tremaining: 2.29s\n",
            "834:\tlearn: 0.2435105\ttotal: 11.5s\tremaining: 2.28s\n",
            "835:\tlearn: 0.2434218\ttotal: 11.6s\tremaining: 2.27s\n",
            "836:\tlearn: 0.2433479\ttotal: 11.6s\tremaining: 2.25s\n",
            "837:\tlearn: 0.2432986\ttotal: 11.6s\tremaining: 2.24s\n",
            "838:\tlearn: 0.2432309\ttotal: 11.6s\tremaining: 2.22s\n",
            "839:\tlearn: 0.2431633\ttotal: 11.6s\tremaining: 2.21s\n",
            "840:\tlearn: 0.2431088\ttotal: 11.6s\tremaining: 2.2s\n",
            "841:\tlearn: 0.2430454\ttotal: 11.6s\tremaining: 2.18s\n",
            "842:\tlearn: 0.2429891\ttotal: 11.6s\tremaining: 2.17s\n",
            "843:\tlearn: 0.2429144\ttotal: 11.7s\tremaining: 2.15s\n",
            "844:\tlearn: 0.2428596\ttotal: 11.7s\tremaining: 2.14s\n",
            "845:\tlearn: 0.2427941\ttotal: 11.7s\tremaining: 2.13s\n",
            "846:\tlearn: 0.2427125\ttotal: 11.7s\tremaining: 2.11s\n",
            "847:\tlearn: 0.2426353\ttotal: 11.7s\tremaining: 2.1s\n",
            "848:\tlearn: 0.2425500\ttotal: 11.7s\tremaining: 2.08s\n",
            "849:\tlearn: 0.2424749\ttotal: 11.8s\tremaining: 2.07s\n",
            "850:\tlearn: 0.2424381\ttotal: 11.8s\tremaining: 2.06s\n",
            "851:\tlearn: 0.2423841\ttotal: 11.8s\tremaining: 2.04s\n",
            "852:\tlearn: 0.2422966\ttotal: 11.8s\tremaining: 2.03s\n",
            "853:\tlearn: 0.2422268\ttotal: 11.8s\tremaining: 2.02s\n",
            "854:\tlearn: 0.2421607\ttotal: 11.8s\tremaining: 2s\n",
            "855:\tlearn: 0.2421034\ttotal: 11.8s\tremaining: 1.99s\n",
            "856:\tlearn: 0.2420436\ttotal: 11.8s\tremaining: 1.98s\n",
            "857:\tlearn: 0.2419818\ttotal: 11.9s\tremaining: 1.96s\n",
            "858:\tlearn: 0.2419024\ttotal: 11.9s\tremaining: 1.95s\n",
            "859:\tlearn: 0.2418219\ttotal: 11.9s\tremaining: 1.94s\n",
            "860:\tlearn: 0.2417772\ttotal: 11.9s\tremaining: 1.92s\n",
            "861:\tlearn: 0.2417014\ttotal: 11.9s\tremaining: 1.91s\n",
            "862:\tlearn: 0.2416465\ttotal: 11.9s\tremaining: 1.89s\n",
            "863:\tlearn: 0.2415952\ttotal: 11.9s\tremaining: 1.88s\n",
            "864:\tlearn: 0.2415462\ttotal: 12s\tremaining: 1.87s\n",
            "865:\tlearn: 0.2414772\ttotal: 12s\tremaining: 1.85s\n",
            "866:\tlearn: 0.2414365\ttotal: 12s\tremaining: 1.84s\n",
            "867:\tlearn: 0.2413836\ttotal: 12s\tremaining: 1.82s\n",
            "868:\tlearn: 0.2413167\ttotal: 12s\tremaining: 1.81s\n",
            "869:\tlearn: 0.2412583\ttotal: 12s\tremaining: 1.8s\n",
            "870:\tlearn: 0.2412079\ttotal: 12s\tremaining: 1.78s\n",
            "871:\tlearn: 0.2411460\ttotal: 12.1s\tremaining: 1.77s\n",
            "872:\tlearn: 0.2410882\ttotal: 12.1s\tremaining: 1.75s\n",
            "873:\tlearn: 0.2410424\ttotal: 12.1s\tremaining: 1.74s\n",
            "874:\tlearn: 0.2409477\ttotal: 12.1s\tremaining: 1.73s\n",
            "875:\tlearn: 0.2408836\ttotal: 12.1s\tremaining: 1.71s\n",
            "876:\tlearn: 0.2407911\ttotal: 12.1s\tremaining: 1.7s\n",
            "877:\tlearn: 0.2407127\ttotal: 12.1s\tremaining: 1.69s\n",
            "878:\tlearn: 0.2406884\ttotal: 12.2s\tremaining: 1.67s\n",
            "879:\tlearn: 0.2406338\ttotal: 12.2s\tremaining: 1.66s\n",
            "880:\tlearn: 0.2405769\ttotal: 12.2s\tremaining: 1.64s\n",
            "881:\tlearn: 0.2405340\ttotal: 12.2s\tremaining: 1.63s\n",
            "882:\tlearn: 0.2404810\ttotal: 12.2s\tremaining: 1.62s\n",
            "883:\tlearn: 0.2404066\ttotal: 12.2s\tremaining: 1.6s\n",
            "884:\tlearn: 0.2403656\ttotal: 12.2s\tremaining: 1.59s\n",
            "885:\tlearn: 0.2403098\ttotal: 12.2s\tremaining: 1.57s\n",
            "886:\tlearn: 0.2402674\ttotal: 12.3s\tremaining: 1.56s\n",
            "887:\tlearn: 0.2402097\ttotal: 12.3s\tremaining: 1.55s\n",
            "888:\tlearn: 0.2401740\ttotal: 12.3s\tremaining: 1.53s\n",
            "889:\tlearn: 0.2401025\ttotal: 12.3s\tremaining: 1.52s\n",
            "890:\tlearn: 0.2400352\ttotal: 12.3s\tremaining: 1.51s\n",
            "891:\tlearn: 0.2399749\ttotal: 12.3s\tremaining: 1.49s\n",
            "892:\tlearn: 0.2399347\ttotal: 12.3s\tremaining: 1.48s\n",
            "893:\tlearn: 0.2398740\ttotal: 12.4s\tremaining: 1.47s\n",
            "894:\tlearn: 0.2398004\ttotal: 12.4s\tremaining: 1.45s\n",
            "895:\tlearn: 0.2397020\ttotal: 12.4s\tremaining: 1.44s\n",
            "896:\tlearn: 0.2396472\ttotal: 12.4s\tremaining: 1.42s\n",
            "897:\tlearn: 0.2395813\ttotal: 12.4s\tremaining: 1.41s\n",
            "898:\tlearn: 0.2395464\ttotal: 12.4s\tremaining: 1.4s\n",
            "899:\tlearn: 0.2394865\ttotal: 12.4s\tremaining: 1.38s\n",
            "900:\tlearn: 0.2394345\ttotal: 12.5s\tremaining: 1.37s\n",
            "901:\tlearn: 0.2392185\ttotal: 12.5s\tremaining: 1.35s\n",
            "902:\tlearn: 0.2391700\ttotal: 12.5s\tremaining: 1.34s\n",
            "903:\tlearn: 0.2391220\ttotal: 12.5s\tremaining: 1.33s\n",
            "904:\tlearn: 0.2390658\ttotal: 12.5s\tremaining: 1.31s\n",
            "905:\tlearn: 0.2390300\ttotal: 12.5s\tremaining: 1.3s\n",
            "906:\tlearn: 0.2389649\ttotal: 12.5s\tremaining: 1.28s\n",
            "907:\tlearn: 0.2389185\ttotal: 12.6s\tremaining: 1.27s\n",
            "908:\tlearn: 0.2388351\ttotal: 12.6s\tremaining: 1.26s\n",
            "909:\tlearn: 0.2387588\ttotal: 12.6s\tremaining: 1.24s\n",
            "910:\tlearn: 0.2386617\ttotal: 12.6s\tremaining: 1.23s\n",
            "911:\tlearn: 0.2386317\ttotal: 12.6s\tremaining: 1.22s\n",
            "912:\tlearn: 0.2385668\ttotal: 12.6s\tremaining: 1.2s\n",
            "913:\tlearn: 0.2384954\ttotal: 12.6s\tremaining: 1.19s\n",
            "914:\tlearn: 0.2384554\ttotal: 12.6s\tremaining: 1.17s\n",
            "915:\tlearn: 0.2383640\ttotal: 12.7s\tremaining: 1.16s\n",
            "916:\tlearn: 0.2382993\ttotal: 12.7s\tremaining: 1.15s\n",
            "917:\tlearn: 0.2382347\ttotal: 12.7s\tremaining: 1.13s\n",
            "918:\tlearn: 0.2381529\ttotal: 12.7s\tremaining: 1.12s\n",
            "919:\tlearn: 0.2380978\ttotal: 12.7s\tremaining: 1.1s\n",
            "920:\tlearn: 0.2380072\ttotal: 12.7s\tremaining: 1.09s\n",
            "921:\tlearn: 0.2379500\ttotal: 12.7s\tremaining: 1.08s\n",
            "922:\tlearn: 0.2378738\ttotal: 12.8s\tremaining: 1.06s\n",
            "923:\tlearn: 0.2378141\ttotal: 12.8s\tremaining: 1.05s\n",
            "924:\tlearn: 0.2377707\ttotal: 12.8s\tremaining: 1.04s\n",
            "925:\tlearn: 0.2377327\ttotal: 12.8s\tremaining: 1.02s\n",
            "926:\tlearn: 0.2376675\ttotal: 12.8s\tremaining: 1.01s\n",
            "927:\tlearn: 0.2376109\ttotal: 12.8s\tremaining: 995ms\n",
            "928:\tlearn: 0.2375309\ttotal: 12.8s\tremaining: 981ms\n",
            "929:\tlearn: 0.2374806\ttotal: 12.8s\tremaining: 967ms\n",
            "930:\tlearn: 0.2374113\ttotal: 12.9s\tremaining: 953ms\n",
            "931:\tlearn: 0.2373420\ttotal: 12.9s\tremaining: 940ms\n",
            "932:\tlearn: 0.2372749\ttotal: 12.9s\tremaining: 927ms\n",
            "933:\tlearn: 0.2372321\ttotal: 12.9s\tremaining: 913ms\n",
            "934:\tlearn: 0.2371666\ttotal: 12.9s\tremaining: 899ms\n",
            "935:\tlearn: 0.2370866\ttotal: 12.9s\tremaining: 885ms\n",
            "936:\tlearn: 0.2370058\ttotal: 13s\tremaining: 871ms\n",
            "937:\tlearn: 0.2369506\ttotal: 13s\tremaining: 857ms\n",
            "938:\tlearn: 0.2368809\ttotal: 13s\tremaining: 844ms\n",
            "939:\tlearn: 0.2368047\ttotal: 13s\tremaining: 830ms\n",
            "940:\tlearn: 0.2367697\ttotal: 13s\tremaining: 816ms\n",
            "941:\tlearn: 0.2367212\ttotal: 13s\tremaining: 802ms\n",
            "942:\tlearn: 0.2366447\ttotal: 13s\tremaining: 788ms\n",
            "943:\tlearn: 0.2365588\ttotal: 13.1s\tremaining: 774ms\n",
            "944:\tlearn: 0.2364946\ttotal: 13.1s\tremaining: 760ms\n",
            "945:\tlearn: 0.2364297\ttotal: 13.1s\tremaining: 746ms\n",
            "946:\tlearn: 0.2363958\ttotal: 13.1s\tremaining: 733ms\n",
            "947:\tlearn: 0.2363279\ttotal: 13.1s\tremaining: 719ms\n",
            "948:\tlearn: 0.2362400\ttotal: 13.1s\tremaining: 705ms\n",
            "949:\tlearn: 0.2361918\ttotal: 13.1s\tremaining: 691ms\n",
            "950:\tlearn: 0.2361203\ttotal: 13.1s\tremaining: 678ms\n",
            "951:\tlearn: 0.2360415\ttotal: 13.2s\tremaining: 664ms\n",
            "952:\tlearn: 0.2359781\ttotal: 13.2s\tremaining: 650ms\n",
            "953:\tlearn: 0.2359344\ttotal: 13.2s\tremaining: 636ms\n",
            "954:\tlearn: 0.2358777\ttotal: 13.2s\tremaining: 622ms\n",
            "955:\tlearn: 0.2358038\ttotal: 13.2s\tremaining: 608ms\n",
            "956:\tlearn: 0.2357397\ttotal: 13.2s\tremaining: 594ms\n",
            "957:\tlearn: 0.2356715\ttotal: 13.2s\tremaining: 581ms\n",
            "958:\tlearn: 0.2356181\ttotal: 13.3s\tremaining: 567ms\n",
            "959:\tlearn: 0.2355502\ttotal: 13.3s\tremaining: 553ms\n",
            "960:\tlearn: 0.2354667\ttotal: 13.3s\tremaining: 540ms\n",
            "961:\tlearn: 0.2353812\ttotal: 13.3s\tremaining: 526ms\n",
            "962:\tlearn: 0.2352933\ttotal: 13.3s\tremaining: 512ms\n",
            "963:\tlearn: 0.2352134\ttotal: 13.3s\tremaining: 498ms\n",
            "964:\tlearn: 0.2351705\ttotal: 13.4s\tremaining: 484ms\n",
            "965:\tlearn: 0.2351276\ttotal: 13.4s\tremaining: 470ms\n",
            "966:\tlearn: 0.2350646\ttotal: 13.4s\tremaining: 457ms\n",
            "967:\tlearn: 0.2350184\ttotal: 13.4s\tremaining: 443ms\n",
            "968:\tlearn: 0.2349522\ttotal: 13.4s\tremaining: 429ms\n",
            "969:\tlearn: 0.2348545\ttotal: 13.4s\tremaining: 415ms\n",
            "970:\tlearn: 0.2348274\ttotal: 13.4s\tremaining: 401ms\n",
            "971:\tlearn: 0.2347823\ttotal: 13.4s\tremaining: 387ms\n",
            "972:\tlearn: 0.2347357\ttotal: 13.5s\tremaining: 373ms\n",
            "973:\tlearn: 0.2346769\ttotal: 13.5s\tremaining: 360ms\n",
            "974:\tlearn: 0.2346100\ttotal: 13.5s\tremaining: 346ms\n",
            "975:\tlearn: 0.2345572\ttotal: 13.5s\tremaining: 332ms\n",
            "976:\tlearn: 0.2345142\ttotal: 13.5s\tremaining: 318ms\n",
            "977:\tlearn: 0.2344677\ttotal: 13.5s\tremaining: 304ms\n",
            "978:\tlearn: 0.2344207\ttotal: 13.5s\tremaining: 291ms\n",
            "979:\tlearn: 0.2343655\ttotal: 13.6s\tremaining: 277ms\n",
            "980:\tlearn: 0.2343065\ttotal: 13.6s\tremaining: 263ms\n",
            "981:\tlearn: 0.2342473\ttotal: 13.6s\tremaining: 249ms\n",
            "982:\tlearn: 0.2341989\ttotal: 13.6s\tremaining: 235ms\n",
            "983:\tlearn: 0.2341256\ttotal: 13.6s\tremaining: 221ms\n",
            "984:\tlearn: 0.2340698\ttotal: 13.6s\tremaining: 207ms\n",
            "985:\tlearn: 0.2340355\ttotal: 13.6s\tremaining: 194ms\n",
            "986:\tlearn: 0.2339731\ttotal: 13.7s\tremaining: 180ms\n",
            "987:\tlearn: 0.2339112\ttotal: 13.7s\tremaining: 166ms\n",
            "988:\tlearn: 0.2338534\ttotal: 13.7s\tremaining: 152ms\n",
            "989:\tlearn: 0.2337593\ttotal: 13.7s\tremaining: 138ms\n",
            "990:\tlearn: 0.2337067\ttotal: 13.7s\tremaining: 125ms\n",
            "991:\tlearn: 0.2336711\ttotal: 13.7s\tremaining: 111ms\n",
            "992:\tlearn: 0.2336069\ttotal: 13.7s\tremaining: 96.9ms\n",
            "993:\tlearn: 0.2335339\ttotal: 13.8s\tremaining: 83ms\n",
            "994:\tlearn: 0.2334733\ttotal: 13.8s\tremaining: 69.2ms\n",
            "995:\tlearn: 0.2334341\ttotal: 13.8s\tremaining: 55.4ms\n",
            "996:\tlearn: 0.2334005\ttotal: 13.8s\tremaining: 41.5ms\n",
            "997:\tlearn: 0.2333586\ttotal: 13.8s\tremaining: 27.7ms\n",
            "998:\tlearn: 0.2332953\ttotal: 13.8s\tremaining: 13.8ms\n",
            "999:\tlearn: 0.2332707\ttotal: 13.8s\tremaining: 0us\n",
            "Training time: 0.2441min \n",
            "\n",
            "score matrix for train\n",
            "********************************************************************************\n",
            "The accuracy is  0.9052925593181295\n",
            "The precision is  0.959416115729528\n",
            "The recall is  0.8459540574858594\n",
            "The f1 is  0.899119712909855\n",
            "the auc  is  0.9051629843802128\n",
            "\n",
            "confusion_matrix \n",
            "  [[16782   620]\n",
            " [ 2669 14657]]\n",
            "\n",
            "Classification Report\n",
            "\n",
            "              precision    recall  f1-score   support\n",
            "\n",
            "           0       0.86      0.96      0.91     17402\n",
            "           1       0.96      0.85      0.90     17326\n",
            "\n",
            "    accuracy                           0.91     34728\n",
            "   macro avg       0.91      0.91      0.90     34728\n",
            "weighted avg       0.91      0.91      0.90     34728\n",
            "\n",
            "\n",
            "\n",
            "score matrix for test\n",
            "********************************************************************************\n",
            "The accuracy is  0.8737042156185211\n",
            "The precision is  0.929020841525757\n",
            "The recall is  0.8110195674562307\n",
            "The f1 is  0.8660190615835777\n",
            "the auc  is  0.8741184793802893\n",
            "\n",
            "confusion_matrix \n",
            "  [[5389  361]\n",
            " [1101 4725]]\n",
            "\n",
            "Classification Report\n",
            "\n",
            "              precision    recall  f1-score   support\n",
            "\n",
            "           0       0.83      0.94      0.88      5750\n",
            "           1       0.93      0.81      0.87      5826\n",
            "\n",
            "    accuracy                           0.87     11576\n",
            "   macro avg       0.88      0.87      0.87     11576\n",
            "weighted avg       0.88      0.87      0.87     11576\n",
            "\n"
          ]
        }
      ]
    },
    {
      "cell_type": "markdown",
      "metadata": {
        "id": "XuWN3kZohZ81"
      },
      "source": [
        "### Hyperparameter tuning for Catboost"
      ]
    },
    {
      "cell_type": "code",
      "metadata": {
        "id": "DcfwGrNigzQ0"
      },
      "source": [
        "# finding the best parameters for XGBRegressor by gridsearchcv\n",
        "params={'n_estimators': [50,100,150],'max_depth': [3,5,9]}\n",
        "grid_cb_model=GridSearchCV(estimator=cb_model,param_grid=params,cv=3,scoring='recall',verbose=0,n_jobs=-1)"
      ],
      "execution_count": 112,
      "outputs": []
    },
    {
      "cell_type": "code",
      "metadata": {
        "colab": {
          "base_uri": "https://localhost:8080/"
        },
        "id": "KJUVAQwVEsMX",
        "outputId": "d8202ab5-e0ba-4d25-8c33-b6c5185c14ce"
      },
      "source": [
        "# training and evaluating the catboost model with hyperparameter tuing\n",
        "run_and_evaluate_model(grid_cb_model,X_train,X_test,y_train,y_test)"
      ],
      "execution_count": 113,
      "outputs": [
        {
          "output_type": "stream",
          "name": "stdout",
          "text": [
            "Learning rate set to 0.266888\n",
            "0:\tlearn: 0.5208491\ttotal: 48.9ms\tremaining: 7.28s\n",
            "1:\tlearn: 0.4444134\ttotal: 87.5ms\tremaining: 6.47s\n",
            "2:\tlearn: 0.3937523\ttotal: 126ms\tremaining: 6.19s\n",
            "3:\tlearn: 0.3570373\ttotal: 163ms\tremaining: 5.96s\n",
            "4:\tlearn: 0.3387018\ttotal: 207ms\tremaining: 6.01s\n",
            "5:\tlearn: 0.3326020\ttotal: 244ms\tremaining: 5.85s\n",
            "6:\tlearn: 0.3250790\ttotal: 286ms\tremaining: 5.83s\n",
            "7:\tlearn: 0.3159386\ttotal: 325ms\tremaining: 5.77s\n",
            "8:\tlearn: 0.3032998\ttotal: 361ms\tremaining: 5.66s\n",
            "9:\tlearn: 0.3007361\ttotal: 400ms\tremaining: 5.6s\n",
            "10:\tlearn: 0.2977829\ttotal: 449ms\tremaining: 5.67s\n",
            "11:\tlearn: 0.2964994\ttotal: 485ms\tremaining: 5.58s\n",
            "12:\tlearn: 0.2943336\ttotal: 523ms\tremaining: 5.51s\n",
            "13:\tlearn: 0.2916738\ttotal: 563ms\tremaining: 5.47s\n",
            "14:\tlearn: 0.2895963\ttotal: 603ms\tremaining: 5.43s\n",
            "15:\tlearn: 0.2880315\ttotal: 645ms\tremaining: 5.4s\n",
            "16:\tlearn: 0.2865234\ttotal: 689ms\tremaining: 5.39s\n",
            "17:\tlearn: 0.2853365\ttotal: 728ms\tremaining: 5.34s\n",
            "18:\tlearn: 0.2841479\ttotal: 766ms\tremaining: 5.28s\n",
            "19:\tlearn: 0.2841175\ttotal: 772ms\tremaining: 5.02s\n",
            "20:\tlearn: 0.2819792\ttotal: 812ms\tremaining: 4.99s\n",
            "21:\tlearn: 0.2807348\ttotal: 861ms\tremaining: 5.01s\n",
            "22:\tlearn: 0.2791534\ttotal: 902ms\tremaining: 4.98s\n",
            "23:\tlearn: 0.2771373\ttotal: 941ms\tremaining: 4.94s\n",
            "24:\tlearn: 0.2755919\ttotal: 979ms\tremaining: 4.89s\n",
            "25:\tlearn: 0.2746304\ttotal: 1.02s\tremaining: 4.86s\n",
            "26:\tlearn: 0.2733391\ttotal: 1.06s\tremaining: 4.82s\n",
            "27:\tlearn: 0.2712357\ttotal: 1.1s\tremaining: 4.78s\n",
            "28:\tlearn: 0.2705479\ttotal: 1.14s\tremaining: 4.75s\n",
            "29:\tlearn: 0.2685938\ttotal: 1.18s\tremaining: 4.72s\n",
            "30:\tlearn: 0.2664793\ttotal: 1.22s\tremaining: 4.68s\n",
            "31:\tlearn: 0.2657015\ttotal: 1.26s\tremaining: 4.63s\n",
            "32:\tlearn: 0.2641509\ttotal: 1.29s\tremaining: 4.59s\n",
            "33:\tlearn: 0.2628558\ttotal: 1.33s\tremaining: 4.56s\n",
            "34:\tlearn: 0.2616561\ttotal: 1.38s\tremaining: 4.54s\n",
            "35:\tlearn: 0.2601514\ttotal: 1.42s\tremaining: 4.5s\n",
            "36:\tlearn: 0.2587891\ttotal: 1.47s\tremaining: 4.49s\n",
            "37:\tlearn: 0.2579140\ttotal: 1.51s\tremaining: 4.44s\n",
            "38:\tlearn: 0.2563334\ttotal: 1.54s\tremaining: 4.4s\n",
            "39:\tlearn: 0.2545180\ttotal: 1.59s\tremaining: 4.38s\n",
            "40:\tlearn: 0.2524583\ttotal: 1.63s\tremaining: 4.34s\n",
            "41:\tlearn: 0.2509838\ttotal: 1.67s\tremaining: 4.29s\n",
            "42:\tlearn: 0.2497787\ttotal: 1.71s\tremaining: 4.25s\n",
            "43:\tlearn: 0.2489617\ttotal: 1.75s\tremaining: 4.21s\n",
            "44:\tlearn: 0.2474792\ttotal: 1.79s\tremaining: 4.17s\n",
            "45:\tlearn: 0.2455993\ttotal: 1.83s\tremaining: 4.14s\n",
            "46:\tlearn: 0.2441941\ttotal: 1.87s\tremaining: 4.09s\n",
            "47:\tlearn: 0.2435282\ttotal: 1.9s\tremaining: 4.05s\n",
            "48:\tlearn: 0.2417618\ttotal: 1.94s\tremaining: 4s\n",
            "49:\tlearn: 0.2406772\ttotal: 1.98s\tremaining: 3.96s\n",
            "50:\tlearn: 0.2392296\ttotal: 2.02s\tremaining: 3.92s\n",
            "51:\tlearn: 0.2376350\ttotal: 2.06s\tremaining: 3.89s\n",
            "52:\tlearn: 0.2357281\ttotal: 2.11s\tremaining: 3.86s\n",
            "53:\tlearn: 0.2345229\ttotal: 2.14s\tremaining: 3.81s\n",
            "54:\tlearn: 0.2340040\ttotal: 2.18s\tremaining: 3.76s\n",
            "55:\tlearn: 0.2329604\ttotal: 2.22s\tremaining: 3.72s\n",
            "56:\tlearn: 0.2318282\ttotal: 2.25s\tremaining: 3.68s\n",
            "57:\tlearn: 0.2305511\ttotal: 2.3s\tremaining: 3.65s\n",
            "58:\tlearn: 0.2296905\ttotal: 2.34s\tremaining: 3.6s\n",
            "59:\tlearn: 0.2285245\ttotal: 2.38s\tremaining: 3.56s\n",
            "60:\tlearn: 0.2278198\ttotal: 2.41s\tremaining: 3.52s\n",
            "61:\tlearn: 0.2266579\ttotal: 2.46s\tremaining: 3.49s\n",
            "62:\tlearn: 0.2250437\ttotal: 2.5s\tremaining: 3.45s\n",
            "63:\tlearn: 0.2242948\ttotal: 2.54s\tremaining: 3.41s\n",
            "64:\tlearn: 0.2237873\ttotal: 2.58s\tremaining: 3.37s\n",
            "65:\tlearn: 0.2224456\ttotal: 2.62s\tremaining: 3.33s\n",
            "66:\tlearn: 0.2210163\ttotal: 2.66s\tremaining: 3.29s\n",
            "67:\tlearn: 0.2196960\ttotal: 2.69s\tremaining: 3.25s\n",
            "68:\tlearn: 0.2185587\ttotal: 2.73s\tremaining: 3.21s\n",
            "69:\tlearn: 0.2174736\ttotal: 2.77s\tremaining: 3.17s\n",
            "70:\tlearn: 0.2167415\ttotal: 2.81s\tremaining: 3.13s\n",
            "71:\tlearn: 0.2149275\ttotal: 2.86s\tremaining: 3.1s\n",
            "72:\tlearn: 0.2140962\ttotal: 2.9s\tremaining: 3.06s\n",
            "73:\tlearn: 0.2125284\ttotal: 2.94s\tremaining: 3.02s\n",
            "74:\tlearn: 0.2110883\ttotal: 2.98s\tremaining: 2.98s\n",
            "75:\tlearn: 0.2103251\ttotal: 3.02s\tremaining: 2.94s\n",
            "76:\tlearn: 0.2098272\ttotal: 3.06s\tremaining: 2.9s\n",
            "77:\tlearn: 0.2087055\ttotal: 3.09s\tremaining: 2.86s\n",
            "78:\tlearn: 0.2078937\ttotal: 3.13s\tremaining: 2.81s\n",
            "79:\tlearn: 0.2071084\ttotal: 3.17s\tremaining: 2.77s\n",
            "80:\tlearn: 0.2063887\ttotal: 3.21s\tremaining: 2.73s\n",
            "81:\tlearn: 0.2054186\ttotal: 3.25s\tremaining: 2.69s\n",
            "82:\tlearn: 0.2045375\ttotal: 3.29s\tremaining: 2.65s\n",
            "83:\tlearn: 0.2031291\ttotal: 3.32s\tremaining: 2.61s\n",
            "84:\tlearn: 0.2017017\ttotal: 3.36s\tremaining: 2.57s\n",
            "85:\tlearn: 0.2010241\ttotal: 3.4s\tremaining: 2.53s\n",
            "86:\tlearn: 0.1996014\ttotal: 3.44s\tremaining: 2.49s\n",
            "87:\tlearn: 0.1985824\ttotal: 3.49s\tremaining: 2.46s\n",
            "88:\tlearn: 0.1978032\ttotal: 3.53s\tremaining: 2.42s\n",
            "89:\tlearn: 0.1968872\ttotal: 3.57s\tremaining: 2.38s\n",
            "90:\tlearn: 0.1958060\ttotal: 3.61s\tremaining: 2.34s\n",
            "91:\tlearn: 0.1953830\ttotal: 3.65s\tremaining: 2.3s\n",
            "92:\tlearn: 0.1945529\ttotal: 3.68s\tremaining: 2.26s\n",
            "93:\tlearn: 0.1929037\ttotal: 3.72s\tremaining: 2.22s\n",
            "94:\tlearn: 0.1922357\ttotal: 3.76s\tremaining: 2.18s\n",
            "95:\tlearn: 0.1915586\ttotal: 3.8s\tremaining: 2.14s\n",
            "96:\tlearn: 0.1904725\ttotal: 3.84s\tremaining: 2.1s\n",
            "97:\tlearn: 0.1897852\ttotal: 3.88s\tremaining: 2.06s\n",
            "98:\tlearn: 0.1889351\ttotal: 3.92s\tremaining: 2.02s\n",
            "99:\tlearn: 0.1883336\ttotal: 3.96s\tremaining: 1.98s\n",
            "100:\tlearn: 0.1875835\ttotal: 3.99s\tremaining: 1.94s\n",
            "101:\tlearn: 0.1864473\ttotal: 4.03s\tremaining: 1.9s\n",
            "102:\tlearn: 0.1854562\ttotal: 4.08s\tremaining: 1.86s\n",
            "103:\tlearn: 0.1842799\ttotal: 4.11s\tremaining: 1.82s\n",
            "104:\tlearn: 0.1837114\ttotal: 4.15s\tremaining: 1.78s\n",
            "105:\tlearn: 0.1831085\ttotal: 4.19s\tremaining: 1.74s\n",
            "106:\tlearn: 0.1822543\ttotal: 4.22s\tremaining: 1.7s\n",
            "107:\tlearn: 0.1811828\ttotal: 4.26s\tremaining: 1.66s\n",
            "108:\tlearn: 0.1802223\ttotal: 4.3s\tremaining: 1.62s\n",
            "109:\tlearn: 0.1797186\ttotal: 4.34s\tremaining: 1.58s\n",
            "110:\tlearn: 0.1788583\ttotal: 4.38s\tremaining: 1.54s\n",
            "111:\tlearn: 0.1776732\ttotal: 4.42s\tremaining: 1.5s\n",
            "112:\tlearn: 0.1768117\ttotal: 4.47s\tremaining: 1.46s\n",
            "113:\tlearn: 0.1763207\ttotal: 4.51s\tremaining: 1.42s\n",
            "114:\tlearn: 0.1758100\ttotal: 4.54s\tremaining: 1.38s\n",
            "115:\tlearn: 0.1745588\ttotal: 4.58s\tremaining: 1.34s\n",
            "116:\tlearn: 0.1738945\ttotal: 4.62s\tremaining: 1.3s\n",
            "117:\tlearn: 0.1734165\ttotal: 4.66s\tremaining: 1.26s\n",
            "118:\tlearn: 0.1728055\ttotal: 4.7s\tremaining: 1.22s\n",
            "119:\tlearn: 0.1718360\ttotal: 4.74s\tremaining: 1.19s\n",
            "120:\tlearn: 0.1712555\ttotal: 4.78s\tremaining: 1.15s\n",
            "121:\tlearn: 0.1705358\ttotal: 4.82s\tremaining: 1.11s\n",
            "122:\tlearn: 0.1700848\ttotal: 4.86s\tremaining: 1.07s\n",
            "123:\tlearn: 0.1692394\ttotal: 4.9s\tremaining: 1.03s\n",
            "124:\tlearn: 0.1685907\ttotal: 4.93s\tremaining: 987ms\n",
            "125:\tlearn: 0.1675096\ttotal: 4.98s\tremaining: 948ms\n",
            "126:\tlearn: 0.1662714\ttotal: 5.02s\tremaining: 909ms\n",
            "127:\tlearn: 0.1651745\ttotal: 5.06s\tremaining: 870ms\n",
            "128:\tlearn: 0.1642924\ttotal: 5.1s\tremaining: 830ms\n",
            "129:\tlearn: 0.1636841\ttotal: 5.14s\tremaining: 791ms\n",
            "130:\tlearn: 0.1629593\ttotal: 5.18s\tremaining: 751ms\n",
            "131:\tlearn: 0.1625159\ttotal: 5.22s\tremaining: 712ms\n",
            "132:\tlearn: 0.1621668\ttotal: 5.26s\tremaining: 673ms\n",
            "133:\tlearn: 0.1617613\ttotal: 5.3s\tremaining: 633ms\n",
            "134:\tlearn: 0.1607228\ttotal: 5.34s\tremaining: 593ms\n",
            "135:\tlearn: 0.1601401\ttotal: 5.38s\tremaining: 554ms\n",
            "136:\tlearn: 0.1592986\ttotal: 5.42s\tremaining: 515ms\n",
            "137:\tlearn: 0.1584424\ttotal: 5.47s\tremaining: 476ms\n",
            "138:\tlearn: 0.1578428\ttotal: 5.51s\tremaining: 436ms\n",
            "139:\tlearn: 0.1575252\ttotal: 5.55s\tremaining: 397ms\n",
            "140:\tlearn: 0.1567940\ttotal: 5.59s\tremaining: 357ms\n",
            "141:\tlearn: 0.1560806\ttotal: 5.64s\tremaining: 318ms\n",
            "142:\tlearn: 0.1555937\ttotal: 5.68s\tremaining: 278ms\n",
            "143:\tlearn: 0.1545581\ttotal: 5.72s\tremaining: 238ms\n",
            "144:\tlearn: 0.1536171\ttotal: 5.76s\tremaining: 199ms\n",
            "145:\tlearn: 0.1530160\ttotal: 5.79s\tremaining: 159ms\n",
            "146:\tlearn: 0.1523849\ttotal: 5.83s\tremaining: 119ms\n",
            "147:\tlearn: 0.1517777\ttotal: 5.88s\tremaining: 79.4ms\n",
            "148:\tlearn: 0.1512036\ttotal: 5.92s\tremaining: 39.8ms\n",
            "149:\tlearn: 0.1504910\ttotal: 5.96s\tremaining: 0us\n",
            "Training time: 1.2059min \n",
            "\n",
            "score matrix for train\n",
            "********************************************************************************\n",
            "The accuracy is  0.9491764570375489\n",
            "The precision is  0.9854620328196169\n",
            "The recall is  0.9115779752972412\n",
            "The f1 is  0.9470812220789734\n",
            "the auc  is  0.949094354847793\n",
            "\n",
            "confusion_matrix \n",
            "  [[17169   233]\n",
            " [ 1532 15794]]\n",
            "\n",
            "Classification Report\n",
            "\n",
            "              precision    recall  f1-score   support\n",
            "\n",
            "           0       0.92      0.99      0.95     17402\n",
            "           1       0.99      0.91      0.95     17326\n",
            "\n",
            "    accuracy                           0.95     34728\n",
            "   macro avg       0.95      0.95      0.95     34728\n",
            "weighted avg       0.95      0.95      0.95     34728\n",
            "\n",
            "\n",
            "\n",
            "score matrix for test\n",
            "********************************************************************************\n",
            "The accuracy is  0.8699032480995162\n",
            "The precision is  0.9163454124903624\n",
            "The recall is  0.8159972536903536\n",
            "The f1 is  0.8632649355365898\n",
            "the auc  is  0.8702594964103941\n",
            "\n",
            "confusion_matrix \n",
            "  [[5316  434]\n",
            " [1072 4754]]\n",
            "\n",
            "Classification Report\n",
            "\n",
            "              precision    recall  f1-score   support\n",
            "\n",
            "           0       0.83      0.92      0.88      5750\n",
            "           1       0.92      0.82      0.86      5826\n",
            "\n",
            "    accuracy                           0.87     11576\n",
            "   macro avg       0.87      0.87      0.87     11576\n",
            "weighted avg       0.87      0.87      0.87     11576\n",
            "\n"
          ]
        }
      ]
    },
    {
      "cell_type": "code",
      "metadata": {
        "id": "KdZ7u37flC47"
      },
      "source": [
        "#getting the best estimator\n",
        "optimal_catboost_model=grid_cb_model.best_estimator_"
      ],
      "execution_count": 114,
      "outputs": []
    },
    {
      "cell_type": "code",
      "metadata": {
        "colab": {
          "base_uri": "https://localhost:8080/"
        },
        "id": "fdFKRmzgk5TE",
        "outputId": "3440970c-5095-407d-9e77-d9ffa510fc30"
      },
      "source": [
        "#getting the featre importance\n",
        "grid_cb_model.best_estimator_.feature_importances_"
      ],
      "execution_count": 115,
      "outputs": [
        {
          "output_type": "execute_result",
          "data": {
            "text/plain": [
              "array([ 2.33735271,  2.62749668,  1.20006658,  0.81747838,  0.34723417,\n",
              "        0.57094803,  0.47689851,  1.61677611,  1.02209033,  0.75655922,\n",
              "        0.99575502,  0.79889949,  0.87846408,  1.7558968 ,  1.55976198,\n",
              "        1.32790428,  1.49754665,  1.36644216,  1.90437454,  6.64672434,\n",
              "        5.86336778,  9.59099446,  7.24015485,  1.51472363, 11.03727028,\n",
              "        4.7271952 ,  0.40601163,  5.33471656,  8.12908095,  7.42060032,\n",
              "        5.47086546,  2.41102109,  0.34932774])"
            ]
          },
          "metadata": {},
          "execution_count": 115
        }
      ]
    },
    {
      "cell_type": "code",
      "metadata": {
        "colab": {
          "base_uri": "https://localhost:8080/",
          "height": 0
        },
        "id": "WIQ2bu_olKDm",
        "outputId": "ea03ad0f-9463-411b-de0c-cd2b9a91dd93"
      },
      "source": [
        "# visualizing feature importance\n",
        "get_features_importance(optimal_catboost_model,X_train)"
      ],
      "execution_count": 116,
      "outputs": [
        {
          "output_type": "stream",
          "name": "stdout",
          "text": [
            "==========================Features Importance============================\n",
            "\n",
            " <catboost.core.CatBoostClassifier object at 0x7f4439b184d0>  \n",
            "=========================================================================\n",
            "\n"
          ]
        },
        {
          "output_type": "display_data",
          "data": {
            "image/png": "[encoded data removed]",
            "text/plain": [
              "<Figure size 1080x360 with 1 Axes>"
            ]
          },
          "metadata": {
            "needs_background": "light"
          }
        }
      ]
    },
    {
      "cell_type": "code",
      "metadata": {
        "colab": {
          "base_uri": "https://localhost:8080/"
        },
        "id": "ri5WEqR1ij-U",
        "outputId": "107a426f-58a7-4f62-cdf8-1e621a74d0a6"
      },
      "source": [
        "grid_cb_model.best_params_"
      ],
      "execution_count": 117,
      "outputs": [
        {
          "output_type": "execute_result",
          "data": {
            "text/plain": [
              "{'max_depth': 9, 'n_estimators': 150}"
            ]
          },
          "metadata": {},
          "execution_count": 117
        }
      ]
    },
    {
      "cell_type": "markdown",
      "metadata": {
        "id": "-_ALhbrNlWVf"
      },
      "source": [
        "# Model's Score matrix"
      ]
    },
    {
      "cell_type": "code",
      "metadata": {
        "id": "EacLQv2dljDM"
      },
      "source": [
        "#creating dictionary to store all the metrices \n",
        "dict={'accuracy':model_accuracy,'precision':model_precision,'recall':model_recall,'f1':model_f1_score,'roc_auc':model_roc_auc_score}"
      ],
      "execution_count": 118,
      "outputs": []
    },
    {
      "cell_type": "code",
      "metadata": {
        "id": "iOtMcZypljtW"
      },
      "source": [
        "# list of all models\n",
        "model_name=['Logestic Regrestion','grid_log_regg','Desision Tree','Random forest','grid random forest','SVM','Grid SVM','XGboost','Grid Xgboost','CATBoost','Grid Catboost']"
      ],
      "execution_count": 119,
      "outputs": []
    },
    {
      "cell_type": "code",
      "metadata": {
        "id": "WB7uTrdtl9A3"
      },
      "source": [
        "# converting dictionary to dataframe\n",
        "matrix_df=pd.DataFrame.from_dict(dict,orient=\"index\",columns=model_name)"
      ],
      "execution_count": 120,
      "outputs": []
    },
    {
      "cell_type": "code",
      "metadata": {
        "id": "UZ7p6Ziur0vN"
      },
      "source": [
        "# taking the transpose of the dataframe to make it more visual appealing\n",
        "matrix_df=matrix_df.transpose().reset_index().rename(columns={'index':'Models'})"
      ],
      "execution_count": 121,
      "outputs": []
    },
    {
      "cell_type": "code",
      "metadata": {
        "colab": {
          "base_uri": "https://localhost:8080/",
          "height": 390
        },
        "id": "FxGPp5lboYQL",
        "outputId": "14328572-3d43-42a7-a8a6-4c9962d105cf"
      },
      "source": [
        "matrix_df"
      ],
      "execution_count": 122,
      "outputs": [
        {
          "output_type": "execute_result",
          "data": {
            "text/html": [
              "<div>\n",
              "<style scoped>\n",
              "    .dataframe tbody tr th:only-of-type {\n",
              "        vertical-align: middle;\n",
              "    }\n",
              "\n",
              "    .dataframe tbody tr th {\n",
              "        vertical-align: top;\n",
              "    }\n",
              "\n",
              "    .dataframe thead th {\n",
              "        text-align: right;\n",
              "    }\n",
              "</style>\n",
              "<table border=\"1\" class=\"dataframe\">\n",
              "  <thead>\n",
              "    <tr style=\"text-align: right;\">\n",
              "      <th></th>\n",
              "      <th>Models</th>\n",
              "      <th>accuracy</th>\n",
              "      <th>precision</th>\n",
              "      <th>recall</th>\n",
              "      <th>f1</th>\n",
              "      <th>roc_auc</th>\n",
              "    </tr>\n",
              "  </thead>\n",
              "  <tbody>\n",
              "    <tr>\n",
              "      <th>0</th>\n",
              "      <td>Logestic Regrestion</td>\n",
              "      <td>0.864547</td>\n",
              "      <td>0.953751</td>\n",
              "      <td>0.768108</td>\n",
              "      <td>0.850922</td>\n",
              "      <td>0.865185</td>\n",
              "    </tr>\n",
              "    <tr>\n",
              "      <th>1</th>\n",
              "      <td>grid_log_regg</td>\n",
              "      <td>0.864893</td>\n",
              "      <td>0.949388</td>\n",
              "      <td>0.772743</td>\n",
              "      <td>0.852006</td>\n",
              "      <td>0.865502</td>\n",
              "    </tr>\n",
              "    <tr>\n",
              "      <th>2</th>\n",
              "      <td>Desision Tree</td>\n",
              "      <td>0.824724</td>\n",
              "      <td>0.897425</td>\n",
              "      <td>0.735839</td>\n",
              "      <td>0.808639</td>\n",
              "      <td>0.825311</td>\n",
              "    </tr>\n",
              "    <tr>\n",
              "      <th>3</th>\n",
              "      <td>Random forest</td>\n",
              "      <td>0.875777</td>\n",
              "      <td>0.904349</td>\n",
              "      <td>0.842259</td>\n",
              "      <td>0.872200</td>\n",
              "      <td>0.875999</td>\n",
              "    </tr>\n",
              "    <tr>\n",
              "      <th>4</th>\n",
              "      <td>grid random forest</td>\n",
              "      <td>0.853231</td>\n",
              "      <td>0.892375</td>\n",
              "      <td>0.805527</td>\n",
              "      <td>0.846730</td>\n",
              "      <td>0.853546</td>\n",
              "    </tr>\n",
              "    <tr>\n",
              "      <th>5</th>\n",
              "      <td>SVM</td>\n",
              "      <td>0.869471</td>\n",
              "      <td>0.943839</td>\n",
              "      <td>0.787504</td>\n",
              "      <td>0.858613</td>\n",
              "      <td>0.870013</td>\n",
              "    </tr>\n",
              "    <tr>\n",
              "      <th>6</th>\n",
              "      <td>Grid SVM</td>\n",
              "      <td>0.869471</td>\n",
              "      <td>0.943839</td>\n",
              "      <td>0.787504</td>\n",
              "      <td>0.858613</td>\n",
              "      <td>0.870013</td>\n",
              "    </tr>\n",
              "    <tr>\n",
              "      <th>7</th>\n",
              "      <td>XGboost</td>\n",
              "      <td>0.869730</td>\n",
              "      <td>0.923499</td>\n",
              "      <td>0.808102</td>\n",
              "      <td>0.861955</td>\n",
              "      <td>0.870138</td>\n",
              "    </tr>\n",
              "    <tr>\n",
              "      <th>8</th>\n",
              "      <td>Grid Xgboost</td>\n",
              "      <td>0.877764</td>\n",
              "      <td>0.929002</td>\n",
              "      <td>0.819773</td>\n",
              "      <td>0.870977</td>\n",
              "      <td>0.878148</td>\n",
              "    </tr>\n",
              "    <tr>\n",
              "      <th>9</th>\n",
              "      <td>CATBoost</td>\n",
              "      <td>0.873704</td>\n",
              "      <td>0.929021</td>\n",
              "      <td>0.811020</td>\n",
              "      <td>0.866019</td>\n",
              "      <td>0.874118</td>\n",
              "    </tr>\n",
              "    <tr>\n",
              "      <th>10</th>\n",
              "      <td>Grid Catboost</td>\n",
              "      <td>0.869903</td>\n",
              "      <td>0.916345</td>\n",
              "      <td>0.815997</td>\n",
              "      <td>0.863265</td>\n",
              "      <td>0.870259</td>\n",
              "    </tr>\n",
              "  </tbody>\n",
              "</table>\n",
              "</div>"
            ],
            "text/plain": [
              "                 Models  accuracy  precision    recall        f1   roc_auc\n",
              "0   Logestic Regrestion  0.864547   0.953751  0.768108  0.850922  0.865185\n",
              "1         grid_log_regg  0.864893   0.949388  0.772743  0.852006  0.865502\n",
              "2         Desision Tree  0.824724   0.897425  0.735839  0.808639  0.825311\n",
              "3         Random forest  0.875777   0.904349  0.842259  0.872200  0.875999\n",
              "4    grid random forest  0.853231   0.892375  0.805527  0.846730  0.853546\n",
              "5                   SVM  0.869471   0.943839  0.787504  0.858613  0.870013\n",
              "6              Grid SVM  0.869471   0.943839  0.787504  0.858613  0.870013\n",
              "7               XGboost  0.869730   0.923499  0.808102  0.861955  0.870138\n",
              "8          Grid Xgboost  0.877764   0.929002  0.819773  0.870977  0.878148\n",
              "9              CATBoost  0.873704   0.929021  0.811020  0.866019  0.874118\n",
              "10        Grid Catboost  0.869903   0.916345  0.815997  0.863265  0.870259"
            ]
          },
          "metadata": {},
          "execution_count": 122
        }
      ]
    },
    {
      "cell_type": "code",
      "metadata": {
        "id": "zEWZdmxlrf15"
      },
      "source": [
        ""
      ],
      "execution_count": 122,
      "outputs": []
    },
    {
      "cell_type": "markdown",
      "metadata": {
        "id": "8sqLy3s7ukyP"
      },
      "source": [
        "# ROC curve for all the models\n",
        "---"
      ]
    },
    {
      "cell_type": "code",
      "metadata": {
        "id": "NeuroEPCwWf3"
      },
      "source": [
        "log_reg_best=grid_log_model.best_estimator_\n",
        "rfc_best=grid_rfc_model.best_estimator_\n",
        "xgbc_best=grid_xgboost_model.best_estimator_\n",
        "cat_best=grid_cb_model.best_estimator_\n",
        "\n"
      ],
      "execution_count": 136,
      "outputs": []
    },
    {
      "cell_type": "code",
      "metadata": {
        "id": "kcUSe7ggxcrf"
      },
      "source": [
        "y_preds_proba_lr = log_reg_best.predict_proba(scaled_X_test)[::,1]\n",
        "y_preds_proba_dt = DecisionTree.predict_proba(X_test)[::,1]\n",
        "y_preds_proba_rfc = rfc_best.predict_proba(X_test)[::,1]\n",
        "y_preds_proba_xgbc = xgbc_best.predict_proba(X_test)[::,1]\n",
        "y_preds_proba_cat = cat_best.predict_proba(X_test)[::,1]\n"
      ],
      "execution_count": 138,
      "outputs": []
    },
    {
      "cell_type": "code",
      "metadata": {
        "id": "zzhjUAL_zLr6"
      },
      "source": [
        "from sklearn.metrics import roc_curve"
      ],
      "execution_count": 139,
      "outputs": []
    },
    {
      "cell_type": "code",
      "metadata": {
        "id": "9dylj5ckumv3"
      },
      "source": [
        "classifiers_proba = [(log_reg_best, y_preds_proba_lr), \n",
        "                    (DecisionTree, y_preds_proba_dt), \n",
        "                    (rfc_best, y_preds_proba_rfc),\n",
        "                    (xgbc_best, y_preds_proba_xgbc),\n",
        "                    (cat_best, y_preds_proba_cat),\n",
        "                    ]\n",
        "\n",
        "# Define a result table as a DataFrame\n",
        "result_table = pd.DataFrame(columns=['classifiers', 'fpr','tpr','auc'])\n",
        "\n",
        "# Train the models and record the results\n",
        "for pair in classifiers_proba:\n",
        "    \n",
        "    fpr, tpr, _ = roc_curve(y_test,  pair[1])\n",
        "    auc = roc_auc_score(y_test, pair[1])\n",
        "    \n",
        "    result_table = result_table.append({'classifiers':pair[0].__class__.__name__,\n",
        "                                        'fpr':fpr, \n",
        "                                        'tpr':tpr, \n",
        "                                        'auc':auc}, ignore_index=True)\n",
        "\n",
        "# Set name of the classifiers as index labels\n",
        "result_table.set_index('classifiers', inplace=True)"
      ],
      "execution_count": 140,
      "outputs": []
    },
    {
      "cell_type": "code",
      "metadata": {
        "id": "zLAPoxpQvlrX",
        "colab": {
          "base_uri": "https://localhost:8080/",
          "height": 411
        },
        "outputId": "18041923-ee86-4ad6-ec1b-c3ab61606448"
      },
      "source": [
        "fig = plt.figure(figsize=(10,6))\n",
        "\n",
        "for i in result_table.index:\n",
        "    plt.plot(result_table.loc[i]['fpr'], \n",
        "             result_table.loc[i]['tpr'], \n",
        "             label=\"{}, AUC={:.3f}\".format(i, result_table.loc[i]['auc']))\n",
        "    \n",
        "plt.plot([0,1], [0,1],'r--')\n",
        "\n",
        "plt.xlabel(\"Flase Positive Rate\", fontsize=15)\n",
        "\n",
        "plt.ylabel(\"True Positive Rate\", fontsize=15)\n",
        "\n",
        "plt.title('ROC AUC Curve', fontweight='bold', fontsize=15)\n",
        "plt.legend(prop={'size':13}, loc='lower right')\n",
        "\n",
        "plt.show()"
      ],
      "execution_count": 141,
      "outputs": [
        {
          "output_type": "display_data",
          "data": {
            "image/png": "[encoded data removed]",
            "text/plain": [
              "<Figure size 720x432 with 1 Axes>"
            ]
          },
          "metadata": {
            "needs_background": "light"
          }
        }
      ]
    }
  ]
}