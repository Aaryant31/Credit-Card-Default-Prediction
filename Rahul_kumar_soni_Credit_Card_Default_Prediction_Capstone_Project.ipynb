{
  "nbformat": 4,
  "nbformat_minor": 0,
  "metadata": {
    "kernelspec": {
      "display_name": "Python 3",
      "language": "python",
      "name": "python3"
    },
    "language_info": {
      "codemirror_mode": {
        "name": "ipython",
        "version": 3
      },
      "file_extension": ".py",
      "mimetype": "text/x-python",
      "name": "python",
      "nbconvert_exporter": "python",
      "pygments_lexer": "ipython3",
      "version": "3.6.6"
    },
    "colab": {
      "name": "Rahul_kumar_soni_Credit Card Default Prediction - Capstone Project.ipynb",
      "provenance": [],
      "collapsed_sections": [
        "AlLxAtlziMbP",
        "ADj00dh4tGd6",
        "9mTOfv6kv7dk",
        "adA1Gu6TtLVJ",
        "-oew2dQYjCTr",
        "oUGS6LM57kyW",
        "yMNszD5E-aye",
        "V_zAI17h_l8b",
        "oVBQB1xmhuYK",
        "vKtVpZwJ_2sm",
        "pz6sB5Wbfjgv",
        "AZ7T1FHqkDGr",
        "iQVMb9qglsta",
        "xgR8YnjLbcAD",
        "FKBMHBWPCxEj",
        "-_ALhbrNlWVf"
      ],
      "include_colab_link": true
    }
  },
  "cells": [
    {
      "cell_type": "markdown",
      "metadata": {
        "id": "view-in-github",
        "colab_type": "text"
      },
      "source": [
        "<a href=\"https://colab.research.google.com/github/Aaryant31/Credit-Card-Default-Prediction/blob/main/Rahul_kumar_soni_Credit_Card_Default_Prediction_Capstone_Project.ipynb\" target=\"_parent\"><img src=\"https://colab.research.google.com/assets/colab-badge.svg\" alt=\"Open In Colab\"/></a>"
      ]
    },
    {
      "cell_type": "markdown",
      "metadata": {
        "id": "tOGC-qoyhJeX"
      },
      "source": [
        "# <b><u> Project Title : Predicting whether a customer will default on his/her credit card </u></b>"
      ]
    },
    {
      "cell_type": "markdown",
      "metadata": {
        "id": "Y06xIdG26kRF"
      },
      "source": [
        "## <b> Problem Description </b>\n",
        "\n",
        "### This project is aimed at predicting the case of customers default payments in Taiwan. From the perspective of risk management, the result of predictive accuracy of the estimated probability of default will be more valuable than the binary result of classification - credible or not credible clients. We can use the [K-S chart](https://www.listendata.com/2019/07/KS-Statistics-Python.html) to evaluate which customers will default on their credit card payments\n"
      ]
    },
    {
      "cell_type": "markdown",
      "metadata": {
        "id": "AlLxAtlziMbP"
      },
      "source": [
        "## <b> Data Description </b>\n",
        "\n",
        "### <b>Attribute Information: </b>\n",
        "\n",
        "### This research employed a binary variable, default payment (Yes = 1, No = 0), as the response variable. This study reviewed the literature and used the following 23 variables as explanatory variables:\n",
        "* ### X1: Amount of the given credit (NT dollar): it includes both the individual consumer credit and his/her family (supplementary) credit.\n",
        "* ### X2: Gender (1 = male; 2 = female).\n",
        "* ### X3: Education (1 = graduate school; 2 = university; 3 = high school; 4 = others).\n",
        "* ### X4: Marital status (1 = married; 2 = single; 3 = others).\n",
        "* ### X5: Age (year).\n",
        "* ### X6 - X11: History of past payment. We tracked the past monthly payment records (from April to September, 2005) as follows: X6 = the repayment status in September, 2005; X7 = the repayment status in August, 2005; . . .;X11 = the repayment status in April, 2005. The measurement scale for the repayment status is: -1 = pay duly; 1 = payment delay for one month; 2 = payment delay for two months; . . .; 8 = payment delay for eight months; 9 = payment delay for nine months and above.\n",
        "* ### X12-X17: Amount of bill statement (NT dollar). X12 = amount of bill statement in September, 2005; X13 = amount of bill statement in August, 2005; . . .; X17 = amount of bill statement in April, 2005.\n",
        "* ### X18-X23: Amount of previous payment (NT dollar). X18 = amount paid in September, 2005; X19 = amount paid in August, 2005; . . .;X23 = amount paid in April, 2005."
      ]
    },
    {
      "cell_type": "code",
      "metadata": {
        "id": "dByMsuzT8Tnw"
      },
      "source": [
        "#Importing lbrary \n",
        "import pandas as pd\n",
        "import numpy as np\n",
        "import matplotlib.pyplot as plt\n",
        "import seaborn as sns\n",
        "import math\n",
        "import time\n",
        "from sklearn.metrics import accuracy_score, confusion_matrix, classification_report, roc_auc_score, plot_precision_recall_curve\n",
        "from sklearn.metrics import precision_score,recall_score,f1_score\n",
        "from sklearn.linear_model import LogisticRegression\n",
        "from sklearn.model_selection import train_test_split\n",
        "from sklearn.model_selection import GridSearchCV\n",
        "from sklearn.preprocessing import MinMaxScaler\n",
        "import warnings\n",
        "warnings.filterwarnings(\"ignore\")"
      ],
      "execution_count": 1,
      "outputs": []
    },
    {
      "cell_type": "code",
      "metadata": {
        "id": "oCSt-baBnX-1"
      },
      "source": [
        "data='https://github.com/Aaryant31/Credit-Card-Default-Prediction/blob/main/default%20of%20credit%20card%20clients.xls?raw=true'\n"
      ],
      "execution_count": 2,
      "outputs": []
    },
    {
      "cell_type": "code",
      "metadata": {
        "colab": {
          "base_uri": "https://localhost:8080/",
          "height": 0
        },
        "id": "BkAFkMiXqnpP",
        "outputId": "3f5c44c7-6da6-450c-b62f-829d724249ce"
      },
      "source": [
        "pd.read_excel(data)"
      ],
      "execution_count": 3,
      "outputs": [
        {
          "output_type": "execute_result",
          "data": {
            "text/html": [
              "<div>\n",
              "<style scoped>\n",
              "    .dataframe tbody tr th:only-of-type {\n",
              "        vertical-align: middle;\n",
              "    }\n",
              "\n",
              "    .dataframe tbody tr th {\n",
              "        vertical-align: top;\n",
              "    }\n",
              "\n",
              "    .dataframe thead th {\n",
              "        text-align: right;\n",
              "    }\n",
              "</style>\n",
              "<table border=\"1\" class=\"dataframe\">\n",
              "  <thead>\n",
              "    <tr style=\"text-align: right;\">\n",
              "      <th></th>\n",
              "      <th>Unnamed: 0</th>\n",
              "      <th>X1</th>\n",
              "      <th>X2</th>\n",
              "      <th>X3</th>\n",
              "      <th>X4</th>\n",
              "      <th>X5</th>\n",
              "      <th>X6</th>\n",
              "      <th>X7</th>\n",
              "      <th>X8</th>\n",
              "      <th>X9</th>\n",
              "      <th>X10</th>\n",
              "      <th>X11</th>\n",
              "      <th>X12</th>\n",
              "      <th>X13</th>\n",
              "      <th>X14</th>\n",
              "      <th>X15</th>\n",
              "      <th>X16</th>\n",
              "      <th>X17</th>\n",
              "      <th>X18</th>\n",
              "      <th>X19</th>\n",
              "      <th>X20</th>\n",
              "      <th>X21</th>\n",
              "      <th>X22</th>\n",
              "      <th>X23</th>\n",
              "      <th>Y</th>\n",
              "    </tr>\n",
              "  </thead>\n",
              "  <tbody>\n",
              "    <tr>\n",
              "      <th>0</th>\n",
              "      <td>ID</td>\n",
              "      <td>LIMIT_BAL</td>\n",
              "      <td>SEX</td>\n",
              "      <td>EDUCATION</td>\n",
              "      <td>MARRIAGE</td>\n",
              "      <td>AGE</td>\n",
              "      <td>PAY_0</td>\n",
              "      <td>PAY_2</td>\n",
              "      <td>PAY_3</td>\n",
              "      <td>PAY_4</td>\n",
              "      <td>PAY_5</td>\n",
              "      <td>PAY_6</td>\n",
              "      <td>BILL_AMT1</td>\n",
              "      <td>BILL_AMT2</td>\n",
              "      <td>BILL_AMT3</td>\n",
              "      <td>BILL_AMT4</td>\n",
              "      <td>BILL_AMT5</td>\n",
              "      <td>BILL_AMT6</td>\n",
              "      <td>PAY_AMT1</td>\n",
              "      <td>PAY_AMT2</td>\n",
              "      <td>PAY_AMT3</td>\n",
              "      <td>PAY_AMT4</td>\n",
              "      <td>PAY_AMT5</td>\n",
              "      <td>PAY_AMT6</td>\n",
              "      <td>default payment next month</td>\n",
              "    </tr>\n",
              "    <tr>\n",
              "      <th>1</th>\n",
              "      <td>1</td>\n",
              "      <td>20000</td>\n",
              "      <td>2</td>\n",
              "      <td>2</td>\n",
              "      <td>1</td>\n",
              "      <td>24</td>\n",
              "      <td>2</td>\n",
              "      <td>2</td>\n",
              "      <td>-1</td>\n",
              "      <td>-1</td>\n",
              "      <td>-2</td>\n",
              "      <td>-2</td>\n",
              "      <td>3913</td>\n",
              "      <td>3102</td>\n",
              "      <td>689</td>\n",
              "      <td>0</td>\n",
              "      <td>0</td>\n",
              "      <td>0</td>\n",
              "      <td>0</td>\n",
              "      <td>689</td>\n",
              "      <td>0</td>\n",
              "      <td>0</td>\n",
              "      <td>0</td>\n",
              "      <td>0</td>\n",
              "      <td>1</td>\n",
              "    </tr>\n",
              "    <tr>\n",
              "      <th>2</th>\n",
              "      <td>2</td>\n",
              "      <td>120000</td>\n",
              "      <td>2</td>\n",
              "      <td>2</td>\n",
              "      <td>2</td>\n",
              "      <td>26</td>\n",
              "      <td>-1</td>\n",
              "      <td>2</td>\n",
              "      <td>0</td>\n",
              "      <td>0</td>\n",
              "      <td>0</td>\n",
              "      <td>2</td>\n",
              "      <td>2682</td>\n",
              "      <td>1725</td>\n",
              "      <td>2682</td>\n",
              "      <td>3272</td>\n",
              "      <td>3455</td>\n",
              "      <td>3261</td>\n",
              "      <td>0</td>\n",
              "      <td>1000</td>\n",
              "      <td>1000</td>\n",
              "      <td>1000</td>\n",
              "      <td>0</td>\n",
              "      <td>2000</td>\n",
              "      <td>1</td>\n",
              "    </tr>\n",
              "    <tr>\n",
              "      <th>3</th>\n",
              "      <td>3</td>\n",
              "      <td>90000</td>\n",
              "      <td>2</td>\n",
              "      <td>2</td>\n",
              "      <td>2</td>\n",
              "      <td>34</td>\n",
              "      <td>0</td>\n",
              "      <td>0</td>\n",
              "      <td>0</td>\n",
              "      <td>0</td>\n",
              "      <td>0</td>\n",
              "      <td>0</td>\n",
              "      <td>29239</td>\n",
              "      <td>14027</td>\n",
              "      <td>13559</td>\n",
              "      <td>14331</td>\n",
              "      <td>14948</td>\n",
              "      <td>15549</td>\n",
              "      <td>1518</td>\n",
              "      <td>1500</td>\n",
              "      <td>1000</td>\n",
              "      <td>1000</td>\n",
              "      <td>1000</td>\n",
              "      <td>5000</td>\n",
              "      <td>0</td>\n",
              "    </tr>\n",
              "    <tr>\n",
              "      <th>4</th>\n",
              "      <td>4</td>\n",
              "      <td>50000</td>\n",
              "      <td>2</td>\n",
              "      <td>2</td>\n",
              "      <td>1</td>\n",
              "      <td>37</td>\n",
              "      <td>0</td>\n",
              "      <td>0</td>\n",
              "      <td>0</td>\n",
              "      <td>0</td>\n",
              "      <td>0</td>\n",
              "      <td>0</td>\n",
              "      <td>46990</td>\n",
              "      <td>48233</td>\n",
              "      <td>49291</td>\n",
              "      <td>28314</td>\n",
              "      <td>28959</td>\n",
              "      <td>29547</td>\n",
              "      <td>2000</td>\n",
              "      <td>2019</td>\n",
              "      <td>1200</td>\n",
              "      <td>1100</td>\n",
              "      <td>1069</td>\n",
              "      <td>1000</td>\n",
              "      <td>0</td>\n",
              "    </tr>\n",
              "    <tr>\n",
              "      <th>...</th>\n",
              "      <td>...</td>\n",
              "      <td>...</td>\n",
              "      <td>...</td>\n",
              "      <td>...</td>\n",
              "      <td>...</td>\n",
              "      <td>...</td>\n",
              "      <td>...</td>\n",
              "      <td>...</td>\n",
              "      <td>...</td>\n",
              "      <td>...</td>\n",
              "      <td>...</td>\n",
              "      <td>...</td>\n",
              "      <td>...</td>\n",
              "      <td>...</td>\n",
              "      <td>...</td>\n",
              "      <td>...</td>\n",
              "      <td>...</td>\n",
              "      <td>...</td>\n",
              "      <td>...</td>\n",
              "      <td>...</td>\n",
              "      <td>...</td>\n",
              "      <td>...</td>\n",
              "      <td>...</td>\n",
              "      <td>...</td>\n",
              "      <td>...</td>\n",
              "    </tr>\n",
              "    <tr>\n",
              "      <th>29996</th>\n",
              "      <td>29996</td>\n",
              "      <td>220000</td>\n",
              "      <td>1</td>\n",
              "      <td>3</td>\n",
              "      <td>1</td>\n",
              "      <td>39</td>\n",
              "      <td>0</td>\n",
              "      <td>0</td>\n",
              "      <td>0</td>\n",
              "      <td>0</td>\n",
              "      <td>0</td>\n",
              "      <td>0</td>\n",
              "      <td>188948</td>\n",
              "      <td>192815</td>\n",
              "      <td>208365</td>\n",
              "      <td>88004</td>\n",
              "      <td>31237</td>\n",
              "      <td>15980</td>\n",
              "      <td>8500</td>\n",
              "      <td>20000</td>\n",
              "      <td>5003</td>\n",
              "      <td>3047</td>\n",
              "      <td>5000</td>\n",
              "      <td>1000</td>\n",
              "      <td>0</td>\n",
              "    </tr>\n",
              "    <tr>\n",
              "      <th>29997</th>\n",
              "      <td>29997</td>\n",
              "      <td>150000</td>\n",
              "      <td>1</td>\n",
              "      <td>3</td>\n",
              "      <td>2</td>\n",
              "      <td>43</td>\n",
              "      <td>-1</td>\n",
              "      <td>-1</td>\n",
              "      <td>-1</td>\n",
              "      <td>-1</td>\n",
              "      <td>0</td>\n",
              "      <td>0</td>\n",
              "      <td>1683</td>\n",
              "      <td>1828</td>\n",
              "      <td>3502</td>\n",
              "      <td>8979</td>\n",
              "      <td>5190</td>\n",
              "      <td>0</td>\n",
              "      <td>1837</td>\n",
              "      <td>3526</td>\n",
              "      <td>8998</td>\n",
              "      <td>129</td>\n",
              "      <td>0</td>\n",
              "      <td>0</td>\n",
              "      <td>0</td>\n",
              "    </tr>\n",
              "    <tr>\n",
              "      <th>29998</th>\n",
              "      <td>29998</td>\n",
              "      <td>30000</td>\n",
              "      <td>1</td>\n",
              "      <td>2</td>\n",
              "      <td>2</td>\n",
              "      <td>37</td>\n",
              "      <td>4</td>\n",
              "      <td>3</td>\n",
              "      <td>2</td>\n",
              "      <td>-1</td>\n",
              "      <td>0</td>\n",
              "      <td>0</td>\n",
              "      <td>3565</td>\n",
              "      <td>3356</td>\n",
              "      <td>2758</td>\n",
              "      <td>20878</td>\n",
              "      <td>20582</td>\n",
              "      <td>19357</td>\n",
              "      <td>0</td>\n",
              "      <td>0</td>\n",
              "      <td>22000</td>\n",
              "      <td>4200</td>\n",
              "      <td>2000</td>\n",
              "      <td>3100</td>\n",
              "      <td>1</td>\n",
              "    </tr>\n",
              "    <tr>\n",
              "      <th>29999</th>\n",
              "      <td>29999</td>\n",
              "      <td>80000</td>\n",
              "      <td>1</td>\n",
              "      <td>3</td>\n",
              "      <td>1</td>\n",
              "      <td>41</td>\n",
              "      <td>1</td>\n",
              "      <td>-1</td>\n",
              "      <td>0</td>\n",
              "      <td>0</td>\n",
              "      <td>0</td>\n",
              "      <td>-1</td>\n",
              "      <td>-1645</td>\n",
              "      <td>78379</td>\n",
              "      <td>76304</td>\n",
              "      <td>52774</td>\n",
              "      <td>11855</td>\n",
              "      <td>48944</td>\n",
              "      <td>85900</td>\n",
              "      <td>3409</td>\n",
              "      <td>1178</td>\n",
              "      <td>1926</td>\n",
              "      <td>52964</td>\n",
              "      <td>1804</td>\n",
              "      <td>1</td>\n",
              "    </tr>\n",
              "    <tr>\n",
              "      <th>30000</th>\n",
              "      <td>30000</td>\n",
              "      <td>50000</td>\n",
              "      <td>1</td>\n",
              "      <td>2</td>\n",
              "      <td>1</td>\n",
              "      <td>46</td>\n",
              "      <td>0</td>\n",
              "      <td>0</td>\n",
              "      <td>0</td>\n",
              "      <td>0</td>\n",
              "      <td>0</td>\n",
              "      <td>0</td>\n",
              "      <td>47929</td>\n",
              "      <td>48905</td>\n",
              "      <td>49764</td>\n",
              "      <td>36535</td>\n",
              "      <td>32428</td>\n",
              "      <td>15313</td>\n",
              "      <td>2078</td>\n",
              "      <td>1800</td>\n",
              "      <td>1430</td>\n",
              "      <td>1000</td>\n",
              "      <td>1000</td>\n",
              "      <td>1000</td>\n",
              "      <td>1</td>\n",
              "    </tr>\n",
              "  </tbody>\n",
              "</table>\n",
              "<p>30001 rows × 25 columns</p>\n",
              "</div>"
            ],
            "text/plain": [
              "      Unnamed: 0         X1  ...       X23                           Y\n",
              "0             ID  LIMIT_BAL  ...  PAY_AMT6  default payment next month\n",
              "1              1      20000  ...         0                           1\n",
              "2              2     120000  ...      2000                           1\n",
              "3              3      90000  ...      5000                           0\n",
              "4              4      50000  ...      1000                           0\n",
              "...          ...        ...  ...       ...                         ...\n",
              "29996      29996     220000  ...      1000                           0\n",
              "29997      29997     150000  ...         0                           0\n",
              "29998      29998      30000  ...      3100                           1\n",
              "29999      29999      80000  ...      1804                           1\n",
              "30000      30000      50000  ...      1000                           1\n",
              "\n",
              "[30001 rows x 25 columns]"
            ]
          },
          "metadata": {},
          "execution_count": 3
        }
      ]
    },
    {
      "cell_type": "code",
      "metadata": {
        "id": "hrfgrbDqoBti"
      },
      "source": [
        "#reading data\n",
        "df=pd.read_excel(data,header=1)"
      ],
      "execution_count": 4,
      "outputs": []
    },
    {
      "cell_type": "markdown",
      "metadata": {
        "id": "ADj00dh4tGd6"
      },
      "source": [
        "# Data inspection"
      ]
    },
    {
      "cell_type": "code",
      "metadata": {
        "colab": {
          "base_uri": "https://localhost:8080/",
          "height": 0
        },
        "id": "1pI9hOxHouUl",
        "outputId": "29c5fb57-a22a-42ad-bcff-7cfdd32e4469"
      },
      "source": [
        "df.head()"
      ],
      "execution_count": 5,
      "outputs": [
        {
          "output_type": "execute_result",
          "data": {
            "text/html": [
              "<div>\n",
              "<style scoped>\n",
              "    .dataframe tbody tr th:only-of-type {\n",
              "        vertical-align: middle;\n",
              "    }\n",
              "\n",
              "    .dataframe tbody tr th {\n",
              "        vertical-align: top;\n",
              "    }\n",
              "\n",
              "    .dataframe thead th {\n",
              "        text-align: right;\n",
              "    }\n",
              "</style>\n",
              "<table border=\"1\" class=\"dataframe\">\n",
              "  <thead>\n",
              "    <tr style=\"text-align: right;\">\n",
              "      <th></th>\n",
              "      <th>ID</th>\n",
              "      <th>LIMIT_BAL</th>\n",
              "      <th>SEX</th>\n",
              "      <th>EDUCATION</th>\n",
              "      <th>MARRIAGE</th>\n",
              "      <th>AGE</th>\n",
              "      <th>PAY_0</th>\n",
              "      <th>PAY_2</th>\n",
              "      <th>PAY_3</th>\n",
              "      <th>PAY_4</th>\n",
              "      <th>PAY_5</th>\n",
              "      <th>PAY_6</th>\n",
              "      <th>BILL_AMT1</th>\n",
              "      <th>BILL_AMT2</th>\n",
              "      <th>BILL_AMT3</th>\n",
              "      <th>BILL_AMT4</th>\n",
              "      <th>BILL_AMT5</th>\n",
              "      <th>BILL_AMT6</th>\n",
              "      <th>PAY_AMT1</th>\n",
              "      <th>PAY_AMT2</th>\n",
              "      <th>PAY_AMT3</th>\n",
              "      <th>PAY_AMT4</th>\n",
              "      <th>PAY_AMT5</th>\n",
              "      <th>PAY_AMT6</th>\n",
              "      <th>default payment next month</th>\n",
              "    </tr>\n",
              "  </thead>\n",
              "  <tbody>\n",
              "    <tr>\n",
              "      <th>0</th>\n",
              "      <td>1</td>\n",
              "      <td>20000</td>\n",
              "      <td>2</td>\n",
              "      <td>2</td>\n",
              "      <td>1</td>\n",
              "      <td>24</td>\n",
              "      <td>2</td>\n",
              "      <td>2</td>\n",
              "      <td>-1</td>\n",
              "      <td>-1</td>\n",
              "      <td>-2</td>\n",
              "      <td>-2</td>\n",
              "      <td>3913</td>\n",
              "      <td>3102</td>\n",
              "      <td>689</td>\n",
              "      <td>0</td>\n",
              "      <td>0</td>\n",
              "      <td>0</td>\n",
              "      <td>0</td>\n",
              "      <td>689</td>\n",
              "      <td>0</td>\n",
              "      <td>0</td>\n",
              "      <td>0</td>\n",
              "      <td>0</td>\n",
              "      <td>1</td>\n",
              "    </tr>\n",
              "    <tr>\n",
              "      <th>1</th>\n",
              "      <td>2</td>\n",
              "      <td>120000</td>\n",
              "      <td>2</td>\n",
              "      <td>2</td>\n",
              "      <td>2</td>\n",
              "      <td>26</td>\n",
              "      <td>-1</td>\n",
              "      <td>2</td>\n",
              "      <td>0</td>\n",
              "      <td>0</td>\n",
              "      <td>0</td>\n",
              "      <td>2</td>\n",
              "      <td>2682</td>\n",
              "      <td>1725</td>\n",
              "      <td>2682</td>\n",
              "      <td>3272</td>\n",
              "      <td>3455</td>\n",
              "      <td>3261</td>\n",
              "      <td>0</td>\n",
              "      <td>1000</td>\n",
              "      <td>1000</td>\n",
              "      <td>1000</td>\n",
              "      <td>0</td>\n",
              "      <td>2000</td>\n",
              "      <td>1</td>\n",
              "    </tr>\n",
              "    <tr>\n",
              "      <th>2</th>\n",
              "      <td>3</td>\n",
              "      <td>90000</td>\n",
              "      <td>2</td>\n",
              "      <td>2</td>\n",
              "      <td>2</td>\n",
              "      <td>34</td>\n",
              "      <td>0</td>\n",
              "      <td>0</td>\n",
              "      <td>0</td>\n",
              "      <td>0</td>\n",
              "      <td>0</td>\n",
              "      <td>0</td>\n",
              "      <td>29239</td>\n",
              "      <td>14027</td>\n",
              "      <td>13559</td>\n",
              "      <td>14331</td>\n",
              "      <td>14948</td>\n",
              "      <td>15549</td>\n",
              "      <td>1518</td>\n",
              "      <td>1500</td>\n",
              "      <td>1000</td>\n",
              "      <td>1000</td>\n",
              "      <td>1000</td>\n",
              "      <td>5000</td>\n",
              "      <td>0</td>\n",
              "    </tr>\n",
              "    <tr>\n",
              "      <th>3</th>\n",
              "      <td>4</td>\n",
              "      <td>50000</td>\n",
              "      <td>2</td>\n",
              "      <td>2</td>\n",
              "      <td>1</td>\n",
              "      <td>37</td>\n",
              "      <td>0</td>\n",
              "      <td>0</td>\n",
              "      <td>0</td>\n",
              "      <td>0</td>\n",
              "      <td>0</td>\n",
              "      <td>0</td>\n",
              "      <td>46990</td>\n",
              "      <td>48233</td>\n",
              "      <td>49291</td>\n",
              "      <td>28314</td>\n",
              "      <td>28959</td>\n",
              "      <td>29547</td>\n",
              "      <td>2000</td>\n",
              "      <td>2019</td>\n",
              "      <td>1200</td>\n",
              "      <td>1100</td>\n",
              "      <td>1069</td>\n",
              "      <td>1000</td>\n",
              "      <td>0</td>\n",
              "    </tr>\n",
              "    <tr>\n",
              "      <th>4</th>\n",
              "      <td>5</td>\n",
              "      <td>50000</td>\n",
              "      <td>1</td>\n",
              "      <td>2</td>\n",
              "      <td>1</td>\n",
              "      <td>57</td>\n",
              "      <td>-1</td>\n",
              "      <td>0</td>\n",
              "      <td>-1</td>\n",
              "      <td>0</td>\n",
              "      <td>0</td>\n",
              "      <td>0</td>\n",
              "      <td>8617</td>\n",
              "      <td>5670</td>\n",
              "      <td>35835</td>\n",
              "      <td>20940</td>\n",
              "      <td>19146</td>\n",
              "      <td>19131</td>\n",
              "      <td>2000</td>\n",
              "      <td>36681</td>\n",
              "      <td>10000</td>\n",
              "      <td>9000</td>\n",
              "      <td>689</td>\n",
              "      <td>679</td>\n",
              "      <td>0</td>\n",
              "    </tr>\n",
              "  </tbody>\n",
              "</table>\n",
              "</div>"
            ],
            "text/plain": [
              "   ID  LIMIT_BAL  SEX  ...  PAY_AMT5  PAY_AMT6  default payment next month\n",
              "0   1      20000    2  ...         0         0                           1\n",
              "1   2     120000    2  ...         0      2000                           1\n",
              "2   3      90000    2  ...      1000      5000                           0\n",
              "3   4      50000    2  ...      1069      1000                           0\n",
              "4   5      50000    1  ...       689       679                           0\n",
              "\n",
              "[5 rows x 25 columns]"
            ]
          },
          "metadata": {},
          "execution_count": 5
        }
      ]
    },
    {
      "cell_type": "code",
      "metadata": {
        "colab": {
          "base_uri": "https://localhost:8080/"
        },
        "id": "aNViNws5pp8K",
        "outputId": "18b5319e-afb3-4e3b-d2fa-a2094e0e12a5"
      },
      "source": [
        "#checking information of data\n",
        "df.info()"
      ],
      "execution_count": 6,
      "outputs": [
        {
          "output_type": "stream",
          "name": "stdout",
          "text": [
            "<class 'pandas.core.frame.DataFrame'>\n",
            "RangeIndex: 30000 entries, 0 to 29999\n",
            "Data columns (total 25 columns):\n",
            " #   Column                      Non-Null Count  Dtype\n",
            "---  ------                      --------------  -----\n",
            " 0   ID                          30000 non-null  int64\n",
            " 1   LIMIT_BAL                   30000 non-null  int64\n",
            " 2   SEX                         30000 non-null  int64\n",
            " 3   EDUCATION                   30000 non-null  int64\n",
            " 4   MARRIAGE                    30000 non-null  int64\n",
            " 5   AGE                         30000 non-null  int64\n",
            " 6   PAY_0                       30000 non-null  int64\n",
            " 7   PAY_2                       30000 non-null  int64\n",
            " 8   PAY_3                       30000 non-null  int64\n",
            " 9   PAY_4                       30000 non-null  int64\n",
            " 10  PAY_5                       30000 non-null  int64\n",
            " 11  PAY_6                       30000 non-null  int64\n",
            " 12  BILL_AMT1                   30000 non-null  int64\n",
            " 13  BILL_AMT2                   30000 non-null  int64\n",
            " 14  BILL_AMT3                   30000 non-null  int64\n",
            " 15  BILL_AMT4                   30000 non-null  int64\n",
            " 16  BILL_AMT5                   30000 non-null  int64\n",
            " 17  BILL_AMT6                   30000 non-null  int64\n",
            " 18  PAY_AMT1                    30000 non-null  int64\n",
            " 19  PAY_AMT2                    30000 non-null  int64\n",
            " 20  PAY_AMT3                    30000 non-null  int64\n",
            " 21  PAY_AMT4                    30000 non-null  int64\n",
            " 22  PAY_AMT5                    30000 non-null  int64\n",
            " 23  PAY_AMT6                    30000 non-null  int64\n",
            " 24  default payment next month  30000 non-null  int64\n",
            "dtypes: int64(25)\n",
            "memory usage: 5.7 MB\n"
          ]
        }
      ]
    },
    {
      "cell_type": "code",
      "metadata": {
        "colab": {
          "base_uri": "https://localhost:8080/"
        },
        "id": "drYrrAsyowWL",
        "outputId": "062e8ab5-7a0a-4efb-fa39-7bcfff4b5dea"
      },
      "source": [
        "#checking null values\n",
        "df.isnull().sum()"
      ],
      "execution_count": 7,
      "outputs": [
        {
          "output_type": "execute_result",
          "data": {
            "text/plain": [
              "ID                            0\n",
              "LIMIT_BAL                     0\n",
              "SEX                           0\n",
              "EDUCATION                     0\n",
              "MARRIAGE                      0\n",
              "AGE                           0\n",
              "PAY_0                         0\n",
              "PAY_2                         0\n",
              "PAY_3                         0\n",
              "PAY_4                         0\n",
              "PAY_5                         0\n",
              "PAY_6                         0\n",
              "BILL_AMT1                     0\n",
              "BILL_AMT2                     0\n",
              "BILL_AMT3                     0\n",
              "BILL_AMT4                     0\n",
              "BILL_AMT5                     0\n",
              "BILL_AMT6                     0\n",
              "PAY_AMT1                      0\n",
              "PAY_AMT2                      0\n",
              "PAY_AMT3                      0\n",
              "PAY_AMT4                      0\n",
              "PAY_AMT5                      0\n",
              "PAY_AMT6                      0\n",
              "default payment next month    0\n",
              "dtype: int64"
            ]
          },
          "metadata": {},
          "execution_count": 7
        }
      ]
    },
    {
      "cell_type": "markdown",
      "metadata": {
        "id": "xkguhlALp0fS"
      },
      "source": [
        "**No null value found**"
      ]
    },
    {
      "cell_type": "code",
      "metadata": {
        "colab": {
          "base_uri": "https://localhost:8080/",
          "height": 0
        },
        "id": "5ruhOQNsphGs",
        "outputId": "ce8701e9-955a-48b3-d2f3-3414a1f800e3"
      },
      "source": [
        "#describing data\n",
        "df.describe().transpose()"
      ],
      "execution_count": 8,
      "outputs": [
        {
          "output_type": "execute_result",
          "data": {
            "text/html": [
              "<div>\n",
              "<style scoped>\n",
              "    .dataframe tbody tr th:only-of-type {\n",
              "        vertical-align: middle;\n",
              "    }\n",
              "\n",
              "    .dataframe tbody tr th {\n",
              "        vertical-align: top;\n",
              "    }\n",
              "\n",
              "    .dataframe thead th {\n",
              "        text-align: right;\n",
              "    }\n",
              "</style>\n",
              "<table border=\"1\" class=\"dataframe\">\n",
              "  <thead>\n",
              "    <tr style=\"text-align: right;\">\n",
              "      <th></th>\n",
              "      <th>count</th>\n",
              "      <th>mean</th>\n",
              "      <th>std</th>\n",
              "      <th>min</th>\n",
              "      <th>25%</th>\n",
              "      <th>50%</th>\n",
              "      <th>75%</th>\n",
              "      <th>max</th>\n",
              "    </tr>\n",
              "  </thead>\n",
              "  <tbody>\n",
              "    <tr>\n",
              "      <th>ID</th>\n",
              "      <td>30000.0</td>\n",
              "      <td>15000.500000</td>\n",
              "      <td>8660.398374</td>\n",
              "      <td>1.0</td>\n",
              "      <td>7500.75</td>\n",
              "      <td>15000.5</td>\n",
              "      <td>22500.25</td>\n",
              "      <td>30000.0</td>\n",
              "    </tr>\n",
              "    <tr>\n",
              "      <th>LIMIT_BAL</th>\n",
              "      <td>30000.0</td>\n",
              "      <td>167484.322667</td>\n",
              "      <td>129747.661567</td>\n",
              "      <td>10000.0</td>\n",
              "      <td>50000.00</td>\n",
              "      <td>140000.0</td>\n",
              "      <td>240000.00</td>\n",
              "      <td>1000000.0</td>\n",
              "    </tr>\n",
              "    <tr>\n",
              "      <th>SEX</th>\n",
              "      <td>30000.0</td>\n",
              "      <td>1.603733</td>\n",
              "      <td>0.489129</td>\n",
              "      <td>1.0</td>\n",
              "      <td>1.00</td>\n",
              "      <td>2.0</td>\n",
              "      <td>2.00</td>\n",
              "      <td>2.0</td>\n",
              "    </tr>\n",
              "    <tr>\n",
              "      <th>EDUCATION</th>\n",
              "      <td>30000.0</td>\n",
              "      <td>1.853133</td>\n",
              "      <td>0.790349</td>\n",
              "      <td>0.0</td>\n",
              "      <td>1.00</td>\n",
              "      <td>2.0</td>\n",
              "      <td>2.00</td>\n",
              "      <td>6.0</td>\n",
              "    </tr>\n",
              "    <tr>\n",
              "      <th>MARRIAGE</th>\n",
              "      <td>30000.0</td>\n",
              "      <td>1.551867</td>\n",
              "      <td>0.521970</td>\n",
              "      <td>0.0</td>\n",
              "      <td>1.00</td>\n",
              "      <td>2.0</td>\n",
              "      <td>2.00</td>\n",
              "      <td>3.0</td>\n",
              "    </tr>\n",
              "    <tr>\n",
              "      <th>AGE</th>\n",
              "      <td>30000.0</td>\n",
              "      <td>35.485500</td>\n",
              "      <td>9.217904</td>\n",
              "      <td>21.0</td>\n",
              "      <td>28.00</td>\n",
              "      <td>34.0</td>\n",
              "      <td>41.00</td>\n",
              "      <td>79.0</td>\n",
              "    </tr>\n",
              "    <tr>\n",
              "      <th>PAY_0</th>\n",
              "      <td>30000.0</td>\n",
              "      <td>-0.016700</td>\n",
              "      <td>1.123802</td>\n",
              "      <td>-2.0</td>\n",
              "      <td>-1.00</td>\n",
              "      <td>0.0</td>\n",
              "      <td>0.00</td>\n",
              "      <td>8.0</td>\n",
              "    </tr>\n",
              "    <tr>\n",
              "      <th>PAY_2</th>\n",
              "      <td>30000.0</td>\n",
              "      <td>-0.133767</td>\n",
              "      <td>1.197186</td>\n",
              "      <td>-2.0</td>\n",
              "      <td>-1.00</td>\n",
              "      <td>0.0</td>\n",
              "      <td>0.00</td>\n",
              "      <td>8.0</td>\n",
              "    </tr>\n",
              "    <tr>\n",
              "      <th>PAY_3</th>\n",
              "      <td>30000.0</td>\n",
              "      <td>-0.166200</td>\n",
              "      <td>1.196868</td>\n",
              "      <td>-2.0</td>\n",
              "      <td>-1.00</td>\n",
              "      <td>0.0</td>\n",
              "      <td>0.00</td>\n",
              "      <td>8.0</td>\n",
              "    </tr>\n",
              "    <tr>\n",
              "      <th>PAY_4</th>\n",
              "      <td>30000.0</td>\n",
              "      <td>-0.220667</td>\n",
              "      <td>1.169139</td>\n",
              "      <td>-2.0</td>\n",
              "      <td>-1.00</td>\n",
              "      <td>0.0</td>\n",
              "      <td>0.00</td>\n",
              "      <td>8.0</td>\n",
              "    </tr>\n",
              "    <tr>\n",
              "      <th>PAY_5</th>\n",
              "      <td>30000.0</td>\n",
              "      <td>-0.266200</td>\n",
              "      <td>1.133187</td>\n",
              "      <td>-2.0</td>\n",
              "      <td>-1.00</td>\n",
              "      <td>0.0</td>\n",
              "      <td>0.00</td>\n",
              "      <td>8.0</td>\n",
              "    </tr>\n",
              "    <tr>\n",
              "      <th>PAY_6</th>\n",
              "      <td>30000.0</td>\n",
              "      <td>-0.291100</td>\n",
              "      <td>1.149988</td>\n",
              "      <td>-2.0</td>\n",
              "      <td>-1.00</td>\n",
              "      <td>0.0</td>\n",
              "      <td>0.00</td>\n",
              "      <td>8.0</td>\n",
              "    </tr>\n",
              "    <tr>\n",
              "      <th>BILL_AMT1</th>\n",
              "      <td>30000.0</td>\n",
              "      <td>51223.330900</td>\n",
              "      <td>73635.860576</td>\n",
              "      <td>-165580.0</td>\n",
              "      <td>3558.75</td>\n",
              "      <td>22381.5</td>\n",
              "      <td>67091.00</td>\n",
              "      <td>964511.0</td>\n",
              "    </tr>\n",
              "    <tr>\n",
              "      <th>BILL_AMT2</th>\n",
              "      <td>30000.0</td>\n",
              "      <td>49179.075167</td>\n",
              "      <td>71173.768783</td>\n",
              "      <td>-69777.0</td>\n",
              "      <td>2984.75</td>\n",
              "      <td>21200.0</td>\n",
              "      <td>64006.25</td>\n",
              "      <td>983931.0</td>\n",
              "    </tr>\n",
              "    <tr>\n",
              "      <th>BILL_AMT3</th>\n",
              "      <td>30000.0</td>\n",
              "      <td>47013.154800</td>\n",
              "      <td>69349.387427</td>\n",
              "      <td>-157264.0</td>\n",
              "      <td>2666.25</td>\n",
              "      <td>20088.5</td>\n",
              "      <td>60164.75</td>\n",
              "      <td>1664089.0</td>\n",
              "    </tr>\n",
              "    <tr>\n",
              "      <th>BILL_AMT4</th>\n",
              "      <td>30000.0</td>\n",
              "      <td>43262.948967</td>\n",
              "      <td>64332.856134</td>\n",
              "      <td>-170000.0</td>\n",
              "      <td>2326.75</td>\n",
              "      <td>19052.0</td>\n",
              "      <td>54506.00</td>\n",
              "      <td>891586.0</td>\n",
              "    </tr>\n",
              "    <tr>\n",
              "      <th>BILL_AMT5</th>\n",
              "      <td>30000.0</td>\n",
              "      <td>40311.400967</td>\n",
              "      <td>60797.155770</td>\n",
              "      <td>-81334.0</td>\n",
              "      <td>1763.00</td>\n",
              "      <td>18104.5</td>\n",
              "      <td>50190.50</td>\n",
              "      <td>927171.0</td>\n",
              "    </tr>\n",
              "    <tr>\n",
              "      <th>BILL_AMT6</th>\n",
              "      <td>30000.0</td>\n",
              "      <td>38871.760400</td>\n",
              "      <td>59554.107537</td>\n",
              "      <td>-339603.0</td>\n",
              "      <td>1256.00</td>\n",
              "      <td>17071.0</td>\n",
              "      <td>49198.25</td>\n",
              "      <td>961664.0</td>\n",
              "    </tr>\n",
              "    <tr>\n",
              "      <th>PAY_AMT1</th>\n",
              "      <td>30000.0</td>\n",
              "      <td>5663.580500</td>\n",
              "      <td>16563.280354</td>\n",
              "      <td>0.0</td>\n",
              "      <td>1000.00</td>\n",
              "      <td>2100.0</td>\n",
              "      <td>5006.00</td>\n",
              "      <td>873552.0</td>\n",
              "    </tr>\n",
              "    <tr>\n",
              "      <th>PAY_AMT2</th>\n",
              "      <td>30000.0</td>\n",
              "      <td>5921.163500</td>\n",
              "      <td>23040.870402</td>\n",
              "      <td>0.0</td>\n",
              "      <td>833.00</td>\n",
              "      <td>2009.0</td>\n",
              "      <td>5000.00</td>\n",
              "      <td>1684259.0</td>\n",
              "    </tr>\n",
              "    <tr>\n",
              "      <th>PAY_AMT3</th>\n",
              "      <td>30000.0</td>\n",
              "      <td>5225.681500</td>\n",
              "      <td>17606.961470</td>\n",
              "      <td>0.0</td>\n",
              "      <td>390.00</td>\n",
              "      <td>1800.0</td>\n",
              "      <td>4505.00</td>\n",
              "      <td>896040.0</td>\n",
              "    </tr>\n",
              "    <tr>\n",
              "      <th>PAY_AMT4</th>\n",
              "      <td>30000.0</td>\n",
              "      <td>4826.076867</td>\n",
              "      <td>15666.159744</td>\n",
              "      <td>0.0</td>\n",
              "      <td>296.00</td>\n",
              "      <td>1500.0</td>\n",
              "      <td>4013.25</td>\n",
              "      <td>621000.0</td>\n",
              "    </tr>\n",
              "    <tr>\n",
              "      <th>PAY_AMT5</th>\n",
              "      <td>30000.0</td>\n",
              "      <td>4799.387633</td>\n",
              "      <td>15278.305679</td>\n",
              "      <td>0.0</td>\n",
              "      <td>252.50</td>\n",
              "      <td>1500.0</td>\n",
              "      <td>4031.50</td>\n",
              "      <td>426529.0</td>\n",
              "    </tr>\n",
              "    <tr>\n",
              "      <th>PAY_AMT6</th>\n",
              "      <td>30000.0</td>\n",
              "      <td>5215.502567</td>\n",
              "      <td>17777.465775</td>\n",
              "      <td>0.0</td>\n",
              "      <td>117.75</td>\n",
              "      <td>1500.0</td>\n",
              "      <td>4000.00</td>\n",
              "      <td>528666.0</td>\n",
              "    </tr>\n",
              "    <tr>\n",
              "      <th>default payment next month</th>\n",
              "      <td>30000.0</td>\n",
              "      <td>0.221200</td>\n",
              "      <td>0.415062</td>\n",
              "      <td>0.0</td>\n",
              "      <td>0.00</td>\n",
              "      <td>0.0</td>\n",
              "      <td>0.00</td>\n",
              "      <td>1.0</td>\n",
              "    </tr>\n",
              "  </tbody>\n",
              "</table>\n",
              "</div>"
            ],
            "text/plain": [
              "                              count           mean  ...        75%        max\n",
              "ID                          30000.0   15000.500000  ...   22500.25    30000.0\n",
              "LIMIT_BAL                   30000.0  167484.322667  ...  240000.00  1000000.0\n",
              "SEX                         30000.0       1.603733  ...       2.00        2.0\n",
              "EDUCATION                   30000.0       1.853133  ...       2.00        6.0\n",
              "MARRIAGE                    30000.0       1.551867  ...       2.00        3.0\n",
              "AGE                         30000.0      35.485500  ...      41.00       79.0\n",
              "PAY_0                       30000.0      -0.016700  ...       0.00        8.0\n",
              "PAY_2                       30000.0      -0.133767  ...       0.00        8.0\n",
              "PAY_3                       30000.0      -0.166200  ...       0.00        8.0\n",
              "PAY_4                       30000.0      -0.220667  ...       0.00        8.0\n",
              "PAY_5                       30000.0      -0.266200  ...       0.00        8.0\n",
              "PAY_6                       30000.0      -0.291100  ...       0.00        8.0\n",
              "BILL_AMT1                   30000.0   51223.330900  ...   67091.00   964511.0\n",
              "BILL_AMT2                   30000.0   49179.075167  ...   64006.25   983931.0\n",
              "BILL_AMT3                   30000.0   47013.154800  ...   60164.75  1664089.0\n",
              "BILL_AMT4                   30000.0   43262.948967  ...   54506.00   891586.0\n",
              "BILL_AMT5                   30000.0   40311.400967  ...   50190.50   927171.0\n",
              "BILL_AMT6                   30000.0   38871.760400  ...   49198.25   961664.0\n",
              "PAY_AMT1                    30000.0    5663.580500  ...    5006.00   873552.0\n",
              "PAY_AMT2                    30000.0    5921.163500  ...    5000.00  1684259.0\n",
              "PAY_AMT3                    30000.0    5225.681500  ...    4505.00   896040.0\n",
              "PAY_AMT4                    30000.0    4826.076867  ...    4013.25   621000.0\n",
              "PAY_AMT5                    30000.0    4799.387633  ...    4031.50   426529.0\n",
              "PAY_AMT6                    30000.0    5215.502567  ...    4000.00   528666.0\n",
              "default payment next month  30000.0       0.221200  ...       0.00        1.0\n",
              "\n",
              "[25 rows x 8 columns]"
            ]
          },
          "metadata": {},
          "execution_count": 8
        }
      ]
    },
    {
      "cell_type": "code",
      "metadata": {
        "colab": {
          "base_uri": "https://localhost:8080/"
        },
        "id": "KzK42ZJEqAbi",
        "outputId": "9ef12ca2-c303-4ee0-be09-22997fddac52"
      },
      "source": [
        "#checking 1st Row\n",
        "df.iloc[0,:]"
      ],
      "execution_count": 9,
      "outputs": [
        {
          "output_type": "execute_result",
          "data": {
            "text/plain": [
              "ID                                1\n",
              "LIMIT_BAL                     20000\n",
              "SEX                               2\n",
              "EDUCATION                         2\n",
              "MARRIAGE                          1\n",
              "AGE                              24\n",
              "PAY_0                             2\n",
              "PAY_2                             2\n",
              "PAY_3                            -1\n",
              "PAY_4                            -1\n",
              "PAY_5                            -2\n",
              "PAY_6                            -2\n",
              "BILL_AMT1                      3913\n",
              "BILL_AMT2                      3102\n",
              "BILL_AMT3                       689\n",
              "BILL_AMT4                         0\n",
              "BILL_AMT5                         0\n",
              "BILL_AMT6                         0\n",
              "PAY_AMT1                          0\n",
              "PAY_AMT2                        689\n",
              "PAY_AMT3                          0\n",
              "PAY_AMT4                          0\n",
              "PAY_AMT5                          0\n",
              "PAY_AMT6                          0\n",
              "default payment next month        1\n",
              "Name: 0, dtype: int64"
            ]
          },
          "metadata": {},
          "execution_count": 9
        }
      ]
    },
    {
      "cell_type": "code",
      "metadata": {
        "id": "5D5e3ZfLqX-h"
      },
      "source": [
        "#droping Id Column since its is unique for every row\n",
        "df=df.drop('ID',axis=1)"
      ],
      "execution_count": 10,
      "outputs": []
    },
    {
      "cell_type": "code",
      "metadata": {
        "colab": {
          "base_uri": "https://localhost:8080/",
          "height": 0
        },
        "id": "mWlL3NoZq7bq",
        "outputId": "2c7d723b-418a-4044-8c4b-0ddc3fc8b2f7"
      },
      "source": [
        "#viewing Data\n",
        "\n",
        "df.head()"
      ],
      "execution_count": 11,
      "outputs": [
        {
          "output_type": "execute_result",
          "data": {
            "text/html": [
              "<div>\n",
              "<style scoped>\n",
              "    .dataframe tbody tr th:only-of-type {\n",
              "        vertical-align: middle;\n",
              "    }\n",
              "\n",
              "    .dataframe tbody tr th {\n",
              "        vertical-align: top;\n",
              "    }\n",
              "\n",
              "    .dataframe thead th {\n",
              "        text-align: right;\n",
              "    }\n",
              "</style>\n",
              "<table border=\"1\" class=\"dataframe\">\n",
              "  <thead>\n",
              "    <tr style=\"text-align: right;\">\n",
              "      <th></th>\n",
              "      <th>LIMIT_BAL</th>\n",
              "      <th>SEX</th>\n",
              "      <th>EDUCATION</th>\n",
              "      <th>MARRIAGE</th>\n",
              "      <th>AGE</th>\n",
              "      <th>PAY_0</th>\n",
              "      <th>PAY_2</th>\n",
              "      <th>PAY_3</th>\n",
              "      <th>PAY_4</th>\n",
              "      <th>PAY_5</th>\n",
              "      <th>PAY_6</th>\n",
              "      <th>BILL_AMT1</th>\n",
              "      <th>BILL_AMT2</th>\n",
              "      <th>BILL_AMT3</th>\n",
              "      <th>BILL_AMT4</th>\n",
              "      <th>BILL_AMT5</th>\n",
              "      <th>BILL_AMT6</th>\n",
              "      <th>PAY_AMT1</th>\n",
              "      <th>PAY_AMT2</th>\n",
              "      <th>PAY_AMT3</th>\n",
              "      <th>PAY_AMT4</th>\n",
              "      <th>PAY_AMT5</th>\n",
              "      <th>PAY_AMT6</th>\n",
              "      <th>default payment next month</th>\n",
              "    </tr>\n",
              "  </thead>\n",
              "  <tbody>\n",
              "    <tr>\n",
              "      <th>0</th>\n",
              "      <td>20000</td>\n",
              "      <td>2</td>\n",
              "      <td>2</td>\n",
              "      <td>1</td>\n",
              "      <td>24</td>\n",
              "      <td>2</td>\n",
              "      <td>2</td>\n",
              "      <td>-1</td>\n",
              "      <td>-1</td>\n",
              "      <td>-2</td>\n",
              "      <td>-2</td>\n",
              "      <td>3913</td>\n",
              "      <td>3102</td>\n",
              "      <td>689</td>\n",
              "      <td>0</td>\n",
              "      <td>0</td>\n",
              "      <td>0</td>\n",
              "      <td>0</td>\n",
              "      <td>689</td>\n",
              "      <td>0</td>\n",
              "      <td>0</td>\n",
              "      <td>0</td>\n",
              "      <td>0</td>\n",
              "      <td>1</td>\n",
              "    </tr>\n",
              "    <tr>\n",
              "      <th>1</th>\n",
              "      <td>120000</td>\n",
              "      <td>2</td>\n",
              "      <td>2</td>\n",
              "      <td>2</td>\n",
              "      <td>26</td>\n",
              "      <td>-1</td>\n",
              "      <td>2</td>\n",
              "      <td>0</td>\n",
              "      <td>0</td>\n",
              "      <td>0</td>\n",
              "      <td>2</td>\n",
              "      <td>2682</td>\n",
              "      <td>1725</td>\n",
              "      <td>2682</td>\n",
              "      <td>3272</td>\n",
              "      <td>3455</td>\n",
              "      <td>3261</td>\n",
              "      <td>0</td>\n",
              "      <td>1000</td>\n",
              "      <td>1000</td>\n",
              "      <td>1000</td>\n",
              "      <td>0</td>\n",
              "      <td>2000</td>\n",
              "      <td>1</td>\n",
              "    </tr>\n",
              "    <tr>\n",
              "      <th>2</th>\n",
              "      <td>90000</td>\n",
              "      <td>2</td>\n",
              "      <td>2</td>\n",
              "      <td>2</td>\n",
              "      <td>34</td>\n",
              "      <td>0</td>\n",
              "      <td>0</td>\n",
              "      <td>0</td>\n",
              "      <td>0</td>\n",
              "      <td>0</td>\n",
              "      <td>0</td>\n",
              "      <td>29239</td>\n",
              "      <td>14027</td>\n",
              "      <td>13559</td>\n",
              "      <td>14331</td>\n",
              "      <td>14948</td>\n",
              "      <td>15549</td>\n",
              "      <td>1518</td>\n",
              "      <td>1500</td>\n",
              "      <td>1000</td>\n",
              "      <td>1000</td>\n",
              "      <td>1000</td>\n",
              "      <td>5000</td>\n",
              "      <td>0</td>\n",
              "    </tr>\n",
              "    <tr>\n",
              "      <th>3</th>\n",
              "      <td>50000</td>\n",
              "      <td>2</td>\n",
              "      <td>2</td>\n",
              "      <td>1</td>\n",
              "      <td>37</td>\n",
              "      <td>0</td>\n",
              "      <td>0</td>\n",
              "      <td>0</td>\n",
              "      <td>0</td>\n",
              "      <td>0</td>\n",
              "      <td>0</td>\n",
              "      <td>46990</td>\n",
              "      <td>48233</td>\n",
              "      <td>49291</td>\n",
              "      <td>28314</td>\n",
              "      <td>28959</td>\n",
              "      <td>29547</td>\n",
              "      <td>2000</td>\n",
              "      <td>2019</td>\n",
              "      <td>1200</td>\n",
              "      <td>1100</td>\n",
              "      <td>1069</td>\n",
              "      <td>1000</td>\n",
              "      <td>0</td>\n",
              "    </tr>\n",
              "    <tr>\n",
              "      <th>4</th>\n",
              "      <td>50000</td>\n",
              "      <td>1</td>\n",
              "      <td>2</td>\n",
              "      <td>1</td>\n",
              "      <td>57</td>\n",
              "      <td>-1</td>\n",
              "      <td>0</td>\n",
              "      <td>-1</td>\n",
              "      <td>0</td>\n",
              "      <td>0</td>\n",
              "      <td>0</td>\n",
              "      <td>8617</td>\n",
              "      <td>5670</td>\n",
              "      <td>35835</td>\n",
              "      <td>20940</td>\n",
              "      <td>19146</td>\n",
              "      <td>19131</td>\n",
              "      <td>2000</td>\n",
              "      <td>36681</td>\n",
              "      <td>10000</td>\n",
              "      <td>9000</td>\n",
              "      <td>689</td>\n",
              "      <td>679</td>\n",
              "      <td>0</td>\n",
              "    </tr>\n",
              "  </tbody>\n",
              "</table>\n",
              "</div>"
            ],
            "text/plain": [
              "   LIMIT_BAL  SEX  EDUCATION  ...  PAY_AMT5  PAY_AMT6  default payment next month\n",
              "0      20000    2          2  ...         0         0                           1\n",
              "1     120000    2          2  ...         0      2000                           1\n",
              "2      90000    2          2  ...      1000      5000                           0\n",
              "3      50000    2          2  ...      1069      1000                           0\n",
              "4      50000    1          2  ...       689       679                           0\n",
              "\n",
              "[5 rows x 24 columns]"
            ]
          },
          "metadata": {},
          "execution_count": 11
        }
      ]
    },
    {
      "cell_type": "markdown",
      "metadata": {
        "id": "9mTOfv6kv7dk"
      },
      "source": [
        "# Data cleaning"
      ]
    },
    {
      "cell_type": "code",
      "metadata": {
        "colab": {
          "base_uri": "https://localhost:8080/"
        },
        "id": "BnqNI7wntNit",
        "outputId": "5a7efa7d-19d2-4a5c-849f-d61a4f56ad7c"
      },
      "source": [
        "df['LIMIT_BAL'].max()"
      ],
      "execution_count": 12,
      "outputs": [
        {
          "output_type": "execute_result",
          "data": {
            "text/plain": [
              "1000000"
            ]
          },
          "metadata": {},
          "execution_count": 12
        }
      ]
    },
    {
      "cell_type": "code",
      "metadata": {
        "colab": {
          "base_uri": "https://localhost:8080/"
        },
        "id": "TC2aJcmXwAJU",
        "outputId": "5d36b5af-8c7f-4bca-f5d9-07b63dd00e47"
      },
      "source": [
        "df['LIMIT_BAL'].min()"
      ],
      "execution_count": 13,
      "outputs": [
        {
          "output_type": "execute_result",
          "data": {
            "text/plain": [
              "10000"
            ]
          },
          "metadata": {},
          "execution_count": 13
        }
      ]
    },
    {
      "cell_type": "code",
      "metadata": {
        "id": "FxY73eROwEl8"
      },
      "source": [
        "#renaming dependendent Variable\n",
        "df.rename(columns={'default payment next month' : 'Defaulters'}, inplace=True)"
      ],
      "execution_count": 14,
      "outputs": []
    },
    {
      "cell_type": "code",
      "metadata": {
        "id": "Kudq6VtuwMa8"
      },
      "source": [
        "# renaming some feature name for better understanding of feature\n",
        "df.rename(columns={'PAY_0':'PAY_SEPT','PAY_2':'PAY_AUG','PAY_3':'PAY_JUL','PAY_4':'PAY_JUN','PAY_5':'PAY_MAY','PAY_6':'PAY_APR'},inplace=True)\n",
        "\n",
        "df.rename(columns={'BILL_AMT1':'BILL_AMT_SEPT','BILL_AMT2':'BILL_AMT_AUG','BILL_AMT3':'BILL_AMT_JUL','BILL_AMT4':'BILL_AMT_JUN','BILL_AMT5':'BILL_AMT_MAY','BILL_AMT6':'BILL_AMT_APR'}, inplace = True)\n",
        "\n",
        "df.rename(columns={'PAY_AMT1':'PAY_AMT_SEPT','PAY_AMT2':'PAY_AMT_AUG','PAY_AMT3':'PAY_AMT_JUL','PAY_AMT4':'PAY_AMT_JUN','PAY_AMT5':'PAY_AMT_MAY','PAY_AMT6':'PAY_AMT_APR'},inplace=True)"
      ],
      "execution_count": 15,
      "outputs": []
    },
    {
      "cell_type": "code",
      "metadata": {
        "colab": {
          "base_uri": "https://localhost:8080/",
          "height": 0
        },
        "id": "LHlz5aKbwV10",
        "outputId": "b22bb816-aadd-4946-9c10-6d5915bf1f2d"
      },
      "source": [
        "df.head()"
      ],
      "execution_count": 16,
      "outputs": [
        {
          "output_type": "execute_result",
          "data": {
            "text/html": [
              "<div>\n",
              "<style scoped>\n",
              "    .dataframe tbody tr th:only-of-type {\n",
              "        vertical-align: middle;\n",
              "    }\n",
              "\n",
              "    .dataframe tbody tr th {\n",
              "        vertical-align: top;\n",
              "    }\n",
              "\n",
              "    .dataframe thead th {\n",
              "        text-align: right;\n",
              "    }\n",
              "</style>\n",
              "<table border=\"1\" class=\"dataframe\">\n",
              "  <thead>\n",
              "    <tr style=\"text-align: right;\">\n",
              "      <th></th>\n",
              "      <th>LIMIT_BAL</th>\n",
              "      <th>SEX</th>\n",
              "      <th>EDUCATION</th>\n",
              "      <th>MARRIAGE</th>\n",
              "      <th>AGE</th>\n",
              "      <th>PAY_SEPT</th>\n",
              "      <th>PAY_AUG</th>\n",
              "      <th>PAY_JUL</th>\n",
              "      <th>PAY_JUN</th>\n",
              "      <th>PAY_MAY</th>\n",
              "      <th>PAY_APR</th>\n",
              "      <th>BILL_AMT_SEPT</th>\n",
              "      <th>BILL_AMT_AUG</th>\n",
              "      <th>BILL_AMT_JUL</th>\n",
              "      <th>BILL_AMT_JUN</th>\n",
              "      <th>BILL_AMT_MAY</th>\n",
              "      <th>BILL_AMT_APR</th>\n",
              "      <th>PAY_AMT_SEPT</th>\n",
              "      <th>PAY_AMT_AUG</th>\n",
              "      <th>PAY_AMT_JUL</th>\n",
              "      <th>PAY_AMT_JUN</th>\n",
              "      <th>PAY_AMT_MAY</th>\n",
              "      <th>PAY_AMT_APR</th>\n",
              "      <th>Defaulters</th>\n",
              "    </tr>\n",
              "  </thead>\n",
              "  <tbody>\n",
              "    <tr>\n",
              "      <th>0</th>\n",
              "      <td>20000</td>\n",
              "      <td>2</td>\n",
              "      <td>2</td>\n",
              "      <td>1</td>\n",
              "      <td>24</td>\n",
              "      <td>2</td>\n",
              "      <td>2</td>\n",
              "      <td>-1</td>\n",
              "      <td>-1</td>\n",
              "      <td>-2</td>\n",
              "      <td>-2</td>\n",
              "      <td>3913</td>\n",
              "      <td>3102</td>\n",
              "      <td>689</td>\n",
              "      <td>0</td>\n",
              "      <td>0</td>\n",
              "      <td>0</td>\n",
              "      <td>0</td>\n",
              "      <td>689</td>\n",
              "      <td>0</td>\n",
              "      <td>0</td>\n",
              "      <td>0</td>\n",
              "      <td>0</td>\n",
              "      <td>1</td>\n",
              "    </tr>\n",
              "    <tr>\n",
              "      <th>1</th>\n",
              "      <td>120000</td>\n",
              "      <td>2</td>\n",
              "      <td>2</td>\n",
              "      <td>2</td>\n",
              "      <td>26</td>\n",
              "      <td>-1</td>\n",
              "      <td>2</td>\n",
              "      <td>0</td>\n",
              "      <td>0</td>\n",
              "      <td>0</td>\n",
              "      <td>2</td>\n",
              "      <td>2682</td>\n",
              "      <td>1725</td>\n",
              "      <td>2682</td>\n",
              "      <td>3272</td>\n",
              "      <td>3455</td>\n",
              "      <td>3261</td>\n",
              "      <td>0</td>\n",
              "      <td>1000</td>\n",
              "      <td>1000</td>\n",
              "      <td>1000</td>\n",
              "      <td>0</td>\n",
              "      <td>2000</td>\n",
              "      <td>1</td>\n",
              "    </tr>\n",
              "    <tr>\n",
              "      <th>2</th>\n",
              "      <td>90000</td>\n",
              "      <td>2</td>\n",
              "      <td>2</td>\n",
              "      <td>2</td>\n",
              "      <td>34</td>\n",
              "      <td>0</td>\n",
              "      <td>0</td>\n",
              "      <td>0</td>\n",
              "      <td>0</td>\n",
              "      <td>0</td>\n",
              "      <td>0</td>\n",
              "      <td>29239</td>\n",
              "      <td>14027</td>\n",
              "      <td>13559</td>\n",
              "      <td>14331</td>\n",
              "      <td>14948</td>\n",
              "      <td>15549</td>\n",
              "      <td>1518</td>\n",
              "      <td>1500</td>\n",
              "      <td>1000</td>\n",
              "      <td>1000</td>\n",
              "      <td>1000</td>\n",
              "      <td>5000</td>\n",
              "      <td>0</td>\n",
              "    </tr>\n",
              "    <tr>\n",
              "      <th>3</th>\n",
              "      <td>50000</td>\n",
              "      <td>2</td>\n",
              "      <td>2</td>\n",
              "      <td>1</td>\n",
              "      <td>37</td>\n",
              "      <td>0</td>\n",
              "      <td>0</td>\n",
              "      <td>0</td>\n",
              "      <td>0</td>\n",
              "      <td>0</td>\n",
              "      <td>0</td>\n",
              "      <td>46990</td>\n",
              "      <td>48233</td>\n",
              "      <td>49291</td>\n",
              "      <td>28314</td>\n",
              "      <td>28959</td>\n",
              "      <td>29547</td>\n",
              "      <td>2000</td>\n",
              "      <td>2019</td>\n",
              "      <td>1200</td>\n",
              "      <td>1100</td>\n",
              "      <td>1069</td>\n",
              "      <td>1000</td>\n",
              "      <td>0</td>\n",
              "    </tr>\n",
              "    <tr>\n",
              "      <th>4</th>\n",
              "      <td>50000</td>\n",
              "      <td>1</td>\n",
              "      <td>2</td>\n",
              "      <td>1</td>\n",
              "      <td>57</td>\n",
              "      <td>-1</td>\n",
              "      <td>0</td>\n",
              "      <td>-1</td>\n",
              "      <td>0</td>\n",
              "      <td>0</td>\n",
              "      <td>0</td>\n",
              "      <td>8617</td>\n",
              "      <td>5670</td>\n",
              "      <td>35835</td>\n",
              "      <td>20940</td>\n",
              "      <td>19146</td>\n",
              "      <td>19131</td>\n",
              "      <td>2000</td>\n",
              "      <td>36681</td>\n",
              "      <td>10000</td>\n",
              "      <td>9000</td>\n",
              "      <td>689</td>\n",
              "      <td>679</td>\n",
              "      <td>0</td>\n",
              "    </tr>\n",
              "  </tbody>\n",
              "</table>\n",
              "</div>"
            ],
            "text/plain": [
              "   LIMIT_BAL  SEX  EDUCATION  ...  PAY_AMT_MAY  PAY_AMT_APR  Defaulters\n",
              "0      20000    2          2  ...            0            0           1\n",
              "1     120000    2          2  ...            0         2000           1\n",
              "2      90000    2          2  ...         1000         5000           0\n",
              "3      50000    2          2  ...         1069         1000           0\n",
              "4      50000    1          2  ...          689          679           0\n",
              "\n",
              "[5 rows x 24 columns]"
            ]
          },
          "metadata": {},
          "execution_count": 16
        }
      ]
    },
    {
      "cell_type": "markdown",
      "metadata": {
        "id": "adA1Gu6TtLVJ"
      },
      "source": [
        "# Exploratory Data Analysis and feature Engineering"
      ]
    },
    {
      "cell_type": "code",
      "metadata": {
        "colab": {
          "base_uri": "https://localhost:8080/"
        },
        "id": "veXSD6V3sQ5a",
        "outputId": "1e6a0250-0bec-4a03-909f-be990d4c17cf"
      },
      "source": [
        "#checking dependent valriable\n",
        "df['Defaulters'].value_counts()"
      ],
      "execution_count": 17,
      "outputs": [
        {
          "output_type": "execute_result",
          "data": {
            "text/plain": [
              "0    23364\n",
              "1     6636\n",
              "Name: Defaulters, dtype: int64"
            ]
          },
          "metadata": {},
          "execution_count": 17
        }
      ]
    },
    {
      "cell_type": "code",
      "metadata": {
        "colab": {
          "base_uri": "https://localhost:8080/",
          "height": 0
        },
        "id": "LI3rWRq_tAFk",
        "outputId": "203ac931-6343-4852-d80e-ee98ba6a6d08"
      },
      "source": [
        "#visualizing dependent variable\n",
        "plt.figure(figsize=(10,8),dpi=80)\n",
        "sns.countplot(x='Defaulters',data=df,palette='Set1')"
      ],
      "execution_count": 18,
      "outputs": [
        {
          "output_type": "execute_result",
          "data": {
            "text/plain": [
              "<matplotlib.axes._subplots.AxesSubplot at 0x7f773067d550>"
            ]
          },
          "metadata": {},
          "execution_count": 18
        },
        {
          "output_type": "display_data",
          "data": {
            "image/png": "[encoded data removed]",
            "text/plain": [
              "<Figure size 800x640 with 1 Axes>"
            ]
          },
          "metadata": {
            "needs_background": "light"
          }
        }
      ]
    },
    {
      "cell_type": "markdown",
      "metadata": {
        "id": "UXb92OYguDt6"
      },
      "source": [
        "**We can see that we have quite imbalance dataset**"
      ]
    },
    {
      "cell_type": "markdown",
      "metadata": {
        "id": "-oew2dQYjCTr"
      },
      "source": [
        "## Bivariate Analysis"
      ]
    },
    {
      "cell_type": "code",
      "metadata": {
        "id": "C5sRfBGwqjN6"
      },
      "source": [
        "categorical_features = ['SEX', 'EDUCATION', 'MARRIAGE']"
      ],
      "execution_count": 19,
      "outputs": []
    },
    {
      "cell_type": "code",
      "metadata": {
        "id": "5bGxXDivwrIJ"
      },
      "source": [
        "df_cat = df[categorical_features]\n"
      ],
      "execution_count": 20,
      "outputs": []
    },
    {
      "cell_type": "code",
      "metadata": {
        "colab": {
          "base_uri": "https://localhost:8080/"
        },
        "id": "i2ZgwXP6MvOi",
        "outputId": "28e6d931-d152-470a-fea1-6d8e03a65e65"
      },
      "source": [
        "df_cat.shape"
      ],
      "execution_count": 21,
      "outputs": [
        {
          "output_type": "execute_result",
          "data": {
            "text/plain": [
              "(30000, 3)"
            ]
          },
          "metadata": {},
          "execution_count": 21
        }
      ]
    },
    {
      "cell_type": "code",
      "metadata": {
        "colab": {
          "base_uri": "https://localhost:8080/",
          "height": 0
        },
        "id": "TvY5bPQmwzWC",
        "outputId": "fc20d8be-d5a9-4fb1-b98f-173fd0d12d30"
      },
      "source": [
        "df_cat.head()"
      ],
      "execution_count": 22,
      "outputs": [
        {
          "output_type": "execute_result",
          "data": {
            "text/html": [
              "<div>\n",
              "<style scoped>\n",
              "    .dataframe tbody tr th:only-of-type {\n",
              "        vertical-align: middle;\n",
              "    }\n",
              "\n",
              "    .dataframe tbody tr th {\n",
              "        vertical-align: top;\n",
              "    }\n",
              "\n",
              "    .dataframe thead th {\n",
              "        text-align: right;\n",
              "    }\n",
              "</style>\n",
              "<table border=\"1\" class=\"dataframe\">\n",
              "  <thead>\n",
              "    <tr style=\"text-align: right;\">\n",
              "      <th></th>\n",
              "      <th>SEX</th>\n",
              "      <th>EDUCATION</th>\n",
              "      <th>MARRIAGE</th>\n",
              "    </tr>\n",
              "  </thead>\n",
              "  <tbody>\n",
              "    <tr>\n",
              "      <th>0</th>\n",
              "      <td>2</td>\n",
              "      <td>2</td>\n",
              "      <td>1</td>\n",
              "    </tr>\n",
              "    <tr>\n",
              "      <th>1</th>\n",
              "      <td>2</td>\n",
              "      <td>2</td>\n",
              "      <td>2</td>\n",
              "    </tr>\n",
              "    <tr>\n",
              "      <th>2</th>\n",
              "      <td>2</td>\n",
              "      <td>2</td>\n",
              "      <td>2</td>\n",
              "    </tr>\n",
              "    <tr>\n",
              "      <th>3</th>\n",
              "      <td>2</td>\n",
              "      <td>2</td>\n",
              "      <td>1</td>\n",
              "    </tr>\n",
              "    <tr>\n",
              "      <th>4</th>\n",
              "      <td>1</td>\n",
              "      <td>2</td>\n",
              "      <td>1</td>\n",
              "    </tr>\n",
              "  </tbody>\n",
              "</table>\n",
              "</div>"
            ],
            "text/plain": [
              "   SEX  EDUCATION  MARRIAGE\n",
              "0    2          2         1\n",
              "1    2          2         2\n",
              "2    2          2         2\n",
              "3    2          2         1\n",
              "4    1          2         1"
            ]
          },
          "metadata": {},
          "execution_count": 22
        }
      ]
    },
    {
      "cell_type": "code",
      "metadata": {
        "colab": {
          "base_uri": "https://localhost:8080/"
        },
        "id": "PAe6mE65MlNR",
        "outputId": "474f6a23-ff48-476e-c927-38e8ea65fd3c"
      },
      "source": [
        "#checking value counts of categorical_features\n",
        "for column_name in df_cat.columns:\n",
        "  print(f'count of {column_name} features')\n",
        "  print(f'\\n{df_cat[column_name].value_counts()}\\n')"
      ],
      "execution_count": 23,
      "outputs": [
        {
          "output_type": "stream",
          "name": "stdout",
          "text": [
            "count of SEX features\n",
            "\n",
            "2    18112\n",
            "1    11888\n",
            "Name: SEX, dtype: int64\n",
            "\n",
            "count of EDUCATION features\n",
            "\n",
            "2    14030\n",
            "1    10585\n",
            "3     4917\n",
            "5      280\n",
            "4      123\n",
            "6       51\n",
            "0       14\n",
            "Name: EDUCATION, dtype: int64\n",
            "\n",
            "count of MARRIAGE features\n",
            "\n",
            "2    15964\n",
            "1    13659\n",
            "3      323\n",
            "0       54\n",
            "Name: MARRIAGE, dtype: int64\n",
            "\n"
          ]
        }
      ]
    },
    {
      "cell_type": "code",
      "metadata": {
        "id": "5Sz7klBOwzS4"
      },
      "source": [
        "#maping numerical value to categorical for easy understanding\n",
        "df_cat['SEX']=df_cat['SEX'].map({1:'Male',2:'Female'})\n",
        "df_cat['EDUCATION']=df_cat['EDUCATION'].map({1 : 'graduate school', 2 : 'university', 3 : 'high school', 4 : 'other',5:'other',6:'other',0:'other'})\n",
        "df_cat['MARRIAGE']=df_cat['MARRIAGE'].map({1 : 'married', 2 : 'single', 3 : 'others',0 : 'others'})"
      ],
      "execution_count": 24,
      "outputs": []
    },
    {
      "cell_type": "code",
      "metadata": {
        "colab": {
          "base_uri": "https://localhost:8080/",
          "height": 0
        },
        "id": "2QDJhb7zwzQX",
        "outputId": "21c1d763-314e-4ed1-f7b7-8db2b4a726ce"
      },
      "source": [
        "df_cat.head()"
      ],
      "execution_count": 25,
      "outputs": [
        {
          "output_type": "execute_result",
          "data": {
            "text/html": [
              "<div>\n",
              "<style scoped>\n",
              "    .dataframe tbody tr th:only-of-type {\n",
              "        vertical-align: middle;\n",
              "    }\n",
              "\n",
              "    .dataframe tbody tr th {\n",
              "        vertical-align: top;\n",
              "    }\n",
              "\n",
              "    .dataframe thead th {\n",
              "        text-align: right;\n",
              "    }\n",
              "</style>\n",
              "<table border=\"1\" class=\"dataframe\">\n",
              "  <thead>\n",
              "    <tr style=\"text-align: right;\">\n",
              "      <th></th>\n",
              "      <th>SEX</th>\n",
              "      <th>EDUCATION</th>\n",
              "      <th>MARRIAGE</th>\n",
              "    </tr>\n",
              "  </thead>\n",
              "  <tbody>\n",
              "    <tr>\n",
              "      <th>0</th>\n",
              "      <td>Female</td>\n",
              "      <td>university</td>\n",
              "      <td>married</td>\n",
              "    </tr>\n",
              "    <tr>\n",
              "      <th>1</th>\n",
              "      <td>Female</td>\n",
              "      <td>university</td>\n",
              "      <td>single</td>\n",
              "    </tr>\n",
              "    <tr>\n",
              "      <th>2</th>\n",
              "      <td>Female</td>\n",
              "      <td>university</td>\n",
              "      <td>single</td>\n",
              "    </tr>\n",
              "    <tr>\n",
              "      <th>3</th>\n",
              "      <td>Female</td>\n",
              "      <td>university</td>\n",
              "      <td>married</td>\n",
              "    </tr>\n",
              "    <tr>\n",
              "      <th>4</th>\n",
              "      <td>Male</td>\n",
              "      <td>university</td>\n",
              "      <td>married</td>\n",
              "    </tr>\n",
              "  </tbody>\n",
              "</table>\n",
              "</div>"
            ],
            "text/plain": [
              "      SEX   EDUCATION MARRIAGE\n",
              "0  Female  university  married\n",
              "1  Female  university   single\n",
              "2  Female  university   single\n",
              "3  Female  university  married\n",
              "4    Male  university  married"
            ]
          },
          "metadata": {},
          "execution_count": 25
        }
      ]
    },
    {
      "cell_type": "code",
      "metadata": {
        "colab": {
          "base_uri": "https://localhost:8080/",
          "height": 0
        },
        "id": "QwGNkNo7vXjJ",
        "outputId": "5ec8ae2d-d906-4e0c-a011-e89a480d0fc1"
      },
      "source": [
        "for column_name in df_cat.columns:\n",
        "  plt.figure(figsize=(10,8),dpi=60)\n",
        "  sns.countplot(x=column_name,data=df_cat,hue=df['Defaulters'],palette=[\"green\",'orange'])\n",
        "  plt.show()"
      ],
      "execution_count": 26,
      "outputs": [
        {
          "output_type": "display_data",
          "data": {
            "image/png": "[encoded data removed]",
            "text/plain": [
              "<Figure size 600x480 with 1 Axes>"
            ]
          },
          "metadata": {
            "needs_background": "light"
          }
        },
        {
          "output_type": "display_data",
          "data": {
            "image/png": "[encoded data removed]",
            "text/plain": [
              "<Figure size 600x480 with 1 Axes>"
            ]
          },
          "metadata": {
            "needs_background": "light"
          }
        },
        {
          "output_type": "display_data",
          "data": {
            "image/png": "[encoded data removed]",
            "text/plain": [
              "<Figure size 600x480 with 1 Axes>"
            ]
          },
          "metadata": {
            "needs_background": "light"
          }
        }
      ]
    },
    {
      "cell_type": "code",
      "metadata": {
        "colab": {
          "base_uri": "https://localhost:8080/"
        },
        "id": "99LED1Jkxqbr",
        "outputId": "effebe54-4bda-4457-8225-b69eac3431e4"
      },
      "source": [
        "#checking value counts of categorical_features\n",
        "for column_name in df_cat.columns:\n",
        "  print(f'count of {column_name} features')\n",
        "  print(f'\\n{df_cat[column_name].value_counts()}\\n')"
      ],
      "execution_count": 27,
      "outputs": [
        {
          "output_type": "stream",
          "name": "stdout",
          "text": [
            "count of SEX features\n",
            "\n",
            "Female    18112\n",
            "Male      11888\n",
            "Name: SEX, dtype: int64\n",
            "\n",
            "count of EDUCATION features\n",
            "\n",
            "university         14030\n",
            "graduate school    10585\n",
            "high school         4917\n",
            "other                468\n",
            "Name: EDUCATION, dtype: int64\n",
            "\n",
            "count of MARRIAGE features\n",
            "\n",
            "single     15964\n",
            "married    13659\n",
            "others       377\n",
            "Name: MARRIAGE, dtype: int64\n",
            "\n"
          ]
        }
      ]
    },
    {
      "cell_type": "code",
      "metadata": {
        "id": "H8mRCUDq0nUs"
      },
      "source": [
        "df_cat['Defaulter'] = df['Defaulters']"
      ],
      "execution_count": 28,
      "outputs": []
    },
    {
      "cell_type": "code",
      "metadata": {
        "colab": {
          "base_uri": "https://localhost:8080/",
          "height": 0
        },
        "id": "ihBtVbeP1Aeb",
        "outputId": "fea197af-fe0e-4f23-f9fb-4acc7b02e53c"
      },
      "source": [
        "df_cat.head()"
      ],
      "execution_count": 29,
      "outputs": [
        {
          "output_type": "execute_result",
          "data": {
            "text/html": [
              "<div>\n",
              "<style scoped>\n",
              "    .dataframe tbody tr th:only-of-type {\n",
              "        vertical-align: middle;\n",
              "    }\n",
              "\n",
              "    .dataframe tbody tr th {\n",
              "        vertical-align: top;\n",
              "    }\n",
              "\n",
              "    .dataframe thead th {\n",
              "        text-align: right;\n",
              "    }\n",
              "</style>\n",
              "<table border=\"1\" class=\"dataframe\">\n",
              "  <thead>\n",
              "    <tr style=\"text-align: right;\">\n",
              "      <th></th>\n",
              "      <th>SEX</th>\n",
              "      <th>EDUCATION</th>\n",
              "      <th>MARRIAGE</th>\n",
              "      <th>Defaulter</th>\n",
              "    </tr>\n",
              "  </thead>\n",
              "  <tbody>\n",
              "    <tr>\n",
              "      <th>0</th>\n",
              "      <td>Female</td>\n",
              "      <td>university</td>\n",
              "      <td>married</td>\n",
              "      <td>1</td>\n",
              "    </tr>\n",
              "    <tr>\n",
              "      <th>1</th>\n",
              "      <td>Female</td>\n",
              "      <td>university</td>\n",
              "      <td>single</td>\n",
              "      <td>1</td>\n",
              "    </tr>\n",
              "    <tr>\n",
              "      <th>2</th>\n",
              "      <td>Female</td>\n",
              "      <td>university</td>\n",
              "      <td>single</td>\n",
              "      <td>0</td>\n",
              "    </tr>\n",
              "    <tr>\n",
              "      <th>3</th>\n",
              "      <td>Female</td>\n",
              "      <td>university</td>\n",
              "      <td>married</td>\n",
              "      <td>0</td>\n",
              "    </tr>\n",
              "    <tr>\n",
              "      <th>4</th>\n",
              "      <td>Male</td>\n",
              "      <td>university</td>\n",
              "      <td>married</td>\n",
              "      <td>0</td>\n",
              "    </tr>\n",
              "  </tbody>\n",
              "</table>\n",
              "</div>"
            ],
            "text/plain": [
              "      SEX   EDUCATION MARRIAGE  Defaulter\n",
              "0  Female  university  married          1\n",
              "1  Female  university   single          1\n",
              "2  Female  university   single          0\n",
              "3  Female  university  married          0\n",
              "4    Male  university  married          0"
            ]
          },
          "metadata": {},
          "execution_count": 29
        }
      ]
    },
    {
      "cell_type": "code",
      "metadata": {
        "colab": {
          "base_uri": "https://localhost:8080/"
        },
        "id": "NS5kqUhO8SLt",
        "outputId": "d4c35f1f-ea25-45a4-abf6-ee008c9e850e"
      },
      "source": [
        "#checking the defaulter ratio of categories\n",
        "for column_name in df_cat.columns[:-1]:\n",
        "  print(df_cat[['Defaulter',column_name]].groupby(column_name).mean().reset_index())"
      ],
      "execution_count": 30,
      "outputs": [
        {
          "output_type": "stream",
          "name": "stdout",
          "text": [
            "      SEX  Defaulter\n",
            "0  Female   0.207763\n",
            "1    Male   0.241672\n",
            "         EDUCATION  Defaulter\n",
            "0  graduate school   0.192348\n",
            "1      high school   0.251576\n",
            "2            other   0.070513\n",
            "3       university   0.237349\n",
            "  MARRIAGE  Defaulter\n",
            "0  married   0.234717\n",
            "1   others   0.236074\n",
            "2   single   0.209283\n"
          ]
        }
      ]
    },
    {
      "cell_type": "markdown",
      "metadata": {
        "id": "cnIzuYgd4k7e"
      },
      "source": [
        "### observation\n",
        "for Sex feature:\n",
        "  - we can see that  number of females are more than the males\n",
        "  - but the default ratio of male is quite higher than female\n",
        "\n",
        "for Education feature:\n",
        "  - university and High School pesons are more likely to be defaulter in comparison with  the graduate school persons.\n",
        "\n",
        "for Marriage feature:\n",
        "  - people who are not married nor single are more likely to make default of bills in comparison with single and married person"
      ]
    },
    {
      "cell_type": "code",
      "metadata": {
        "colab": {
          "base_uri": "https://localhost:8080/"
        },
        "id": "BV7lj4-JAIvb",
        "outputId": "fa1e455b-0677-4f24-de8f-950dbd1bf025"
      },
      "source": [
        "df['AGE'].describe()"
      ],
      "execution_count": 31,
      "outputs": [
        {
          "output_type": "execute_result",
          "data": {
            "text/plain": [
              "count    30000.000000\n",
              "mean        35.485500\n",
              "std          9.217904\n",
              "min         21.000000\n",
              "25%         28.000000\n",
              "50%         34.000000\n",
              "75%         41.000000\n",
              "max         79.000000\n",
              "Name: AGE, dtype: float64"
            ]
          },
          "metadata": {},
          "execution_count": 31
        }
      ]
    },
    {
      "cell_type": "markdown",
      "metadata": {
        "id": "_rBDqiHHAPeU"
      },
      "source": [
        "### observation\n",
        "- we can see here min age is 21 and maximum age is 79 in our dataset"
      ]
    },
    {
      "cell_type": "code",
      "metadata": {
        "id": "5XxRI8_u69-2"
      },
      "source": [
        "# creating function to create the cohort for age group\n",
        "def age_cohort(age):\n",
        "  if age in range(21,31) : # starting from 21 because minimum age is 21 in our dataset\n",
        "    return '21-30'\n",
        "  elif age in range(31,41) :\n",
        "    return '31-40'\n",
        "  elif age in range(41,51) :\n",
        "    return '41-50'\n",
        "  elif age in range(51,61) :\n",
        "    return '51-60'\n",
        "  else:\n",
        "    return '60 & above'"
      ],
      "execution_count": 32,
      "outputs": []
    },
    {
      "cell_type": "code",
      "metadata": {
        "id": "S-7-AClGA1n7"
      },
      "source": [
        "#creating age_group column in our data set\n",
        "df['age_group']=df['AGE'].apply(lambda x: age_cohort(x))"
      ],
      "execution_count": 33,
      "outputs": []
    },
    {
      "cell_type": "code",
      "metadata": {
        "colab": {
          "base_uri": "https://localhost:8080/",
          "height": 0
        },
        "id": "s7eG7FL0Gy4U",
        "outputId": "04206734-0335-4a34-c201-9a97df793fdd"
      },
      "source": [
        "df.head()"
      ],
      "execution_count": 34,
      "outputs": [
        {
          "output_type": "execute_result",
          "data": {
            "text/html": [
              "<div>\n",
              "<style scoped>\n",
              "    .dataframe tbody tr th:only-of-type {\n",
              "        vertical-align: middle;\n",
              "    }\n",
              "\n",
              "    .dataframe tbody tr th {\n",
              "        vertical-align: top;\n",
              "    }\n",
              "\n",
              "    .dataframe thead th {\n",
              "        text-align: right;\n",
              "    }\n",
              "</style>\n",
              "<table border=\"1\" class=\"dataframe\">\n",
              "  <thead>\n",
              "    <tr style=\"text-align: right;\">\n",
              "      <th></th>\n",
              "      <th>LIMIT_BAL</th>\n",
              "      <th>SEX</th>\n",
              "      <th>EDUCATION</th>\n",
              "      <th>MARRIAGE</th>\n",
              "      <th>AGE</th>\n",
              "      <th>PAY_SEPT</th>\n",
              "      <th>PAY_AUG</th>\n",
              "      <th>PAY_JUL</th>\n",
              "      <th>PAY_JUN</th>\n",
              "      <th>PAY_MAY</th>\n",
              "      <th>PAY_APR</th>\n",
              "      <th>BILL_AMT_SEPT</th>\n",
              "      <th>BILL_AMT_AUG</th>\n",
              "      <th>BILL_AMT_JUL</th>\n",
              "      <th>BILL_AMT_JUN</th>\n",
              "      <th>BILL_AMT_MAY</th>\n",
              "      <th>BILL_AMT_APR</th>\n",
              "      <th>PAY_AMT_SEPT</th>\n",
              "      <th>PAY_AMT_AUG</th>\n",
              "      <th>PAY_AMT_JUL</th>\n",
              "      <th>PAY_AMT_JUN</th>\n",
              "      <th>PAY_AMT_MAY</th>\n",
              "      <th>PAY_AMT_APR</th>\n",
              "      <th>Defaulters</th>\n",
              "      <th>age_group</th>\n",
              "    </tr>\n",
              "  </thead>\n",
              "  <tbody>\n",
              "    <tr>\n",
              "      <th>0</th>\n",
              "      <td>20000</td>\n",
              "      <td>2</td>\n",
              "      <td>2</td>\n",
              "      <td>1</td>\n",
              "      <td>24</td>\n",
              "      <td>2</td>\n",
              "      <td>2</td>\n",
              "      <td>-1</td>\n",
              "      <td>-1</td>\n",
              "      <td>-2</td>\n",
              "      <td>-2</td>\n",
              "      <td>3913</td>\n",
              "      <td>3102</td>\n",
              "      <td>689</td>\n",
              "      <td>0</td>\n",
              "      <td>0</td>\n",
              "      <td>0</td>\n",
              "      <td>0</td>\n",
              "      <td>689</td>\n",
              "      <td>0</td>\n",
              "      <td>0</td>\n",
              "      <td>0</td>\n",
              "      <td>0</td>\n",
              "      <td>1</td>\n",
              "      <td>21-30</td>\n",
              "    </tr>\n",
              "    <tr>\n",
              "      <th>1</th>\n",
              "      <td>120000</td>\n",
              "      <td>2</td>\n",
              "      <td>2</td>\n",
              "      <td>2</td>\n",
              "      <td>26</td>\n",
              "      <td>-1</td>\n",
              "      <td>2</td>\n",
              "      <td>0</td>\n",
              "      <td>0</td>\n",
              "      <td>0</td>\n",
              "      <td>2</td>\n",
              "      <td>2682</td>\n",
              "      <td>1725</td>\n",
              "      <td>2682</td>\n",
              "      <td>3272</td>\n",
              "      <td>3455</td>\n",
              "      <td>3261</td>\n",
              "      <td>0</td>\n",
              "      <td>1000</td>\n",
              "      <td>1000</td>\n",
              "      <td>1000</td>\n",
              "      <td>0</td>\n",
              "      <td>2000</td>\n",
              "      <td>1</td>\n",
              "      <td>21-30</td>\n",
              "    </tr>\n",
              "    <tr>\n",
              "      <th>2</th>\n",
              "      <td>90000</td>\n",
              "      <td>2</td>\n",
              "      <td>2</td>\n",
              "      <td>2</td>\n",
              "      <td>34</td>\n",
              "      <td>0</td>\n",
              "      <td>0</td>\n",
              "      <td>0</td>\n",
              "      <td>0</td>\n",
              "      <td>0</td>\n",
              "      <td>0</td>\n",
              "      <td>29239</td>\n",
              "      <td>14027</td>\n",
              "      <td>13559</td>\n",
              "      <td>14331</td>\n",
              "      <td>14948</td>\n",
              "      <td>15549</td>\n",
              "      <td>1518</td>\n",
              "      <td>1500</td>\n",
              "      <td>1000</td>\n",
              "      <td>1000</td>\n",
              "      <td>1000</td>\n",
              "      <td>5000</td>\n",
              "      <td>0</td>\n",
              "      <td>31-40</td>\n",
              "    </tr>\n",
              "    <tr>\n",
              "      <th>3</th>\n",
              "      <td>50000</td>\n",
              "      <td>2</td>\n",
              "      <td>2</td>\n",
              "      <td>1</td>\n",
              "      <td>37</td>\n",
              "      <td>0</td>\n",
              "      <td>0</td>\n",
              "      <td>0</td>\n",
              "      <td>0</td>\n",
              "      <td>0</td>\n",
              "      <td>0</td>\n",
              "      <td>46990</td>\n",
              "      <td>48233</td>\n",
              "      <td>49291</td>\n",
              "      <td>28314</td>\n",
              "      <td>28959</td>\n",
              "      <td>29547</td>\n",
              "      <td>2000</td>\n",
              "      <td>2019</td>\n",
              "      <td>1200</td>\n",
              "      <td>1100</td>\n",
              "      <td>1069</td>\n",
              "      <td>1000</td>\n",
              "      <td>0</td>\n",
              "      <td>31-40</td>\n",
              "    </tr>\n",
              "    <tr>\n",
              "      <th>4</th>\n",
              "      <td>50000</td>\n",
              "      <td>1</td>\n",
              "      <td>2</td>\n",
              "      <td>1</td>\n",
              "      <td>57</td>\n",
              "      <td>-1</td>\n",
              "      <td>0</td>\n",
              "      <td>-1</td>\n",
              "      <td>0</td>\n",
              "      <td>0</td>\n",
              "      <td>0</td>\n",
              "      <td>8617</td>\n",
              "      <td>5670</td>\n",
              "      <td>35835</td>\n",
              "      <td>20940</td>\n",
              "      <td>19146</td>\n",
              "      <td>19131</td>\n",
              "      <td>2000</td>\n",
              "      <td>36681</td>\n",
              "      <td>10000</td>\n",
              "      <td>9000</td>\n",
              "      <td>689</td>\n",
              "      <td>679</td>\n",
              "      <td>0</td>\n",
              "      <td>51-60</td>\n",
              "    </tr>\n",
              "  </tbody>\n",
              "</table>\n",
              "</div>"
            ],
            "text/plain": [
              "   LIMIT_BAL  SEX  EDUCATION  ...  PAY_AMT_APR  Defaulters  age_group\n",
              "0      20000    2          2  ...            0           1      21-30\n",
              "1     120000    2          2  ...         2000           1      21-30\n",
              "2      90000    2          2  ...         5000           0      31-40\n",
              "3      50000    2          2  ...         1000           0      31-40\n",
              "4      50000    1          2  ...          679           0      51-60\n",
              "\n",
              "[5 rows x 25 columns]"
            ]
          },
          "metadata": {},
          "execution_count": 34
        }
      ]
    },
    {
      "cell_type": "code",
      "metadata": {
        "colab": {
          "base_uri": "https://localhost:8080/"
        },
        "id": "UziXW9RfBMgD",
        "outputId": "e722cd25-c087-4c20-845e-ad8d7af34d2b"
      },
      "source": [
        "df['age_group'].value_counts().sort_values(ascending=False)"
      ],
      "execution_count": 35,
      "outputs": [
        {
          "output_type": "execute_result",
          "data": {
            "text/plain": [
              "21-30         11013\n",
              "31-40         10713\n",
              "41-50          6005\n",
              "51-60          1997\n",
              "60 & above      272\n",
              "Name: age_group, dtype: int64"
            ]
          },
          "metadata": {},
          "execution_count": 35
        }
      ]
    },
    {
      "cell_type": "code",
      "metadata": {
        "colab": {
          "base_uri": "https://localhost:8080/",
          "height": 0
        },
        "id": "2nExov8lBtTL",
        "outputId": "80f87a5e-f0f5-4084-994e-c2b173f53961"
      },
      "source": [
        "#visualizing age group\n",
        "plt.figure(figsize=(10,8),dpi=60)\n",
        "sns.countplot(x=df['age_group'].sort_values(),data=df,hue='Defaulters')"
      ],
      "execution_count": 36,
      "outputs": [
        {
          "output_type": "execute_result",
          "data": {
            "text/plain": [
              "<matplotlib.axes._subplots.AxesSubplot at 0x7f772fc00850>"
            ]
          },
          "metadata": {},
          "execution_count": 36
        },
        {
          "output_type": "display_data",
          "data": {
            "image/png": "[encoded data removed]",
            "text/plain": [
              "<Figure size 600x480 with 1 Axes>"
            ]
          },
          "metadata": {
            "needs_background": "light"
          }
        }
      ]
    },
    {
      "cell_type": "markdown",
      "metadata": {
        "id": "1AKfNZs_FVJr"
      },
      "source": [
        "### obsevation:\n",
        "- In aur dataset we can clearly see that most of the credit card holder are of age between 21 to 40 , so we can say that company's target customer are mostly youngster.\n"
      ]
    },
    {
      "cell_type": "code",
      "metadata": {
        "colab": {
          "base_uri": "https://localhost:8080/",
          "height": 0
        },
        "id": "LHk4YbDgEjEb",
        "outputId": "9741edd5-1ce4-40ec-aebf-c4b30d16b8d4"
      },
      "source": [
        "#checking the dedfault ratio of age_group\n",
        "df[['Defaulters','age_group']].groupby('age_group').mean().reset_index()"
      ],
      "execution_count": 37,
      "outputs": [
        {
          "output_type": "execute_result",
          "data": {
            "text/html": [
              "<div>\n",
              "<style scoped>\n",
              "    .dataframe tbody tr th:only-of-type {\n",
              "        vertical-align: middle;\n",
              "    }\n",
              "\n",
              "    .dataframe tbody tr th {\n",
              "        vertical-align: top;\n",
              "    }\n",
              "\n",
              "    .dataframe thead th {\n",
              "        text-align: right;\n",
              "    }\n",
              "</style>\n",
              "<table border=\"1\" class=\"dataframe\">\n",
              "  <thead>\n",
              "    <tr style=\"text-align: right;\">\n",
              "      <th></th>\n",
              "      <th>age_group</th>\n",
              "      <th>Defaulters</th>\n",
              "    </tr>\n",
              "  </thead>\n",
              "  <tbody>\n",
              "    <tr>\n",
              "      <th>0</th>\n",
              "      <td>21-30</td>\n",
              "      <td>0.224371</td>\n",
              "    </tr>\n",
              "    <tr>\n",
              "      <th>1</th>\n",
              "      <td>31-40</td>\n",
              "      <td>0.204331</td>\n",
              "    </tr>\n",
              "    <tr>\n",
              "      <th>2</th>\n",
              "      <td>41-50</td>\n",
              "      <td>0.232973</td>\n",
              "    </tr>\n",
              "    <tr>\n",
              "      <th>3</th>\n",
              "      <td>51-60</td>\n",
              "      <td>0.252379</td>\n",
              "    </tr>\n",
              "    <tr>\n",
              "      <th>4</th>\n",
              "      <td>60 &amp; above</td>\n",
              "      <td>0.268382</td>\n",
              "    </tr>\n",
              "  </tbody>\n",
              "</table>\n",
              "</div>"
            ],
            "text/plain": [
              "    age_group  Defaulters\n",
              "0       21-30    0.224371\n",
              "1       31-40    0.204331\n",
              "2       41-50    0.232973\n",
              "3       51-60    0.252379\n",
              "4  60 & above    0.268382"
            ]
          },
          "metadata": {},
          "execution_count": 37
        }
      ]
    },
    {
      "cell_type": "markdown",
      "metadata": {
        "id": "tvHAY0CrI2EM"
      },
      "source": [
        "### observation\n",
        "- we can clearly see that as the age incearse , chances of the default increase as higher age persons has more default ratio."
      ]
    },
    {
      "cell_type": "code",
      "metadata": {
        "id": "U3tLyrq3C9UL"
      },
      "source": [
        "# drop age column because now we have age_group in our dataset\n",
        "df=df.drop('AGE',axis=1)"
      ],
      "execution_count": 38,
      "outputs": []
    },
    {
      "cell_type": "code",
      "metadata": {
        "colab": {
          "base_uri": "https://localhost:8080/",
          "height": 0
        },
        "id": "vplQSXQPJ-9g",
        "outputId": "2d452d71-4b09-4ac6-8ebe-e045a8f5d240"
      },
      "source": [
        "df.head()"
      ],
      "execution_count": 39,
      "outputs": [
        {
          "output_type": "execute_result",
          "data": {
            "text/html": [
              "<div>\n",
              "<style scoped>\n",
              "    .dataframe tbody tr th:only-of-type {\n",
              "        vertical-align: middle;\n",
              "    }\n",
              "\n",
              "    .dataframe tbody tr th {\n",
              "        vertical-align: top;\n",
              "    }\n",
              "\n",
              "    .dataframe thead th {\n",
              "        text-align: right;\n",
              "    }\n",
              "</style>\n",
              "<table border=\"1\" class=\"dataframe\">\n",
              "  <thead>\n",
              "    <tr style=\"text-align: right;\">\n",
              "      <th></th>\n",
              "      <th>LIMIT_BAL</th>\n",
              "      <th>SEX</th>\n",
              "      <th>EDUCATION</th>\n",
              "      <th>MARRIAGE</th>\n",
              "      <th>PAY_SEPT</th>\n",
              "      <th>PAY_AUG</th>\n",
              "      <th>PAY_JUL</th>\n",
              "      <th>PAY_JUN</th>\n",
              "      <th>PAY_MAY</th>\n",
              "      <th>PAY_APR</th>\n",
              "      <th>BILL_AMT_SEPT</th>\n",
              "      <th>BILL_AMT_AUG</th>\n",
              "      <th>BILL_AMT_JUL</th>\n",
              "      <th>BILL_AMT_JUN</th>\n",
              "      <th>BILL_AMT_MAY</th>\n",
              "      <th>BILL_AMT_APR</th>\n",
              "      <th>PAY_AMT_SEPT</th>\n",
              "      <th>PAY_AMT_AUG</th>\n",
              "      <th>PAY_AMT_JUL</th>\n",
              "      <th>PAY_AMT_JUN</th>\n",
              "      <th>PAY_AMT_MAY</th>\n",
              "      <th>PAY_AMT_APR</th>\n",
              "      <th>Defaulters</th>\n",
              "      <th>age_group</th>\n",
              "    </tr>\n",
              "  </thead>\n",
              "  <tbody>\n",
              "    <tr>\n",
              "      <th>0</th>\n",
              "      <td>20000</td>\n",
              "      <td>2</td>\n",
              "      <td>2</td>\n",
              "      <td>1</td>\n",
              "      <td>2</td>\n",
              "      <td>2</td>\n",
              "      <td>-1</td>\n",
              "      <td>-1</td>\n",
              "      <td>-2</td>\n",
              "      <td>-2</td>\n",
              "      <td>3913</td>\n",
              "      <td>3102</td>\n",
              "      <td>689</td>\n",
              "      <td>0</td>\n",
              "      <td>0</td>\n",
              "      <td>0</td>\n",
              "      <td>0</td>\n",
              "      <td>689</td>\n",
              "      <td>0</td>\n",
              "      <td>0</td>\n",
              "      <td>0</td>\n",
              "      <td>0</td>\n",
              "      <td>1</td>\n",
              "      <td>21-30</td>\n",
              "    </tr>\n",
              "    <tr>\n",
              "      <th>1</th>\n",
              "      <td>120000</td>\n",
              "      <td>2</td>\n",
              "      <td>2</td>\n",
              "      <td>2</td>\n",
              "      <td>-1</td>\n",
              "      <td>2</td>\n",
              "      <td>0</td>\n",
              "      <td>0</td>\n",
              "      <td>0</td>\n",
              "      <td>2</td>\n",
              "      <td>2682</td>\n",
              "      <td>1725</td>\n",
              "      <td>2682</td>\n",
              "      <td>3272</td>\n",
              "      <td>3455</td>\n",
              "      <td>3261</td>\n",
              "      <td>0</td>\n",
              "      <td>1000</td>\n",
              "      <td>1000</td>\n",
              "      <td>1000</td>\n",
              "      <td>0</td>\n",
              "      <td>2000</td>\n",
              "      <td>1</td>\n",
              "      <td>21-30</td>\n",
              "    </tr>\n",
              "    <tr>\n",
              "      <th>2</th>\n",
              "      <td>90000</td>\n",
              "      <td>2</td>\n",
              "      <td>2</td>\n",
              "      <td>2</td>\n",
              "      <td>0</td>\n",
              "      <td>0</td>\n",
              "      <td>0</td>\n",
              "      <td>0</td>\n",
              "      <td>0</td>\n",
              "      <td>0</td>\n",
              "      <td>29239</td>\n",
              "      <td>14027</td>\n",
              "      <td>13559</td>\n",
              "      <td>14331</td>\n",
              "      <td>14948</td>\n",
              "      <td>15549</td>\n",
              "      <td>1518</td>\n",
              "      <td>1500</td>\n",
              "      <td>1000</td>\n",
              "      <td>1000</td>\n",
              "      <td>1000</td>\n",
              "      <td>5000</td>\n",
              "      <td>0</td>\n",
              "      <td>31-40</td>\n",
              "    </tr>\n",
              "    <tr>\n",
              "      <th>3</th>\n",
              "      <td>50000</td>\n",
              "      <td>2</td>\n",
              "      <td>2</td>\n",
              "      <td>1</td>\n",
              "      <td>0</td>\n",
              "      <td>0</td>\n",
              "      <td>0</td>\n",
              "      <td>0</td>\n",
              "      <td>0</td>\n",
              "      <td>0</td>\n",
              "      <td>46990</td>\n",
              "      <td>48233</td>\n",
              "      <td>49291</td>\n",
              "      <td>28314</td>\n",
              "      <td>28959</td>\n",
              "      <td>29547</td>\n",
              "      <td>2000</td>\n",
              "      <td>2019</td>\n",
              "      <td>1200</td>\n",
              "      <td>1100</td>\n",
              "      <td>1069</td>\n",
              "      <td>1000</td>\n",
              "      <td>0</td>\n",
              "      <td>31-40</td>\n",
              "    </tr>\n",
              "    <tr>\n",
              "      <th>4</th>\n",
              "      <td>50000</td>\n",
              "      <td>1</td>\n",
              "      <td>2</td>\n",
              "      <td>1</td>\n",
              "      <td>-1</td>\n",
              "      <td>0</td>\n",
              "      <td>-1</td>\n",
              "      <td>0</td>\n",
              "      <td>0</td>\n",
              "      <td>0</td>\n",
              "      <td>8617</td>\n",
              "      <td>5670</td>\n",
              "      <td>35835</td>\n",
              "      <td>20940</td>\n",
              "      <td>19146</td>\n",
              "      <td>19131</td>\n",
              "      <td>2000</td>\n",
              "      <td>36681</td>\n",
              "      <td>10000</td>\n",
              "      <td>9000</td>\n",
              "      <td>689</td>\n",
              "      <td>679</td>\n",
              "      <td>0</td>\n",
              "      <td>51-60</td>\n",
              "    </tr>\n",
              "  </tbody>\n",
              "</table>\n",
              "</div>"
            ],
            "text/plain": [
              "   LIMIT_BAL  SEX  EDUCATION  ...  PAY_AMT_APR  Defaulters  age_group\n",
              "0      20000    2          2  ...            0           1      21-30\n",
              "1     120000    2          2  ...         2000           1      21-30\n",
              "2      90000    2          2  ...         5000           0      31-40\n",
              "3      50000    2          2  ...         1000           0      31-40\n",
              "4      50000    1          2  ...          679           0      51-60\n",
              "\n",
              "[5 rows x 24 columns]"
            ]
          },
          "metadata": {},
          "execution_count": 39
        }
      ]
    },
    {
      "cell_type": "code",
      "metadata": {
        "colab": {
          "base_uri": "https://localhost:8080/",
          "height": 0
        },
        "id": "9sxlZV7xoguV",
        "outputId": "1820acfb-6d51-43fc-f316-c08f3893819e"
      },
      "source": [
        "# Payment delay description\n",
        "df[['PAY_SEPT','PAY_AUG','PAY_JUL','PAY_JUN','PAY_MAY','PAY_APR']].describe()"
      ],
      "execution_count": 40,
      "outputs": [
        {
          "output_type": "execute_result",
          "data": {
            "text/html": [
              "<div>\n",
              "<style scoped>\n",
              "    .dataframe tbody tr th:only-of-type {\n",
              "        vertical-align: middle;\n",
              "    }\n",
              "\n",
              "    .dataframe tbody tr th {\n",
              "        vertical-align: top;\n",
              "    }\n",
              "\n",
              "    .dataframe thead th {\n",
              "        text-align: right;\n",
              "    }\n",
              "</style>\n",
              "<table border=\"1\" class=\"dataframe\">\n",
              "  <thead>\n",
              "    <tr style=\"text-align: right;\">\n",
              "      <th></th>\n",
              "      <th>PAY_SEPT</th>\n",
              "      <th>PAY_AUG</th>\n",
              "      <th>PAY_JUL</th>\n",
              "      <th>PAY_JUN</th>\n",
              "      <th>PAY_MAY</th>\n",
              "      <th>PAY_APR</th>\n",
              "    </tr>\n",
              "  </thead>\n",
              "  <tbody>\n",
              "    <tr>\n",
              "      <th>count</th>\n",
              "      <td>30000.000000</td>\n",
              "      <td>30000.000000</td>\n",
              "      <td>30000.000000</td>\n",
              "      <td>30000.000000</td>\n",
              "      <td>30000.000000</td>\n",
              "      <td>30000.000000</td>\n",
              "    </tr>\n",
              "    <tr>\n",
              "      <th>mean</th>\n",
              "      <td>-0.016700</td>\n",
              "      <td>-0.133767</td>\n",
              "      <td>-0.166200</td>\n",
              "      <td>-0.220667</td>\n",
              "      <td>-0.266200</td>\n",
              "      <td>-0.291100</td>\n",
              "    </tr>\n",
              "    <tr>\n",
              "      <th>std</th>\n",
              "      <td>1.123802</td>\n",
              "      <td>1.197186</td>\n",
              "      <td>1.196868</td>\n",
              "      <td>1.169139</td>\n",
              "      <td>1.133187</td>\n",
              "      <td>1.149988</td>\n",
              "    </tr>\n",
              "    <tr>\n",
              "      <th>min</th>\n",
              "      <td>-2.000000</td>\n",
              "      <td>-2.000000</td>\n",
              "      <td>-2.000000</td>\n",
              "      <td>-2.000000</td>\n",
              "      <td>-2.000000</td>\n",
              "      <td>-2.000000</td>\n",
              "    </tr>\n",
              "    <tr>\n",
              "      <th>25%</th>\n",
              "      <td>-1.000000</td>\n",
              "      <td>-1.000000</td>\n",
              "      <td>-1.000000</td>\n",
              "      <td>-1.000000</td>\n",
              "      <td>-1.000000</td>\n",
              "      <td>-1.000000</td>\n",
              "    </tr>\n",
              "    <tr>\n",
              "      <th>50%</th>\n",
              "      <td>0.000000</td>\n",
              "      <td>0.000000</td>\n",
              "      <td>0.000000</td>\n",
              "      <td>0.000000</td>\n",
              "      <td>0.000000</td>\n",
              "      <td>0.000000</td>\n",
              "    </tr>\n",
              "    <tr>\n",
              "      <th>75%</th>\n",
              "      <td>0.000000</td>\n",
              "      <td>0.000000</td>\n",
              "      <td>0.000000</td>\n",
              "      <td>0.000000</td>\n",
              "      <td>0.000000</td>\n",
              "      <td>0.000000</td>\n",
              "    </tr>\n",
              "    <tr>\n",
              "      <th>max</th>\n",
              "      <td>8.000000</td>\n",
              "      <td>8.000000</td>\n",
              "      <td>8.000000</td>\n",
              "      <td>8.000000</td>\n",
              "      <td>8.000000</td>\n",
              "      <td>8.000000</td>\n",
              "    </tr>\n",
              "  </tbody>\n",
              "</table>\n",
              "</div>"
            ],
            "text/plain": [
              "           PAY_SEPT       PAY_AUG  ...       PAY_MAY       PAY_APR\n",
              "count  30000.000000  30000.000000  ...  30000.000000  30000.000000\n",
              "mean      -0.016700     -0.133767  ...     -0.266200     -0.291100\n",
              "std        1.123802      1.197186  ...      1.133187      1.149988\n",
              "min       -2.000000     -2.000000  ...     -2.000000     -2.000000\n",
              "25%       -1.000000     -1.000000  ...     -1.000000     -1.000000\n",
              "50%        0.000000      0.000000  ...      0.000000      0.000000\n",
              "75%        0.000000      0.000000  ...      0.000000      0.000000\n",
              "max        8.000000      8.000000  ...      8.000000      8.000000\n",
              "\n",
              "[8 rows x 6 columns]"
            ]
          },
          "metadata": {},
          "execution_count": 40
        }
      ]
    },
    {
      "cell_type": "code",
      "metadata": {
        "id": "Qdx0rUh1KAmh",
        "colab": {
          "base_uri": "https://localhost:8080/",
          "height": 0
        },
        "outputId": "a41b2e1b-7c0a-4c0c-e803-f532d98193c4"
      },
      "source": [
        "#Previous Payment Description\n",
        "df[['PAY_AMT_SEPT','PAY_AMT_AUG','PAY_AMT_JUL','PAY_AMT_JUN','PAY_AMT_MAY','PAY_AMT_APR']].describe()"
      ],
      "execution_count": 41,
      "outputs": [
        {
          "output_type": "execute_result",
          "data": {
            "text/html": [
              "<div>\n",
              "<style scoped>\n",
              "    .dataframe tbody tr th:only-of-type {\n",
              "        vertical-align: middle;\n",
              "    }\n",
              "\n",
              "    .dataframe tbody tr th {\n",
              "        vertical-align: top;\n",
              "    }\n",
              "\n",
              "    .dataframe thead th {\n",
              "        text-align: right;\n",
              "    }\n",
              "</style>\n",
              "<table border=\"1\" class=\"dataframe\">\n",
              "  <thead>\n",
              "    <tr style=\"text-align: right;\">\n",
              "      <th></th>\n",
              "      <th>PAY_AMT_SEPT</th>\n",
              "      <th>PAY_AMT_AUG</th>\n",
              "      <th>PAY_AMT_JUL</th>\n",
              "      <th>PAY_AMT_JUN</th>\n",
              "      <th>PAY_AMT_MAY</th>\n",
              "      <th>PAY_AMT_APR</th>\n",
              "    </tr>\n",
              "  </thead>\n",
              "  <tbody>\n",
              "    <tr>\n",
              "      <th>count</th>\n",
              "      <td>30000.000000</td>\n",
              "      <td>3.000000e+04</td>\n",
              "      <td>30000.00000</td>\n",
              "      <td>30000.000000</td>\n",
              "      <td>30000.000000</td>\n",
              "      <td>30000.000000</td>\n",
              "    </tr>\n",
              "    <tr>\n",
              "      <th>mean</th>\n",
              "      <td>5663.580500</td>\n",
              "      <td>5.921163e+03</td>\n",
              "      <td>5225.68150</td>\n",
              "      <td>4826.076867</td>\n",
              "      <td>4799.387633</td>\n",
              "      <td>5215.502567</td>\n",
              "    </tr>\n",
              "    <tr>\n",
              "      <th>std</th>\n",
              "      <td>16563.280354</td>\n",
              "      <td>2.304087e+04</td>\n",
              "      <td>17606.96147</td>\n",
              "      <td>15666.159744</td>\n",
              "      <td>15278.305679</td>\n",
              "      <td>17777.465775</td>\n",
              "    </tr>\n",
              "    <tr>\n",
              "      <th>min</th>\n",
              "      <td>0.000000</td>\n",
              "      <td>0.000000e+00</td>\n",
              "      <td>0.00000</td>\n",
              "      <td>0.000000</td>\n",
              "      <td>0.000000</td>\n",
              "      <td>0.000000</td>\n",
              "    </tr>\n",
              "    <tr>\n",
              "      <th>25%</th>\n",
              "      <td>1000.000000</td>\n",
              "      <td>8.330000e+02</td>\n",
              "      <td>390.00000</td>\n",
              "      <td>296.000000</td>\n",
              "      <td>252.500000</td>\n",
              "      <td>117.750000</td>\n",
              "    </tr>\n",
              "    <tr>\n",
              "      <th>50%</th>\n",
              "      <td>2100.000000</td>\n",
              "      <td>2.009000e+03</td>\n",
              "      <td>1800.00000</td>\n",
              "      <td>1500.000000</td>\n",
              "      <td>1500.000000</td>\n",
              "      <td>1500.000000</td>\n",
              "    </tr>\n",
              "    <tr>\n",
              "      <th>75%</th>\n",
              "      <td>5006.000000</td>\n",
              "      <td>5.000000e+03</td>\n",
              "      <td>4505.00000</td>\n",
              "      <td>4013.250000</td>\n",
              "      <td>4031.500000</td>\n",
              "      <td>4000.000000</td>\n",
              "    </tr>\n",
              "    <tr>\n",
              "      <th>max</th>\n",
              "      <td>873552.000000</td>\n",
              "      <td>1.684259e+06</td>\n",
              "      <td>896040.00000</td>\n",
              "      <td>621000.000000</td>\n",
              "      <td>426529.000000</td>\n",
              "      <td>528666.000000</td>\n",
              "    </tr>\n",
              "  </tbody>\n",
              "</table>\n",
              "</div>"
            ],
            "text/plain": [
              "        PAY_AMT_SEPT   PAY_AMT_AUG  ...    PAY_AMT_MAY    PAY_AMT_APR\n",
              "count   30000.000000  3.000000e+04  ...   30000.000000   30000.000000\n",
              "mean     5663.580500  5.921163e+03  ...    4799.387633    5215.502567\n",
              "std     16563.280354  2.304087e+04  ...   15278.305679   17777.465775\n",
              "min         0.000000  0.000000e+00  ...       0.000000       0.000000\n",
              "25%      1000.000000  8.330000e+02  ...     252.500000     117.750000\n",
              "50%      2100.000000  2.009000e+03  ...    1500.000000    1500.000000\n",
              "75%      5006.000000  5.000000e+03  ...    4031.500000    4000.000000\n",
              "max    873552.000000  1.684259e+06  ...  426529.000000  528666.000000\n",
              "\n",
              "[8 rows x 6 columns]"
            ]
          },
          "metadata": {},
          "execution_count": 41
        }
      ]
    },
    {
      "cell_type": "code",
      "metadata": {
        "colab": {
          "base_uri": "https://localhost:8080/",
          "height": 0
        },
        "id": "KulPQ6k7sHpm",
        "outputId": "91a69841-9dee-4512-d4be-4a3a3f481cda"
      },
      "source": [
        "# Bill Statement description\n",
        "df[['BILL_AMT_SEPT','BILL_AMT_AUG','BILL_AMT_JUL','BILL_AMT_JUN','BILL_AMT_MAY','BILL_AMT_APR']].describe()"
      ],
      "execution_count": 42,
      "outputs": [
        {
          "output_type": "execute_result",
          "data": {
            "text/html": [
              "<div>\n",
              "<style scoped>\n",
              "    .dataframe tbody tr th:only-of-type {\n",
              "        vertical-align: middle;\n",
              "    }\n",
              "\n",
              "    .dataframe tbody tr th {\n",
              "        vertical-align: top;\n",
              "    }\n",
              "\n",
              "    .dataframe thead th {\n",
              "        text-align: right;\n",
              "    }\n",
              "</style>\n",
              "<table border=\"1\" class=\"dataframe\">\n",
              "  <thead>\n",
              "    <tr style=\"text-align: right;\">\n",
              "      <th></th>\n",
              "      <th>BILL_AMT_SEPT</th>\n",
              "      <th>BILL_AMT_AUG</th>\n",
              "      <th>BILL_AMT_JUL</th>\n",
              "      <th>BILL_AMT_JUN</th>\n",
              "      <th>BILL_AMT_MAY</th>\n",
              "      <th>BILL_AMT_APR</th>\n",
              "    </tr>\n",
              "  </thead>\n",
              "  <tbody>\n",
              "    <tr>\n",
              "      <th>count</th>\n",
              "      <td>30000.000000</td>\n",
              "      <td>30000.000000</td>\n",
              "      <td>3.000000e+04</td>\n",
              "      <td>30000.000000</td>\n",
              "      <td>30000.000000</td>\n",
              "      <td>30000.000000</td>\n",
              "    </tr>\n",
              "    <tr>\n",
              "      <th>mean</th>\n",
              "      <td>51223.330900</td>\n",
              "      <td>49179.075167</td>\n",
              "      <td>4.701315e+04</td>\n",
              "      <td>43262.948967</td>\n",
              "      <td>40311.400967</td>\n",
              "      <td>38871.760400</td>\n",
              "    </tr>\n",
              "    <tr>\n",
              "      <th>std</th>\n",
              "      <td>73635.860576</td>\n",
              "      <td>71173.768783</td>\n",
              "      <td>6.934939e+04</td>\n",
              "      <td>64332.856134</td>\n",
              "      <td>60797.155770</td>\n",
              "      <td>59554.107537</td>\n",
              "    </tr>\n",
              "    <tr>\n",
              "      <th>min</th>\n",
              "      <td>-165580.000000</td>\n",
              "      <td>-69777.000000</td>\n",
              "      <td>-1.572640e+05</td>\n",
              "      <td>-170000.000000</td>\n",
              "      <td>-81334.000000</td>\n",
              "      <td>-339603.000000</td>\n",
              "    </tr>\n",
              "    <tr>\n",
              "      <th>25%</th>\n",
              "      <td>3558.750000</td>\n",
              "      <td>2984.750000</td>\n",
              "      <td>2.666250e+03</td>\n",
              "      <td>2326.750000</td>\n",
              "      <td>1763.000000</td>\n",
              "      <td>1256.000000</td>\n",
              "    </tr>\n",
              "    <tr>\n",
              "      <th>50%</th>\n",
              "      <td>22381.500000</td>\n",
              "      <td>21200.000000</td>\n",
              "      <td>2.008850e+04</td>\n",
              "      <td>19052.000000</td>\n",
              "      <td>18104.500000</td>\n",
              "      <td>17071.000000</td>\n",
              "    </tr>\n",
              "    <tr>\n",
              "      <th>75%</th>\n",
              "      <td>67091.000000</td>\n",
              "      <td>64006.250000</td>\n",
              "      <td>6.016475e+04</td>\n",
              "      <td>54506.000000</td>\n",
              "      <td>50190.500000</td>\n",
              "      <td>49198.250000</td>\n",
              "    </tr>\n",
              "    <tr>\n",
              "      <th>max</th>\n",
              "      <td>964511.000000</td>\n",
              "      <td>983931.000000</td>\n",
              "      <td>1.664089e+06</td>\n",
              "      <td>891586.000000</td>\n",
              "      <td>927171.000000</td>\n",
              "      <td>961664.000000</td>\n",
              "    </tr>\n",
              "  </tbody>\n",
              "</table>\n",
              "</div>"
            ],
            "text/plain": [
              "       BILL_AMT_SEPT   BILL_AMT_AUG  ...   BILL_AMT_MAY   BILL_AMT_APR\n",
              "count   30000.000000   30000.000000  ...   30000.000000   30000.000000\n",
              "mean    51223.330900   49179.075167  ...   40311.400967   38871.760400\n",
              "std     73635.860576   71173.768783  ...   60797.155770   59554.107537\n",
              "min   -165580.000000  -69777.000000  ...  -81334.000000 -339603.000000\n",
              "25%      3558.750000    2984.750000  ...    1763.000000    1256.000000\n",
              "50%     22381.500000   21200.000000  ...   18104.500000   17071.000000\n",
              "75%     67091.000000   64006.250000  ...   50190.500000   49198.250000\n",
              "max    964511.000000  983931.000000  ...  927171.000000  961664.000000\n",
              "\n",
              "[8 rows x 6 columns]"
            ]
          },
          "metadata": {},
          "execution_count": 42
        }
      ]
    },
    {
      "cell_type": "code",
      "metadata": {
        "colab": {
          "base_uri": "https://localhost:8080/",
          "height": 0
        },
        "id": "s_tYwlml33Uk",
        "outputId": "1f9cf650-5010-4d56-9e9a-fe56a20d63e2"
      },
      "source": [
        "plt.figure(figsize=(10,10))\n",
        "sns.boxplot(x=\"Defaulters\", y=\"LIMIT_BAL\", data=df)"
      ],
      "execution_count": 43,
      "outputs": [
        {
          "output_type": "execute_result",
          "data": {
            "text/plain": [
              "<matplotlib.axes._subplots.AxesSubplot at 0x7f772f84ec50>"
            ]
          },
          "metadata": {},
          "execution_count": 43
        },
        {
          "output_type": "display_data",
          "data": {
            "image/png": "[encoded data removed]",
            "text/plain": [
              "<Figure size 720x720 with 1 Axes>"
            ]
          },
          "metadata": {
            "needs_background": "light"
          }
        }
      ]
    },
    {
      "cell_type": "code",
      "metadata": {
        "colab": {
          "base_uri": "https://localhost:8080/",
          "height": 0
        },
        "id": "Odfg6WRY6M4D",
        "outputId": "c526ef55-969d-412f-a9c5-67c78e1e4035"
      },
      "source": [
        "pay_col = ['PAY_SEPT','PAY_AUG','PAY_JUL','PAY_JUN','PAY_MAY','PAY_APR']\n",
        "for col in pay_col:\n",
        "  plt.figure(figsize=(10,5))\n",
        "  sns.countplot(x = col, hue = 'Defaulters', data = df)"
      ],
      "execution_count": 44,
      "outputs": [
        {
          "output_type": "display_data",
          "data": {
            "image/png": "[encoded data removed]",
            "text/plain": [
              "<Figure size 720x360 with 1 Axes>"
            ]
          },
          "metadata": {
            "needs_background": "light"
          }
        },
        {
          "output_type": "display_data",
          "data": {
            "image/png": "[encoded data removed]",
            "text/plain": [
              "<Figure size 720x360 with 1 Axes>"
            ]
          },
          "metadata": {
            "needs_background": "light"
          }
        },
        {
          "output_type": "display_data",
          "data": {
            "image/png": "[encoded data removed]",
            "text/plain": [
              "<Figure size 720x360 with 1 Axes>"
            ]
          },
          "metadata": {
            "needs_background": "light"
          }
        },
        {
          "output_type": "display_data",
          "data": {
            "image/png": "[encoded data removed]",
            "text/plain": [
              "<Figure size 720x360 with 1 Axes>"
            ]
          },
          "metadata": {
            "needs_background": "light"
          }
        },
        {
          "output_type": "display_data",
          "data": {
            "image/png": "[encoded data removed]",
            "text/plain": [
              "<Figure size 720x360 with 1 Axes>"
            ]
          },
          "metadata": {
            "needs_background": "light"
          }
        },
        {
          "output_type": "display_data",
          "data": {
            "image/png": "[encoded data removed]",
            "text/plain": [
              "<Figure size 720x360 with 1 Axes>"
            ]
          },
          "metadata": {
            "needs_background": "light"
          }
        }
      ]
    },
    {
      "cell_type": "markdown",
      "metadata": {
        "id": "nSn2bpw57OIT"
      },
      "source": [
        "# "
      ]
    },
    {
      "cell_type": "code",
      "metadata": {
        "colab": {
          "base_uri": "https://localhost:8080/"
        },
        "id": "tAYJhSZf64yu",
        "outputId": "82448313-bd0e-4fe0-8343-816479e06f49"
      },
      "source": [
        "# checking info of our data\n",
        "df.info()"
      ],
      "execution_count": 45,
      "outputs": [
        {
          "output_type": "stream",
          "name": "stdout",
          "text": [
            "<class 'pandas.core.frame.DataFrame'>\n",
            "RangeIndex: 30000 entries, 0 to 29999\n",
            "Data columns (total 24 columns):\n",
            " #   Column         Non-Null Count  Dtype \n",
            "---  ------         --------------  ----- \n",
            " 0   LIMIT_BAL      30000 non-null  int64 \n",
            " 1   SEX            30000 non-null  int64 \n",
            " 2   EDUCATION      30000 non-null  int64 \n",
            " 3   MARRIAGE       30000 non-null  int64 \n",
            " 4   PAY_SEPT       30000 non-null  int64 \n",
            " 5   PAY_AUG        30000 non-null  int64 \n",
            " 6   PAY_JUL        30000 non-null  int64 \n",
            " 7   PAY_JUN        30000 non-null  int64 \n",
            " 8   PAY_MAY        30000 non-null  int64 \n",
            " 9   PAY_APR        30000 non-null  int64 \n",
            " 10  BILL_AMT_SEPT  30000 non-null  int64 \n",
            " 11  BILL_AMT_AUG   30000 non-null  int64 \n",
            " 12  BILL_AMT_JUL   30000 non-null  int64 \n",
            " 13  BILL_AMT_JUN   30000 non-null  int64 \n",
            " 14  BILL_AMT_MAY   30000 non-null  int64 \n",
            " 15  BILL_AMT_APR   30000 non-null  int64 \n",
            " 16  PAY_AMT_SEPT   30000 non-null  int64 \n",
            " 17  PAY_AMT_AUG    30000 non-null  int64 \n",
            " 18  PAY_AMT_JUL    30000 non-null  int64 \n",
            " 19  PAY_AMT_JUN    30000 non-null  int64 \n",
            " 20  PAY_AMT_MAY    30000 non-null  int64 \n",
            " 21  PAY_AMT_APR    30000 non-null  int64 \n",
            " 22  Defaulters     30000 non-null  int64 \n",
            " 23  age_group      30000 non-null  object\n",
            "dtypes: int64(23), object(1)\n",
            "memory usage: 5.5+ MB\n"
          ]
        }
      ]
    },
    {
      "cell_type": "markdown",
      "metadata": {
        "id": "oUGS6LM57kyW"
      },
      "source": [
        "## Using SMOTE(Synthetic Minority Oversampling Technique) to remediate Imbalance in dependent column"
      ]
    },
    {
      "cell_type": "code",
      "metadata": {
        "id": "LDezGR-77kBN"
      },
      "source": [
        "X=df.drop('Defaulters',axis=1)"
      ],
      "execution_count": 46,
      "outputs": []
    },
    {
      "cell_type": "code",
      "metadata": {
        "colab": {
          "base_uri": "https://localhost:8080/",
          "height": 0
        },
        "id": "MjeI7Kgk7Uxz",
        "outputId": "04befbc2-7822-4ae2-b92e-4cb669e6a4c6"
      },
      "source": [
        "X.head()"
      ],
      "execution_count": 47,
      "outputs": [
        {
          "output_type": "execute_result",
          "data": {
            "text/html": [
              "<div>\n",
              "<style scoped>\n",
              "    .dataframe tbody tr th:only-of-type {\n",
              "        vertical-align: middle;\n",
              "    }\n",
              "\n",
              "    .dataframe tbody tr th {\n",
              "        vertical-align: top;\n",
              "    }\n",
              "\n",
              "    .dataframe thead th {\n",
              "        text-align: right;\n",
              "    }\n",
              "</style>\n",
              "<table border=\"1\" class=\"dataframe\">\n",
              "  <thead>\n",
              "    <tr style=\"text-align: right;\">\n",
              "      <th></th>\n",
              "      <th>LIMIT_BAL</th>\n",
              "      <th>SEX</th>\n",
              "      <th>EDUCATION</th>\n",
              "      <th>MARRIAGE</th>\n",
              "      <th>PAY_SEPT</th>\n",
              "      <th>PAY_AUG</th>\n",
              "      <th>PAY_JUL</th>\n",
              "      <th>PAY_JUN</th>\n",
              "      <th>PAY_MAY</th>\n",
              "      <th>PAY_APR</th>\n",
              "      <th>BILL_AMT_SEPT</th>\n",
              "      <th>BILL_AMT_AUG</th>\n",
              "      <th>BILL_AMT_JUL</th>\n",
              "      <th>BILL_AMT_JUN</th>\n",
              "      <th>BILL_AMT_MAY</th>\n",
              "      <th>BILL_AMT_APR</th>\n",
              "      <th>PAY_AMT_SEPT</th>\n",
              "      <th>PAY_AMT_AUG</th>\n",
              "      <th>PAY_AMT_JUL</th>\n",
              "      <th>PAY_AMT_JUN</th>\n",
              "      <th>PAY_AMT_MAY</th>\n",
              "      <th>PAY_AMT_APR</th>\n",
              "      <th>age_group</th>\n",
              "    </tr>\n",
              "  </thead>\n",
              "  <tbody>\n",
              "    <tr>\n",
              "      <th>0</th>\n",
              "      <td>20000</td>\n",
              "      <td>2</td>\n",
              "      <td>2</td>\n",
              "      <td>1</td>\n",
              "      <td>2</td>\n",
              "      <td>2</td>\n",
              "      <td>-1</td>\n",
              "      <td>-1</td>\n",
              "      <td>-2</td>\n",
              "      <td>-2</td>\n",
              "      <td>3913</td>\n",
              "      <td>3102</td>\n",
              "      <td>689</td>\n",
              "      <td>0</td>\n",
              "      <td>0</td>\n",
              "      <td>0</td>\n",
              "      <td>0</td>\n",
              "      <td>689</td>\n",
              "      <td>0</td>\n",
              "      <td>0</td>\n",
              "      <td>0</td>\n",
              "      <td>0</td>\n",
              "      <td>21-30</td>\n",
              "    </tr>\n",
              "    <tr>\n",
              "      <th>1</th>\n",
              "      <td>120000</td>\n",
              "      <td>2</td>\n",
              "      <td>2</td>\n",
              "      <td>2</td>\n",
              "      <td>-1</td>\n",
              "      <td>2</td>\n",
              "      <td>0</td>\n",
              "      <td>0</td>\n",
              "      <td>0</td>\n",
              "      <td>2</td>\n",
              "      <td>2682</td>\n",
              "      <td>1725</td>\n",
              "      <td>2682</td>\n",
              "      <td>3272</td>\n",
              "      <td>3455</td>\n",
              "      <td>3261</td>\n",
              "      <td>0</td>\n",
              "      <td>1000</td>\n",
              "      <td>1000</td>\n",
              "      <td>1000</td>\n",
              "      <td>0</td>\n",
              "      <td>2000</td>\n",
              "      <td>21-30</td>\n",
              "    </tr>\n",
              "    <tr>\n",
              "      <th>2</th>\n",
              "      <td>90000</td>\n",
              "      <td>2</td>\n",
              "      <td>2</td>\n",
              "      <td>2</td>\n",
              "      <td>0</td>\n",
              "      <td>0</td>\n",
              "      <td>0</td>\n",
              "      <td>0</td>\n",
              "      <td>0</td>\n",
              "      <td>0</td>\n",
              "      <td>29239</td>\n",
              "      <td>14027</td>\n",
              "      <td>13559</td>\n",
              "      <td>14331</td>\n",
              "      <td>14948</td>\n",
              "      <td>15549</td>\n",
              "      <td>1518</td>\n",
              "      <td>1500</td>\n",
              "      <td>1000</td>\n",
              "      <td>1000</td>\n",
              "      <td>1000</td>\n",
              "      <td>5000</td>\n",
              "      <td>31-40</td>\n",
              "    </tr>\n",
              "    <tr>\n",
              "      <th>3</th>\n",
              "      <td>50000</td>\n",
              "      <td>2</td>\n",
              "      <td>2</td>\n",
              "      <td>1</td>\n",
              "      <td>0</td>\n",
              "      <td>0</td>\n",
              "      <td>0</td>\n",
              "      <td>0</td>\n",
              "      <td>0</td>\n",
              "      <td>0</td>\n",
              "      <td>46990</td>\n",
              "      <td>48233</td>\n",
              "      <td>49291</td>\n",
              "      <td>28314</td>\n",
              "      <td>28959</td>\n",
              "      <td>29547</td>\n",
              "      <td>2000</td>\n",
              "      <td>2019</td>\n",
              "      <td>1200</td>\n",
              "      <td>1100</td>\n",
              "      <td>1069</td>\n",
              "      <td>1000</td>\n",
              "      <td>31-40</td>\n",
              "    </tr>\n",
              "    <tr>\n",
              "      <th>4</th>\n",
              "      <td>50000</td>\n",
              "      <td>1</td>\n",
              "      <td>2</td>\n",
              "      <td>1</td>\n",
              "      <td>-1</td>\n",
              "      <td>0</td>\n",
              "      <td>-1</td>\n",
              "      <td>0</td>\n",
              "      <td>0</td>\n",
              "      <td>0</td>\n",
              "      <td>8617</td>\n",
              "      <td>5670</td>\n",
              "      <td>35835</td>\n",
              "      <td>20940</td>\n",
              "      <td>19146</td>\n",
              "      <td>19131</td>\n",
              "      <td>2000</td>\n",
              "      <td>36681</td>\n",
              "      <td>10000</td>\n",
              "      <td>9000</td>\n",
              "      <td>689</td>\n",
              "      <td>679</td>\n",
              "      <td>51-60</td>\n",
              "    </tr>\n",
              "  </tbody>\n",
              "</table>\n",
              "</div>"
            ],
            "text/plain": [
              "   LIMIT_BAL  SEX  EDUCATION  ...  PAY_AMT_MAY  PAY_AMT_APR  age_group\n",
              "0      20000    2          2  ...            0            0      21-30\n",
              "1     120000    2          2  ...            0         2000      21-30\n",
              "2      90000    2          2  ...         1000         5000      31-40\n",
              "3      50000    2          2  ...         1069         1000      31-40\n",
              "4      50000    1          2  ...          689          679      51-60\n",
              "\n",
              "[5 rows x 23 columns]"
            ]
          },
          "metadata": {},
          "execution_count": 47
        }
      ]
    },
    {
      "cell_type": "code",
      "metadata": {
        "id": "YolOCmo2shxq"
      },
      "source": [
        "#maping numerical value to categorical for easy understanding\n",
        "X['SEX']=X['SEX'].map({1:'Male',2:'Female'})\n",
        "X['EDUCATION']=X['EDUCATION'].map({1 : 'graduate school', 2 : 'university', 3 : 'high school', 4 : 'other',5:'other',6:'other',0:'other'})\n",
        "X['MARRIAGE']=X['MARRIAGE'].map({1 : 'married', 2 : 'single', 3 : 'others',0 : 'others'})"
      ],
      "execution_count": 48,
      "outputs": []
    },
    {
      "cell_type": "code",
      "metadata": {
        "colab": {
          "base_uri": "https://localhost:8080/",
          "height": 0
        },
        "id": "dJCj3ll3sy6d",
        "outputId": "d180437f-5c43-461e-9664-b7b907947a4e"
      },
      "source": [
        "X.head()"
      ],
      "execution_count": 49,
      "outputs": [
        {
          "output_type": "execute_result",
          "data": {
            "text/html": [
              "<div>\n",
              "<style scoped>\n",
              "    .dataframe tbody tr th:only-of-type {\n",
              "        vertical-align: middle;\n",
              "    }\n",
              "\n",
              "    .dataframe tbody tr th {\n",
              "        vertical-align: top;\n",
              "    }\n",
              "\n",
              "    .dataframe thead th {\n",
              "        text-align: right;\n",
              "    }\n",
              "</style>\n",
              "<table border=\"1\" class=\"dataframe\">\n",
              "  <thead>\n",
              "    <tr style=\"text-align: right;\">\n",
              "      <th></th>\n",
              "      <th>LIMIT_BAL</th>\n",
              "      <th>SEX</th>\n",
              "      <th>EDUCATION</th>\n",
              "      <th>MARRIAGE</th>\n",
              "      <th>PAY_SEPT</th>\n",
              "      <th>PAY_AUG</th>\n",
              "      <th>PAY_JUL</th>\n",
              "      <th>PAY_JUN</th>\n",
              "      <th>PAY_MAY</th>\n",
              "      <th>PAY_APR</th>\n",
              "      <th>BILL_AMT_SEPT</th>\n",
              "      <th>BILL_AMT_AUG</th>\n",
              "      <th>BILL_AMT_JUL</th>\n",
              "      <th>BILL_AMT_JUN</th>\n",
              "      <th>BILL_AMT_MAY</th>\n",
              "      <th>BILL_AMT_APR</th>\n",
              "      <th>PAY_AMT_SEPT</th>\n",
              "      <th>PAY_AMT_AUG</th>\n",
              "      <th>PAY_AMT_JUL</th>\n",
              "      <th>PAY_AMT_JUN</th>\n",
              "      <th>PAY_AMT_MAY</th>\n",
              "      <th>PAY_AMT_APR</th>\n",
              "      <th>age_group</th>\n",
              "    </tr>\n",
              "  </thead>\n",
              "  <tbody>\n",
              "    <tr>\n",
              "      <th>0</th>\n",
              "      <td>20000</td>\n",
              "      <td>Female</td>\n",
              "      <td>university</td>\n",
              "      <td>married</td>\n",
              "      <td>2</td>\n",
              "      <td>2</td>\n",
              "      <td>-1</td>\n",
              "      <td>-1</td>\n",
              "      <td>-2</td>\n",
              "      <td>-2</td>\n",
              "      <td>3913</td>\n",
              "      <td>3102</td>\n",
              "      <td>689</td>\n",
              "      <td>0</td>\n",
              "      <td>0</td>\n",
              "      <td>0</td>\n",
              "      <td>0</td>\n",
              "      <td>689</td>\n",
              "      <td>0</td>\n",
              "      <td>0</td>\n",
              "      <td>0</td>\n",
              "      <td>0</td>\n",
              "      <td>21-30</td>\n",
              "    </tr>\n",
              "    <tr>\n",
              "      <th>1</th>\n",
              "      <td>120000</td>\n",
              "      <td>Female</td>\n",
              "      <td>university</td>\n",
              "      <td>single</td>\n",
              "      <td>-1</td>\n",
              "      <td>2</td>\n",
              "      <td>0</td>\n",
              "      <td>0</td>\n",
              "      <td>0</td>\n",
              "      <td>2</td>\n",
              "      <td>2682</td>\n",
              "      <td>1725</td>\n",
              "      <td>2682</td>\n",
              "      <td>3272</td>\n",
              "      <td>3455</td>\n",
              "      <td>3261</td>\n",
              "      <td>0</td>\n",
              "      <td>1000</td>\n",
              "      <td>1000</td>\n",
              "      <td>1000</td>\n",
              "      <td>0</td>\n",
              "      <td>2000</td>\n",
              "      <td>21-30</td>\n",
              "    </tr>\n",
              "    <tr>\n",
              "      <th>2</th>\n",
              "      <td>90000</td>\n",
              "      <td>Female</td>\n",
              "      <td>university</td>\n",
              "      <td>single</td>\n",
              "      <td>0</td>\n",
              "      <td>0</td>\n",
              "      <td>0</td>\n",
              "      <td>0</td>\n",
              "      <td>0</td>\n",
              "      <td>0</td>\n",
              "      <td>29239</td>\n",
              "      <td>14027</td>\n",
              "      <td>13559</td>\n",
              "      <td>14331</td>\n",
              "      <td>14948</td>\n",
              "      <td>15549</td>\n",
              "      <td>1518</td>\n",
              "      <td>1500</td>\n",
              "      <td>1000</td>\n",
              "      <td>1000</td>\n",
              "      <td>1000</td>\n",
              "      <td>5000</td>\n",
              "      <td>31-40</td>\n",
              "    </tr>\n",
              "    <tr>\n",
              "      <th>3</th>\n",
              "      <td>50000</td>\n",
              "      <td>Female</td>\n",
              "      <td>university</td>\n",
              "      <td>married</td>\n",
              "      <td>0</td>\n",
              "      <td>0</td>\n",
              "      <td>0</td>\n",
              "      <td>0</td>\n",
              "      <td>0</td>\n",
              "      <td>0</td>\n",
              "      <td>46990</td>\n",
              "      <td>48233</td>\n",
              "      <td>49291</td>\n",
              "      <td>28314</td>\n",
              "      <td>28959</td>\n",
              "      <td>29547</td>\n",
              "      <td>2000</td>\n",
              "      <td>2019</td>\n",
              "      <td>1200</td>\n",
              "      <td>1100</td>\n",
              "      <td>1069</td>\n",
              "      <td>1000</td>\n",
              "      <td>31-40</td>\n",
              "    </tr>\n",
              "    <tr>\n",
              "      <th>4</th>\n",
              "      <td>50000</td>\n",
              "      <td>Male</td>\n",
              "      <td>university</td>\n",
              "      <td>married</td>\n",
              "      <td>-1</td>\n",
              "      <td>0</td>\n",
              "      <td>-1</td>\n",
              "      <td>0</td>\n",
              "      <td>0</td>\n",
              "      <td>0</td>\n",
              "      <td>8617</td>\n",
              "      <td>5670</td>\n",
              "      <td>35835</td>\n",
              "      <td>20940</td>\n",
              "      <td>19146</td>\n",
              "      <td>19131</td>\n",
              "      <td>2000</td>\n",
              "      <td>36681</td>\n",
              "      <td>10000</td>\n",
              "      <td>9000</td>\n",
              "      <td>689</td>\n",
              "      <td>679</td>\n",
              "      <td>51-60</td>\n",
              "    </tr>\n",
              "  </tbody>\n",
              "</table>\n",
              "</div>"
            ],
            "text/plain": [
              "   LIMIT_BAL     SEX   EDUCATION  ... PAY_AMT_MAY  PAY_AMT_APR  age_group\n",
              "0      20000  Female  university  ...           0            0      21-30\n",
              "1     120000  Female  university  ...           0         2000      21-30\n",
              "2      90000  Female  university  ...        1000         5000      31-40\n",
              "3      50000  Female  university  ...        1069         1000      31-40\n",
              "4      50000    Male  university  ...         689          679      51-60\n",
              "\n",
              "[5 rows x 23 columns]"
            ]
          },
          "metadata": {},
          "execution_count": 49
        }
      ]
    },
    {
      "cell_type": "code",
      "metadata": {
        "id": "ISbrkHTr9vGC"
      },
      "source": [
        "# one hot encoding for age group\n",
        "X=pd.get_dummies(X)"
      ],
      "execution_count": 50,
      "outputs": []
    },
    {
      "cell_type": "code",
      "metadata": {
        "colab": {
          "base_uri": "https://localhost:8080/",
          "height": 0
        },
        "id": "tWLVSicls6Gt",
        "outputId": "6a1066c1-87fc-4c36-c305-7727f42b30c4"
      },
      "source": [
        "X.head()"
      ],
      "execution_count": 51,
      "outputs": [
        {
          "output_type": "execute_result",
          "data": {
            "text/html": [
              "<div>\n",
              "<style scoped>\n",
              "    .dataframe tbody tr th:only-of-type {\n",
              "        vertical-align: middle;\n",
              "    }\n",
              "\n",
              "    .dataframe tbody tr th {\n",
              "        vertical-align: top;\n",
              "    }\n",
              "\n",
              "    .dataframe thead th {\n",
              "        text-align: right;\n",
              "    }\n",
              "</style>\n",
              "<table border=\"1\" class=\"dataframe\">\n",
              "  <thead>\n",
              "    <tr style=\"text-align: right;\">\n",
              "      <th></th>\n",
              "      <th>LIMIT_BAL</th>\n",
              "      <th>PAY_SEPT</th>\n",
              "      <th>PAY_AUG</th>\n",
              "      <th>PAY_JUL</th>\n",
              "      <th>PAY_JUN</th>\n",
              "      <th>PAY_MAY</th>\n",
              "      <th>PAY_APR</th>\n",
              "      <th>BILL_AMT_SEPT</th>\n",
              "      <th>BILL_AMT_AUG</th>\n",
              "      <th>BILL_AMT_JUL</th>\n",
              "      <th>BILL_AMT_JUN</th>\n",
              "      <th>BILL_AMT_MAY</th>\n",
              "      <th>BILL_AMT_APR</th>\n",
              "      <th>PAY_AMT_SEPT</th>\n",
              "      <th>PAY_AMT_AUG</th>\n",
              "      <th>PAY_AMT_JUL</th>\n",
              "      <th>PAY_AMT_JUN</th>\n",
              "      <th>PAY_AMT_MAY</th>\n",
              "      <th>PAY_AMT_APR</th>\n",
              "      <th>SEX_Female</th>\n",
              "      <th>SEX_Male</th>\n",
              "      <th>EDUCATION_graduate school</th>\n",
              "      <th>EDUCATION_high school</th>\n",
              "      <th>EDUCATION_other</th>\n",
              "      <th>EDUCATION_university</th>\n",
              "      <th>MARRIAGE_married</th>\n",
              "      <th>MARRIAGE_others</th>\n",
              "      <th>MARRIAGE_single</th>\n",
              "      <th>age_group_21-30</th>\n",
              "      <th>age_group_31-40</th>\n",
              "      <th>age_group_41-50</th>\n",
              "      <th>age_group_51-60</th>\n",
              "      <th>age_group_60 &amp; above</th>\n",
              "    </tr>\n",
              "  </thead>\n",
              "  <tbody>\n",
              "    <tr>\n",
              "      <th>0</th>\n",
              "      <td>20000</td>\n",
              "      <td>2</td>\n",
              "      <td>2</td>\n",
              "      <td>-1</td>\n",
              "      <td>-1</td>\n",
              "      <td>-2</td>\n",
              "      <td>-2</td>\n",
              "      <td>3913</td>\n",
              "      <td>3102</td>\n",
              "      <td>689</td>\n",
              "      <td>0</td>\n",
              "      <td>0</td>\n",
              "      <td>0</td>\n",
              "      <td>0</td>\n",
              "      <td>689</td>\n",
              "      <td>0</td>\n",
              "      <td>0</td>\n",
              "      <td>0</td>\n",
              "      <td>0</td>\n",
              "      <td>1</td>\n",
              "      <td>0</td>\n",
              "      <td>0</td>\n",
              "      <td>0</td>\n",
              "      <td>0</td>\n",
              "      <td>1</td>\n",
              "      <td>1</td>\n",
              "      <td>0</td>\n",
              "      <td>0</td>\n",
              "      <td>1</td>\n",
              "      <td>0</td>\n",
              "      <td>0</td>\n",
              "      <td>0</td>\n",
              "      <td>0</td>\n",
              "    </tr>\n",
              "    <tr>\n",
              "      <th>1</th>\n",
              "      <td>120000</td>\n",
              "      <td>-1</td>\n",
              "      <td>2</td>\n",
              "      <td>0</td>\n",
              "      <td>0</td>\n",
              "      <td>0</td>\n",
              "      <td>2</td>\n",
              "      <td>2682</td>\n",
              "      <td>1725</td>\n",
              "      <td>2682</td>\n",
              "      <td>3272</td>\n",
              "      <td>3455</td>\n",
              "      <td>3261</td>\n",
              "      <td>0</td>\n",
              "      <td>1000</td>\n",
              "      <td>1000</td>\n",
              "      <td>1000</td>\n",
              "      <td>0</td>\n",
              "      <td>2000</td>\n",
              "      <td>1</td>\n",
              "      <td>0</td>\n",
              "      <td>0</td>\n",
              "      <td>0</td>\n",
              "      <td>0</td>\n",
              "      <td>1</td>\n",
              "      <td>0</td>\n",
              "      <td>0</td>\n",
              "      <td>1</td>\n",
              "      <td>1</td>\n",
              "      <td>0</td>\n",
              "      <td>0</td>\n",
              "      <td>0</td>\n",
              "      <td>0</td>\n",
              "    </tr>\n",
              "    <tr>\n",
              "      <th>2</th>\n",
              "      <td>90000</td>\n",
              "      <td>0</td>\n",
              "      <td>0</td>\n",
              "      <td>0</td>\n",
              "      <td>0</td>\n",
              "      <td>0</td>\n",
              "      <td>0</td>\n",
              "      <td>29239</td>\n",
              "      <td>14027</td>\n",
              "      <td>13559</td>\n",
              "      <td>14331</td>\n",
              "      <td>14948</td>\n",
              "      <td>15549</td>\n",
              "      <td>1518</td>\n",
              "      <td>1500</td>\n",
              "      <td>1000</td>\n",
              "      <td>1000</td>\n",
              "      <td>1000</td>\n",
              "      <td>5000</td>\n",
              "      <td>1</td>\n",
              "      <td>0</td>\n",
              "      <td>0</td>\n",
              "      <td>0</td>\n",
              "      <td>0</td>\n",
              "      <td>1</td>\n",
              "      <td>0</td>\n",
              "      <td>0</td>\n",
              "      <td>1</td>\n",
              "      <td>0</td>\n",
              "      <td>1</td>\n",
              "      <td>0</td>\n",
              "      <td>0</td>\n",
              "      <td>0</td>\n",
              "    </tr>\n",
              "    <tr>\n",
              "      <th>3</th>\n",
              "      <td>50000</td>\n",
              "      <td>0</td>\n",
              "      <td>0</td>\n",
              "      <td>0</td>\n",
              "      <td>0</td>\n",
              "      <td>0</td>\n",
              "      <td>0</td>\n",
              "      <td>46990</td>\n",
              "      <td>48233</td>\n",
              "      <td>49291</td>\n",
              "      <td>28314</td>\n",
              "      <td>28959</td>\n",
              "      <td>29547</td>\n",
              "      <td>2000</td>\n",
              "      <td>2019</td>\n",
              "      <td>1200</td>\n",
              "      <td>1100</td>\n",
              "      <td>1069</td>\n",
              "      <td>1000</td>\n",
              "      <td>1</td>\n",
              "      <td>0</td>\n",
              "      <td>0</td>\n",
              "      <td>0</td>\n",
              "      <td>0</td>\n",
              "      <td>1</td>\n",
              "      <td>1</td>\n",
              "      <td>0</td>\n",
              "      <td>0</td>\n",
              "      <td>0</td>\n",
              "      <td>1</td>\n",
              "      <td>0</td>\n",
              "      <td>0</td>\n",
              "      <td>0</td>\n",
              "    </tr>\n",
              "    <tr>\n",
              "      <th>4</th>\n",
              "      <td>50000</td>\n",
              "      <td>-1</td>\n",
              "      <td>0</td>\n",
              "      <td>-1</td>\n",
              "      <td>0</td>\n",
              "      <td>0</td>\n",
              "      <td>0</td>\n",
              "      <td>8617</td>\n",
              "      <td>5670</td>\n",
              "      <td>35835</td>\n",
              "      <td>20940</td>\n",
              "      <td>19146</td>\n",
              "      <td>19131</td>\n",
              "      <td>2000</td>\n",
              "      <td>36681</td>\n",
              "      <td>10000</td>\n",
              "      <td>9000</td>\n",
              "      <td>689</td>\n",
              "      <td>679</td>\n",
              "      <td>0</td>\n",
              "      <td>1</td>\n",
              "      <td>0</td>\n",
              "      <td>0</td>\n",
              "      <td>0</td>\n",
              "      <td>1</td>\n",
              "      <td>1</td>\n",
              "      <td>0</td>\n",
              "      <td>0</td>\n",
              "      <td>0</td>\n",
              "      <td>0</td>\n",
              "      <td>0</td>\n",
              "      <td>1</td>\n",
              "      <td>0</td>\n",
              "    </tr>\n",
              "  </tbody>\n",
              "</table>\n",
              "</div>"
            ],
            "text/plain": [
              "   LIMIT_BAL  PAY_SEPT  ...  age_group_51-60  age_group_60 & above\n",
              "0      20000         2  ...                0                     0\n",
              "1     120000        -1  ...                0                     0\n",
              "2      90000         0  ...                0                     0\n",
              "3      50000         0  ...                0                     0\n",
              "4      50000        -1  ...                1                     0\n",
              "\n",
              "[5 rows x 33 columns]"
            ]
          },
          "metadata": {},
          "execution_count": 51
        }
      ]
    },
    {
      "cell_type": "code",
      "metadata": {
        "id": "g_PlatDa8ugT"
      },
      "source": [
        "y=df['Defaulters']"
      ],
      "execution_count": 52,
      "outputs": []
    },
    {
      "cell_type": "code",
      "metadata": {
        "colab": {
          "base_uri": "https://localhost:8080/"
        },
        "id": "enYC4xm88fhU",
        "outputId": "9a662974-90c0-4d3a-9961-ef3b1194af44"
      },
      "source": [
        "from imblearn.over_sampling import SMOTE\n",
        "\n",
        "smote = SMOTE()\n",
        "\n",
        "# fit predictor and target variable\n",
        "X_smote, y_smote = smote.fit_resample(X,y)\n",
        "\n",
        "print('Original dataset shape', len(df))\n",
        "print('Resampled dataset shape', len(y_smote))"
      ],
      "execution_count": 53,
      "outputs": [
        {
          "output_type": "stream",
          "name": "stdout",
          "text": [
            "Original dataset shape 30000\n",
            "Resampled dataset shape 46728\n"
          ]
        }
      ]
    },
    {
      "cell_type": "code",
      "metadata": {
        "colab": {
          "base_uri": "https://localhost:8080/"
        },
        "id": "uREl-VTB8feY",
        "outputId": "c09c6293-a25d-4711-9c10-d4f322039883"
      },
      "source": [
        "(unique, counts) = np.unique(y_smote, return_counts=True)\n",
        "np.asarray((unique, counts)).T"
      ],
      "execution_count": 54,
      "outputs": [
        {
          "output_type": "execute_result",
          "data": {
            "text/plain": [
              "array([[    0, 23364],\n",
              "       [    1, 23364]])"
            ]
          },
          "metadata": {},
          "execution_count": 54
        }
      ]
    },
    {
      "cell_type": "code",
      "metadata": {
        "colab": {
          "base_uri": "https://localhost:8080/",
          "height": 0
        },
        "id": "VRSTupYbtEhm",
        "outputId": "6f15b895-a259-4cfa-8367-7659d93d476e"
      },
      "source": [
        "sns.countplot(y_smote)"
      ],
      "execution_count": 55,
      "outputs": [
        {
          "output_type": "execute_result",
          "data": {
            "text/plain": [
              "<matplotlib.axes._subplots.AxesSubplot at 0x7f772fc91b90>"
            ]
          },
          "metadata": {},
          "execution_count": 55
        },
        {
          "output_type": "display_data",
          "data": {
            "image/png": "[encoded data removed]",
            "text/plain": [
              "<Figure size 432x288 with 1 Axes>"
            ]
          },
          "metadata": {
            "needs_background": "light"
          }
        }
      ]
    },
    {
      "cell_type": "markdown",
      "metadata": {
        "id": "yMNszD5E-aye"
      },
      "source": [
        "## Train | Test Split"
      ]
    },
    {
      "cell_type": "code",
      "metadata": {
        "id": "nSBz-SiQ-ajy"
      },
      "source": [
        "X_train,X_test,y_train,y_test = train_test_split(X_smote,y_smote,test_size=0.25,random_state=101)"
      ],
      "execution_count": 56,
      "outputs": []
    },
    {
      "cell_type": "code",
      "metadata": {
        "colab": {
          "base_uri": "https://localhost:8080/"
        },
        "id": "kklK62vmjjSN",
        "outputId": "a5127fc9-716e-4237-84d6-0a3b9e4125ae"
      },
      "source": [
        "X_train"
      ],
      "execution_count": 57,
      "outputs": [
        {
          "output_type": "execute_result",
          "data": {
            "text/plain": [
              "array([[100000,      0,      0, ...,      0,      0,      0],\n",
              "       [120000,      1,     -2, ...,      0,      0,      0],\n",
              "       [320000,     -1,      0, ...,      0,      0,      0],\n",
              "       ...,\n",
              "       [340000,     -1,     -1, ...,      0,      1,      0],\n",
              "       [230000,      2,      0, ...,      0,      0,      0],\n",
              "       [360000,     -2,     -2, ...,      1,      0,      0]])"
            ]
          },
          "metadata": {},
          "execution_count": 57
        }
      ]
    },
    {
      "cell_type": "code",
      "metadata": {
        "id": "oPt5idQFARQK"
      },
      "source": [
        "#Scaling Feature\n",
        "from sklearn.preprocessing import StandardScaler\n",
        "scaler = StandardScaler()\n",
        "scaled_X_train = scaler.fit_transform(X_train)\n",
        "scaled_X_test=scaler.transform(X_test)"
      ],
      "execution_count": 58,
      "outputs": []
    },
    {
      "cell_type": "markdown",
      "metadata": {
        "id": "V_zAI17h_l8b"
      },
      "source": [
        "# Creating Function"
      ]
    },
    {
      "cell_type": "code",
      "metadata": {
        "id": "JseTYgR7_jui"
      },
      "source": [
        "model_accuracy=[]\n",
        "model_precision=[]\n",
        "model_recall=[]\n",
        "model_f1_score=[]\n",
        "model_roc_auc_score=[]\n"
      ],
      "execution_count": 59,
      "outputs": []
    },
    {
      "cell_type": "code",
      "metadata": {
        "id": "50QxH2AU8fbL"
      },
      "source": [
        "# Creating Function to run diferent models\n",
        "def run_and_evaluate_model(model,X_train,X_test,y_train,y_test, best_parameter=True, best_score=True):\n",
        "  '''\n",
        "  train the model and gives mse,rmse,r2,adj r2 score of the model\n",
        "  can be used for any model where y is not transformed \n",
        "  '''\n",
        "\n",
        "  start=time.time()\n",
        "  #training the model\n",
        "  model.fit(X_train,y_train)\n",
        "  stop = time.time()\n",
        "\n",
        "  time_min=round((stop - start)/60,4)\n",
        "  print(f\"Training time: {time_min}min\",'\\n')\n",
        "  \n",
        "\n",
        "\n",
        "  #predicting the values of y from x via model\n",
        "  y_pred_test = model.predict(X_test)\n",
        "  y_pred_train = model.predict(X_train)\n",
        "\n",
        "  \n",
        "  # Get the confusion matrix for both train and test\n",
        "  from sklearn.metrics import confusion_matrix,classification_report\n",
        "\n",
        "  def score (model,X,actual,predicted,append=True):\n",
        "    accuracy = accuracy_score(actual,predicted)\n",
        "    precision = precision_score(actual,predicted)\n",
        "    recall = recall_score(actual,predicted)\n",
        "    f1 = f1_score(actual,predicted)\n",
        "    roc= roc_auc_score(actual,predicted)\n",
        "    confusion_mat=confusion_matrix(actual,predicted)\n",
        "    print(\"The accuracy is \", accuracy)\n",
        "    print(\"The precision is \", precision)\n",
        "    print(\"The recall is \", recall)\n",
        "    print(\"The f1 is \", f1)\n",
        "    print('the auc  is ',roc)\n",
        "    print('\\nconfusion_matrix \\n ',confusion_mat)\n",
        "    \n",
        "\n",
        "    if append==True:\n",
        "      model_accuracy.append(accuracy)\n",
        "      model_precision.append(precision)\n",
        "      model_recall.append(recall)\n",
        "      model_f1_score.append(f1)\n",
        "      model_roc_auc_score.append(roc)\n",
        "    else:\n",
        "      pass\n",
        "\n",
        "  print('score matrix for train')\n",
        "  print('*'*80)\n",
        "  score(model=model,X=X_train,actual=y_train,predicted=y_pred_train,append=False)\n",
        "  print('\\nClassification Report\\n')\n",
        "  print(classification_report(y_train, y_pred_train))\n",
        "  print('\\n')\n",
        "  print('score matrix for test')\n",
        "  print('*'*80)\n",
        "  score(model=model,X=X_test,actual=y_test,predicted=y_pred_test)\n",
        "  print('\\nClassification Report\\n')\n",
        "  print(classification_report(y_test, y_pred_test))\n"
      ],
      "execution_count": 60,
      "outputs": []
    },
    {
      "cell_type": "code",
      "metadata": {
        "id": "wqv0z0pjWGM-"
      },
      "source": [
        ""
      ],
      "execution_count": 60,
      "outputs": []
    },
    {
      "cell_type": "markdown",
      "metadata": {
        "id": "oVBQB1xmhuYK"
      },
      "source": [
        "# creating function to get feature importance "
      ]
    },
    {
      "cell_type": "code",
      "metadata": {
        "id": "_ZCgBXTNd6l-"
      },
      "source": [
        "#creating function to get features importance of all the tree based model\n",
        "def get_features_importance(optimal_model,X_train):\n",
        "  imp_feat=pd.DataFrame(index=X.columns,data=optimal_model.feature_importances_,columns=['importance'])\n",
        "  imp_feat=imp_feat[imp_feat['importance']>0]\n",
        "  imp_feat=imp_feat.sort_values('importance')\n",
        "  plt.figure(figsize=(15,5))\n",
        "  print(f'==========================Features Importance============================\\n\\n {optimal_model}\\\n",
        "  \\n=========================================================================\\n') \n",
        "  sns.barplot(data=imp_feat,x=imp_feat.index,y='importance')\n",
        "  plt.xticks(rotation=90);\n",
        "   "
      ],
      "execution_count": 61,
      "outputs": []
    },
    {
      "cell_type": "markdown",
      "metadata": {
        "id": "vKtVpZwJ_2sm"
      },
      "source": [
        "# Logistic Regression"
      ]
    },
    {
      "cell_type": "code",
      "metadata": {
        "id": "9wTWMBzj8N2b"
      },
      "source": [
        "# import Loggistic Regression\n",
        "from sklearn.linear_model import LogisticRegression"
      ],
      "execution_count": 62,
      "outputs": []
    },
    {
      "cell_type": "code",
      "metadata": {
        "id": "LY73n7xe_uKy"
      },
      "source": [
        "#creating Instance of Logistic Regression\n",
        "\n",
        "log_model= LogisticRegression()"
      ],
      "execution_count": 63,
      "outputs": []
    },
    {
      "cell_type": "code",
      "metadata": {
        "colab": {
          "base_uri": "https://localhost:8080/"
        },
        "id": "NBDqg31bf-cU",
        "outputId": "4a5e3e96-23bf-463b-d0fb-88372f9e431f"
      },
      "source": [
        "run_and_evaluate_model(log_model,scaled_X_train,scaled_X_test,y_train,y_test)"
      ],
      "execution_count": 64,
      "outputs": [
        {
          "output_type": "stream",
          "name": "stdout",
          "text": [
            "Training time: 0.0123min \n",
            "\n",
            "score matrix for train\n",
            "********************************************************************************\n",
            "The accuracy is  0.864549449295212\n",
            "The precision is  0.9546847167794799\n",
            "The recall is  0.76521987435751\n",
            "The f1 is  0.8495165636392455\n",
            "the auc  is  0.8644758130911638\n",
            "\n",
            "confusion_matrix \n",
            "  [[16900   636]\n",
            " [ 4111 13399]]\n",
            "\n",
            "Classification Report\n",
            "\n",
            "              precision    recall  f1-score   support\n",
            "\n",
            "           0       0.80      0.96      0.88     17536\n",
            "           1       0.95      0.77      0.85     17510\n",
            "\n",
            "    accuracy                           0.86     35046\n",
            "   macro avg       0.88      0.86      0.86     35046\n",
            "weighted avg       0.88      0.86      0.86     35046\n",
            "\n",
            "\n",
            "\n",
            "score matrix for test\n",
            "********************************************************************************\n",
            "The accuracy is  0.8655196028077384\n",
            "The precision is  0.9622274983811785\n",
            "The recall is  0.761530577382986\n",
            "The f1 is  0.8501954801182416\n",
            "the auc  is  0.8657515618555286\n",
            "\n",
            "confusion_matrix \n",
            "  [[5653  175]\n",
            " [1396 4458]]\n",
            "\n",
            "Classification Report\n",
            "\n",
            "              precision    recall  f1-score   support\n",
            "\n",
            "           0       0.80      0.97      0.88      5828\n",
            "           1       0.96      0.76      0.85      5854\n",
            "\n",
            "    accuracy                           0.87     11682\n",
            "   macro avg       0.88      0.87      0.86     11682\n",
            "weighted avg       0.88      0.87      0.86     11682\n",
            "\n"
          ]
        }
      ]
    },
    {
      "cell_type": "markdown",
      "metadata": {
        "id": "px-MIUt4gP1F"
      },
      "source": [
        "### implementing GridSearch for Hyperparameter Tuning"
      ]
    },
    {
      "cell_type": "code",
      "metadata": {
        "id": "8dVsiQe-AiPx"
      },
      "source": [
        "# creating param dict for hyperparameter tuning\n",
        "param_dict= {'C': [0.001,0.01,0.1,1,10,100],'penalty': ['l1', 'l2'],'max_iter':[1000]} "
      ],
      "execution_count": 65,
      "outputs": []
    },
    {
      "cell_type": "code",
      "metadata": {
        "id": "NW_736HQBJFK"
      },
      "source": [
        "#creating Grid model to perform grid search\n",
        "\n",
        "grid_log_model = GridSearchCV(log_model, param_dict,n_jobs=-1, cv=5, verbose = 5,scoring='accuracy') "
      ],
      "execution_count": 66,
      "outputs": []
    },
    {
      "cell_type": "code",
      "metadata": {
        "colab": {
          "base_uri": "https://localhost:8080/"
        },
        "id": "LgKZLsMNBXr5",
        "outputId": "ce95000a-2b02-4b34-a357-0b67b5f0a789"
      },
      "source": [
        "#run_and_score(log_reg_grid, X_test_lr, X_train_lr, y_test, y_train)\n",
        "run_and_evaluate_model(grid_log_model,scaled_X_train,scaled_X_test,y_train,y_test)"
      ],
      "execution_count": 67,
      "outputs": [
        {
          "output_type": "stream",
          "name": "stdout",
          "text": [
            "Fitting 5 folds for each of 12 candidates, totalling 60 fits\n"
          ]
        },
        {
          "output_type": "stream",
          "name": "stderr",
          "text": [
            "[Parallel(n_jobs=-1)]: Using backend LokyBackend with 2 concurrent workers.\n",
            "[Parallel(n_jobs=-1)]: Done  14 tasks      | elapsed:    1.4s\n",
            "[Parallel(n_jobs=-1)]: Done  57 out of  60 | elapsed:    7.9s remaining:    0.4s\n",
            "[Parallel(n_jobs=-1)]: Done  60 out of  60 | elapsed:    8.6s finished\n"
          ]
        },
        {
          "output_type": "stream",
          "name": "stdout",
          "text": [
            "Training time: 0.1494min \n",
            "\n",
            "score matrix for train\n",
            "********************************************************************************\n",
            "The accuracy is  0.8651771956856703\n",
            "The precision is  0.951671023811206\n",
            "The recall is  0.7692175899486008\n",
            "The f1 is  0.8507721946751728\n",
            "the auc  is  0.8651060577480231\n",
            "\n",
            "confusion_matrix \n",
            "  [[16852   684]\n",
            " [ 4041 13469]]\n",
            "\n",
            "Classification Report\n",
            "\n",
            "              precision    recall  f1-score   support\n",
            "\n",
            "           0       0.81      0.96      0.88     17536\n",
            "           1       0.95      0.77      0.85     17510\n",
            "\n",
            "    accuracy                           0.87     35046\n",
            "   macro avg       0.88      0.87      0.86     35046\n",
            "weighted avg       0.88      0.87      0.86     35046\n",
            "\n",
            "\n",
            "\n",
            "score matrix for test\n",
            "********************************************************************************\n",
            "The accuracy is  0.8675740455401473\n",
            "The precision is  0.9598547939355114\n",
            "The recall is  0.7678510420225487\n",
            "The f1 is  0.8531840182215051\n",
            "the auc  is  0.8677964887532099\n",
            "\n",
            "confusion_matrix \n",
            "  [[5640  188]\n",
            " [1359 4495]]\n",
            "\n",
            "Classification Report\n",
            "\n",
            "              precision    recall  f1-score   support\n",
            "\n",
            "           0       0.81      0.97      0.88      5828\n",
            "           1       0.96      0.77      0.85      5854\n",
            "\n",
            "    accuracy                           0.87     11682\n",
            "   macro avg       0.88      0.87      0.87     11682\n",
            "weighted avg       0.88      0.87      0.87     11682\n",
            "\n"
          ]
        }
      ]
    },
    {
      "cell_type": "code",
      "metadata": {
        "colab": {
          "base_uri": "https://localhost:8080/"
        },
        "id": "EomEQffqhGww",
        "outputId": "8fcf0af8-ebc8-46d4-a132-4f9639290423"
      },
      "source": [
        "grid_log_model.best_estimator_.coef_"
      ],
      "execution_count": 68,
      "outputs": [
        {
          "output_type": "execute_result",
          "data": {
            "text/plain": [
              "array([[-0.05204165,  0.58854924,  0.10639688,  0.0620927 ,  0.02295407,\n",
              "         0.04813054, -0.00455358, -0.30434963,  0.05674646,  0.04501089,\n",
              "         0.03650487,  0.04428225,  0.01259967, -0.15021838, -0.19028584,\n",
              "        -0.06323914, -0.06491052, -0.06231639, -0.03145939, -1.24371979,\n",
              "        -1.12796016, -1.13406588, -0.89868038, -0.3803148 , -1.28083543,\n",
              "        -1.08050439, -0.21663993, -1.19548169, -1.28838707, -1.25245264,\n",
              "        -0.99239605, -0.58832831, -0.22139808]])"
            ]
          },
          "metadata": {},
          "execution_count": 68
        }
      ]
    },
    {
      "cell_type": "code",
      "metadata": {
        "id": "cBW_1w6xbxMV"
      },
      "source": [
        "optimal_log_model=grid_log_model.best_estimator_.coef_"
      ],
      "execution_count": 69,
      "outputs": []
    },
    {
      "cell_type": "code",
      "metadata": {
        "id": "LdGiuWA-cUpt"
      },
      "source": [
        "feature_importance = pd.DataFrame({'Features':X.columns, 'Importance':np.abs(optimal_log_model).ravel() })"
      ],
      "execution_count": 70,
      "outputs": []
    },
    {
      "cell_type": "code",
      "metadata": {
        "id": "BqVjOJYhdWNV"
      },
      "source": [
        "imp_feat = feature_importance.sort_values(by = 'Importance', ascending=False)[:10]"
      ],
      "execution_count": 71,
      "outputs": []
    },
    {
      "cell_type": "code",
      "metadata": {
        "colab": {
          "base_uri": "https://localhost:8080/",
          "height": 359
        },
        "id": "4UeFw9GtemqN",
        "outputId": "94bfb014-1107-4e19-83de-4a037885fc0f"
      },
      "source": [
        "imp_feat"
      ],
      "execution_count": 72,
      "outputs": [
        {
          "output_type": "execute_result",
          "data": {
            "text/html": [
              "<div>\n",
              "<style scoped>\n",
              "    .dataframe tbody tr th:only-of-type {\n",
              "        vertical-align: middle;\n",
              "    }\n",
              "\n",
              "    .dataframe tbody tr th {\n",
              "        vertical-align: top;\n",
              "    }\n",
              "\n",
              "    .dataframe thead th {\n",
              "        text-align: right;\n",
              "    }\n",
              "</style>\n",
              "<table border=\"1\" class=\"dataframe\">\n",
              "  <thead>\n",
              "    <tr style=\"text-align: right;\">\n",
              "      <th></th>\n",
              "      <th>Features</th>\n",
              "      <th>Importance</th>\n",
              "    </tr>\n",
              "  </thead>\n",
              "  <tbody>\n",
              "    <tr>\n",
              "      <th>28</th>\n",
              "      <td>age_group_21-30</td>\n",
              "      <td>1.288387</td>\n",
              "    </tr>\n",
              "    <tr>\n",
              "      <th>24</th>\n",
              "      <td>EDUCATION_university</td>\n",
              "      <td>1.280835</td>\n",
              "    </tr>\n",
              "    <tr>\n",
              "      <th>29</th>\n",
              "      <td>age_group_31-40</td>\n",
              "      <td>1.252453</td>\n",
              "    </tr>\n",
              "    <tr>\n",
              "      <th>19</th>\n",
              "      <td>SEX_Female</td>\n",
              "      <td>1.243720</td>\n",
              "    </tr>\n",
              "    <tr>\n",
              "      <th>27</th>\n",
              "      <td>MARRIAGE_single</td>\n",
              "      <td>1.195482</td>\n",
              "    </tr>\n",
              "    <tr>\n",
              "      <th>21</th>\n",
              "      <td>EDUCATION_graduate school</td>\n",
              "      <td>1.134066</td>\n",
              "    </tr>\n",
              "    <tr>\n",
              "      <th>20</th>\n",
              "      <td>SEX_Male</td>\n",
              "      <td>1.127960</td>\n",
              "    </tr>\n",
              "    <tr>\n",
              "      <th>25</th>\n",
              "      <td>MARRIAGE_married</td>\n",
              "      <td>1.080504</td>\n",
              "    </tr>\n",
              "    <tr>\n",
              "      <th>30</th>\n",
              "      <td>age_group_41-50</td>\n",
              "      <td>0.992396</td>\n",
              "    </tr>\n",
              "    <tr>\n",
              "      <th>22</th>\n",
              "      <td>EDUCATION_high school</td>\n",
              "      <td>0.898680</td>\n",
              "    </tr>\n",
              "  </tbody>\n",
              "</table>\n",
              "</div>"
            ],
            "text/plain": [
              "                     Features  Importance\n",
              "28            age_group_21-30    1.288387\n",
              "24       EDUCATION_university    1.280835\n",
              "29            age_group_31-40    1.252453\n",
              "19                 SEX_Female    1.243720\n",
              "27            MARRIAGE_single    1.195482\n",
              "21  EDUCATION_graduate school    1.134066\n",
              "20                   SEX_Male    1.127960\n",
              "25           MARRIAGE_married    1.080504\n",
              "30            age_group_41-50    0.992396\n",
              "22      EDUCATION_high school    0.898680"
            ]
          },
          "metadata": {},
          "execution_count": 72
        }
      ]
    },
    {
      "cell_type": "code",
      "metadata": {
        "colab": {
          "base_uri": "https://localhost:8080/",
          "height": 638
        },
        "id": "aUp9-QdMcag9",
        "outputId": "3f0f367f-a5f4-470b-8b8c-b7a28962f3e6"
      },
      "source": [
        "imp_feat=imp_feat[imp_feat['Importance']>0]\n",
        "imp_feat=imp_feat.sort_values('Importance')\n",
        "plt.figure(figsize=(15,5))\n",
        "print(f'==========================Features Importance============================\\n\\n {optimal_log_model}\\\n",
        "\\n=========================================================================\\n') \n",
        "sns.barplot(data=imp_feat,x=imp_feat.Features,y='Importance')\n",
        "plt.xticks(rotation=90);"
      ],
      "execution_count": 73,
      "outputs": [
        {
          "output_type": "stream",
          "name": "stdout",
          "text": [
            "==========================Features Importance============================\n",
            "\n",
            " [[-0.05204165  0.58854924  0.10639688  0.0620927   0.02295407  0.04813054\n",
            "  -0.00455358 -0.30434963  0.05674646  0.04501089  0.03650487  0.04428225\n",
            "   0.01259967 -0.15021838 -0.19028584 -0.06323914 -0.06491052 -0.06231639\n",
            "  -0.03145939 -1.24371979 -1.12796016 -1.13406588 -0.89868038 -0.3803148\n",
            "  -1.28083543 -1.08050439 -0.21663993 -1.19548169 -1.28838707 -1.25245264\n",
            "  -0.99239605 -0.58832831 -0.22139808]]\n",
            "=========================================================================\n",
            "\n"
          ]
        },
        {
          "output_type": "display_data",
          "data": {
            "image/png": "[encoded data removed]",
            "text/plain": [
              "<Figure size 1080x360 with 1 Axes>"
            ]
          },
          "metadata": {
            "needs_background": "light"
          }
        }
      ]
    },
    {
      "cell_type": "code",
      "metadata": {
        "colab": {
          "base_uri": "https://localhost:8080/"
        },
        "id": "yrfzUBxGjz2I",
        "outputId": "f4bbbd93-f1b0-4168-f04c-1cd1c86154e7"
      },
      "source": [
        "grid_log_model.best_params_"
      ],
      "execution_count": 74,
      "outputs": [
        {
          "output_type": "execute_result",
          "data": {
            "text/plain": [
              "{'C': 0.01, 'max_iter': 1000, 'penalty': 'l2'}"
            ]
          },
          "metadata": {},
          "execution_count": 74
        }
      ]
    },
    {
      "cell_type": "code",
      "metadata": {
        "id": "1tfMujfgbt1o"
      },
      "source": [
        ""
      ],
      "execution_count": 74,
      "outputs": []
    },
    {
      "cell_type": "markdown",
      "metadata": {
        "id": "pz6sB5Wbfjgv"
      },
      "source": [
        "# Decision Tree"
      ]
    },
    {
      "cell_type": "code",
      "metadata": {
        "colab": {
          "base_uri": "https://localhost:8080/"
        },
        "id": "LCIK497jg5XL",
        "outputId": "5b435034-c0d4-4a8b-c14d-41eb23ada156"
      },
      "source": [
        "#impoting decisionTreeClassifier\n",
        "from sklearn.tree import DecisionTreeClassifier\n",
        "# creating DecisionTree model\n",
        "DecisionTree = DecisionTreeClassifier(max_depth=10,max_leaf_nodes=45,criterion='entropy')\n",
        "\n",
        "# training and evaluating the DecisionTree\n",
        "run_and_evaluate_model(DecisionTree,X_train, X_test, y_train, y_test)"
      ],
      "execution_count": 75,
      "outputs": [
        {
          "output_type": "stream",
          "name": "stdout",
          "text": [
            "Training time: 0.0093min \n",
            "\n",
            "score matrix for train\n",
            "********************************************************************************\n",
            "The accuracy is  0.8235461964275523\n",
            "The precision is  0.8923919068736141\n",
            "The recall is  0.7355225585379783\n",
            "The f1 is  0.806399098365788\n",
            "the auc  is  0.8234809416777482\n",
            "\n",
            "confusion_matrix \n",
            "  [[15983  1553]\n",
            " [ 4631 12879]]\n",
            "\n",
            "Classification Report\n",
            "\n",
            "              precision    recall  f1-score   support\n",
            "\n",
            "           0       0.78      0.91      0.84     17536\n",
            "           1       0.89      0.74      0.81     17510\n",
            "\n",
            "    accuracy                           0.82     35046\n",
            "   macro avg       0.83      0.82      0.82     35046\n",
            "weighted avg       0.83      0.82      0.82     35046\n",
            "\n",
            "\n",
            "\n",
            "score matrix for test\n",
            "********************************************************************************\n",
            "The accuracy is  0.8272556069166239\n",
            "The precision is  0.9026028547439127\n",
            "The recall is  0.7345404851383669\n",
            "The f1 is  0.8099453757769824\n",
            "the auc  is  0.8274624182726837\n",
            "\n",
            "confusion_matrix \n",
            "  [[5364  464]\n",
            " [1554 4300]]\n",
            "\n",
            "Classification Report\n",
            "\n",
            "              precision    recall  f1-score   support\n",
            "\n",
            "           0       0.78      0.92      0.84      5828\n",
            "           1       0.90      0.73      0.81      5854\n",
            "\n",
            "    accuracy                           0.83     11682\n",
            "   macro avg       0.84      0.83      0.83     11682\n",
            "weighted avg       0.84      0.83      0.83     11682\n",
            "\n"
          ]
        }
      ]
    },
    {
      "cell_type": "code",
      "metadata": {
        "colab": {
          "base_uri": "https://localhost:8080/"
        },
        "id": "tSGnxjA1gR_C",
        "outputId": "47851a1f-04af-4f95-b4d2-b9a44bc1514f"
      },
      "source": [
        "DecisionTree.feature_importances_"
      ],
      "execution_count": 76,
      "outputs": [
        {
          "output_type": "execute_result",
          "data": {
            "text/plain": [
              "array([0.        , 0.2283703 , 0.08607192, 0.01209117, 0.00255966,\n",
              "       0.        , 0.01897224, 0.        , 0.0026445 , 0.        ,\n",
              "       0.        , 0.00629388, 0.        , 0.01709882, 0.02302679,\n",
              "       0.00261263, 0.        , 0.        , 0.        , 0.01751922,\n",
              "       0.11618278, 0.00951223, 0.035098  , 0.02119563, 0.01502542,\n",
              "       0.25228927, 0.05740778, 0.05831718, 0.00367662, 0.00213973,\n",
              "       0.00758734, 0.00430689, 0.        ])"
            ]
          },
          "metadata": {},
          "execution_count": 76
        }
      ]
    },
    {
      "cell_type": "code",
      "metadata": {
        "colab": {
          "base_uri": "https://localhost:8080/",
          "height": 624
        },
        "id": "uf5ajIRHgeu4",
        "outputId": "b7e698bb-b7fe-465d-bceb-0b4cf362e6a7"
      },
      "source": [
        "get_features_importance(DecisionTree,X_train)"
      ],
      "execution_count": 77,
      "outputs": [
        {
          "output_type": "stream",
          "name": "stdout",
          "text": [
            "==========================Features Importance============================\n",
            "\n",
            " DecisionTreeClassifier(ccp_alpha=0.0, class_weight=None, criterion='entropy',\n",
            "                       max_depth=10, max_features=None, max_leaf_nodes=45,\n",
            "                       min_impurity_decrease=0.0, min_impurity_split=None,\n",
            "                       min_samples_leaf=1, min_samples_split=2,\n",
            "                       min_weight_fraction_leaf=0.0, presort='deprecated',\n",
            "                       random_state=None, splitter='best')  \n",
            "=========================================================================\n",
            "\n"
          ]
        },
        {
          "output_type": "display_data",
          "data": {
            "image/png": "[encoded data removed]",
            "text/plain": [
              "<Figure size 1080x360 with 1 Axes>"
            ]
          },
          "metadata": {
            "needs_background": "light"
          }
        }
      ]
    },
    {
      "cell_type": "markdown",
      "metadata": {
        "id": "AZ7T1FHqkDGr"
      },
      "source": [
        "# Random Forest"
      ]
    },
    {
      "cell_type": "code",
      "metadata": {
        "id": "E12ZKDWrkCQZ"
      },
      "source": [
        "from sklearn.ensemble import RandomForestClassifier\n",
        "rfc_model=RandomForestClassifier()"
      ],
      "execution_count": 78,
      "outputs": []
    },
    {
      "cell_type": "code",
      "metadata": {
        "colab": {
          "base_uri": "https://localhost:8080/"
        },
        "id": "zW5y70wigiNM",
        "outputId": "6ca711e9-64ae-4a28-9319-dc5914ec660a"
      },
      "source": [
        "run_and_evaluate_model(rfc_model,X_train, X_test, y_train, y_test)"
      ],
      "execution_count": 79,
      "outputs": [
        {
          "output_type": "stream",
          "name": "stdout",
          "text": [
            "Training time: 0.1401min \n",
            "\n",
            "score matrix for train\n",
            "********************************************************************************\n",
            "The accuracy is  0.9982308965359813\n",
            "The precision is  0.9986282578875172\n",
            "The recall is  0.997829811536265\n",
            "The f1 is  0.9982288750499914\n",
            "the auc  is  0.9982305991987896\n",
            "\n",
            "confusion_matrix \n",
            "  [[17512    24]\n",
            " [   38 17472]]\n",
            "\n",
            "Classification Report\n",
            "\n",
            "              precision    recall  f1-score   support\n",
            "\n",
            "           0       1.00      1.00      1.00     17536\n",
            "           1       1.00      1.00      1.00     17510\n",
            "\n",
            "    accuracy                           1.00     35046\n",
            "   macro avg       1.00      1.00      1.00     35046\n",
            "weighted avg       1.00      1.00      1.00     35046\n",
            "\n",
            "\n",
            "\n",
            "score matrix for test\n",
            "********************************************************************************\n",
            "The accuracy is  0.8806711179592536\n",
            "The precision is  0.9148065476190477\n",
            "The recall is  0.8401093269559275\n",
            "The f1 is  0.8758682101513804\n",
            "the auc  is  0.8807615955301258\n",
            "\n",
            "confusion_matrix \n",
            "  [[5370  458]\n",
            " [ 936 4918]]\n",
            "\n",
            "Classification Report\n",
            "\n",
            "              precision    recall  f1-score   support\n",
            "\n",
            "           0       0.85      0.92      0.89      5828\n",
            "           1       0.91      0.84      0.88      5854\n",
            "\n",
            "    accuracy                           0.88     11682\n",
            "   macro avg       0.88      0.88      0.88     11682\n",
            "weighted avg       0.88      0.88      0.88     11682\n",
            "\n"
          ]
        }
      ]
    },
    {
      "cell_type": "markdown",
      "metadata": {
        "id": "u4E18dYIgn97"
      },
      "source": [
        "### implementing gridsearch for hyperparameter tuning in Random Forest"
      ]
    },
    {
      "cell_type": "code",
      "metadata": {
        "id": "Tb021r19go3C"
      },
      "source": [
        "# finding the best parameters for knn_model by gridsearchcv\n",
        "grid_values = {'n_estimators': [150,200,250],'max_depth': [3,5,9],'criterion': ['entropy']}\n",
        "grid_rfc_model = GridSearchCV(estimator=rfc_model,param_grid = grid_values, scoring='balanced_accuracy',cv=5,verbose=5,n_jobs=-1)"
      ],
      "execution_count": 80,
      "outputs": []
    },
    {
      "cell_type": "code",
      "metadata": {
        "colab": {
          "base_uri": "https://localhost:8080/"
        },
        "id": "el_YGHN5jGQB",
        "outputId": "3a395d62-acb1-4409-e25e-9e331c8c120d"
      },
      "source": [
        "run_and_evaluate_model(grid_rfc_model,X_train, X_test, y_train, y_test)"
      ],
      "execution_count": 81,
      "outputs": [
        {
          "output_type": "stream",
          "name": "stdout",
          "text": [
            "Fitting 5 folds for each of 9 candidates, totalling 45 fits\n"
          ]
        },
        {
          "output_type": "stream",
          "name": "stderr",
          "text": [
            "[Parallel(n_jobs=-1)]: Using backend LokyBackend with 2 concurrent workers.\n",
            "[Parallel(n_jobs=-1)]: Done  14 tasks      | elapsed:   55.4s\n",
            "[Parallel(n_jobs=-1)]: Done  45 out of  45 | elapsed:  4.9min finished\n"
          ]
        },
        {
          "output_type": "stream",
          "name": "stdout",
          "text": [
            "Training time: 5.1463min \n",
            "\n",
            "score matrix for train\n",
            "********************************************************************************\n",
            "The accuracy is  0.8666609598812989\n",
            "The precision is  0.9048249763481552\n",
            "The recall is  0.8193032552826957\n",
            "The f1 is  0.8599430540986064\n",
            "the auc  is  0.8666258520939026\n",
            "\n",
            "confusion_matrix \n",
            "  [[16027  1509]\n",
            " [ 3164 14346]]\n",
            "\n",
            "Classification Report\n",
            "\n",
            "              precision    recall  f1-score   support\n",
            "\n",
            "           0       0.84      0.91      0.87     17536\n",
            "           1       0.90      0.82      0.86     17510\n",
            "\n",
            "    accuracy                           0.87     35046\n",
            "   macro avg       0.87      0.87      0.87     35046\n",
            "weighted avg       0.87      0.87      0.87     35046\n",
            "\n",
            "\n",
            "\n",
            "score matrix for test\n",
            "********************************************************************************\n",
            "The accuracy is  0.8543913713405239\n",
            "The precision is  0.8951474785918173\n",
            "The recall is  0.8035531260676461\n",
            "The f1 is  0.8468809073724006\n",
            "the auc  is  0.8545047716817296\n",
            "\n",
            "confusion_matrix \n",
            "  [[5277  551]\n",
            " [1150 4704]]\n",
            "\n",
            "Classification Report\n",
            "\n",
            "              precision    recall  f1-score   support\n",
            "\n",
            "           0       0.82      0.91      0.86      5828\n",
            "           1       0.90      0.80      0.85      5854\n",
            "\n",
            "    accuracy                           0.85     11682\n",
            "   macro avg       0.86      0.85      0.85     11682\n",
            "weighted avg       0.86      0.85      0.85     11682\n",
            "\n"
          ]
        }
      ]
    },
    {
      "cell_type": "code",
      "metadata": {
        "colab": {
          "base_uri": "https://localhost:8080/"
        },
        "id": "3hY3zzVckBIw",
        "outputId": "48094870-e60d-42c8-ccc6-f32f510c800d"
      },
      "source": [
        "grid_rfc_model.best_params_"
      ],
      "execution_count": 82,
      "outputs": [
        {
          "output_type": "execute_result",
          "data": {
            "text/plain": [
              "{'criterion': 'entropy', 'max_depth': 9, 'n_estimators': 150}"
            ]
          },
          "metadata": {},
          "execution_count": 82
        }
      ]
    },
    {
      "cell_type": "code",
      "metadata": {
        "colab": {
          "base_uri": "https://localhost:8080/"
        },
        "id": "nHFOXDofmyK8",
        "outputId": "eb141979-6c32-45a8-e77c-de0b64ba2122"
      },
      "source": [
        "grid_rfc_model.best_estimator_"
      ],
      "execution_count": 83,
      "outputs": [
        {
          "output_type": "execute_result",
          "data": {
            "text/plain": [
              "RandomForestClassifier(bootstrap=True, ccp_alpha=0.0, class_weight=None,\n",
              "                       criterion='entropy', max_depth=9, max_features='auto',\n",
              "                       max_leaf_nodes=None, max_samples=None,\n",
              "                       min_impurity_decrease=0.0, min_impurity_split=None,\n",
              "                       min_samples_leaf=1, min_samples_split=2,\n",
              "                       min_weight_fraction_leaf=0.0, n_estimators=150,\n",
              "                       n_jobs=None, oob_score=False, random_state=None,\n",
              "                       verbose=0, warm_start=False)"
            ]
          },
          "metadata": {},
          "execution_count": 83
        }
      ]
    },
    {
      "cell_type": "code",
      "metadata": {
        "id": "IZtJpZ2qm-fq"
      },
      "source": [
        "optimal__rfc_model=grid_rfc_model.best_estimator_"
      ],
      "execution_count": 84,
      "outputs": []
    },
    {
      "cell_type": "code",
      "metadata": {
        "colab": {
          "base_uri": "https://localhost:8080/",
          "height": 0
        },
        "id": "xqkhQfMcx16_",
        "outputId": "8de44ad8-5894-4711-cfe9-c66ace61a608"
      },
      "source": [
        "get_features_importance(optimal__rfc_model,X_train)"
      ],
      "execution_count": 85,
      "outputs": [
        {
          "output_type": "stream",
          "name": "stdout",
          "text": [
            "==========================Features Importance============================\n",
            "\n",
            " RandomForestClassifier(bootstrap=True, ccp_alpha=0.0, class_weight=None,\n",
            "                       criterion='entropy', max_depth=9, max_features='auto',\n",
            "                       max_leaf_nodes=None, max_samples=None,\n",
            "                       min_impurity_decrease=0.0, min_impurity_split=None,\n",
            "                       min_samples_leaf=1, min_samples_split=2,\n",
            "                       min_weight_fraction_leaf=0.0, n_estimators=150,\n",
            "                       n_jobs=None, oob_score=False, random_state=None,\n",
            "                       verbose=0, warm_start=False)  \n",
            "=========================================================================\n",
            "\n"
          ]
        },
        {
          "output_type": "display_data",
          "data": {
            "image/png": "[encoded data removed]",
            "text/plain": [
              "<Figure size 1080x360 with 1 Axes>"
            ]
          },
          "metadata": {
            "needs_background": "light"
          }
        }
      ]
    },
    {
      "cell_type": "markdown",
      "metadata": {
        "id": "-D9Mv9sF0gdO"
      },
      "source": [
        ""
      ]
    },
    {
      "cell_type": "markdown",
      "metadata": {
        "id": "iQVMb9qglsta"
      },
      "source": [
        "# Support Vector Machine"
      ]
    },
    {
      "cell_type": "code",
      "metadata": {
        "id": "W1eQ8EMFkxr6"
      },
      "source": [
        "from sklearn.svm import SVC\n",
        "svc_model=SVC()"
      ],
      "execution_count": 86,
      "outputs": []
    },
    {
      "cell_type": "code",
      "metadata": {
        "colab": {
          "base_uri": "https://localhost:8080/"
        },
        "id": "6A5z-bjwg9Td",
        "outputId": "57cc6d92-4385-4496-d0e9-9dcd641810d1"
      },
      "source": [
        "run_and_evaluate_model(svc_model,scaled_X_train,scaled_X_test,y_train,y_test)"
      ],
      "execution_count": 87,
      "outputs": [
        {
          "output_type": "stream",
          "name": "stdout",
          "text": [
            "Training time: 1.2239min \n",
            "\n",
            "score matrix for train\n",
            "********************************************************************************\n",
            "The accuracy is  0.8748216629572562\n",
            "The precision is  0.948956551488197\n",
            "The recall is  0.7920616790405482\n",
            "The f1 is  0.8634396887159532\n",
            "the auc  is  0.8747603103231938\n",
            "\n",
            "confusion_matrix \n",
            "  [[16790   746]\n",
            " [ 3641 13869]]\n",
            "\n",
            "Classification Report\n",
            "\n",
            "              precision    recall  f1-score   support\n",
            "\n",
            "           0       0.82      0.96      0.88     17536\n",
            "           1       0.95      0.79      0.86     17510\n",
            "\n",
            "    accuracy                           0.87     35046\n",
            "   macro avg       0.89      0.87      0.87     35046\n",
            "weighted avg       0.89      0.87      0.87     35046\n",
            "\n",
            "\n",
            "\n",
            "score matrix for test\n",
            "********************************************************************************\n",
            "The accuracy is  0.871939736346516\n",
            "The precision is  0.9502066115702479\n",
            "The recall is  0.7856166723607789\n",
            "The f1 is  0.8601084720403964\n",
            "the auc  is  0.8721322895091471\n",
            "\n",
            "confusion_matrix \n",
            "  [[5587  241]\n",
            " [1255 4599]]\n",
            "\n",
            "Classification Report\n",
            "\n",
            "              precision    recall  f1-score   support\n",
            "\n",
            "           0       0.82      0.96      0.88      5828\n",
            "           1       0.95      0.79      0.86      5854\n",
            "\n",
            "    accuracy                           0.87     11682\n",
            "   macro avg       0.88      0.87      0.87     11682\n",
            "weighted avg       0.88      0.87      0.87     11682\n",
            "\n"
          ]
        }
      ]
    },
    {
      "cell_type": "markdown",
      "metadata": {
        "id": "3Oew0MrMg5Oc"
      },
      "source": [
        "### Hyperparameter tuning for SVM"
      ]
    },
    {
      "cell_type": "code",
      "metadata": {
        "id": "ZXHkap8qmT8Z"
      },
      "source": [
        "params={'C':[0.01,0.1,1],'kernel':['rbf']}\n",
        "svc_grid_model= GridSearchCV(svc_model,param_grid=params)"
      ],
      "execution_count": 88,
      "outputs": []
    },
    {
      "cell_type": "code",
      "metadata": {
        "colab": {
          "base_uri": "https://localhost:8080/"
        },
        "id": "uahi_Fugmr7I",
        "outputId": "3985d6dc-ae49-467d-a0e9-b8a523a8e98d"
      },
      "source": [
        "run_and_evaluate_model(svc_grid_model,scaled_X_train,scaled_X_test,y_train,y_test)"
      ],
      "execution_count": 89,
      "outputs": [
        {
          "output_type": "stream",
          "name": "stdout",
          "text": [
            "Training time: 12.988min \n",
            "\n",
            "score matrix for train\n",
            "********************************************************************************\n",
            "The accuracy is  0.8748216629572562\n",
            "The precision is  0.948956551488197\n",
            "The recall is  0.7920616790405482\n",
            "The f1 is  0.8634396887159532\n",
            "the auc  is  0.8747603103231938\n",
            "\n",
            "confusion_matrix \n",
            "  [[16790   746]\n",
            " [ 3641 13869]]\n",
            "\n",
            "Classification Report\n",
            "\n",
            "              precision    recall  f1-score   support\n",
            "\n",
            "           0       0.82      0.96      0.88     17536\n",
            "           1       0.95      0.79      0.86     17510\n",
            "\n",
            "    accuracy                           0.87     35046\n",
            "   macro avg       0.89      0.87      0.87     35046\n",
            "weighted avg       0.89      0.87      0.87     35046\n",
            "\n",
            "\n",
            "\n",
            "score matrix for test\n",
            "********************************************************************************\n",
            "The accuracy is  0.871939736346516\n",
            "The precision is  0.9502066115702479\n",
            "The recall is  0.7856166723607789\n",
            "The f1 is  0.8601084720403964\n",
            "the auc  is  0.8721322895091471\n",
            "\n",
            "confusion_matrix \n",
            "  [[5587  241]\n",
            " [1255 4599]]\n",
            "\n",
            "Classification Report\n",
            "\n",
            "              precision    recall  f1-score   support\n",
            "\n",
            "           0       0.82      0.96      0.88      5828\n",
            "           1       0.95      0.79      0.86      5854\n",
            "\n",
            "    accuracy                           0.87     11682\n",
            "   macro avg       0.88      0.87      0.87     11682\n",
            "weighted avg       0.88      0.87      0.87     11682\n",
            "\n"
          ]
        }
      ]
    },
    {
      "cell_type": "code",
      "metadata": {
        "colab": {
          "base_uri": "https://localhost:8080/"
        },
        "id": "V0ZEDVM3x-z2",
        "outputId": "8a06e007-9416-4a4f-f47c-7e90eb033a05"
      },
      "source": [
        "svc_grid_model.best_estimator_"
      ],
      "execution_count": 90,
      "outputs": [
        {
          "output_type": "execute_result",
          "data": {
            "text/plain": [
              "SVC(C=1, break_ties=False, cache_size=200, class_weight=None, coef0=0.0,\n",
              "    decision_function_shape='ovr', degree=3, gamma='scale', kernel='rbf',\n",
              "    max_iter=-1, probability=False, random_state=None, shrinking=True,\n",
              "    tol=0.001, verbose=False)"
            ]
          },
          "metadata": {},
          "execution_count": 90
        }
      ]
    },
    {
      "cell_type": "code",
      "metadata": {
        "colab": {
          "base_uri": "https://localhost:8080/"
        },
        "id": "kCOW_XeVykuG",
        "outputId": "46fdab0e-a228-4525-c55f-ca243cd9b200"
      },
      "source": [
        "svc_grid_model.best_params_"
      ],
      "execution_count": 91,
      "outputs": [
        {
          "output_type": "execute_result",
          "data": {
            "text/plain": [
              "{'C': 1, 'kernel': 'rbf'}"
            ]
          },
          "metadata": {},
          "execution_count": 91
        }
      ]
    },
    {
      "cell_type": "markdown",
      "metadata": {
        "id": "xgR8YnjLbcAD"
      },
      "source": [
        "---\n",
        "#XGboost\n",
        "---"
      ]
    },
    {
      "cell_type": "code",
      "metadata": {
        "id": "LOrYta-CcgwI"
      },
      "source": [
        "from xgboost import XGBClassifier"
      ],
      "execution_count": 92,
      "outputs": []
    },
    {
      "cell_type": "code",
      "metadata": {
        "id": "ZP2HDqMEcPWa"
      },
      "source": [
        "# creating XGBRegressor model\n",
        "xgboost_model=XGBClassifier()"
      ],
      "execution_count": 93,
      "outputs": []
    },
    {
      "cell_type": "code",
      "metadata": {
        "colab": {
          "base_uri": "https://localhost:8080/"
        },
        "id": "gqyHb7DihGlk",
        "outputId": "fa2caded-1a68-4d7b-c13e-382e09eb66fe"
      },
      "source": [
        "run_and_evaluate_model(xgboost_model,X_train,X_test,y_train,y_test)"
      ],
      "execution_count": 94,
      "outputs": [
        {
          "output_type": "stream",
          "name": "stdout",
          "text": [
            "Training time: 0.0754min \n",
            "\n",
            "score matrix for train\n",
            "********************************************************************************\n",
            "The accuracy is  0.872168007761228\n",
            "The precision is  0.9299762407602957\n",
            "The recall is  0.804740148486579\n",
            "The f1 is  0.8628375482211744\n",
            "the auc  is  0.8721180213235815\n",
            "\n",
            "confusion_matrix \n",
            "  [[16475  1061]\n",
            " [ 3419 14091]]\n",
            "\n",
            "Classification Report\n",
            "\n",
            "              precision    recall  f1-score   support\n",
            "\n",
            "           0       0.83      0.94      0.88     17536\n",
            "           1       0.93      0.80      0.86     17510\n",
            "\n",
            "    accuracy                           0.87     35046\n",
            "   macro avg       0.88      0.87      0.87     35046\n",
            "weighted avg       0.88      0.87      0.87     35046\n",
            "\n",
            "\n",
            "\n",
            "score matrix for test\n",
            "********************************************************************************\n",
            "The accuracy is  0.8726245505906522\n",
            "The precision is  0.9341686555290374\n",
            "The recall is  0.8023573624871883\n",
            "The f1 is  0.8632604300680022\n",
            "the auc  is  0.8727812893424273\n",
            "\n",
            "confusion_matrix \n",
            "  [[5497  331]\n",
            " [1157 4697]]\n",
            "\n",
            "Classification Report\n",
            "\n",
            "              precision    recall  f1-score   support\n",
            "\n",
            "           0       0.83      0.94      0.88      5828\n",
            "           1       0.93      0.80      0.86      5854\n",
            "\n",
            "    accuracy                           0.87     11682\n",
            "   macro avg       0.88      0.87      0.87     11682\n",
            "weighted avg       0.88      0.87      0.87     11682\n",
            "\n"
          ]
        }
      ]
    },
    {
      "cell_type": "markdown",
      "metadata": {
        "id": "z58Fi08FhJyU"
      },
      "source": [
        "### Hyperparameter tuning for Xgboost"
      ]
    },
    {
      "cell_type": "code",
      "metadata": {
        "id": "3GbdBF9Md56J"
      },
      "source": [
        "# finding the best parameters for XGBRegressor by gridsearchcv\n",
        "params={'n_estimators': [50,100,150],'max_depth': [3,5,9]}\n",
        "grid_xgboost_model=GridSearchCV(estimator=xgboost_model,param_grid=params,cv=5,scoring='balanced_accuracy',verbose=5,n_jobs=-1)"
      ],
      "execution_count": 95,
      "outputs": []
    },
    {
      "cell_type": "code",
      "metadata": {
        "colab": {
          "base_uri": "https://localhost:8080/"
        },
        "id": "h3IEw41rlr_o",
        "outputId": "125c764a-b842-42bb-b1cb-e6370ebe1ba9"
      },
      "source": [
        "# training and evaluating the xgb_grid\n",
        "run_and_evaluate_model(grid_xgboost_model,X_train,X_test,y_train,y_test)"
      ],
      "execution_count": 96,
      "outputs": [
        {
          "output_type": "stream",
          "name": "stdout",
          "text": [
            "Fitting 5 folds for each of 9 candidates, totalling 45 fits\n"
          ]
        },
        {
          "output_type": "stream",
          "name": "stderr",
          "text": [
            "[Parallel(n_jobs=-1)]: Using backend LokyBackend with 2 concurrent workers.\n",
            "[Parallel(n_jobs=-1)]: Done  14 tasks      | elapsed:   41.2s\n",
            "[Parallel(n_jobs=-1)]: Done  45 out of  45 | elapsed:  4.4min finished\n"
          ]
        },
        {
          "output_type": "stream",
          "name": "stdout",
          "text": [
            "Training time: 4.5301min \n",
            "\n",
            "score matrix for train\n",
            "********************************************************************************\n",
            "The accuracy is  0.9167665354106032\n",
            "The precision is  0.9681144543529865\n",
            "The recall is  0.8617932609937179\n",
            "The f1 is  0.911865123727226\n",
            "the auc  is  0.916725781956713\n",
            "\n",
            "confusion_matrix \n",
            "  [[17039   497]\n",
            " [ 2420 15090]]\n",
            "\n",
            "Classification Report\n",
            "\n",
            "              precision    recall  f1-score   support\n",
            "\n",
            "           0       0.88      0.97      0.92     17536\n",
            "           1       0.97      0.86      0.91     17510\n",
            "\n",
            "    accuracy                           0.92     35046\n",
            "   macro avg       0.92      0.92      0.92     35046\n",
            "weighted avg       0.92      0.92      0.92     35046\n",
            "\n",
            "\n",
            "\n",
            "score matrix for test\n",
            "********************************************************************************\n",
            "The accuracy is  0.8775038520801233\n",
            "The precision is  0.9349065880039331\n",
            "The recall is  0.8120942944994876\n",
            "The f1 is  0.8691836548130542\n",
            "the auc  is  0.877649755348577\n",
            "\n",
            "confusion_matrix \n",
            "  [[5497  331]\n",
            " [1100 4754]]\n",
            "\n",
            "Classification Report\n",
            "\n",
            "              precision    recall  f1-score   support\n",
            "\n",
            "           0       0.83      0.94      0.88      5828\n",
            "           1       0.93      0.81      0.87      5854\n",
            "\n",
            "    accuracy                           0.88     11682\n",
            "   macro avg       0.88      0.88      0.88     11682\n",
            "weighted avg       0.88      0.88      0.88     11682\n",
            "\n"
          ]
        }
      ]
    },
    {
      "cell_type": "code",
      "metadata": {
        "colab": {
          "base_uri": "https://localhost:8080/"
        },
        "id": "1Ml8dUNnb5fJ",
        "outputId": "c77eaee8-84fb-479d-d8c2-294fdf6283ba"
      },
      "source": [
        "grid_xgboost_model.best_estimator_"
      ],
      "execution_count": 97,
      "outputs": [
        {
          "output_type": "execute_result",
          "data": {
            "text/plain": [
              "XGBClassifier(base_score=0.5, booster='gbtree', colsample_bylevel=1,\n",
              "              colsample_bynode=1, colsample_bytree=1, gamma=0,\n",
              "              learning_rate=0.1, max_delta_step=0, max_depth=9,\n",
              "              min_child_weight=1, missing=None, n_estimators=50, n_jobs=1,\n",
              "              nthread=None, objective='binary:logistic', random_state=0,\n",
              "              reg_alpha=0, reg_lambda=1, scale_pos_weight=1, seed=None,\n",
              "              silent=None, subsample=1, verbosity=1)"
            ]
          },
          "metadata": {},
          "execution_count": 97
        }
      ]
    },
    {
      "cell_type": "code",
      "metadata": {
        "id": "bIahtIQdiFb0"
      },
      "source": [
        "optimal_xgboost_model=grid_xgboost_model.best_estimator_"
      ],
      "execution_count": 98,
      "outputs": []
    },
    {
      "cell_type": "code",
      "metadata": {
        "colab": {
          "base_uri": "https://localhost:8080/",
          "height": 0
        },
        "id": "Cr6CRiJgiVf4",
        "outputId": "fa1f4d73-997f-47ee-fa5d-9dafa8a35374"
      },
      "source": [
        "get_features_importance(optimal_xgboost_model,X_train)"
      ],
      "execution_count": 99,
      "outputs": [
        {
          "output_type": "stream",
          "name": "stdout",
          "text": [
            "==========================Features Importance============================\n",
            "\n",
            " XGBClassifier(base_score=0.5, booster='gbtree', colsample_bylevel=1,\n",
            "              colsample_bynode=1, colsample_bytree=1, gamma=0,\n",
            "              learning_rate=0.1, max_delta_step=0, max_depth=9,\n",
            "              min_child_weight=1, missing=None, n_estimators=50, n_jobs=1,\n",
            "              nthread=None, objective='binary:logistic', random_state=0,\n",
            "              reg_alpha=0, reg_lambda=1, scale_pos_weight=1, seed=None,\n",
            "              silent=None, subsample=1, verbosity=1)  \n",
            "=========================================================================\n",
            "\n"
          ]
        },
        {
          "output_type": "display_data",
          "data": {
            "image/png": "[encoded data removed]",
            "text/plain": [
              "<Figure size 1080x360 with 1 Axes>"
            ]
          },
          "metadata": {
            "needs_background": "light"
          }
        }
      ]
    },
    {
      "cell_type": "markdown",
      "metadata": {
        "id": "FKBMHBWPCxEj"
      },
      "source": [
        "---\n",
        "# CatBoost\n",
        "---"
      ]
    },
    {
      "cell_type": "code",
      "metadata": {
        "colab": {
          "base_uri": "https://localhost:8080/"
        },
        "id": "LD2KzpZtBP5u",
        "outputId": "4f2b7978-f98c-4c9d-fb35-2de7d18a8a25"
      },
      "source": [
        "!pip install catboost"
      ],
      "execution_count": 100,
      "outputs": [
        {
          "output_type": "stream",
          "name": "stdout",
          "text": [
            "Collecting catboost\n",
            "  Downloading catboost-1.0.0-cp37-none-manylinux1_x86_64.whl (76.4 MB)\n",
            "\u001b[K     |████████████████████████████████| 76.4 MB 21 kB/s \n",
            "\u001b[?25hRequirement already satisfied: graphviz in /usr/local/lib/python3.7/dist-packages (from catboost) (0.10.1)\n",
            "Requirement already satisfied: plotly in /usr/local/lib/python3.7/dist-packages (from catboost) (4.4.1)\n",
            "Requirement already satisfied: numpy>=1.16.0 in /usr/local/lib/python3.7/dist-packages (from catboost) (1.19.5)\n",
            "Requirement already satisfied: pandas>=0.24.0 in /usr/local/lib/python3.7/dist-packages (from catboost) (1.1.5)\n",
            "Requirement already satisfied: six in /usr/local/lib/python3.7/dist-packages (from catboost) (1.15.0)\n",
            "Requirement already satisfied: scipy in /usr/local/lib/python3.7/dist-packages (from catboost) (1.4.1)\n",
            "Requirement already satisfied: matplotlib in /usr/local/lib/python3.7/dist-packages (from catboost) (3.2.2)\n",
            "Requirement already satisfied: python-dateutil>=2.7.3 in /usr/local/lib/python3.7/dist-packages (from pandas>=0.24.0->catboost) (2.8.2)\n",
            "Requirement already satisfied: pytz>=2017.2 in /usr/local/lib/python3.7/dist-packages (from pandas>=0.24.0->catboost) (2018.9)\n",
            "Requirement already satisfied: pyparsing!=2.0.4,!=2.1.2,!=2.1.6,>=2.0.1 in /usr/local/lib/python3.7/dist-packages (from matplotlib->catboost) (2.4.7)\n",
            "Requirement already satisfied: kiwisolver>=1.0.1 in /usr/local/lib/python3.7/dist-packages (from matplotlib->catboost) (1.3.2)\n",
            "Requirement already satisfied: cycler>=0.10 in /usr/local/lib/python3.7/dist-packages (from matplotlib->catboost) (0.10.0)\n",
            "Requirement already satisfied: retrying>=1.3.3 in /usr/local/lib/python3.7/dist-packages (from plotly->catboost) (1.3.3)\n",
            "Installing collected packages: catboost\n",
            "Successfully installed catboost-1.0.0\n"
          ]
        }
      ]
    },
    {
      "cell_type": "code",
      "metadata": {
        "id": "jM3gEkvre3MN"
      },
      "source": [
        "from catboost import CatBoostClassifier"
      ],
      "execution_count": 101,
      "outputs": []
    },
    {
      "cell_type": "code",
      "metadata": {
        "id": "DQOjsxlGBvZH"
      },
      "source": [
        "cb_model=CatBoostClassifier(verbose=0)"
      ],
      "execution_count": 102,
      "outputs": []
    },
    {
      "cell_type": "code",
      "metadata": {
        "id": "czik2FScCKDd"
      },
      "source": [
        "cb_model=CatBoostClassifier()"
      ],
      "execution_count": 103,
      "outputs": []
    },
    {
      "cell_type": "code",
      "metadata": {
        "colab": {
          "base_uri": "https://localhost:8080/"
        },
        "id": "MzkmYAX1hXP8",
        "outputId": "239406f0-536c-41ec-8dfc-cf47fec2c717"
      },
      "source": [
        "run_and_evaluate_model(cb_model,X_train,X_test,y_train,y_test)"
      ],
      "execution_count": 104,
      "outputs": [
        {
          "output_type": "stream",
          "name": "stdout",
          "text": [
            "Learning rate set to 0.047043\n",
            "0:\tlearn: 0.6495094\ttotal: 60.6ms\tremaining: 1m\n",
            "1:\tlearn: 0.6184742\ttotal: 73.8ms\tremaining: 36.8s\n",
            "2:\tlearn: 0.5926794\ttotal: 86.1ms\tremaining: 28.6s\n",
            "3:\tlearn: 0.5704517\ttotal: 98.3ms\tremaining: 24.5s\n",
            "4:\tlearn: 0.5607042\ttotal: 111ms\tremaining: 22.1s\n",
            "5:\tlearn: 0.5519722\ttotal: 124ms\tremaining: 20.5s\n",
            "6:\tlearn: 0.5437744\ttotal: 137ms\tremaining: 19.4s\n",
            "7:\tlearn: 0.5269031\ttotal: 148ms\tremaining: 18.4s\n",
            "8:\tlearn: 0.5123807\ttotal: 161ms\tremaining: 17.7s\n",
            "9:\tlearn: 0.4935529\ttotal: 173ms\tremaining: 17.1s\n",
            "10:\tlearn: 0.4756403\ttotal: 185ms\tremaining: 16.7s\n",
            "11:\tlearn: 0.4625358\ttotal: 203ms\tremaining: 16.7s\n",
            "12:\tlearn: 0.4548277\ttotal: 216ms\tremaining: 16.4s\n",
            "13:\tlearn: 0.4504283\ttotal: 229ms\tremaining: 16.1s\n",
            "14:\tlearn: 0.4403968\ttotal: 242ms\tremaining: 15.9s\n",
            "15:\tlearn: 0.4342552\ttotal: 257ms\tremaining: 15.8s\n",
            "16:\tlearn: 0.4268764\ttotal: 269ms\tremaining: 15.6s\n",
            "17:\tlearn: 0.4215740\ttotal: 282ms\tremaining: 15.4s\n",
            "18:\tlearn: 0.4188026\ttotal: 296ms\tremaining: 15.3s\n",
            "19:\tlearn: 0.4117163\ttotal: 316ms\tremaining: 15.5s\n",
            "20:\tlearn: 0.4072634\ttotal: 329ms\tremaining: 15.4s\n",
            "21:\tlearn: 0.4039245\ttotal: 343ms\tremaining: 15.2s\n",
            "22:\tlearn: 0.4018059\ttotal: 355ms\tremaining: 15.1s\n",
            "23:\tlearn: 0.3998249\ttotal: 369ms\tremaining: 15s\n",
            "24:\tlearn: 0.3927632\ttotal: 383ms\tremaining: 14.9s\n",
            "25:\tlearn: 0.3911523\ttotal: 396ms\tremaining: 14.8s\n",
            "26:\tlearn: 0.3817896\ttotal: 413ms\tremaining: 14.9s\n",
            "27:\tlearn: 0.3775929\ttotal: 427ms\tremaining: 14.8s\n",
            "28:\tlearn: 0.3761975\ttotal: 440ms\tremaining: 14.7s\n",
            "29:\tlearn: 0.3749083\ttotal: 453ms\tremaining: 14.6s\n",
            "30:\tlearn: 0.3725585\ttotal: 466ms\tremaining: 14.6s\n",
            "31:\tlearn: 0.3704696\ttotal: 479ms\tremaining: 14.5s\n",
            "32:\tlearn: 0.3693323\ttotal: 491ms\tremaining: 14.4s\n",
            "33:\tlearn: 0.3676843\ttotal: 504ms\tremaining: 14.3s\n",
            "34:\tlearn: 0.3639760\ttotal: 517ms\tremaining: 14.3s\n",
            "35:\tlearn: 0.3630447\ttotal: 530ms\tremaining: 14.2s\n",
            "36:\tlearn: 0.3620810\ttotal: 543ms\tremaining: 14.1s\n",
            "37:\tlearn: 0.3560979\ttotal: 560ms\tremaining: 14.2s\n",
            "38:\tlearn: 0.3551651\ttotal: 580ms\tremaining: 14.3s\n",
            "39:\tlearn: 0.3533748\ttotal: 593ms\tremaining: 14.2s\n",
            "40:\tlearn: 0.3485595\ttotal: 605ms\tremaining: 14.2s\n",
            "41:\tlearn: 0.3478910\ttotal: 625ms\tremaining: 14.2s\n",
            "42:\tlearn: 0.3471934\ttotal: 639ms\tremaining: 14.2s\n",
            "43:\tlearn: 0.3451070\ttotal: 652ms\tremaining: 14.2s\n",
            "44:\tlearn: 0.3444757\ttotal: 664ms\tremaining: 14.1s\n",
            "45:\tlearn: 0.3438811\ttotal: 676ms\tremaining: 14s\n",
            "46:\tlearn: 0.3432212\ttotal: 689ms\tremaining: 14s\n",
            "47:\tlearn: 0.3427027\ttotal: 702ms\tremaining: 13.9s\n",
            "48:\tlearn: 0.3417940\ttotal: 714ms\tremaining: 13.9s\n",
            "49:\tlearn: 0.3413733\ttotal: 732ms\tremaining: 13.9s\n",
            "50:\tlearn: 0.3388167\ttotal: 745ms\tremaining: 13.9s\n",
            "51:\tlearn: 0.3383470\ttotal: 760ms\tremaining: 13.8s\n",
            "52:\tlearn: 0.3360876\ttotal: 778ms\tremaining: 13.9s\n",
            "53:\tlearn: 0.3356942\ttotal: 790ms\tremaining: 13.8s\n",
            "54:\tlearn: 0.3320309\ttotal: 802ms\tremaining: 13.8s\n",
            "55:\tlearn: 0.3305938\ttotal: 820ms\tremaining: 13.8s\n",
            "56:\tlearn: 0.3300695\ttotal: 849ms\tremaining: 14s\n",
            "57:\tlearn: 0.3297078\ttotal: 881ms\tremaining: 14.3s\n",
            "58:\tlearn: 0.3292838\ttotal: 897ms\tremaining: 14.3s\n",
            "59:\tlearn: 0.3288755\ttotal: 913ms\tremaining: 14.3s\n",
            "60:\tlearn: 0.3274430\ttotal: 928ms\tremaining: 14.3s\n",
            "61:\tlearn: 0.3271599\ttotal: 943ms\tremaining: 14.3s\n",
            "62:\tlearn: 0.3268934\ttotal: 957ms\tremaining: 14.2s\n",
            "63:\tlearn: 0.3264715\ttotal: 972ms\tremaining: 14.2s\n",
            "64:\tlearn: 0.3261247\ttotal: 991ms\tremaining: 14.2s\n",
            "65:\tlearn: 0.3258855\ttotal: 1.01s\tremaining: 14.2s\n",
            "66:\tlearn: 0.3255567\ttotal: 1.02s\tremaining: 14.2s\n",
            "67:\tlearn: 0.3253119\ttotal: 1.03s\tremaining: 14.2s\n",
            "68:\tlearn: 0.3249916\ttotal: 1.06s\tremaining: 14.3s\n",
            "69:\tlearn: 0.3246858\ttotal: 1.07s\tremaining: 14.3s\n",
            "70:\tlearn: 0.3242783\ttotal: 1.09s\tremaining: 14.2s\n",
            "71:\tlearn: 0.3212998\ttotal: 1.11s\tremaining: 14.3s\n",
            "72:\tlearn: 0.3210807\ttotal: 1.13s\tremaining: 14.3s\n",
            "73:\tlearn: 0.3207439\ttotal: 1.14s\tremaining: 14.3s\n",
            "74:\tlearn: 0.3205271\ttotal: 1.16s\tremaining: 14.3s\n",
            "75:\tlearn: 0.3202827\ttotal: 1.17s\tremaining: 14.3s\n",
            "76:\tlearn: 0.3200281\ttotal: 1.19s\tremaining: 14.3s\n",
            "77:\tlearn: 0.3198011\ttotal: 1.21s\tremaining: 14.3s\n",
            "78:\tlearn: 0.3195829\ttotal: 1.22s\tremaining: 14.3s\n",
            "79:\tlearn: 0.3193664\ttotal: 1.25s\tremaining: 14.3s\n",
            "80:\tlearn: 0.3191493\ttotal: 1.28s\tremaining: 14.6s\n",
            "81:\tlearn: 0.3188732\ttotal: 1.3s\tremaining: 14.6s\n",
            "82:\tlearn: 0.3186185\ttotal: 1.32s\tremaining: 14.6s\n",
            "83:\tlearn: 0.3183587\ttotal: 1.33s\tremaining: 14.6s\n",
            "84:\tlearn: 0.3181851\ttotal: 1.35s\tremaining: 14.6s\n",
            "85:\tlearn: 0.3179985\ttotal: 1.37s\tremaining: 14.5s\n",
            "86:\tlearn: 0.3178511\ttotal: 1.39s\tremaining: 14.5s\n",
            "87:\tlearn: 0.3176468\ttotal: 1.4s\tremaining: 14.5s\n",
            "88:\tlearn: 0.3172163\ttotal: 1.42s\tremaining: 14.5s\n",
            "89:\tlearn: 0.3152382\ttotal: 1.44s\tremaining: 14.5s\n",
            "90:\tlearn: 0.3149164\ttotal: 1.45s\tremaining: 14.5s\n",
            "91:\tlearn: 0.3146780\ttotal: 1.47s\tremaining: 14.5s\n",
            "92:\tlearn: 0.3145524\ttotal: 1.49s\tremaining: 14.6s\n",
            "93:\tlearn: 0.3144328\ttotal: 1.51s\tremaining: 14.6s\n",
            "94:\tlearn: 0.3142607\ttotal: 1.53s\tremaining: 14.6s\n",
            "95:\tlearn: 0.3141189\ttotal: 1.54s\tremaining: 14.5s\n",
            "96:\tlearn: 0.3137054\ttotal: 1.56s\tremaining: 14.5s\n",
            "97:\tlearn: 0.3135542\ttotal: 1.58s\tremaining: 14.5s\n",
            "98:\tlearn: 0.3133912\ttotal: 1.59s\tremaining: 14.5s\n",
            "99:\tlearn: 0.3132384\ttotal: 1.61s\tremaining: 14.5s\n",
            "100:\tlearn: 0.3131250\ttotal: 1.63s\tremaining: 14.5s\n",
            "101:\tlearn: 0.3129596\ttotal: 1.64s\tremaining: 14.5s\n",
            "102:\tlearn: 0.3127686\ttotal: 1.66s\tremaining: 14.4s\n",
            "103:\tlearn: 0.3125884\ttotal: 1.68s\tremaining: 14.4s\n",
            "104:\tlearn: 0.3125095\ttotal: 1.69s\tremaining: 14.4s\n",
            "105:\tlearn: 0.3122997\ttotal: 1.72s\tremaining: 14.5s\n",
            "106:\tlearn: 0.3121193\ttotal: 1.73s\tremaining: 14.5s\n",
            "107:\tlearn: 0.3120006\ttotal: 1.76s\tremaining: 14.5s\n",
            "108:\tlearn: 0.3118846\ttotal: 1.77s\tremaining: 14.5s\n",
            "109:\tlearn: 0.3117722\ttotal: 1.79s\tremaining: 14.5s\n",
            "110:\tlearn: 0.3115059\ttotal: 1.81s\tremaining: 14.5s\n",
            "111:\tlearn: 0.3113834\ttotal: 1.82s\tremaining: 14.5s\n",
            "112:\tlearn: 0.3113178\ttotal: 1.84s\tremaining: 14.4s\n",
            "113:\tlearn: 0.3112285\ttotal: 1.85s\tremaining: 14.4s\n",
            "114:\tlearn: 0.3110791\ttotal: 1.87s\tremaining: 14.4s\n",
            "115:\tlearn: 0.3109806\ttotal: 1.88s\tremaining: 14.4s\n",
            "116:\tlearn: 0.3108055\ttotal: 1.91s\tremaining: 14.4s\n",
            "117:\tlearn: 0.3106309\ttotal: 1.92s\tremaining: 14.4s\n",
            "118:\tlearn: 0.3105395\ttotal: 1.95s\tremaining: 14.4s\n",
            "119:\tlearn: 0.3102372\ttotal: 1.97s\tremaining: 14.4s\n",
            "120:\tlearn: 0.3101398\ttotal: 1.98s\tremaining: 14.4s\n",
            "121:\tlearn: 0.3099863\ttotal: 2s\tremaining: 14.4s\n",
            "122:\tlearn: 0.3099070\ttotal: 2.02s\tremaining: 14.4s\n",
            "123:\tlearn: 0.3097733\ttotal: 2.04s\tremaining: 14.4s\n",
            "124:\tlearn: 0.3097041\ttotal: 2.05s\tremaining: 14.4s\n",
            "125:\tlearn: 0.3095827\ttotal: 2.07s\tremaining: 14.3s\n",
            "126:\tlearn: 0.3080823\ttotal: 2.08s\tremaining: 14.3s\n",
            "127:\tlearn: 0.3079849\ttotal: 2.1s\tremaining: 14.3s\n",
            "128:\tlearn: 0.3078727\ttotal: 2.12s\tremaining: 14.3s\n",
            "129:\tlearn: 0.3077622\ttotal: 2.14s\tremaining: 14.3s\n",
            "130:\tlearn: 0.3075787\ttotal: 2.15s\tremaining: 14.3s\n",
            "131:\tlearn: 0.3074409\ttotal: 2.17s\tremaining: 14.3s\n",
            "132:\tlearn: 0.3072887\ttotal: 2.19s\tremaining: 14.3s\n",
            "133:\tlearn: 0.3068914\ttotal: 2.21s\tremaining: 14.3s\n",
            "134:\tlearn: 0.3067590\ttotal: 2.23s\tremaining: 14.3s\n",
            "135:\tlearn: 0.3066216\ttotal: 2.24s\tremaining: 14.3s\n",
            "136:\tlearn: 0.3064258\ttotal: 2.26s\tremaining: 14.3s\n",
            "137:\tlearn: 0.3063274\ttotal: 2.28s\tremaining: 14.2s\n",
            "138:\tlearn: 0.3057402\ttotal: 2.29s\tremaining: 14.2s\n",
            "139:\tlearn: 0.3055906\ttotal: 2.31s\tremaining: 14.2s\n",
            "140:\tlearn: 0.3054615\ttotal: 2.33s\tremaining: 14.2s\n",
            "141:\tlearn: 0.3052869\ttotal: 2.35s\tremaining: 14.2s\n",
            "142:\tlearn: 0.3051721\ttotal: 2.36s\tremaining: 14.2s\n",
            "143:\tlearn: 0.3050974\ttotal: 2.38s\tremaining: 14.1s\n",
            "144:\tlearn: 0.3049594\ttotal: 2.4s\tremaining: 14.2s\n",
            "145:\tlearn: 0.3048852\ttotal: 2.42s\tremaining: 14.2s\n",
            "146:\tlearn: 0.3047578\ttotal: 2.44s\tremaining: 14.2s\n",
            "147:\tlearn: 0.3046434\ttotal: 2.46s\tremaining: 14.2s\n",
            "148:\tlearn: 0.3044770\ttotal: 2.48s\tremaining: 14.1s\n",
            "149:\tlearn: 0.3043487\ttotal: 2.49s\tremaining: 14.1s\n",
            "150:\tlearn: 0.3042915\ttotal: 2.51s\tremaining: 14.1s\n",
            "151:\tlearn: 0.3041769\ttotal: 2.52s\tremaining: 14.1s\n",
            "152:\tlearn: 0.3041236\ttotal: 2.55s\tremaining: 14.1s\n",
            "153:\tlearn: 0.3038587\ttotal: 2.56s\tremaining: 14.1s\n",
            "154:\tlearn: 0.3037143\ttotal: 2.58s\tremaining: 14.1s\n",
            "155:\tlearn: 0.3036508\ttotal: 2.6s\tremaining: 14s\n",
            "156:\tlearn: 0.3035523\ttotal: 2.61s\tremaining: 14s\n",
            "157:\tlearn: 0.3034327\ttotal: 2.63s\tremaining: 14s\n",
            "158:\tlearn: 0.3032928\ttotal: 2.64s\tremaining: 14s\n",
            "159:\tlearn: 0.3031836\ttotal: 2.66s\tremaining: 14s\n",
            "160:\tlearn: 0.3030654\ttotal: 2.68s\tremaining: 14s\n",
            "161:\tlearn: 0.3029851\ttotal: 2.69s\tremaining: 13.9s\n",
            "162:\tlearn: 0.3028951\ttotal: 2.71s\tremaining: 13.9s\n",
            "163:\tlearn: 0.3027666\ttotal: 2.73s\tremaining: 13.9s\n",
            "164:\tlearn: 0.3026158\ttotal: 2.74s\tremaining: 13.9s\n",
            "165:\tlearn: 0.3024719\ttotal: 2.77s\tremaining: 13.9s\n",
            "166:\tlearn: 0.3021423\ttotal: 2.79s\tremaining: 13.9s\n",
            "167:\tlearn: 0.3020290\ttotal: 2.81s\tremaining: 13.9s\n",
            "168:\tlearn: 0.3019475\ttotal: 2.83s\tremaining: 13.9s\n",
            "169:\tlearn: 0.3018338\ttotal: 2.84s\tremaining: 13.9s\n",
            "170:\tlearn: 0.3017642\ttotal: 2.86s\tremaining: 13.9s\n",
            "171:\tlearn: 0.3016330\ttotal: 2.88s\tremaining: 13.9s\n",
            "172:\tlearn: 0.3015271\ttotal: 2.9s\tremaining: 13.9s\n",
            "173:\tlearn: 0.3014321\ttotal: 2.92s\tremaining: 13.8s\n",
            "174:\tlearn: 0.3009643\ttotal: 2.93s\tremaining: 13.8s\n",
            "175:\tlearn: 0.3008020\ttotal: 2.95s\tremaining: 13.8s\n",
            "176:\tlearn: 0.3007285\ttotal: 2.97s\tremaining: 13.8s\n",
            "177:\tlearn: 0.3006195\ttotal: 2.99s\tremaining: 13.8s\n",
            "178:\tlearn: 0.3004478\ttotal: 3s\tremaining: 13.8s\n",
            "179:\tlearn: 0.3003347\ttotal: 3.02s\tremaining: 13.8s\n",
            "180:\tlearn: 0.3002242\ttotal: 3.04s\tremaining: 13.7s\n",
            "181:\tlearn: 0.3001164\ttotal: 3.05s\tremaining: 13.7s\n",
            "182:\tlearn: 0.3000199\ttotal: 3.07s\tremaining: 13.7s\n",
            "183:\tlearn: 0.2999415\ttotal: 3.09s\tremaining: 13.7s\n",
            "184:\tlearn: 0.2998726\ttotal: 3.1s\tremaining: 13.7s\n",
            "185:\tlearn: 0.2997745\ttotal: 3.12s\tremaining: 13.6s\n",
            "186:\tlearn: 0.2996737\ttotal: 3.13s\tremaining: 13.6s\n",
            "187:\tlearn: 0.2995980\ttotal: 3.15s\tremaining: 13.6s\n",
            "188:\tlearn: 0.2995033\ttotal: 3.17s\tremaining: 13.6s\n",
            "189:\tlearn: 0.2994078\ttotal: 3.18s\tremaining: 13.6s\n",
            "190:\tlearn: 0.2988664\ttotal: 3.21s\tremaining: 13.6s\n",
            "191:\tlearn: 0.2987777\ttotal: 3.22s\tremaining: 13.6s\n",
            "192:\tlearn: 0.2986865\ttotal: 3.24s\tremaining: 13.6s\n",
            "193:\tlearn: 0.2985185\ttotal: 3.26s\tremaining: 13.6s\n",
            "194:\tlearn: 0.2984236\ttotal: 3.28s\tremaining: 13.5s\n",
            "195:\tlearn: 0.2983186\ttotal: 3.29s\tremaining: 13.5s\n",
            "196:\tlearn: 0.2982143\ttotal: 3.31s\tremaining: 13.5s\n",
            "197:\tlearn: 0.2980945\ttotal: 3.33s\tremaining: 13.5s\n",
            "198:\tlearn: 0.2979912\ttotal: 3.34s\tremaining: 13.5s\n",
            "199:\tlearn: 0.2978622\ttotal: 3.36s\tremaining: 13.4s\n",
            "200:\tlearn: 0.2977835\ttotal: 3.38s\tremaining: 13.4s\n",
            "201:\tlearn: 0.2976473\ttotal: 3.39s\tremaining: 13.4s\n",
            "202:\tlearn: 0.2975683\ttotal: 3.41s\tremaining: 13.4s\n",
            "203:\tlearn: 0.2974677\ttotal: 3.43s\tremaining: 13.4s\n",
            "204:\tlearn: 0.2973134\ttotal: 3.44s\tremaining: 13.4s\n",
            "205:\tlearn: 0.2972303\ttotal: 3.47s\tremaining: 13.4s\n",
            "206:\tlearn: 0.2971385\ttotal: 3.48s\tremaining: 13.3s\n",
            "207:\tlearn: 0.2970510\ttotal: 3.5s\tremaining: 13.3s\n",
            "208:\tlearn: 0.2969735\ttotal: 3.53s\tremaining: 13.4s\n",
            "209:\tlearn: 0.2968652\ttotal: 3.57s\tremaining: 13.4s\n",
            "210:\tlearn: 0.2954524\ttotal: 3.61s\tremaining: 13.5s\n",
            "211:\tlearn: 0.2953507\ttotal: 3.65s\tremaining: 13.6s\n",
            "212:\tlearn: 0.2952534\ttotal: 3.67s\tremaining: 13.6s\n",
            "213:\tlearn: 0.2950831\ttotal: 3.69s\tremaining: 13.5s\n",
            "214:\tlearn: 0.2949803\ttotal: 3.71s\tremaining: 13.5s\n",
            "215:\tlearn: 0.2948971\ttotal: 3.72s\tremaining: 13.5s\n",
            "216:\tlearn: 0.2948019\ttotal: 3.74s\tremaining: 13.5s\n",
            "217:\tlearn: 0.2947105\ttotal: 3.77s\tremaining: 13.5s\n",
            "218:\tlearn: 0.2946164\ttotal: 3.79s\tremaining: 13.5s\n",
            "219:\tlearn: 0.2944793\ttotal: 3.8s\tremaining: 13.5s\n",
            "220:\tlearn: 0.2943865\ttotal: 3.83s\tremaining: 13.5s\n",
            "221:\tlearn: 0.2942887\ttotal: 3.84s\tremaining: 13.5s\n",
            "222:\tlearn: 0.2942161\ttotal: 3.86s\tremaining: 13.4s\n",
            "223:\tlearn: 0.2941239\ttotal: 3.87s\tremaining: 13.4s\n",
            "224:\tlearn: 0.2939919\ttotal: 3.89s\tremaining: 13.4s\n",
            "225:\tlearn: 0.2938913\ttotal: 3.9s\tremaining: 13.4s\n",
            "226:\tlearn: 0.2938030\ttotal: 3.92s\tremaining: 13.4s\n",
            "227:\tlearn: 0.2936625\ttotal: 3.94s\tremaining: 13.3s\n",
            "228:\tlearn: 0.2934377\ttotal: 3.95s\tremaining: 13.3s\n",
            "229:\tlearn: 0.2933508\ttotal: 3.97s\tremaining: 13.3s\n",
            "230:\tlearn: 0.2932443\ttotal: 3.99s\tremaining: 13.3s\n",
            "231:\tlearn: 0.2931574\ttotal: 4.01s\tremaining: 13.3s\n",
            "232:\tlearn: 0.2930667\ttotal: 4.02s\tremaining: 13.2s\n",
            "233:\tlearn: 0.2928880\ttotal: 4.04s\tremaining: 13.2s\n",
            "234:\tlearn: 0.2927507\ttotal: 4.07s\tremaining: 13.2s\n",
            "235:\tlearn: 0.2926306\ttotal: 4.08s\tremaining: 13.2s\n",
            "236:\tlearn: 0.2925318\ttotal: 4.11s\tremaining: 13.2s\n",
            "237:\tlearn: 0.2924267\ttotal: 4.12s\tremaining: 13.2s\n",
            "238:\tlearn: 0.2923090\ttotal: 4.14s\tremaining: 13.2s\n",
            "239:\tlearn: 0.2921767\ttotal: 4.16s\tremaining: 13.2s\n",
            "240:\tlearn: 0.2920502\ttotal: 4.18s\tremaining: 13.2s\n",
            "241:\tlearn: 0.2919639\ttotal: 4.19s\tremaining: 13.1s\n",
            "242:\tlearn: 0.2918961\ttotal: 4.21s\tremaining: 13.1s\n",
            "243:\tlearn: 0.2915559\ttotal: 4.23s\tremaining: 13.1s\n",
            "244:\tlearn: 0.2914436\ttotal: 4.25s\tremaining: 13.1s\n",
            "245:\tlearn: 0.2913490\ttotal: 4.26s\tremaining: 13.1s\n",
            "246:\tlearn: 0.2912565\ttotal: 4.28s\tremaining: 13.1s\n",
            "247:\tlearn: 0.2911750\ttotal: 4.3s\tremaining: 13s\n",
            "248:\tlearn: 0.2911007\ttotal: 4.31s\tremaining: 13s\n",
            "249:\tlearn: 0.2910105\ttotal: 4.33s\tremaining: 13s\n",
            "250:\tlearn: 0.2909243\ttotal: 4.34s\tremaining: 13s\n",
            "251:\tlearn: 0.2908298\ttotal: 4.36s\tremaining: 12.9s\n",
            "252:\tlearn: 0.2906970\ttotal: 4.38s\tremaining: 12.9s\n",
            "253:\tlearn: 0.2906102\ttotal: 4.39s\tremaining: 12.9s\n",
            "254:\tlearn: 0.2904786\ttotal: 4.41s\tremaining: 12.9s\n",
            "255:\tlearn: 0.2903495\ttotal: 4.42s\tremaining: 12.9s\n",
            "256:\tlearn: 0.2902681\ttotal: 4.44s\tremaining: 12.8s\n",
            "257:\tlearn: 0.2901541\ttotal: 4.46s\tremaining: 12.8s\n",
            "258:\tlearn: 0.2900656\ttotal: 4.48s\tremaining: 12.8s\n",
            "259:\tlearn: 0.2899739\ttotal: 4.5s\tremaining: 12.8s\n",
            "260:\tlearn: 0.2898796\ttotal: 4.51s\tremaining: 12.8s\n",
            "261:\tlearn: 0.2897925\ttotal: 4.53s\tremaining: 12.8s\n",
            "262:\tlearn: 0.2896568\ttotal: 4.55s\tremaining: 12.7s\n",
            "263:\tlearn: 0.2895584\ttotal: 4.56s\tremaining: 12.7s\n",
            "264:\tlearn: 0.2894842\ttotal: 4.58s\tremaining: 12.7s\n",
            "265:\tlearn: 0.2891688\ttotal: 4.6s\tremaining: 12.7s\n",
            "266:\tlearn: 0.2890925\ttotal: 4.62s\tremaining: 12.7s\n",
            "267:\tlearn: 0.2889734\ttotal: 4.64s\tremaining: 12.7s\n",
            "268:\tlearn: 0.2888632\ttotal: 4.66s\tremaining: 12.7s\n",
            "269:\tlearn: 0.2878256\ttotal: 4.68s\tremaining: 12.7s\n",
            "270:\tlearn: 0.2877342\ttotal: 4.7s\tremaining: 12.7s\n",
            "271:\tlearn: 0.2875388\ttotal: 4.72s\tremaining: 12.6s\n",
            "272:\tlearn: 0.2874376\ttotal: 4.74s\tremaining: 12.6s\n",
            "273:\tlearn: 0.2873522\ttotal: 4.76s\tremaining: 12.6s\n",
            "274:\tlearn: 0.2872381\ttotal: 4.78s\tremaining: 12.6s\n",
            "275:\tlearn: 0.2870720\ttotal: 4.8s\tremaining: 12.6s\n",
            "276:\tlearn: 0.2869855\ttotal: 4.82s\tremaining: 12.6s\n",
            "277:\tlearn: 0.2868434\ttotal: 4.83s\tremaining: 12.6s\n",
            "278:\tlearn: 0.2867318\ttotal: 4.85s\tremaining: 12.5s\n",
            "279:\tlearn: 0.2866253\ttotal: 4.87s\tremaining: 12.5s\n",
            "280:\tlearn: 0.2865516\ttotal: 4.89s\tremaining: 12.5s\n",
            "281:\tlearn: 0.2864680\ttotal: 4.91s\tremaining: 12.5s\n",
            "282:\tlearn: 0.2863955\ttotal: 4.92s\tremaining: 12.5s\n",
            "283:\tlearn: 0.2863245\ttotal: 4.94s\tremaining: 12.5s\n",
            "284:\tlearn: 0.2862075\ttotal: 4.96s\tremaining: 12.4s\n",
            "285:\tlearn: 0.2861191\ttotal: 4.97s\tremaining: 12.4s\n",
            "286:\tlearn: 0.2860163\ttotal: 4.99s\tremaining: 12.4s\n",
            "287:\tlearn: 0.2858778\ttotal: 5.01s\tremaining: 12.4s\n",
            "288:\tlearn: 0.2857888\ttotal: 5.02s\tremaining: 12.4s\n",
            "289:\tlearn: 0.2857217\ttotal: 5.04s\tremaining: 12.3s\n",
            "290:\tlearn: 0.2856547\ttotal: 5.06s\tremaining: 12.3s\n",
            "291:\tlearn: 0.2855377\ttotal: 5.08s\tremaining: 12.3s\n",
            "292:\tlearn: 0.2854470\ttotal: 5.1s\tremaining: 12.3s\n",
            "293:\tlearn: 0.2853460\ttotal: 5.12s\tremaining: 12.3s\n",
            "294:\tlearn: 0.2852031\ttotal: 5.13s\tremaining: 12.3s\n",
            "295:\tlearn: 0.2851008\ttotal: 5.15s\tremaining: 12.3s\n",
            "296:\tlearn: 0.2849939\ttotal: 5.17s\tremaining: 12.2s\n",
            "297:\tlearn: 0.2848839\ttotal: 5.18s\tremaining: 12.2s\n",
            "298:\tlearn: 0.2847732\ttotal: 5.2s\tremaining: 12.2s\n",
            "299:\tlearn: 0.2846649\ttotal: 5.22s\tremaining: 12.2s\n",
            "300:\tlearn: 0.2845968\ttotal: 5.25s\tremaining: 12.2s\n",
            "301:\tlearn: 0.2844990\ttotal: 5.27s\tremaining: 12.2s\n",
            "302:\tlearn: 0.2843408\ttotal: 5.33s\tremaining: 12.3s\n",
            "303:\tlearn: 0.2842531\ttotal: 5.36s\tremaining: 12.3s\n",
            "304:\tlearn: 0.2841566\ttotal: 5.38s\tremaining: 12.3s\n",
            "305:\tlearn: 0.2840260\ttotal: 5.41s\tremaining: 12.3s\n",
            "306:\tlearn: 0.2839261\ttotal: 5.43s\tremaining: 12.3s\n",
            "307:\tlearn: 0.2838126\ttotal: 5.45s\tremaining: 12.2s\n",
            "308:\tlearn: 0.2836851\ttotal: 5.47s\tremaining: 12.2s\n",
            "309:\tlearn: 0.2836065\ttotal: 5.49s\tremaining: 12.2s\n",
            "310:\tlearn: 0.2835042\ttotal: 5.51s\tremaining: 12.2s\n",
            "311:\tlearn: 0.2833127\ttotal: 5.56s\tremaining: 12.3s\n",
            "312:\tlearn: 0.2832386\ttotal: 5.58s\tremaining: 12.3s\n",
            "313:\tlearn: 0.2831527\ttotal: 5.61s\tremaining: 12.2s\n",
            "314:\tlearn: 0.2830432\ttotal: 5.63s\tremaining: 12.2s\n",
            "315:\tlearn: 0.2828782\ttotal: 5.64s\tremaining: 12.2s\n",
            "316:\tlearn: 0.2827919\ttotal: 5.67s\tremaining: 12.2s\n",
            "317:\tlearn: 0.2827198\ttotal: 5.69s\tremaining: 12.2s\n",
            "318:\tlearn: 0.2826728\ttotal: 5.71s\tremaining: 12.2s\n",
            "319:\tlearn: 0.2825646\ttotal: 5.73s\tremaining: 12.2s\n",
            "320:\tlearn: 0.2824406\ttotal: 5.75s\tremaining: 12.2s\n",
            "321:\tlearn: 0.2823474\ttotal: 5.8s\tremaining: 12.2s\n",
            "322:\tlearn: 0.2822484\ttotal: 5.83s\tremaining: 12.2s\n",
            "323:\tlearn: 0.2822067\ttotal: 5.85s\tremaining: 12.2s\n",
            "324:\tlearn: 0.2821369\ttotal: 5.87s\tremaining: 12.2s\n",
            "325:\tlearn: 0.2820605\ttotal: 5.89s\tremaining: 12.2s\n",
            "326:\tlearn: 0.2819685\ttotal: 5.92s\tremaining: 12.2s\n",
            "327:\tlearn: 0.2818767\ttotal: 5.94s\tremaining: 12.2s\n",
            "328:\tlearn: 0.2817210\ttotal: 5.96s\tremaining: 12.2s\n",
            "329:\tlearn: 0.2816203\ttotal: 5.98s\tremaining: 12.1s\n",
            "330:\tlearn: 0.2815352\ttotal: 6.01s\tremaining: 12.2s\n",
            "331:\tlearn: 0.2814715\ttotal: 6.03s\tremaining: 12.1s\n",
            "332:\tlearn: 0.2813958\ttotal: 6.05s\tremaining: 12.1s\n",
            "333:\tlearn: 0.2812935\ttotal: 6.08s\tremaining: 12.1s\n",
            "334:\tlearn: 0.2812356\ttotal: 6.09s\tremaining: 12.1s\n",
            "335:\tlearn: 0.2811743\ttotal: 6.12s\tremaining: 12.1s\n",
            "336:\tlearn: 0.2811025\ttotal: 6.16s\tremaining: 12.1s\n",
            "337:\tlearn: 0.2810196\ttotal: 6.18s\tremaining: 12.1s\n",
            "338:\tlearn: 0.2809328\ttotal: 6.21s\tremaining: 12.1s\n",
            "339:\tlearn: 0.2807867\ttotal: 6.25s\tremaining: 12.1s\n",
            "340:\tlearn: 0.2806886\ttotal: 6.28s\tremaining: 12.1s\n",
            "341:\tlearn: 0.2806202\ttotal: 6.3s\tremaining: 12.1s\n",
            "342:\tlearn: 0.2805393\ttotal: 6.33s\tremaining: 12.1s\n",
            "343:\tlearn: 0.2804695\ttotal: 6.35s\tremaining: 12.1s\n",
            "344:\tlearn: 0.2803400\ttotal: 6.37s\tremaining: 12.1s\n",
            "345:\tlearn: 0.2802517\ttotal: 6.39s\tremaining: 12.1s\n",
            "346:\tlearn: 0.2801064\ttotal: 6.42s\tremaining: 12.1s\n",
            "347:\tlearn: 0.2800181\ttotal: 6.47s\tremaining: 12.1s\n",
            "348:\tlearn: 0.2799639\ttotal: 6.5s\tremaining: 12.1s\n",
            "349:\tlearn: 0.2798982\ttotal: 6.53s\tremaining: 12.1s\n",
            "350:\tlearn: 0.2798315\ttotal: 6.56s\tremaining: 12.1s\n",
            "351:\tlearn: 0.2796982\ttotal: 6.58s\tremaining: 12.1s\n",
            "352:\tlearn: 0.2796016\ttotal: 6.61s\tremaining: 12.1s\n",
            "353:\tlearn: 0.2795408\ttotal: 6.65s\tremaining: 12.1s\n",
            "354:\tlearn: 0.2794893\ttotal: 6.68s\tremaining: 12.1s\n",
            "355:\tlearn: 0.2794125\ttotal: 6.7s\tremaining: 12.1s\n",
            "356:\tlearn: 0.2792896\ttotal: 6.73s\tremaining: 12.1s\n",
            "357:\tlearn: 0.2792096\ttotal: 6.75s\tremaining: 12.1s\n",
            "358:\tlearn: 0.2791028\ttotal: 6.78s\tremaining: 12.1s\n",
            "359:\tlearn: 0.2790496\ttotal: 6.81s\tremaining: 12.1s\n",
            "360:\tlearn: 0.2789668\ttotal: 6.84s\tremaining: 12.1s\n",
            "361:\tlearn: 0.2788705\ttotal: 6.87s\tremaining: 12.1s\n",
            "362:\tlearn: 0.2787739\ttotal: 6.9s\tremaining: 12.1s\n",
            "363:\tlearn: 0.2786741\ttotal: 6.93s\tremaining: 12.1s\n",
            "364:\tlearn: 0.2785729\ttotal: 6.96s\tremaining: 12.1s\n",
            "365:\tlearn: 0.2784620\ttotal: 6.98s\tremaining: 12.1s\n",
            "366:\tlearn: 0.2783262\ttotal: 7s\tremaining: 12.1s\n",
            "367:\tlearn: 0.2782625\ttotal: 7.04s\tremaining: 12.1s\n",
            "368:\tlearn: 0.2781763\ttotal: 7.06s\tremaining: 12.1s\n",
            "369:\tlearn: 0.2781294\ttotal: 7.08s\tremaining: 12.1s\n",
            "370:\tlearn: 0.2780513\ttotal: 7.13s\tremaining: 12.1s\n",
            "371:\tlearn: 0.2779545\ttotal: 7.16s\tremaining: 12.1s\n",
            "372:\tlearn: 0.2778123\ttotal: 7.2s\tremaining: 12.1s\n",
            "373:\tlearn: 0.2777262\ttotal: 7.22s\tremaining: 12.1s\n",
            "374:\tlearn: 0.2776050\ttotal: 7.26s\tremaining: 12.1s\n",
            "375:\tlearn: 0.2775053\ttotal: 7.28s\tremaining: 12.1s\n",
            "376:\tlearn: 0.2774052\ttotal: 7.31s\tremaining: 12.1s\n",
            "377:\tlearn: 0.2772790\ttotal: 7.34s\tremaining: 12.1s\n",
            "378:\tlearn: 0.2770998\ttotal: 7.36s\tremaining: 12.1s\n",
            "379:\tlearn: 0.2770499\ttotal: 7.39s\tremaining: 12.1s\n",
            "380:\tlearn: 0.2769399\ttotal: 7.41s\tremaining: 12s\n",
            "381:\tlearn: 0.2768708\ttotal: 7.43s\tremaining: 12s\n",
            "382:\tlearn: 0.2767683\ttotal: 7.46s\tremaining: 12s\n",
            "383:\tlearn: 0.2766968\ttotal: 7.48s\tremaining: 12s\n",
            "384:\tlearn: 0.2766062\ttotal: 7.5s\tremaining: 12s\n",
            "385:\tlearn: 0.2764940\ttotal: 7.54s\tremaining: 12s\n",
            "386:\tlearn: 0.2763864\ttotal: 7.57s\tremaining: 12s\n",
            "387:\tlearn: 0.2763073\ttotal: 7.61s\tremaining: 12s\n",
            "388:\tlearn: 0.2762193\ttotal: 7.63s\tremaining: 12s\n",
            "389:\tlearn: 0.2761140\ttotal: 7.65s\tremaining: 12s\n",
            "390:\tlearn: 0.2760188\ttotal: 7.68s\tremaining: 12s\n",
            "391:\tlearn: 0.2759307\ttotal: 7.71s\tremaining: 12s\n",
            "392:\tlearn: 0.2758618\ttotal: 7.73s\tremaining: 11.9s\n",
            "393:\tlearn: 0.2757941\ttotal: 7.75s\tremaining: 11.9s\n",
            "394:\tlearn: 0.2757251\ttotal: 7.78s\tremaining: 11.9s\n",
            "395:\tlearn: 0.2755897\ttotal: 7.83s\tremaining: 11.9s\n",
            "396:\tlearn: 0.2755232\ttotal: 7.87s\tremaining: 12s\n",
            "397:\tlearn: 0.2754365\ttotal: 7.89s\tremaining: 11.9s\n",
            "398:\tlearn: 0.2753730\ttotal: 7.9s\tremaining: 11.9s\n",
            "399:\tlearn: 0.2752736\ttotal: 7.92s\tremaining: 11.9s\n",
            "400:\tlearn: 0.2751837\ttotal: 7.93s\tremaining: 11.8s\n",
            "401:\tlearn: 0.2750501\ttotal: 7.94s\tremaining: 11.8s\n",
            "402:\tlearn: 0.2749368\ttotal: 7.96s\tremaining: 11.8s\n",
            "403:\tlearn: 0.2748583\ttotal: 7.97s\tremaining: 11.8s\n",
            "404:\tlearn: 0.2747346\ttotal: 7.99s\tremaining: 11.7s\n",
            "405:\tlearn: 0.2746559\ttotal: 8s\tremaining: 11.7s\n",
            "406:\tlearn: 0.2745458\ttotal: 8.01s\tremaining: 11.7s\n",
            "407:\tlearn: 0.2744537\ttotal: 8.02s\tremaining: 11.6s\n",
            "408:\tlearn: 0.2742828\ttotal: 8.04s\tremaining: 11.6s\n",
            "409:\tlearn: 0.2742259\ttotal: 8.05s\tremaining: 11.6s\n",
            "410:\tlearn: 0.2741393\ttotal: 8.06s\tremaining: 11.6s\n",
            "411:\tlearn: 0.2740676\ttotal: 8.08s\tremaining: 11.5s\n",
            "412:\tlearn: 0.2739739\ttotal: 8.09s\tremaining: 11.5s\n",
            "413:\tlearn: 0.2738571\ttotal: 8.1s\tremaining: 11.5s\n",
            "414:\tlearn: 0.2737425\ttotal: 8.12s\tremaining: 11.4s\n",
            "415:\tlearn: 0.2736326\ttotal: 8.13s\tremaining: 11.4s\n",
            "416:\tlearn: 0.2735270\ttotal: 8.14s\tremaining: 11.4s\n",
            "417:\tlearn: 0.2734539\ttotal: 8.16s\tremaining: 11.4s\n",
            "418:\tlearn: 0.2734094\ttotal: 8.17s\tremaining: 11.3s\n",
            "419:\tlearn: 0.2731128\ttotal: 8.19s\tremaining: 11.3s\n",
            "420:\tlearn: 0.2730654\ttotal: 8.2s\tremaining: 11.3s\n",
            "421:\tlearn: 0.2729354\ttotal: 8.21s\tremaining: 11.2s\n",
            "422:\tlearn: 0.2728415\ttotal: 8.23s\tremaining: 11.2s\n",
            "423:\tlearn: 0.2727514\ttotal: 8.24s\tremaining: 11.2s\n",
            "424:\tlearn: 0.2726478\ttotal: 8.25s\tremaining: 11.2s\n",
            "425:\tlearn: 0.2725567\ttotal: 8.27s\tremaining: 11.1s\n",
            "426:\tlearn: 0.2724833\ttotal: 8.28s\tremaining: 11.1s\n",
            "427:\tlearn: 0.2723849\ttotal: 8.29s\tremaining: 11.1s\n",
            "428:\tlearn: 0.2723100\ttotal: 8.3s\tremaining: 11.1s\n",
            "429:\tlearn: 0.2722211\ttotal: 8.32s\tremaining: 11s\n",
            "430:\tlearn: 0.2721294\ttotal: 8.33s\tremaining: 11s\n",
            "431:\tlearn: 0.2720565\ttotal: 8.34s\tremaining: 11s\n",
            "432:\tlearn: 0.2718993\ttotal: 8.36s\tremaining: 10.9s\n",
            "433:\tlearn: 0.2718352\ttotal: 8.37s\tremaining: 10.9s\n",
            "434:\tlearn: 0.2717397\ttotal: 8.38s\tremaining: 10.9s\n",
            "435:\tlearn: 0.2716463\ttotal: 8.4s\tremaining: 10.9s\n",
            "436:\tlearn: 0.2715613\ttotal: 8.41s\tremaining: 10.8s\n",
            "437:\tlearn: 0.2715057\ttotal: 8.43s\tremaining: 10.8s\n",
            "438:\tlearn: 0.2714013\ttotal: 8.44s\tremaining: 10.8s\n",
            "439:\tlearn: 0.2712711\ttotal: 8.45s\tremaining: 10.8s\n",
            "440:\tlearn: 0.2711675\ttotal: 8.47s\tremaining: 10.7s\n",
            "441:\tlearn: 0.2710594\ttotal: 8.48s\tremaining: 10.7s\n",
            "442:\tlearn: 0.2709891\ttotal: 8.49s\tremaining: 10.7s\n",
            "443:\tlearn: 0.2708951\ttotal: 8.51s\tremaining: 10.7s\n",
            "444:\tlearn: 0.2708161\ttotal: 8.52s\tremaining: 10.6s\n",
            "445:\tlearn: 0.2706845\ttotal: 8.53s\tremaining: 10.6s\n",
            "446:\tlearn: 0.2706192\ttotal: 8.54s\tremaining: 10.6s\n",
            "447:\tlearn: 0.2705171\ttotal: 8.56s\tremaining: 10.5s\n",
            "448:\tlearn: 0.2704469\ttotal: 8.57s\tremaining: 10.5s\n",
            "449:\tlearn: 0.2703706\ttotal: 8.58s\tremaining: 10.5s\n",
            "450:\tlearn: 0.2703074\ttotal: 8.59s\tremaining: 10.5s\n",
            "451:\tlearn: 0.2702199\ttotal: 8.62s\tremaining: 10.4s\n",
            "452:\tlearn: 0.2701023\ttotal: 8.63s\tremaining: 10.4s\n",
            "453:\tlearn: 0.2699854\ttotal: 8.64s\tremaining: 10.4s\n",
            "454:\tlearn: 0.2699396\ttotal: 8.66s\tremaining: 10.4s\n",
            "455:\tlearn: 0.2698738\ttotal: 8.67s\tremaining: 10.3s\n",
            "456:\tlearn: 0.2697954\ttotal: 8.68s\tremaining: 10.3s\n",
            "457:\tlearn: 0.2696872\ttotal: 8.7s\tremaining: 10.3s\n",
            "458:\tlearn: 0.2696010\ttotal: 8.71s\tremaining: 10.3s\n",
            "459:\tlearn: 0.2695282\ttotal: 8.72s\tremaining: 10.2s\n",
            "460:\tlearn: 0.2694466\ttotal: 8.74s\tremaining: 10.2s\n",
            "461:\tlearn: 0.2693624\ttotal: 8.75s\tremaining: 10.2s\n",
            "462:\tlearn: 0.2692821\ttotal: 8.76s\tremaining: 10.2s\n",
            "463:\tlearn: 0.2691739\ttotal: 8.78s\tremaining: 10.1s\n",
            "464:\tlearn: 0.2690835\ttotal: 8.79s\tremaining: 10.1s\n",
            "465:\tlearn: 0.2690434\ttotal: 8.8s\tremaining: 10.1s\n",
            "466:\tlearn: 0.2689307\ttotal: 8.82s\tremaining: 10.1s\n",
            "467:\tlearn: 0.2688655\ttotal: 8.83s\tremaining: 10s\n",
            "468:\tlearn: 0.2687804\ttotal: 8.85s\tremaining: 10s\n",
            "469:\tlearn: 0.2686951\ttotal: 8.87s\tremaining: 10s\n",
            "470:\tlearn: 0.2685832\ttotal: 8.88s\tremaining: 9.98s\n",
            "471:\tlearn: 0.2685160\ttotal: 8.9s\tremaining: 9.95s\n",
            "472:\tlearn: 0.2684436\ttotal: 8.91s\tremaining: 9.93s\n",
            "473:\tlearn: 0.2683384\ttotal: 8.92s\tremaining: 9.9s\n",
            "474:\tlearn: 0.2683044\ttotal: 8.94s\tremaining: 9.88s\n",
            "475:\tlearn: 0.2682579\ttotal: 8.95s\tremaining: 9.86s\n",
            "476:\tlearn: 0.2681984\ttotal: 8.96s\tremaining: 9.83s\n",
            "477:\tlearn: 0.2681253\ttotal: 8.98s\tremaining: 9.8s\n",
            "478:\tlearn: 0.2680006\ttotal: 8.99s\tremaining: 9.78s\n",
            "479:\tlearn: 0.2679263\ttotal: 9s\tremaining: 9.76s\n",
            "480:\tlearn: 0.2678192\ttotal: 9.02s\tremaining: 9.73s\n",
            "481:\tlearn: 0.2677502\ttotal: 9.04s\tremaining: 9.71s\n",
            "482:\tlearn: 0.2677241\ttotal: 9.05s\tremaining: 9.68s\n",
            "483:\tlearn: 0.2676152\ttotal: 9.06s\tremaining: 9.66s\n",
            "484:\tlearn: 0.2675120\ttotal: 9.07s\tremaining: 9.64s\n",
            "485:\tlearn: 0.2674119\ttotal: 9.09s\tremaining: 9.61s\n",
            "486:\tlearn: 0.2673605\ttotal: 9.1s\tremaining: 9.59s\n",
            "487:\tlearn: 0.2672808\ttotal: 9.11s\tremaining: 9.56s\n",
            "488:\tlearn: 0.2672358\ttotal: 9.13s\tremaining: 9.54s\n",
            "489:\tlearn: 0.2671262\ttotal: 9.14s\tremaining: 9.51s\n",
            "490:\tlearn: 0.2670527\ttotal: 9.15s\tremaining: 9.49s\n",
            "491:\tlearn: 0.2670172\ttotal: 9.16s\tremaining: 9.46s\n",
            "492:\tlearn: 0.2669217\ttotal: 9.18s\tremaining: 9.44s\n",
            "493:\tlearn: 0.2668693\ttotal: 9.19s\tremaining: 9.41s\n",
            "494:\tlearn: 0.2668266\ttotal: 9.2s\tremaining: 9.39s\n",
            "495:\tlearn: 0.2667610\ttotal: 9.21s\tremaining: 9.36s\n",
            "496:\tlearn: 0.2666781\ttotal: 9.23s\tremaining: 9.34s\n",
            "497:\tlearn: 0.2665938\ttotal: 9.24s\tremaining: 9.32s\n",
            "498:\tlearn: 0.2665567\ttotal: 9.25s\tremaining: 9.29s\n",
            "499:\tlearn: 0.2664942\ttotal: 9.27s\tremaining: 9.27s\n",
            "500:\tlearn: 0.2664131\ttotal: 9.28s\tremaining: 9.24s\n",
            "501:\tlearn: 0.2663537\ttotal: 9.29s\tremaining: 9.22s\n",
            "502:\tlearn: 0.2662775\ttotal: 9.3s\tremaining: 9.19s\n",
            "503:\tlearn: 0.2662114\ttotal: 9.32s\tremaining: 9.17s\n",
            "504:\tlearn: 0.2661963\ttotal: 9.33s\tremaining: 9.14s\n",
            "505:\tlearn: 0.2661254\ttotal: 9.34s\tremaining: 9.12s\n",
            "506:\tlearn: 0.2661133\ttotal: 9.35s\tremaining: 9.09s\n",
            "507:\tlearn: 0.2659875\ttotal: 9.36s\tremaining: 9.07s\n",
            "508:\tlearn: 0.2659259\ttotal: 9.38s\tremaining: 9.04s\n",
            "509:\tlearn: 0.2657867\ttotal: 9.39s\tremaining: 9.02s\n",
            "510:\tlearn: 0.2656886\ttotal: 9.4s\tremaining: 9s\n",
            "511:\tlearn: 0.2656298\ttotal: 9.42s\tremaining: 8.98s\n",
            "512:\tlearn: 0.2655544\ttotal: 9.44s\tremaining: 8.96s\n",
            "513:\tlearn: 0.2654781\ttotal: 9.45s\tremaining: 8.93s\n",
            "514:\tlearn: 0.2654148\ttotal: 9.46s\tremaining: 8.91s\n",
            "515:\tlearn: 0.2653313\ttotal: 9.47s\tremaining: 8.89s\n",
            "516:\tlearn: 0.2652492\ttotal: 9.49s\tremaining: 8.86s\n",
            "517:\tlearn: 0.2651459\ttotal: 9.5s\tremaining: 8.84s\n",
            "518:\tlearn: 0.2650780\ttotal: 9.51s\tremaining: 8.82s\n",
            "519:\tlearn: 0.2649911\ttotal: 9.53s\tremaining: 8.79s\n",
            "520:\tlearn: 0.2649072\ttotal: 9.54s\tremaining: 8.77s\n",
            "521:\tlearn: 0.2648623\ttotal: 9.55s\tremaining: 8.75s\n",
            "522:\tlearn: 0.2647919\ttotal: 9.57s\tremaining: 8.72s\n",
            "523:\tlearn: 0.2646780\ttotal: 9.58s\tremaining: 8.7s\n",
            "524:\tlearn: 0.2646044\ttotal: 9.59s\tremaining: 8.68s\n",
            "525:\tlearn: 0.2645531\ttotal: 9.61s\tremaining: 8.65s\n",
            "526:\tlearn: 0.2644719\ttotal: 9.62s\tremaining: 8.63s\n",
            "527:\tlearn: 0.2643984\ttotal: 9.63s\tremaining: 8.61s\n",
            "528:\tlearn: 0.2643179\ttotal: 9.65s\tremaining: 8.59s\n",
            "529:\tlearn: 0.2642542\ttotal: 9.66s\tremaining: 8.57s\n",
            "530:\tlearn: 0.2641820\ttotal: 9.68s\tremaining: 8.55s\n",
            "531:\tlearn: 0.2641104\ttotal: 9.69s\tremaining: 8.53s\n",
            "532:\tlearn: 0.2640420\ttotal: 9.7s\tremaining: 8.5s\n",
            "533:\tlearn: 0.2639291\ttotal: 9.72s\tremaining: 8.48s\n",
            "534:\tlearn: 0.2638532\ttotal: 9.73s\tremaining: 8.46s\n",
            "535:\tlearn: 0.2638322\ttotal: 9.74s\tremaining: 8.43s\n",
            "536:\tlearn: 0.2637920\ttotal: 9.75s\tremaining: 8.41s\n",
            "537:\tlearn: 0.2637345\ttotal: 9.76s\tremaining: 8.38s\n",
            "538:\tlearn: 0.2636435\ttotal: 9.78s\tremaining: 8.36s\n",
            "539:\tlearn: 0.2635769\ttotal: 9.79s\tremaining: 8.34s\n",
            "540:\tlearn: 0.2634856\ttotal: 9.8s\tremaining: 8.32s\n",
            "541:\tlearn: 0.2633597\ttotal: 9.82s\tremaining: 8.29s\n",
            "542:\tlearn: 0.2633049\ttotal: 9.83s\tremaining: 8.27s\n",
            "543:\tlearn: 0.2632705\ttotal: 9.84s\tremaining: 8.25s\n",
            "544:\tlearn: 0.2631477\ttotal: 9.87s\tremaining: 8.24s\n",
            "545:\tlearn: 0.2630977\ttotal: 9.88s\tremaining: 8.22s\n",
            "546:\tlearn: 0.2630251\ttotal: 9.89s\tremaining: 8.19s\n",
            "547:\tlearn: 0.2629632\ttotal: 9.91s\tremaining: 8.17s\n",
            "548:\tlearn: 0.2628520\ttotal: 9.92s\tremaining: 8.15s\n",
            "549:\tlearn: 0.2628131\ttotal: 9.93s\tremaining: 8.13s\n",
            "550:\tlearn: 0.2627110\ttotal: 9.95s\tremaining: 8.1s\n",
            "551:\tlearn: 0.2626433\ttotal: 9.96s\tremaining: 8.08s\n",
            "552:\tlearn: 0.2625771\ttotal: 9.97s\tremaining: 8.06s\n",
            "553:\tlearn: 0.2625044\ttotal: 9.98s\tremaining: 8.04s\n",
            "554:\tlearn: 0.2624452\ttotal: 10s\tremaining: 8.02s\n",
            "555:\tlearn: 0.2623677\ttotal: 10s\tremaining: 7.99s\n",
            "556:\tlearn: 0.2622998\ttotal: 10s\tremaining: 7.97s\n",
            "557:\tlearn: 0.2622331\ttotal: 10s\tremaining: 7.95s\n",
            "558:\tlearn: 0.2621594\ttotal: 10.1s\tremaining: 7.93s\n",
            "559:\tlearn: 0.2620854\ttotal: 10.1s\tremaining: 7.91s\n",
            "560:\tlearn: 0.2620139\ttotal: 10.1s\tremaining: 7.89s\n",
            "561:\tlearn: 0.2619447\ttotal: 10.1s\tremaining: 7.87s\n",
            "562:\tlearn: 0.2618364\ttotal: 10.1s\tremaining: 7.85s\n",
            "563:\tlearn: 0.2617230\ttotal: 10.1s\tremaining: 7.83s\n",
            "564:\tlearn: 0.2616570\ttotal: 10.1s\tremaining: 7.81s\n",
            "565:\tlearn: 0.2615454\ttotal: 10.2s\tremaining: 7.79s\n",
            "566:\tlearn: 0.2614757\ttotal: 10.2s\tremaining: 7.76s\n",
            "567:\tlearn: 0.2614075\ttotal: 10.2s\tremaining: 7.74s\n",
            "568:\tlearn: 0.2613405\ttotal: 10.2s\tremaining: 7.72s\n",
            "569:\tlearn: 0.2612921\ttotal: 10.2s\tremaining: 7.7s\n",
            "570:\tlearn: 0.2612387\ttotal: 10.2s\tremaining: 7.68s\n",
            "571:\tlearn: 0.2611601\ttotal: 10.2s\tremaining: 7.66s\n",
            "572:\tlearn: 0.2611139\ttotal: 10.2s\tremaining: 7.63s\n",
            "573:\tlearn: 0.2610376\ttotal: 10.3s\tremaining: 7.61s\n",
            "574:\tlearn: 0.2609695\ttotal: 10.3s\tremaining: 7.59s\n",
            "575:\tlearn: 0.2608693\ttotal: 10.3s\tremaining: 7.58s\n",
            "576:\tlearn: 0.2607927\ttotal: 10.3s\tremaining: 7.55s\n",
            "577:\tlearn: 0.2607296\ttotal: 10.3s\tremaining: 7.53s\n",
            "578:\tlearn: 0.2606721\ttotal: 10.3s\tremaining: 7.51s\n",
            "579:\tlearn: 0.2606324\ttotal: 10.3s\tremaining: 7.49s\n",
            "580:\tlearn: 0.2605409\ttotal: 10.4s\tremaining: 7.47s\n",
            "581:\tlearn: 0.2605070\ttotal: 10.4s\tremaining: 7.45s\n",
            "582:\tlearn: 0.2602951\ttotal: 10.4s\tremaining: 7.42s\n",
            "583:\tlearn: 0.2602619\ttotal: 10.4s\tremaining: 7.4s\n",
            "584:\tlearn: 0.2602254\ttotal: 10.4s\tremaining: 7.38s\n",
            "585:\tlearn: 0.2601423\ttotal: 10.4s\tremaining: 7.36s\n",
            "586:\tlearn: 0.2600905\ttotal: 10.4s\tremaining: 7.34s\n",
            "587:\tlearn: 0.2600537\ttotal: 10.4s\tremaining: 7.32s\n",
            "588:\tlearn: 0.2600094\ttotal: 10.5s\tremaining: 7.29s\n",
            "589:\tlearn: 0.2599440\ttotal: 10.5s\tremaining: 7.27s\n",
            "590:\tlearn: 0.2598776\ttotal: 10.5s\tremaining: 7.25s\n",
            "591:\tlearn: 0.2597856\ttotal: 10.5s\tremaining: 7.23s\n",
            "592:\tlearn: 0.2597366\ttotal: 10.5s\tremaining: 7.21s\n",
            "593:\tlearn: 0.2596780\ttotal: 10.5s\tremaining: 7.19s\n",
            "594:\tlearn: 0.2595853\ttotal: 10.5s\tremaining: 7.17s\n",
            "595:\tlearn: 0.2595321\ttotal: 10.5s\tremaining: 7.15s\n",
            "596:\tlearn: 0.2594638\ttotal: 10.6s\tremaining: 7.13s\n",
            "597:\tlearn: 0.2593824\ttotal: 10.6s\tremaining: 7.11s\n",
            "598:\tlearn: 0.2592926\ttotal: 10.6s\tremaining: 7.09s\n",
            "599:\tlearn: 0.2592064\ttotal: 10.6s\tremaining: 7.07s\n",
            "600:\tlearn: 0.2591236\ttotal: 10.6s\tremaining: 7.05s\n",
            "601:\tlearn: 0.2590334\ttotal: 10.6s\tremaining: 7.03s\n",
            "602:\tlearn: 0.2589848\ttotal: 10.6s\tremaining: 7s\n",
            "603:\tlearn: 0.2589141\ttotal: 10.7s\tremaining: 6.98s\n",
            "604:\tlearn: 0.2588256\ttotal: 10.7s\tremaining: 6.96s\n",
            "605:\tlearn: 0.2587714\ttotal: 10.7s\tremaining: 6.94s\n",
            "606:\tlearn: 0.2587179\ttotal: 10.7s\tremaining: 6.92s\n",
            "607:\tlearn: 0.2586375\ttotal: 10.7s\tremaining: 6.91s\n",
            "608:\tlearn: 0.2585705\ttotal: 10.7s\tremaining: 6.89s\n",
            "609:\tlearn: 0.2585255\ttotal: 10.7s\tremaining: 6.87s\n",
            "610:\tlearn: 0.2584588\ttotal: 10.7s\tremaining: 6.84s\n",
            "611:\tlearn: 0.2583707\ttotal: 10.8s\tremaining: 6.82s\n",
            "612:\tlearn: 0.2582853\ttotal: 10.8s\tremaining: 6.8s\n",
            "613:\tlearn: 0.2581847\ttotal: 10.8s\tremaining: 6.78s\n",
            "614:\tlearn: 0.2581224\ttotal: 10.8s\tremaining: 6.76s\n",
            "615:\tlearn: 0.2580614\ttotal: 10.8s\tremaining: 6.74s\n",
            "616:\tlearn: 0.2580056\ttotal: 10.8s\tremaining: 6.72s\n",
            "617:\tlearn: 0.2579280\ttotal: 10.8s\tremaining: 6.7s\n",
            "618:\tlearn: 0.2578200\ttotal: 10.9s\tremaining: 6.68s\n",
            "619:\tlearn: 0.2577362\ttotal: 10.9s\tremaining: 6.66s\n",
            "620:\tlearn: 0.2576579\ttotal: 10.9s\tremaining: 6.64s\n",
            "621:\tlearn: 0.2576175\ttotal: 10.9s\tremaining: 6.63s\n",
            "622:\tlearn: 0.2575771\ttotal: 10.9s\tremaining: 6.61s\n",
            "623:\tlearn: 0.2575126\ttotal: 10.9s\tremaining: 6.58s\n",
            "624:\tlearn: 0.2574088\ttotal: 10.9s\tremaining: 6.56s\n",
            "625:\tlearn: 0.2573486\ttotal: 11s\tremaining: 6.54s\n",
            "626:\tlearn: 0.2572486\ttotal: 11s\tremaining: 6.52s\n",
            "627:\tlearn: 0.2571588\ttotal: 11s\tremaining: 6.5s\n",
            "628:\tlearn: 0.2570901\ttotal: 11s\tremaining: 6.48s\n",
            "629:\tlearn: 0.2570121\ttotal: 11s\tremaining: 6.46s\n",
            "630:\tlearn: 0.2569635\ttotal: 11s\tremaining: 6.44s\n",
            "631:\tlearn: 0.2568787\ttotal: 11s\tremaining: 6.42s\n",
            "632:\tlearn: 0.2568314\ttotal: 11s\tremaining: 6.41s\n",
            "633:\tlearn: 0.2567681\ttotal: 11.1s\tremaining: 6.38s\n",
            "634:\tlearn: 0.2566781\ttotal: 11.1s\tremaining: 6.37s\n",
            "635:\tlearn: 0.2565933\ttotal: 11.1s\tremaining: 6.35s\n",
            "636:\tlearn: 0.2564879\ttotal: 11.1s\tremaining: 6.33s\n",
            "637:\tlearn: 0.2563907\ttotal: 11.1s\tremaining: 6.31s\n",
            "638:\tlearn: 0.2563165\ttotal: 11.1s\tremaining: 6.29s\n",
            "639:\tlearn: 0.2562634\ttotal: 11.2s\tremaining: 6.27s\n",
            "640:\tlearn: 0.2561886\ttotal: 11.2s\tremaining: 6.25s\n",
            "641:\tlearn: 0.2561298\ttotal: 11.2s\tremaining: 6.23s\n",
            "642:\tlearn: 0.2560306\ttotal: 11.2s\tremaining: 6.21s\n",
            "643:\tlearn: 0.2559714\ttotal: 11.2s\tremaining: 6.19s\n",
            "644:\tlearn: 0.2558933\ttotal: 11.2s\tremaining: 6.17s\n",
            "645:\tlearn: 0.2557885\ttotal: 11.2s\tremaining: 6.15s\n",
            "646:\tlearn: 0.2557449\ttotal: 11.2s\tremaining: 6.13s\n",
            "647:\tlearn: 0.2556879\ttotal: 11.3s\tremaining: 6.11s\n",
            "648:\tlearn: 0.2556218\ttotal: 11.3s\tremaining: 6.09s\n",
            "649:\tlearn: 0.2555549\ttotal: 11.3s\tremaining: 6.07s\n",
            "650:\tlearn: 0.2554367\ttotal: 11.3s\tremaining: 6.05s\n",
            "651:\tlearn: 0.2553847\ttotal: 11.3s\tremaining: 6.04s\n",
            "652:\tlearn: 0.2553356\ttotal: 11.3s\tremaining: 6.02s\n",
            "653:\tlearn: 0.2553158\ttotal: 11.3s\tremaining: 6s\n",
            "654:\tlearn: 0.2551909\ttotal: 11.3s\tremaining: 5.98s\n",
            "655:\tlearn: 0.2550727\ttotal: 11.4s\tremaining: 5.96s\n",
            "656:\tlearn: 0.2549635\ttotal: 11.4s\tremaining: 5.94s\n",
            "657:\tlearn: 0.2548918\ttotal: 11.4s\tremaining: 5.92s\n",
            "658:\tlearn: 0.2547685\ttotal: 11.4s\tremaining: 5.9s\n",
            "659:\tlearn: 0.2547191\ttotal: 11.4s\tremaining: 5.88s\n",
            "660:\tlearn: 0.2546216\ttotal: 11.4s\tremaining: 5.86s\n",
            "661:\tlearn: 0.2545509\ttotal: 11.4s\tremaining: 5.84s\n",
            "662:\tlearn: 0.2544747\ttotal: 11.5s\tremaining: 5.82s\n",
            "663:\tlearn: 0.2544172\ttotal: 11.5s\tremaining: 5.8s\n",
            "664:\tlearn: 0.2543652\ttotal: 11.5s\tremaining: 5.78s\n",
            "665:\tlearn: 0.2542899\ttotal: 11.5s\tremaining: 5.76s\n",
            "666:\tlearn: 0.2542404\ttotal: 11.5s\tremaining: 5.74s\n",
            "667:\tlearn: 0.2541717\ttotal: 11.5s\tremaining: 5.72s\n",
            "668:\tlearn: 0.2540522\ttotal: 11.5s\tremaining: 5.71s\n",
            "669:\tlearn: 0.2539939\ttotal: 11.5s\tremaining: 5.69s\n",
            "670:\tlearn: 0.2539172\ttotal: 11.6s\tremaining: 5.67s\n",
            "671:\tlearn: 0.2538193\ttotal: 11.6s\tremaining: 5.66s\n",
            "672:\tlearn: 0.2537465\ttotal: 11.6s\tremaining: 5.64s\n",
            "673:\tlearn: 0.2536884\ttotal: 11.6s\tremaining: 5.62s\n",
            "674:\tlearn: 0.2535892\ttotal: 11.6s\tremaining: 5.6s\n",
            "675:\tlearn: 0.2535576\ttotal: 11.6s\tremaining: 5.58s\n",
            "676:\tlearn: 0.2535224\ttotal: 11.7s\tremaining: 5.56s\n",
            "677:\tlearn: 0.2534564\ttotal: 11.7s\tremaining: 5.54s\n",
            "678:\tlearn: 0.2533600\ttotal: 11.7s\tremaining: 5.52s\n",
            "679:\tlearn: 0.2532896\ttotal: 11.7s\tremaining: 5.5s\n",
            "680:\tlearn: 0.2532228\ttotal: 11.7s\tremaining: 5.48s\n",
            "681:\tlearn: 0.2531467\ttotal: 11.7s\tremaining: 5.47s\n",
            "682:\tlearn: 0.2530562\ttotal: 11.7s\tremaining: 5.45s\n",
            "683:\tlearn: 0.2529891\ttotal: 11.8s\tremaining: 5.43s\n",
            "684:\tlearn: 0.2529366\ttotal: 11.8s\tremaining: 5.41s\n",
            "685:\tlearn: 0.2528487\ttotal: 11.8s\tremaining: 5.39s\n",
            "686:\tlearn: 0.2527792\ttotal: 11.8s\tremaining: 5.37s\n",
            "687:\tlearn: 0.2527132\ttotal: 11.8s\tremaining: 5.35s\n",
            "688:\tlearn: 0.2526398\ttotal: 11.8s\tremaining: 5.33s\n",
            "689:\tlearn: 0.2525997\ttotal: 11.8s\tremaining: 5.31s\n",
            "690:\tlearn: 0.2525442\ttotal: 11.9s\tremaining: 5.3s\n",
            "691:\tlearn: 0.2524910\ttotal: 11.9s\tremaining: 5.28s\n",
            "692:\tlearn: 0.2524130\ttotal: 11.9s\tremaining: 5.26s\n",
            "693:\tlearn: 0.2523824\ttotal: 11.9s\tremaining: 5.24s\n",
            "694:\tlearn: 0.2523488\ttotal: 11.9s\tremaining: 5.22s\n",
            "695:\tlearn: 0.2522728\ttotal: 11.9s\tremaining: 5.2s\n",
            "696:\tlearn: 0.2521910\ttotal: 11.9s\tremaining: 5.18s\n",
            "697:\tlearn: 0.2521447\ttotal: 11.9s\tremaining: 5.17s\n",
            "698:\tlearn: 0.2520900\ttotal: 12s\tremaining: 5.15s\n",
            "699:\tlearn: 0.2520267\ttotal: 12s\tremaining: 5.13s\n",
            "700:\tlearn: 0.2519598\ttotal: 12s\tremaining: 5.11s\n",
            "701:\tlearn: 0.2518949\ttotal: 12s\tremaining: 5.09s\n",
            "702:\tlearn: 0.2518322\ttotal: 12s\tremaining: 5.07s\n",
            "703:\tlearn: 0.2517828\ttotal: 12s\tremaining: 5.05s\n",
            "704:\tlearn: 0.2517550\ttotal: 12s\tremaining: 5.04s\n",
            "705:\tlearn: 0.2516999\ttotal: 12s\tremaining: 5.02s\n",
            "706:\tlearn: 0.2516347\ttotal: 12.1s\tremaining: 5s\n",
            "707:\tlearn: 0.2515504\ttotal: 12.1s\tremaining: 4.98s\n",
            "708:\tlearn: 0.2514942\ttotal: 12.1s\tremaining: 4.96s\n",
            "709:\tlearn: 0.2514573\ttotal: 12.1s\tremaining: 4.94s\n",
            "710:\tlearn: 0.2513358\ttotal: 12.1s\tremaining: 4.92s\n",
            "711:\tlearn: 0.2512874\ttotal: 12.1s\tremaining: 4.9s\n",
            "712:\tlearn: 0.2511980\ttotal: 12.1s\tremaining: 4.89s\n",
            "713:\tlearn: 0.2511380\ttotal: 12.2s\tremaining: 4.87s\n",
            "714:\tlearn: 0.2510589\ttotal: 12.2s\tremaining: 4.85s\n",
            "715:\tlearn: 0.2509965\ttotal: 12.2s\tremaining: 4.83s\n",
            "716:\tlearn: 0.2509536\ttotal: 12.2s\tremaining: 4.81s\n",
            "717:\tlearn: 0.2508724\ttotal: 12.2s\tremaining: 4.79s\n",
            "718:\tlearn: 0.2508107\ttotal: 12.2s\tremaining: 4.78s\n",
            "719:\tlearn: 0.2507390\ttotal: 12.2s\tremaining: 4.76s\n",
            "720:\tlearn: 0.2506540\ttotal: 12.2s\tremaining: 4.74s\n",
            "721:\tlearn: 0.2505964\ttotal: 12.3s\tremaining: 4.72s\n",
            "722:\tlearn: 0.2505441\ttotal: 12.3s\tremaining: 4.7s\n",
            "723:\tlearn: 0.2504825\ttotal: 12.3s\tremaining: 4.68s\n",
            "724:\tlearn: 0.2503955\ttotal: 12.3s\tremaining: 4.66s\n",
            "725:\tlearn: 0.2503217\ttotal: 12.3s\tremaining: 4.64s\n",
            "726:\tlearn: 0.2502790\ttotal: 12.3s\tremaining: 4.63s\n",
            "727:\tlearn: 0.2501861\ttotal: 12.3s\tremaining: 4.61s\n",
            "728:\tlearn: 0.2501317\ttotal: 12.4s\tremaining: 4.59s\n",
            "729:\tlearn: 0.2500598\ttotal: 12.4s\tremaining: 4.57s\n",
            "730:\tlearn: 0.2500143\ttotal: 12.4s\tremaining: 4.55s\n",
            "731:\tlearn: 0.2499144\ttotal: 12.4s\tremaining: 4.54s\n",
            "732:\tlearn: 0.2498714\ttotal: 12.4s\tremaining: 4.52s\n",
            "733:\tlearn: 0.2498314\ttotal: 12.4s\tremaining: 4.5s\n",
            "734:\tlearn: 0.2497901\ttotal: 12.4s\tremaining: 4.48s\n",
            "735:\tlearn: 0.2497112\ttotal: 12.4s\tremaining: 4.46s\n",
            "736:\tlearn: 0.2496218\ttotal: 12.5s\tremaining: 4.45s\n",
            "737:\tlearn: 0.2495744\ttotal: 12.5s\tremaining: 4.43s\n",
            "738:\tlearn: 0.2495218\ttotal: 12.5s\tremaining: 4.41s\n",
            "739:\tlearn: 0.2494730\ttotal: 12.5s\tremaining: 4.39s\n",
            "740:\tlearn: 0.2494088\ttotal: 12.5s\tremaining: 4.37s\n",
            "741:\tlearn: 0.2493235\ttotal: 12.5s\tremaining: 4.36s\n",
            "742:\tlearn: 0.2492645\ttotal: 12.5s\tremaining: 4.34s\n",
            "743:\tlearn: 0.2492161\ttotal: 12.6s\tremaining: 4.32s\n",
            "744:\tlearn: 0.2491164\ttotal: 12.6s\tremaining: 4.3s\n",
            "745:\tlearn: 0.2490547\ttotal: 12.6s\tremaining: 4.28s\n",
            "746:\tlearn: 0.2490232\ttotal: 12.6s\tremaining: 4.27s\n",
            "747:\tlearn: 0.2489338\ttotal: 12.6s\tremaining: 4.25s\n",
            "748:\tlearn: 0.2488802\ttotal: 12.6s\tremaining: 4.23s\n",
            "749:\tlearn: 0.2488170\ttotal: 12.6s\tremaining: 4.21s\n",
            "750:\tlearn: 0.2487691\ttotal: 12.6s\tremaining: 4.19s\n",
            "751:\tlearn: 0.2486524\ttotal: 12.7s\tremaining: 4.17s\n",
            "752:\tlearn: 0.2485649\ttotal: 12.7s\tremaining: 4.16s\n",
            "753:\tlearn: 0.2485244\ttotal: 12.7s\tremaining: 4.14s\n",
            "754:\tlearn: 0.2484321\ttotal: 12.7s\tremaining: 4.12s\n",
            "755:\tlearn: 0.2483858\ttotal: 12.7s\tremaining: 4.1s\n",
            "756:\tlearn: 0.2483263\ttotal: 12.7s\tremaining: 4.08s\n",
            "757:\tlearn: 0.2482827\ttotal: 12.7s\tremaining: 4.07s\n",
            "758:\tlearn: 0.2482269\ttotal: 12.7s\tremaining: 4.05s\n",
            "759:\tlearn: 0.2481160\ttotal: 12.8s\tremaining: 4.03s\n",
            "760:\tlearn: 0.2480040\ttotal: 12.8s\tremaining: 4.01s\n",
            "761:\tlearn: 0.2479646\ttotal: 12.8s\tremaining: 4s\n",
            "762:\tlearn: 0.2478983\ttotal: 12.8s\tremaining: 3.98s\n",
            "763:\tlearn: 0.2478158\ttotal: 12.8s\tremaining: 3.96s\n",
            "764:\tlearn: 0.2477434\ttotal: 12.8s\tremaining: 3.94s\n",
            "765:\tlearn: 0.2476651\ttotal: 12.9s\tremaining: 3.93s\n",
            "766:\tlearn: 0.2475584\ttotal: 12.9s\tremaining: 3.91s\n",
            "767:\tlearn: 0.2475172\ttotal: 12.9s\tremaining: 3.89s\n",
            "768:\tlearn: 0.2474671\ttotal: 12.9s\tremaining: 3.87s\n",
            "769:\tlearn: 0.2474373\ttotal: 12.9s\tremaining: 3.86s\n",
            "770:\tlearn: 0.2473564\ttotal: 12.9s\tremaining: 3.84s\n",
            "771:\tlearn: 0.2472608\ttotal: 12.9s\tremaining: 3.82s\n",
            "772:\tlearn: 0.2472092\ttotal: 12.9s\tremaining: 3.8s\n",
            "773:\tlearn: 0.2471438\ttotal: 13s\tremaining: 3.79s\n",
            "774:\tlearn: 0.2470785\ttotal: 13s\tremaining: 3.77s\n",
            "775:\tlearn: 0.2470270\ttotal: 13s\tremaining: 3.75s\n",
            "776:\tlearn: 0.2469579\ttotal: 13s\tremaining: 3.73s\n",
            "777:\tlearn: 0.2468808\ttotal: 13s\tremaining: 3.71s\n",
            "778:\tlearn: 0.2468065\ttotal: 13s\tremaining: 3.7s\n",
            "779:\tlearn: 0.2467265\ttotal: 13s\tremaining: 3.68s\n",
            "780:\tlearn: 0.2466697\ttotal: 13.1s\tremaining: 3.66s\n",
            "781:\tlearn: 0.2465948\ttotal: 13.1s\tremaining: 3.64s\n",
            "782:\tlearn: 0.2465452\ttotal: 13.1s\tremaining: 3.63s\n",
            "783:\tlearn: 0.2464872\ttotal: 13.1s\tremaining: 3.61s\n",
            "784:\tlearn: 0.2464378\ttotal: 13.1s\tremaining: 3.59s\n",
            "785:\tlearn: 0.2463617\ttotal: 13.1s\tremaining: 3.57s\n",
            "786:\tlearn: 0.2462898\ttotal: 13.1s\tremaining: 3.56s\n",
            "787:\tlearn: 0.2462235\ttotal: 13.2s\tremaining: 3.54s\n",
            "788:\tlearn: 0.2461922\ttotal: 13.2s\tremaining: 3.52s\n",
            "789:\tlearn: 0.2461504\ttotal: 13.2s\tremaining: 3.5s\n",
            "790:\tlearn: 0.2460809\ttotal: 13.2s\tremaining: 3.48s\n",
            "791:\tlearn: 0.2460093\ttotal: 13.2s\tremaining: 3.47s\n",
            "792:\tlearn: 0.2459304\ttotal: 13.2s\tremaining: 3.45s\n",
            "793:\tlearn: 0.2458848\ttotal: 13.2s\tremaining: 3.43s\n",
            "794:\tlearn: 0.2458579\ttotal: 13.2s\tremaining: 3.41s\n",
            "795:\tlearn: 0.2458078\ttotal: 13.3s\tremaining: 3.4s\n",
            "796:\tlearn: 0.2457439\ttotal: 13.3s\tremaining: 3.38s\n",
            "797:\tlearn: 0.2457316\ttotal: 13.3s\tremaining: 3.36s\n",
            "798:\tlearn: 0.2456662\ttotal: 13.3s\tremaining: 3.34s\n",
            "799:\tlearn: 0.2455788\ttotal: 13.3s\tremaining: 3.33s\n",
            "800:\tlearn: 0.2455032\ttotal: 13.3s\tremaining: 3.31s\n",
            "801:\tlearn: 0.2454679\ttotal: 13.3s\tremaining: 3.29s\n",
            "802:\tlearn: 0.2454083\ttotal: 13.3s\tremaining: 3.27s\n",
            "803:\tlearn: 0.2453565\ttotal: 13.4s\tremaining: 3.26s\n",
            "804:\tlearn: 0.2452272\ttotal: 13.4s\tremaining: 3.24s\n",
            "805:\tlearn: 0.2451770\ttotal: 13.4s\tremaining: 3.22s\n",
            "806:\tlearn: 0.2451132\ttotal: 13.4s\tremaining: 3.21s\n",
            "807:\tlearn: 0.2450494\ttotal: 13.4s\tremaining: 3.19s\n",
            "808:\tlearn: 0.2450032\ttotal: 13.4s\tremaining: 3.17s\n",
            "809:\tlearn: 0.2449174\ttotal: 13.4s\tremaining: 3.15s\n",
            "810:\tlearn: 0.2448751\ttotal: 13.5s\tremaining: 3.13s\n",
            "811:\tlearn: 0.2448374\ttotal: 13.5s\tremaining: 3.12s\n",
            "812:\tlearn: 0.2447910\ttotal: 13.5s\tremaining: 3.1s\n",
            "813:\tlearn: 0.2447237\ttotal: 13.5s\tremaining: 3.08s\n",
            "814:\tlearn: 0.2446599\ttotal: 13.5s\tremaining: 3.06s\n",
            "815:\tlearn: 0.2446201\ttotal: 13.5s\tremaining: 3.05s\n",
            "816:\tlearn: 0.2445619\ttotal: 13.5s\tremaining: 3.03s\n",
            "817:\tlearn: 0.2445082\ttotal: 13.5s\tremaining: 3.01s\n",
            "818:\tlearn: 0.2444457\ttotal: 13.6s\tremaining: 3s\n",
            "819:\tlearn: 0.2444035\ttotal: 13.6s\tremaining: 2.98s\n",
            "820:\tlearn: 0.2443461\ttotal: 13.6s\tremaining: 2.96s\n",
            "821:\tlearn: 0.2442557\ttotal: 13.6s\tremaining: 2.94s\n",
            "822:\tlearn: 0.2442198\ttotal: 13.6s\tremaining: 2.93s\n",
            "823:\tlearn: 0.2441630\ttotal: 13.6s\tremaining: 2.91s\n",
            "824:\tlearn: 0.2440614\ttotal: 13.6s\tremaining: 2.89s\n",
            "825:\tlearn: 0.2439946\ttotal: 13.6s\tremaining: 2.88s\n",
            "826:\tlearn: 0.2439561\ttotal: 13.7s\tremaining: 2.86s\n",
            "827:\tlearn: 0.2438602\ttotal: 13.7s\tremaining: 2.84s\n",
            "828:\tlearn: 0.2438078\ttotal: 13.7s\tremaining: 2.82s\n",
            "829:\tlearn: 0.2437515\ttotal: 13.7s\tremaining: 2.81s\n",
            "830:\tlearn: 0.2437025\ttotal: 13.7s\tremaining: 2.79s\n",
            "831:\tlearn: 0.2435988\ttotal: 13.7s\tremaining: 2.77s\n",
            "832:\tlearn: 0.2435129\ttotal: 13.7s\tremaining: 2.76s\n",
            "833:\tlearn: 0.2434598\ttotal: 13.8s\tremaining: 2.74s\n",
            "834:\tlearn: 0.2434133\ttotal: 13.8s\tremaining: 2.72s\n",
            "835:\tlearn: 0.2433448\ttotal: 13.8s\tremaining: 2.7s\n",
            "836:\tlearn: 0.2432817\ttotal: 13.8s\tremaining: 2.69s\n",
            "837:\tlearn: 0.2432415\ttotal: 13.8s\tremaining: 2.67s\n",
            "838:\tlearn: 0.2431909\ttotal: 13.8s\tremaining: 2.66s\n",
            "839:\tlearn: 0.2431346\ttotal: 13.9s\tremaining: 2.64s\n",
            "840:\tlearn: 0.2430649\ttotal: 13.9s\tremaining: 2.62s\n",
            "841:\tlearn: 0.2429953\ttotal: 13.9s\tremaining: 2.6s\n",
            "842:\tlearn: 0.2429041\ttotal: 13.9s\tremaining: 2.59s\n",
            "843:\tlearn: 0.2428431\ttotal: 13.9s\tremaining: 2.57s\n",
            "844:\tlearn: 0.2427922\ttotal: 13.9s\tremaining: 2.55s\n",
            "845:\tlearn: 0.2427088\ttotal: 13.9s\tremaining: 2.54s\n",
            "846:\tlearn: 0.2426632\ttotal: 13.9s\tremaining: 2.52s\n",
            "847:\tlearn: 0.2426316\ttotal: 14s\tremaining: 2.5s\n",
            "848:\tlearn: 0.2425404\ttotal: 14s\tremaining: 2.48s\n",
            "849:\tlearn: 0.2425039\ttotal: 14s\tremaining: 2.47s\n",
            "850:\tlearn: 0.2424817\ttotal: 14s\tremaining: 2.45s\n",
            "851:\tlearn: 0.2424332\ttotal: 14s\tremaining: 2.43s\n",
            "852:\tlearn: 0.2423843\ttotal: 14s\tremaining: 2.42s\n",
            "853:\tlearn: 0.2423263\ttotal: 14s\tremaining: 2.4s\n",
            "854:\tlearn: 0.2422398\ttotal: 14.1s\tremaining: 2.38s\n",
            "855:\tlearn: 0.2421923\ttotal: 14.1s\tremaining: 2.37s\n",
            "856:\tlearn: 0.2421229\ttotal: 14.1s\tremaining: 2.35s\n",
            "857:\tlearn: 0.2420878\ttotal: 14.1s\tremaining: 2.33s\n",
            "858:\tlearn: 0.2420012\ttotal: 14.1s\tremaining: 2.32s\n",
            "859:\tlearn: 0.2419500\ttotal: 14.1s\tremaining: 2.3s\n",
            "860:\tlearn: 0.2418890\ttotal: 14.1s\tremaining: 2.28s\n",
            "861:\tlearn: 0.2417903\ttotal: 14.1s\tremaining: 2.27s\n",
            "862:\tlearn: 0.2417465\ttotal: 14.2s\tremaining: 2.25s\n",
            "863:\tlearn: 0.2416924\ttotal: 14.2s\tremaining: 2.23s\n",
            "864:\tlearn: 0.2416372\ttotal: 14.2s\tremaining: 2.21s\n",
            "865:\tlearn: 0.2415630\ttotal: 14.2s\tremaining: 2.2s\n",
            "866:\tlearn: 0.2415171\ttotal: 14.2s\tremaining: 2.18s\n",
            "867:\tlearn: 0.2414689\ttotal: 14.2s\tremaining: 2.16s\n",
            "868:\tlearn: 0.2414175\ttotal: 14.2s\tremaining: 2.15s\n",
            "869:\tlearn: 0.2413711\ttotal: 14.3s\tremaining: 2.13s\n",
            "870:\tlearn: 0.2412862\ttotal: 14.3s\tremaining: 2.11s\n",
            "871:\tlearn: 0.2412057\ttotal: 14.3s\tremaining: 2.1s\n",
            "872:\tlearn: 0.2411582\ttotal: 14.3s\tremaining: 2.08s\n",
            "873:\tlearn: 0.2410810\ttotal: 14.3s\tremaining: 2.06s\n",
            "874:\tlearn: 0.2410092\ttotal: 14.3s\tremaining: 2.05s\n",
            "875:\tlearn: 0.2409736\ttotal: 14.3s\tremaining: 2.03s\n",
            "876:\tlearn: 0.2409271\ttotal: 14.3s\tremaining: 2.01s\n",
            "877:\tlearn: 0.2408420\ttotal: 14.4s\tremaining: 2s\n",
            "878:\tlearn: 0.2407793\ttotal: 14.4s\tremaining: 1.98s\n",
            "879:\tlearn: 0.2407167\ttotal: 14.4s\tremaining: 1.96s\n",
            "880:\tlearn: 0.2406570\ttotal: 14.4s\tremaining: 1.95s\n",
            "881:\tlearn: 0.2406308\ttotal: 14.4s\tremaining: 1.93s\n",
            "882:\tlearn: 0.2405923\ttotal: 14.4s\tremaining: 1.91s\n",
            "883:\tlearn: 0.2405449\ttotal: 14.4s\tremaining: 1.89s\n",
            "884:\tlearn: 0.2404719\ttotal: 14.5s\tremaining: 1.88s\n",
            "885:\tlearn: 0.2404016\ttotal: 14.5s\tremaining: 1.86s\n",
            "886:\tlearn: 0.2403321\ttotal: 14.5s\tremaining: 1.84s\n",
            "887:\tlearn: 0.2402879\ttotal: 14.5s\tremaining: 1.83s\n",
            "888:\tlearn: 0.2402361\ttotal: 14.5s\tremaining: 1.81s\n",
            "889:\tlearn: 0.2401792\ttotal: 14.5s\tremaining: 1.79s\n",
            "890:\tlearn: 0.2401053\ttotal: 14.5s\tremaining: 1.78s\n",
            "891:\tlearn: 0.2400224\ttotal: 14.5s\tremaining: 1.76s\n",
            "892:\tlearn: 0.2399595\ttotal: 14.6s\tremaining: 1.74s\n",
            "893:\tlearn: 0.2399249\ttotal: 14.6s\tremaining: 1.73s\n",
            "894:\tlearn: 0.2398625\ttotal: 14.6s\tremaining: 1.71s\n",
            "895:\tlearn: 0.2398335\ttotal: 14.6s\tremaining: 1.69s\n",
            "896:\tlearn: 0.2398151\ttotal: 14.6s\tremaining: 1.68s\n",
            "897:\tlearn: 0.2397337\ttotal: 14.6s\tremaining: 1.66s\n",
            "898:\tlearn: 0.2396774\ttotal: 14.6s\tremaining: 1.64s\n",
            "899:\tlearn: 0.2396210\ttotal: 14.7s\tremaining: 1.63s\n",
            "900:\tlearn: 0.2395704\ttotal: 14.7s\tremaining: 1.61s\n",
            "901:\tlearn: 0.2395209\ttotal: 14.7s\tremaining: 1.59s\n",
            "902:\tlearn: 0.2395081\ttotal: 14.7s\tremaining: 1.58s\n",
            "903:\tlearn: 0.2394134\ttotal: 14.7s\tremaining: 1.56s\n",
            "904:\tlearn: 0.2393734\ttotal: 14.7s\tremaining: 1.54s\n",
            "905:\tlearn: 0.2393259\ttotal: 14.7s\tremaining: 1.53s\n",
            "906:\tlearn: 0.2392822\ttotal: 14.8s\tremaining: 1.51s\n",
            "907:\tlearn: 0.2392041\ttotal: 14.8s\tremaining: 1.5s\n",
            "908:\tlearn: 0.2391763\ttotal: 14.8s\tremaining: 1.48s\n",
            "909:\tlearn: 0.2390951\ttotal: 14.8s\tremaining: 1.46s\n",
            "910:\tlearn: 0.2390515\ttotal: 14.8s\tremaining: 1.45s\n",
            "911:\tlearn: 0.2389457\ttotal: 14.8s\tremaining: 1.43s\n",
            "912:\tlearn: 0.2388579\ttotal: 14.8s\tremaining: 1.41s\n",
            "913:\tlearn: 0.2387922\ttotal: 14.9s\tremaining: 1.4s\n",
            "914:\tlearn: 0.2387113\ttotal: 14.9s\tremaining: 1.38s\n",
            "915:\tlearn: 0.2386402\ttotal: 14.9s\tremaining: 1.36s\n",
            "916:\tlearn: 0.2385757\ttotal: 14.9s\tremaining: 1.35s\n",
            "917:\tlearn: 0.2385423\ttotal: 14.9s\tremaining: 1.33s\n",
            "918:\tlearn: 0.2384826\ttotal: 14.9s\tremaining: 1.31s\n",
            "919:\tlearn: 0.2384091\ttotal: 14.9s\tremaining: 1.3s\n",
            "920:\tlearn: 0.2383834\ttotal: 14.9s\tremaining: 1.28s\n",
            "921:\tlearn: 0.2383454\ttotal: 15s\tremaining: 1.26s\n",
            "922:\tlearn: 0.2383297\ttotal: 15s\tremaining: 1.25s\n",
            "923:\tlearn: 0.2382627\ttotal: 15s\tremaining: 1.23s\n",
            "924:\tlearn: 0.2381957\ttotal: 15s\tremaining: 1.22s\n",
            "925:\tlearn: 0.2381193\ttotal: 15s\tremaining: 1.2s\n",
            "926:\tlearn: 0.2380373\ttotal: 15s\tremaining: 1.18s\n",
            "927:\tlearn: 0.2379276\ttotal: 15s\tremaining: 1.17s\n",
            "928:\tlearn: 0.2378563\ttotal: 15.1s\tremaining: 1.15s\n",
            "929:\tlearn: 0.2377920\ttotal: 15.1s\tremaining: 1.13s\n",
            "930:\tlearn: 0.2377480\ttotal: 15.1s\tremaining: 1.12s\n",
            "931:\tlearn: 0.2377038\ttotal: 15.1s\tremaining: 1.1s\n",
            "932:\tlearn: 0.2376570\ttotal: 15.1s\tremaining: 1.08s\n",
            "933:\tlearn: 0.2375998\ttotal: 15.1s\tremaining: 1.07s\n",
            "934:\tlearn: 0.2375230\ttotal: 15.1s\tremaining: 1.05s\n",
            "935:\tlearn: 0.2374666\ttotal: 15.2s\tremaining: 1.04s\n",
            "936:\tlearn: 0.2374280\ttotal: 15.2s\tremaining: 1.02s\n",
            "937:\tlearn: 0.2373421\ttotal: 15.2s\tremaining: 1s\n",
            "938:\tlearn: 0.2373150\ttotal: 15.2s\tremaining: 987ms\n",
            "939:\tlearn: 0.2372568\ttotal: 15.2s\tremaining: 971ms\n",
            "940:\tlearn: 0.2371910\ttotal: 15.2s\tremaining: 954ms\n",
            "941:\tlearn: 0.2371308\ttotal: 15.2s\tremaining: 938ms\n",
            "942:\tlearn: 0.2370862\ttotal: 15.2s\tremaining: 922ms\n",
            "943:\tlearn: 0.2370202\ttotal: 15.3s\tremaining: 905ms\n",
            "944:\tlearn: 0.2369612\ttotal: 15.3s\tremaining: 889ms\n",
            "945:\tlearn: 0.2369064\ttotal: 15.3s\tremaining: 873ms\n",
            "946:\tlearn: 0.2368725\ttotal: 15.3s\tremaining: 856ms\n",
            "947:\tlearn: 0.2368133\ttotal: 15.3s\tremaining: 840ms\n",
            "948:\tlearn: 0.2367436\ttotal: 15.3s\tremaining: 824ms\n",
            "949:\tlearn: 0.2366480\ttotal: 15.3s\tremaining: 807ms\n",
            "950:\tlearn: 0.2365977\ttotal: 15.4s\tremaining: 791ms\n",
            "951:\tlearn: 0.2365174\ttotal: 15.4s\tremaining: 775ms\n",
            "952:\tlearn: 0.2364725\ttotal: 15.4s\tremaining: 758ms\n",
            "953:\tlearn: 0.2364330\ttotal: 15.4s\tremaining: 742ms\n",
            "954:\tlearn: 0.2363763\ttotal: 15.4s\tremaining: 726ms\n",
            "955:\tlearn: 0.2363267\ttotal: 15.4s\tremaining: 710ms\n",
            "956:\tlearn: 0.2362661\ttotal: 15.4s\tremaining: 693ms\n",
            "957:\tlearn: 0.2362136\ttotal: 15.4s\tremaining: 677ms\n",
            "958:\tlearn: 0.2361660\ttotal: 15.5s\tremaining: 661ms\n",
            "959:\tlearn: 0.2361241\ttotal: 15.5s\tremaining: 645ms\n",
            "960:\tlearn: 0.2360364\ttotal: 15.5s\tremaining: 629ms\n",
            "961:\tlearn: 0.2359514\ttotal: 15.5s\tremaining: 612ms\n",
            "962:\tlearn: 0.2359388\ttotal: 15.5s\tremaining: 596ms\n",
            "963:\tlearn: 0.2358513\ttotal: 15.5s\tremaining: 580ms\n",
            "964:\tlearn: 0.2357802\ttotal: 15.5s\tremaining: 564ms\n",
            "965:\tlearn: 0.2357104\ttotal: 15.6s\tremaining: 548ms\n",
            "966:\tlearn: 0.2356479\ttotal: 15.6s\tremaining: 531ms\n",
            "967:\tlearn: 0.2355992\ttotal: 15.6s\tremaining: 515ms\n",
            "968:\tlearn: 0.2355546\ttotal: 15.6s\tremaining: 499ms\n",
            "969:\tlearn: 0.2355080\ttotal: 15.6s\tremaining: 483ms\n",
            "970:\tlearn: 0.2354011\ttotal: 15.6s\tremaining: 466ms\n",
            "971:\tlearn: 0.2353200\ttotal: 15.6s\tremaining: 450ms\n",
            "972:\tlearn: 0.2352513\ttotal: 15.6s\tremaining: 434ms\n",
            "973:\tlearn: 0.2352003\ttotal: 15.7s\tremaining: 418ms\n",
            "974:\tlearn: 0.2351166\ttotal: 15.7s\tremaining: 402ms\n",
            "975:\tlearn: 0.2350551\ttotal: 15.7s\tremaining: 386ms\n",
            "976:\tlearn: 0.2350059\ttotal: 15.7s\tremaining: 370ms\n",
            "977:\tlearn: 0.2349629\ttotal: 15.7s\tremaining: 353ms\n",
            "978:\tlearn: 0.2349229\ttotal: 15.7s\tremaining: 337ms\n",
            "979:\tlearn: 0.2348500\ttotal: 15.7s\tremaining: 321ms\n",
            "980:\tlearn: 0.2347965\ttotal: 15.8s\tremaining: 305ms\n",
            "981:\tlearn: 0.2347058\ttotal: 15.8s\tremaining: 289ms\n",
            "982:\tlearn: 0.2346371\ttotal: 15.8s\tremaining: 273ms\n",
            "983:\tlearn: 0.2345858\ttotal: 15.8s\tremaining: 257ms\n",
            "984:\tlearn: 0.2345344\ttotal: 15.8s\tremaining: 241ms\n",
            "985:\tlearn: 0.2344984\ttotal: 15.8s\tremaining: 225ms\n",
            "986:\tlearn: 0.2344406\ttotal: 15.8s\tremaining: 209ms\n",
            "987:\tlearn: 0.2343984\ttotal: 15.8s\tremaining: 193ms\n",
            "988:\tlearn: 0.2343352\ttotal: 15.9s\tremaining: 176ms\n",
            "989:\tlearn: 0.2342915\ttotal: 15.9s\tremaining: 160ms\n",
            "990:\tlearn: 0.2342574\ttotal: 15.9s\tremaining: 144ms\n",
            "991:\tlearn: 0.2341746\ttotal: 15.9s\tremaining: 128ms\n",
            "992:\tlearn: 0.2340927\ttotal: 15.9s\tremaining: 112ms\n",
            "993:\tlearn: 0.2340178\ttotal: 15.9s\tremaining: 96.2ms\n",
            "994:\tlearn: 0.2339641\ttotal: 16s\tremaining: 80.2ms\n",
            "995:\tlearn: 0.2339090\ttotal: 16s\tremaining: 64.1ms\n",
            "996:\tlearn: 0.2338536\ttotal: 16s\tremaining: 48.1ms\n",
            "997:\tlearn: 0.2337982\ttotal: 16s\tremaining: 32ms\n",
            "998:\tlearn: 0.2337158\ttotal: 16s\tremaining: 16ms\n",
            "999:\tlearn: 0.2336893\ttotal: 16s\tremaining: 0us\n",
            "Training time: 0.2821min \n",
            "\n",
            "score matrix for train\n",
            "********************************************************************************\n",
            "The accuracy is  0.9044684129429892\n",
            "The precision is  0.9577838117403672\n",
            "The recall is  0.846087949743004\n",
            "The f1 is  0.8984777730608284\n",
            "the auc  is  0.9044251336306262\n",
            "\n",
            "confusion_matrix \n",
            "  [[16883   653]\n",
            " [ 2695 14815]]\n",
            "\n",
            "Classification Report\n",
            "\n",
            "              precision    recall  f1-score   support\n",
            "\n",
            "           0       0.86      0.96      0.91     17536\n",
            "           1       0.96      0.85      0.90     17510\n",
            "\n",
            "    accuracy                           0.90     35046\n",
            "   macro avg       0.91      0.90      0.90     35046\n",
            "weighted avg       0.91      0.90      0.90     35046\n",
            "\n",
            "\n",
            "\n",
            "score matrix for test\n",
            "********************************************************************************\n",
            "The accuracy is  0.8744221879815101\n",
            "The precision is  0.9335837121960862\n",
            "The recall is  0.8067987700717458\n",
            "The f1 is  0.8655731696142215\n",
            "the auc  is  0.8745730295108215\n",
            "\n",
            "confusion_matrix \n",
            "  [[5492  336]\n",
            " [1131 4723]]\n",
            "\n",
            "Classification Report\n",
            "\n",
            "              precision    recall  f1-score   support\n",
            "\n",
            "           0       0.83      0.94      0.88      5828\n",
            "           1       0.93      0.81      0.87      5854\n",
            "\n",
            "    accuracy                           0.87     11682\n",
            "   macro avg       0.88      0.87      0.87     11682\n",
            "weighted avg       0.88      0.87      0.87     11682\n",
            "\n"
          ]
        }
      ]
    },
    {
      "cell_type": "markdown",
      "metadata": {
        "id": "XuWN3kZohZ81"
      },
      "source": [
        "### Hyperparameter tuning for Catboost"
      ]
    },
    {
      "cell_type": "code",
      "metadata": {
        "id": "DcfwGrNigzQ0"
      },
      "source": [
        "# finding the best parameters for XGBRegressor by gridsearchcv\n",
        "params={'n_estimators': [50,100,150],'max_depth': [3,5,9]}\n",
        "grid_cb_model=GridSearchCV(estimator=cb_model,param_grid=params,cv=3,scoring='balanced_accuracy',verbose=0,n_jobs=-1)"
      ],
      "execution_count": 105,
      "outputs": []
    },
    {
      "cell_type": "code",
      "metadata": {
        "colab": {
          "base_uri": "https://localhost:8080/"
        },
        "id": "KJUVAQwVEsMX",
        "outputId": "6d5b970b-76e1-4220-b08c-b42c3fbfef7e"
      },
      "source": [
        "# training and evaluating the catBoost\n",
        "run_and_evaluate_model(grid_cb_model,X_train,X_test,y_train,y_test)"
      ],
      "execution_count": 106,
      "outputs": [
        {
          "output_type": "stream",
          "name": "stdout",
          "text": [
            "Learning rate set to 0.267929\n",
            "0:\tlearn: 0.5335957\ttotal: 11.9ms\tremaining: 1.78s\n",
            "1:\tlearn: 0.4402157\ttotal: 23.2ms\tremaining: 1.72s\n",
            "2:\tlearn: 0.4172747\ttotal: 33.6ms\tremaining: 1.65s\n",
            "3:\tlearn: 0.3944999\ttotal: 44.1ms\tremaining: 1.61s\n",
            "4:\tlearn: 0.3686419\ttotal: 53.6ms\tremaining: 1.55s\n",
            "5:\tlearn: 0.3622576\ttotal: 64.1ms\tremaining: 1.54s\n",
            "6:\tlearn: 0.3576092\ttotal: 74.3ms\tremaining: 1.52s\n",
            "7:\tlearn: 0.3543984\ttotal: 84.3ms\tremaining: 1.5s\n",
            "8:\tlearn: 0.3444043\ttotal: 94.5ms\tremaining: 1.48s\n",
            "9:\tlearn: 0.3419161\ttotal: 105ms\tremaining: 1.46s\n",
            "10:\tlearn: 0.3399746\ttotal: 115ms\tremaining: 1.45s\n",
            "11:\tlearn: 0.3328589\ttotal: 126ms\tremaining: 1.44s\n",
            "12:\tlearn: 0.3305667\ttotal: 136ms\tremaining: 1.43s\n",
            "13:\tlearn: 0.3255805\ttotal: 147ms\tremaining: 1.43s\n",
            "14:\tlearn: 0.3245888\ttotal: 158ms\tremaining: 1.42s\n",
            "15:\tlearn: 0.3233839\ttotal: 168ms\tremaining: 1.41s\n",
            "16:\tlearn: 0.3224011\ttotal: 179ms\tremaining: 1.4s\n",
            "17:\tlearn: 0.3218517\ttotal: 189ms\tremaining: 1.39s\n",
            "18:\tlearn: 0.3214231\ttotal: 205ms\tremaining: 1.41s\n",
            "19:\tlearn: 0.3206196\ttotal: 215ms\tremaining: 1.4s\n",
            "20:\tlearn: 0.3196118\ttotal: 226ms\tremaining: 1.39s\n",
            "21:\tlearn: 0.3191853\ttotal: 236ms\tremaining: 1.37s\n",
            "22:\tlearn: 0.3183944\ttotal: 247ms\tremaining: 1.36s\n",
            "23:\tlearn: 0.3178892\ttotal: 257ms\tremaining: 1.35s\n",
            "24:\tlearn: 0.3162384\ttotal: 267ms\tremaining: 1.33s\n",
            "25:\tlearn: 0.3136977\ttotal: 277ms\tremaining: 1.32s\n",
            "26:\tlearn: 0.3132167\ttotal: 287ms\tremaining: 1.31s\n",
            "27:\tlearn: 0.3125127\ttotal: 298ms\tremaining: 1.3s\n",
            "28:\tlearn: 0.3119873\ttotal: 308ms\tremaining: 1.28s\n",
            "29:\tlearn: 0.3115105\ttotal: 319ms\tremaining: 1.27s\n",
            "30:\tlearn: 0.3099947\ttotal: 330ms\tremaining: 1.27s\n",
            "31:\tlearn: 0.3095534\ttotal: 340ms\tremaining: 1.25s\n",
            "32:\tlearn: 0.3089291\ttotal: 351ms\tremaining: 1.24s\n",
            "33:\tlearn: 0.3085360\ttotal: 360ms\tremaining: 1.23s\n",
            "34:\tlearn: 0.3080689\ttotal: 371ms\tremaining: 1.22s\n",
            "35:\tlearn: 0.3053433\ttotal: 381ms\tremaining: 1.21s\n",
            "36:\tlearn: 0.3037784\ttotal: 391ms\tremaining: 1.2s\n",
            "37:\tlearn: 0.3034486\ttotal: 405ms\tremaining: 1.19s\n",
            "38:\tlearn: 0.3030147\ttotal: 415ms\tremaining: 1.18s\n",
            "39:\tlearn: 0.3020589\ttotal: 426ms\tremaining: 1.17s\n",
            "40:\tlearn: 0.3015534\ttotal: 436ms\tremaining: 1.16s\n",
            "41:\tlearn: 0.3011781\ttotal: 446ms\tremaining: 1.15s\n",
            "42:\tlearn: 0.3007605\ttotal: 457ms\tremaining: 1.14s\n",
            "43:\tlearn: 0.3001787\ttotal: 467ms\tremaining: 1.13s\n",
            "44:\tlearn: 0.2996880\ttotal: 478ms\tremaining: 1.11s\n",
            "45:\tlearn: 0.2993267\ttotal: 488ms\tremaining: 1.1s\n",
            "46:\tlearn: 0.2990128\ttotal: 499ms\tremaining: 1.09s\n",
            "47:\tlearn: 0.2981046\ttotal: 512ms\tremaining: 1.09s\n",
            "48:\tlearn: 0.2976106\ttotal: 522ms\tremaining: 1.07s\n",
            "49:\tlearn: 0.2970310\ttotal: 532ms\tremaining: 1.06s\n",
            "50:\tlearn: 0.2965555\ttotal: 542ms\tremaining: 1.05s\n",
            "51:\tlearn: 0.2962113\ttotal: 554ms\tremaining: 1.04s\n",
            "52:\tlearn: 0.2958018\ttotal: 564ms\tremaining: 1.03s\n",
            "53:\tlearn: 0.2953112\ttotal: 577ms\tremaining: 1.02s\n",
            "54:\tlearn: 0.2949005\ttotal: 587ms\tremaining: 1.01s\n",
            "55:\tlearn: 0.2945576\ttotal: 596ms\tremaining: 1s\n",
            "56:\tlearn: 0.2940869\ttotal: 614ms\tremaining: 1s\n",
            "57:\tlearn: 0.2936281\ttotal: 627ms\tremaining: 995ms\n",
            "58:\tlearn: 0.2931969\ttotal: 638ms\tremaining: 983ms\n",
            "59:\tlearn: 0.2927446\ttotal: 649ms\tremaining: 973ms\n",
            "60:\tlearn: 0.2922452\ttotal: 659ms\tremaining: 961ms\n",
            "61:\tlearn: 0.2918425\ttotal: 669ms\tremaining: 949ms\n",
            "62:\tlearn: 0.2909045\ttotal: 680ms\tremaining: 939ms\n",
            "63:\tlearn: 0.2904727\ttotal: 690ms\tremaining: 928ms\n",
            "64:\tlearn: 0.2902290\ttotal: 700ms\tremaining: 916ms\n",
            "65:\tlearn: 0.2898085\ttotal: 711ms\tremaining: 905ms\n",
            "66:\tlearn: 0.2893095\ttotal: 722ms\tremaining: 894ms\n",
            "67:\tlearn: 0.2889854\ttotal: 733ms\tremaining: 884ms\n",
            "68:\tlearn: 0.2887001\ttotal: 745ms\tremaining: 874ms\n",
            "69:\tlearn: 0.2880454\ttotal: 756ms\tremaining: 864ms\n",
            "70:\tlearn: 0.2876546\ttotal: 767ms\tremaining: 853ms\n",
            "71:\tlearn: 0.2874724\ttotal: 776ms\tremaining: 841ms\n",
            "72:\tlearn: 0.2871054\ttotal: 787ms\tremaining: 830ms\n",
            "73:\tlearn: 0.2867815\ttotal: 802ms\tremaining: 824ms\n",
            "74:\tlearn: 0.2865145\ttotal: 812ms\tremaining: 812ms\n",
            "75:\tlearn: 0.2861782\ttotal: 822ms\tremaining: 800ms\n",
            "76:\tlearn: 0.2857813\ttotal: 833ms\tremaining: 789ms\n",
            "77:\tlearn: 0.2853627\ttotal: 844ms\tremaining: 779ms\n",
            "78:\tlearn: 0.2850351\ttotal: 855ms\tremaining: 768ms\n",
            "79:\tlearn: 0.2847463\ttotal: 865ms\tremaining: 757ms\n",
            "80:\tlearn: 0.2844982\ttotal: 875ms\tremaining: 746ms\n",
            "81:\tlearn: 0.2841172\ttotal: 886ms\tremaining: 735ms\n",
            "82:\tlearn: 0.2837509\ttotal: 897ms\tremaining: 724ms\n",
            "83:\tlearn: 0.2832684\ttotal: 908ms\tremaining: 714ms\n",
            "84:\tlearn: 0.2828247\ttotal: 918ms\tremaining: 702ms\n",
            "85:\tlearn: 0.2825587\ttotal: 929ms\tremaining: 691ms\n",
            "86:\tlearn: 0.2820928\ttotal: 940ms\tremaining: 680ms\n",
            "87:\tlearn: 0.2817877\ttotal: 953ms\tremaining: 672ms\n",
            "88:\tlearn: 0.2814440\ttotal: 964ms\tremaining: 661ms\n",
            "89:\tlearn: 0.2810802\ttotal: 975ms\tremaining: 650ms\n",
            "90:\tlearn: 0.2808864\ttotal: 985ms\tremaining: 639ms\n",
            "91:\tlearn: 0.2805155\ttotal: 996ms\tremaining: 628ms\n",
            "92:\tlearn: 0.2800653\ttotal: 1.01s\tremaining: 619ms\n",
            "93:\tlearn: 0.2797368\ttotal: 1.02s\tremaining: 608ms\n",
            "94:\tlearn: 0.2794540\ttotal: 1.03s\tremaining: 597ms\n",
            "95:\tlearn: 0.2792194\ttotal: 1.04s\tremaining: 586ms\n",
            "96:\tlearn: 0.2788959\ttotal: 1.05s\tremaining: 575ms\n",
            "97:\tlearn: 0.2785404\ttotal: 1.06s\tremaining: 564ms\n",
            "98:\tlearn: 0.2781841\ttotal: 1.07s\tremaining: 554ms\n",
            "99:\tlearn: 0.2777770\ttotal: 1.09s\tremaining: 544ms\n",
            "100:\tlearn: 0.2772594\ttotal: 1.1s\tremaining: 533ms\n",
            "101:\tlearn: 0.2768140\ttotal: 1.11s\tremaining: 522ms\n",
            "102:\tlearn: 0.2763717\ttotal: 1.12s\tremaining: 511ms\n",
            "103:\tlearn: 0.2760766\ttotal: 1.13s\tremaining: 500ms\n",
            "104:\tlearn: 0.2758125\ttotal: 1.14s\tremaining: 489ms\n",
            "105:\tlearn: 0.2754729\ttotal: 1.15s\tremaining: 478ms\n",
            "106:\tlearn: 0.2752745\ttotal: 1.16s\tremaining: 466ms\n",
            "107:\tlearn: 0.2748610\ttotal: 1.18s\tremaining: 460ms\n",
            "108:\tlearn: 0.2744497\ttotal: 1.19s\tremaining: 449ms\n",
            "109:\tlearn: 0.2740656\ttotal: 1.21s\tremaining: 438ms\n",
            "110:\tlearn: 0.2737953\ttotal: 1.22s\tremaining: 429ms\n",
            "111:\tlearn: 0.2735702\ttotal: 1.23s\tremaining: 417ms\n",
            "112:\tlearn: 0.2734264\ttotal: 1.24s\tremaining: 406ms\n",
            "113:\tlearn: 0.2730699\ttotal: 1.25s\tremaining: 395ms\n",
            "114:\tlearn: 0.2727045\ttotal: 1.26s\tremaining: 384ms\n",
            "115:\tlearn: 0.2723621\ttotal: 1.27s\tremaining: 373ms\n",
            "116:\tlearn: 0.2719567\ttotal: 1.28s\tremaining: 362ms\n",
            "117:\tlearn: 0.2710502\ttotal: 1.29s\tremaining: 351ms\n",
            "118:\tlearn: 0.2707107\ttotal: 1.3s\tremaining: 340ms\n",
            "119:\tlearn: 0.2705381\ttotal: 1.31s\tremaining: 329ms\n",
            "120:\tlearn: 0.2702338\ttotal: 1.32s\tremaining: 318ms\n",
            "121:\tlearn: 0.2700492\ttotal: 1.33s\tremaining: 307ms\n",
            "122:\tlearn: 0.2698563\ttotal: 1.34s\tremaining: 295ms\n",
            "123:\tlearn: 0.2695622\ttotal: 1.36s\tremaining: 284ms\n",
            "124:\tlearn: 0.2692739\ttotal: 1.37s\tremaining: 273ms\n",
            "125:\tlearn: 0.2689056\ttotal: 1.38s\tremaining: 262ms\n",
            "126:\tlearn: 0.2684983\ttotal: 1.39s\tremaining: 252ms\n",
            "127:\tlearn: 0.2682609\ttotal: 1.4s\tremaining: 241ms\n",
            "128:\tlearn: 0.2679409\ttotal: 1.42s\tremaining: 230ms\n",
            "129:\tlearn: 0.2678065\ttotal: 1.42s\tremaining: 219ms\n",
            "130:\tlearn: 0.2674966\ttotal: 1.44s\tremaining: 208ms\n",
            "131:\tlearn: 0.2672170\ttotal: 1.44s\tremaining: 197ms\n",
            "132:\tlearn: 0.2669006\ttotal: 1.46s\tremaining: 186ms\n",
            "133:\tlearn: 0.2665119\ttotal: 1.47s\tremaining: 175ms\n",
            "134:\tlearn: 0.2661024\ttotal: 1.48s\tremaining: 164ms\n",
            "135:\tlearn: 0.2656408\ttotal: 1.49s\tremaining: 154ms\n",
            "136:\tlearn: 0.2652437\ttotal: 1.52s\tremaining: 144ms\n",
            "137:\tlearn: 0.2650199\ttotal: 1.53s\tremaining: 133ms\n",
            "138:\tlearn: 0.2648094\ttotal: 1.54s\tremaining: 122ms\n",
            "139:\tlearn: 0.2645548\ttotal: 1.55s\tremaining: 111ms\n",
            "140:\tlearn: 0.2642111\ttotal: 1.56s\tremaining: 99.8ms\n",
            "141:\tlearn: 0.2638085\ttotal: 1.57s\tremaining: 88.7ms\n",
            "142:\tlearn: 0.2635602\ttotal: 1.58s\tremaining: 77.5ms\n",
            "143:\tlearn: 0.2633338\ttotal: 1.6s\tremaining: 66.8ms\n",
            "144:\tlearn: 0.2629252\ttotal: 1.62s\tremaining: 55.8ms\n",
            "145:\tlearn: 0.2626053\ttotal: 1.63s\tremaining: 44.6ms\n",
            "146:\tlearn: 0.2623091\ttotal: 1.64s\tremaining: 33.5ms\n",
            "147:\tlearn: 0.2621926\ttotal: 1.65s\tremaining: 22.3ms\n",
            "148:\tlearn: 0.2620038\ttotal: 1.66s\tremaining: 11.1ms\n",
            "149:\tlearn: 0.2617345\ttotal: 1.67s\tremaining: 0us\n",
            "Training time: 1.102min \n",
            "\n",
            "score matrix for train\n",
            "********************************************************************************\n",
            "The accuracy is  0.8912857387433658\n",
            "The precision is  0.945615404631798\n",
            "The recall is  0.8301541976013707\n",
            "The f1 is  0.8841311355756949\n",
            "the auc  is  0.8912404199685686\n",
            "\n",
            "confusion_matrix \n",
            "  [[16700   836]\n",
            " [ 2974 14536]]\n",
            "\n",
            "Classification Report\n",
            "\n",
            "              precision    recall  f1-score   support\n",
            "\n",
            "           0       0.85      0.95      0.90     17536\n",
            "           1       0.95      0.83      0.88     17510\n",
            "\n",
            "    accuracy                           0.89     35046\n",
            "   macro avg       0.90      0.89      0.89     35046\n",
            "weighted avg       0.90      0.89      0.89     35046\n",
            "\n",
            "\n",
            "\n",
            "score matrix for test\n",
            "********************************************************************************\n",
            "The accuracy is  0.8739941790789248\n",
            "The precision is  0.9336896278701504\n",
            "The recall is  0.8057738298599249\n",
            "The f1 is  0.8650284247203374\n",
            "the auc  is  0.8741463521296878\n",
            "\n",
            "confusion_matrix \n",
            "  [[5493  335]\n",
            " [1137 4717]]\n",
            "\n",
            "Classification Report\n",
            "\n",
            "              precision    recall  f1-score   support\n",
            "\n",
            "           0       0.83      0.94      0.88      5828\n",
            "           1       0.93      0.81      0.87      5854\n",
            "\n",
            "    accuracy                           0.87     11682\n",
            "   macro avg       0.88      0.87      0.87     11682\n",
            "weighted avg       0.88      0.87      0.87     11682\n",
            "\n"
          ]
        }
      ]
    },
    {
      "cell_type": "code",
      "metadata": {
        "id": "KdZ7u37flC47"
      },
      "source": [
        "optimal_catboost_model=grid_cb_model.best_estimator_"
      ],
      "execution_count": 107,
      "outputs": []
    },
    {
      "cell_type": "code",
      "metadata": {
        "colab": {
          "base_uri": "https://localhost:8080/"
        },
        "id": "fdFKRmzgk5TE",
        "outputId": "ae992481-914d-4321-a82e-379e68493a8f"
      },
      "source": [
        "grid_cb_model.best_estimator_.feature_importances_"
      ],
      "execution_count": 108,
      "outputs": [
        {
          "output_type": "execute_result",
          "data": {
            "text/plain": [
              "array([ 0.7718343 ,  1.71213151,  0.91751054,  2.3317812 ,  0.36398352,\n",
              "        0.38397428,  0.21217969,  0.69236019,  0.38937712,  0.33803549,\n",
              "        0.4156476 ,  0.39667655,  0.33054485,  0.47660827,  0.44591573,\n",
              "        0.49254335,  0.32373657,  0.29556823,  0.37658049, 13.10863759,\n",
              "       11.32227477, 15.178242  , 10.29556915,  1.99295536, 16.46088709,\n",
              "        2.78477951,  0.13865545,  2.91477341,  4.57193111,  4.59253266,\n",
              "        3.22609193,  1.59289535,  0.15278513])"
            ]
          },
          "metadata": {},
          "execution_count": 108
        }
      ]
    },
    {
      "cell_type": "code",
      "metadata": {
        "colab": {
          "base_uri": "https://localhost:8080/",
          "height": 539
        },
        "id": "WIQ2bu_olKDm",
        "outputId": "97cadbde-3047-4ab1-a752-58b92cfdfe03"
      },
      "source": [
        "get_features_importance(optimal_catboost_model,X_train)"
      ],
      "execution_count": 109,
      "outputs": [
        {
          "output_type": "stream",
          "name": "stdout",
          "text": [
            "==========================Features Importance============================\n",
            "\n",
            " <catboost.core.CatBoostClassifier object at 0x7f772f207650>  \n",
            "=========================================================================\n",
            "\n"
          ]
        },
        {
          "output_type": "display_data",
          "data": {
            "image/png": "[encoded data removed]",
            "text/plain": [
              "<Figure size 1080x360 with 1 Axes>"
            ]
          },
          "metadata": {
            "needs_background": "light"
          }
        }
      ]
    },
    {
      "cell_type": "code",
      "metadata": {
        "colab": {
          "base_uri": "https://localhost:8080/"
        },
        "id": "ri5WEqR1ij-U",
        "outputId": "03cabf77-3384-403a-b11f-6ce76837e8f1"
      },
      "source": [
        "grid_cb_model.best_params_"
      ],
      "execution_count": 110,
      "outputs": [
        {
          "output_type": "execute_result",
          "data": {
            "text/plain": [
              "{'max_depth': 5, 'n_estimators': 150}"
            ]
          },
          "metadata": {},
          "execution_count": 110
        }
      ]
    },
    {
      "cell_type": "markdown",
      "metadata": {
        "id": "-_ALhbrNlWVf"
      },
      "source": [
        "# Model's Score matrix"
      ]
    },
    {
      "cell_type": "code",
      "metadata": {
        "id": "EacLQv2dljDM"
      },
      "source": [
        "#creating dictionary to store all the metrices \n",
        "dict={'accuracy':model_accuracy,'precision':model_precision,'recall':model_recall,'f1':model_f1_score,'roc_auc':model_roc_auc_score}"
      ],
      "execution_count": 111,
      "outputs": []
    },
    {
      "cell_type": "code",
      "metadata": {
        "id": "iOtMcZypljtW"
      },
      "source": [
        "# list of all models\n",
        "model_name=['Logestic Regrestion','grid_log_regg','Desision Tree','Random forest','grid random forest','SVM','Grid SVM','XGboost','Grid Xgboost','CATBoost','Grid Catboost']"
      ],
      "execution_count": 112,
      "outputs": []
    },
    {
      "cell_type": "code",
      "metadata": {
        "id": "WB7uTrdtl9A3"
      },
      "source": [
        "# converting dictionary to dataframe\n",
        "matrix_df=pd.DataFrame.from_dict(dict,orient=\"index\",columns=model_name)"
      ],
      "execution_count": 113,
      "outputs": []
    },
    {
      "cell_type": "code",
      "metadata": {
        "id": "UZ7p6Ziur0vN"
      },
      "source": [
        "# taking the transpose of the dataframe to make it more visual appealing\n",
        "matrix_df=matrix_df.transpose().reset_index().rename(columns={'index':'Models'})"
      ],
      "execution_count": 115,
      "outputs": []
    },
    {
      "cell_type": "code",
      "metadata": {
        "colab": {
          "base_uri": "https://localhost:8080/",
          "height": 390
        },
        "id": "FxGPp5lboYQL",
        "outputId": "afb32be0-0169-477c-a82b-0ebe90fe90b6"
      },
      "source": [
        "matrix_df"
      ],
      "execution_count": 116,
      "outputs": [
        {
          "output_type": "execute_result",
          "data": {
            "text/html": [
              "<div>\n",
              "<style scoped>\n",
              "    .dataframe tbody tr th:only-of-type {\n",
              "        vertical-align: middle;\n",
              "    }\n",
              "\n",
              "    .dataframe tbody tr th {\n",
              "        vertical-align: top;\n",
              "    }\n",
              "\n",
              "    .dataframe thead th {\n",
              "        text-align: right;\n",
              "    }\n",
              "</style>\n",
              "<table border=\"1\" class=\"dataframe\">\n",
              "  <thead>\n",
              "    <tr style=\"text-align: right;\">\n",
              "      <th></th>\n",
              "      <th>Models</th>\n",
              "      <th>accuracy</th>\n",
              "      <th>precision</th>\n",
              "      <th>recall</th>\n",
              "      <th>f1</th>\n",
              "      <th>roc_auc</th>\n",
              "    </tr>\n",
              "  </thead>\n",
              "  <tbody>\n",
              "    <tr>\n",
              "      <th>0</th>\n",
              "      <td>Logestic Regrestion</td>\n",
              "      <td>0.865520</td>\n",
              "      <td>0.962227</td>\n",
              "      <td>0.761531</td>\n",
              "      <td>0.850195</td>\n",
              "      <td>0.865752</td>\n",
              "    </tr>\n",
              "    <tr>\n",
              "      <th>1</th>\n",
              "      <td>grid_log_regg</td>\n",
              "      <td>0.867574</td>\n",
              "      <td>0.959855</td>\n",
              "      <td>0.767851</td>\n",
              "      <td>0.853184</td>\n",
              "      <td>0.867796</td>\n",
              "    </tr>\n",
              "    <tr>\n",
              "      <th>2</th>\n",
              "      <td>Desision Tree</td>\n",
              "      <td>0.827256</td>\n",
              "      <td>0.902603</td>\n",
              "      <td>0.734540</td>\n",
              "      <td>0.809945</td>\n",
              "      <td>0.827462</td>\n",
              "    </tr>\n",
              "    <tr>\n",
              "      <th>3</th>\n",
              "      <td>Random forest</td>\n",
              "      <td>0.880671</td>\n",
              "      <td>0.914807</td>\n",
              "      <td>0.840109</td>\n",
              "      <td>0.875868</td>\n",
              "      <td>0.880762</td>\n",
              "    </tr>\n",
              "    <tr>\n",
              "      <th>4</th>\n",
              "      <td>grid random forest</td>\n",
              "      <td>0.854391</td>\n",
              "      <td>0.895147</td>\n",
              "      <td>0.803553</td>\n",
              "      <td>0.846881</td>\n",
              "      <td>0.854505</td>\n",
              "    </tr>\n",
              "    <tr>\n",
              "      <th>5</th>\n",
              "      <td>SVM</td>\n",
              "      <td>0.871940</td>\n",
              "      <td>0.950207</td>\n",
              "      <td>0.785617</td>\n",
              "      <td>0.860108</td>\n",
              "      <td>0.872132</td>\n",
              "    </tr>\n",
              "    <tr>\n",
              "      <th>6</th>\n",
              "      <td>Grid SVM</td>\n",
              "      <td>0.871940</td>\n",
              "      <td>0.950207</td>\n",
              "      <td>0.785617</td>\n",
              "      <td>0.860108</td>\n",
              "      <td>0.872132</td>\n",
              "    </tr>\n",
              "    <tr>\n",
              "      <th>7</th>\n",
              "      <td>XGboost</td>\n",
              "      <td>0.872625</td>\n",
              "      <td>0.934169</td>\n",
              "      <td>0.802357</td>\n",
              "      <td>0.863260</td>\n",
              "      <td>0.872781</td>\n",
              "    </tr>\n",
              "    <tr>\n",
              "      <th>8</th>\n",
              "      <td>Grid Xgboost</td>\n",
              "      <td>0.877504</td>\n",
              "      <td>0.934907</td>\n",
              "      <td>0.812094</td>\n",
              "      <td>0.869184</td>\n",
              "      <td>0.877650</td>\n",
              "    </tr>\n",
              "    <tr>\n",
              "      <th>9</th>\n",
              "      <td>CATBoost</td>\n",
              "      <td>0.874422</td>\n",
              "      <td>0.933584</td>\n",
              "      <td>0.806799</td>\n",
              "      <td>0.865573</td>\n",
              "      <td>0.874573</td>\n",
              "    </tr>\n",
              "    <tr>\n",
              "      <th>10</th>\n",
              "      <td>Grid Catboost</td>\n",
              "      <td>0.873994</td>\n",
              "      <td>0.933690</td>\n",
              "      <td>0.805774</td>\n",
              "      <td>0.865028</td>\n",
              "      <td>0.874146</td>\n",
              "    </tr>\n",
              "  </tbody>\n",
              "</table>\n",
              "</div>"
            ],
            "text/plain": [
              "                 Models  accuracy  precision    recall        f1   roc_auc\n",
              "0   Logestic Regrestion  0.865520   0.962227  0.761531  0.850195  0.865752\n",
              "1         grid_log_regg  0.867574   0.959855  0.767851  0.853184  0.867796\n",
              "2         Desision Tree  0.827256   0.902603  0.734540  0.809945  0.827462\n",
              "3         Random forest  0.880671   0.914807  0.840109  0.875868  0.880762\n",
              "4    grid random forest  0.854391   0.895147  0.803553  0.846881  0.854505\n",
              "5                   SVM  0.871940   0.950207  0.785617  0.860108  0.872132\n",
              "6              Grid SVM  0.871940   0.950207  0.785617  0.860108  0.872132\n",
              "7               XGboost  0.872625   0.934169  0.802357  0.863260  0.872781\n",
              "8          Grid Xgboost  0.877504   0.934907  0.812094  0.869184  0.877650\n",
              "9              CATBoost  0.874422   0.933584  0.806799  0.865573  0.874573\n",
              "10        Grid Catboost  0.873994   0.933690  0.805774  0.865028  0.874146"
            ]
          },
          "metadata": {},
          "execution_count": 116
        }
      ]
    },
    {
      "cell_type": "code",
      "metadata": {
        "id": "zEWZdmxlrf15"
      },
      "source": [
        ""
      ],
      "execution_count": null,
      "outputs": []
    }
  ]
}